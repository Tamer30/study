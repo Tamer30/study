{
 "cells": [
  {
   "cell_type": "markdown",
   "id": "d30c747f",
   "metadata": {},
   "source": [
    "<div style=\"border:solid green 3px; padding: 20px\">\n",
    "<b>🥇 Тамерлан, спасибо за доработки, проект принят, молодец!</b>\n",
    "    \n",
    "Ты провел очень хорошую работу над ошибками! Уверен, ты обязательно достигнешь своей цели! Успехов в дальнейшем обучении! 🙂\n",
    "    "
   ]
  },
  {
   "cell_type": "markdown",
   "metadata": {},
   "source": [
    "Тамерлан, привет! Меня зовут Ефимов Денис и сегодня я буду делать ревью твоего проекта!\\\n",
    "В Практикуме принято общаться на \"ты\", однако если это неудобно - дай знать, и можем перейти на более официальное общение.\n",
    "\n",
    "Ниже ты найдешь мои комментарии - пожалуйста, не перемещай, не изменяй и не удаляй их. Я буду использовать цветовую разметку: \n",
    "\n",
    "<div class=\"alert alert-block alert-success\">\n",
    "<b>✅Комментарий ревьюера:</b> Если все сделано хорошо. </div>\n",
    "\n",
    "<div class=\"alert alert-block alert-warning\">\n",
    "<b>🔁Комментарий ревьюера:</b> Некритичное замечание; если таких замечаний меньше трех — проект может быть принят без их отработки.</div>\n",
    "\n",
    "<div class=\"alert alert-block alert-danger\">\n",
    "<b>❌Комментарий ревьюера:</b> Грубая ошибка, необходимо исправить, иначе проект не будет принят.\n",
    "</div>\n",
    "\n",
    "Давай работать над проектом в диалоге: если ты что-то меняешь в проекте или отвечаешь на мои комментарии — пиши об этом. Мне будет легче отследить изменения, если ты выделишь свои комментарии:\n",
    "Например так:\n",
    "<div class=\"alert alert-block alert-info\">\n",
    "<b>🔄Комментарий студента:</b> \n",
    "Hello World! ✔\n",
    "</div>\n",
    "\n",
    "Или можешь использовать эту галочку ✔ в моих комментариях, если писать особо нечего.\n",
    "\n",
    "<div class=\"alert alert-block alert-warning\">\n",
    "<b>Общее впечатление:</b> \n",
    "    \n",
    "- Ты проделал огромную работу и проект получился впечатляющим:)\n",
    "- У меня есть несколько замечаний, исправив которые ты сделаешь проект еще лучше.\n",
    "- Пробегись по моим комментариям, исправь недочёты и всё будет отлично :)\n",
    "    \n",
    "</div>\n",
    "\n"
   ]
  },
  {
   "cell_type": "markdown",
   "metadata": {},
   "source": [
    "# Исследование для составления плана кампании на 2017-й год для интернет-магазина «Стримчик»"
   ]
  },
  {
   "cell_type": "markdown",
   "metadata": {},
   "source": [
    "**Задача:** Нужно выявить определяющие успешность игры закономерности и помочь заказчику сделать ставку на потенциально популярный продукт и спланировать рекламные кампании."
   ]
  },
  {
   "cell_type": "markdown",
   "metadata": {},
   "source": [
    "Для этого, сначала будет открыт проект и проведена предобработка данных. Пустые и повреждённые значенияя будут удалены или заменены на их логичное значение, названия столбцев будут изменены для удобства работы с ними, так же, буду добавлены новые столбцы с необходимыми для дальнейших расчётов данными. Затем будет проведён исследоватлеьский анализ данных, в ходе которого я попытаюсь составить прогноз на 2017й год. Далее будет проведён анализ жанров и платформ по регионам и влияние рейтинга на продажи. В конце будут проверенны две запрашиваемые гипотезы."
   ]
  },
  {
   "cell_type": "markdown",
   "metadata": {},
   "source": [
    "<div class=\"alert alert-block alert-success\">\n",
    "<b>✅Комментарий ревьюера:</b> Молодец, что написал введение!  </div>"
   ]
  },
  {
   "cell_type": "markdown",
   "metadata": {},
   "source": [
    "<div class=\"alert alert-block alert-warning\">\n",
    "<b>🔁Комментарий ревьюера:</b> \n",
    "    \n",
    "Можно еще добавить описание имеющихся данных  </div>"
   ]
  },
  {
   "cell_type": "markdown",
   "metadata": {},
   "source": [
    "## Откройте файл с данными и изучите общую информацию"
   ]
  },
  {
   "cell_type": "markdown",
   "metadata": {},
   "source": [
    "### подключение библиотек"
   ]
  },
  {
   "cell_type": "code",
   "execution_count": 1,
   "metadata": {},
   "outputs": [],
   "source": [
    "import pandas as pd\n",
    "import matplotlib.pyplot as plt\n",
    "import numpy as np\n",
    "import math\n",
    "from scipy import stats\n",
    "import seaborn as sns\n",
    "from scipy.stats import ttest_ind"
   ]
  },
  {
   "cell_type": "markdown",
   "metadata": {},
   "source": [
    "<div class=\"alert alert-block alert-success\">\n",
    "<b>✅Комментарий ревьюера:</b> Правильно, что импортируешь все библиотеки в отдельной ячейке!  </div>"
   ]
  },
  {
   "cell_type": "markdown",
   "metadata": {},
   "source": [
    "### Открытие файла"
   ]
  },
  {
   "cell_type": "code",
   "execution_count": 2,
   "metadata": {},
   "outputs": [],
   "source": [
    "data = pd.read_csv('/datasets/games.csv')"
   ]
  },
  {
   "cell_type": "code",
   "execution_count": 3,
   "metadata": {},
   "outputs": [
    {
     "data": {
      "text/html": [
       "<div>\n",
       "<style scoped>\n",
       "    .dataframe tbody tr th:only-of-type {\n",
       "        vertical-align: middle;\n",
       "    }\n",
       "\n",
       "    .dataframe tbody tr th {\n",
       "        vertical-align: top;\n",
       "    }\n",
       "\n",
       "    .dataframe thead th {\n",
       "        text-align: right;\n",
       "    }\n",
       "</style>\n",
       "<table border=\"1\" class=\"dataframe\">\n",
       "  <thead>\n",
       "    <tr style=\"text-align: right;\">\n",
       "      <th></th>\n",
       "      <th>Name</th>\n",
       "      <th>Platform</th>\n",
       "      <th>Year_of_Release</th>\n",
       "      <th>Genre</th>\n",
       "      <th>NA_sales</th>\n",
       "      <th>EU_sales</th>\n",
       "      <th>JP_sales</th>\n",
       "      <th>Other_sales</th>\n",
       "      <th>Critic_Score</th>\n",
       "      <th>User_Score</th>\n",
       "      <th>Rating</th>\n",
       "    </tr>\n",
       "  </thead>\n",
       "  <tbody>\n",
       "    <tr>\n",
       "      <th>0</th>\n",
       "      <td>Wii Sports</td>\n",
       "      <td>Wii</td>\n",
       "      <td>2006.0</td>\n",
       "      <td>Sports</td>\n",
       "      <td>41.36</td>\n",
       "      <td>28.96</td>\n",
       "      <td>3.77</td>\n",
       "      <td>8.45</td>\n",
       "      <td>76.0</td>\n",
       "      <td>8</td>\n",
       "      <td>E</td>\n",
       "    </tr>\n",
       "    <tr>\n",
       "      <th>1</th>\n",
       "      <td>Super Mario Bros.</td>\n",
       "      <td>NES</td>\n",
       "      <td>1985.0</td>\n",
       "      <td>Platform</td>\n",
       "      <td>29.08</td>\n",
       "      <td>3.58</td>\n",
       "      <td>6.81</td>\n",
       "      <td>0.77</td>\n",
       "      <td>NaN</td>\n",
       "      <td>NaN</td>\n",
       "      <td>NaN</td>\n",
       "    </tr>\n",
       "    <tr>\n",
       "      <th>2</th>\n",
       "      <td>Mario Kart Wii</td>\n",
       "      <td>Wii</td>\n",
       "      <td>2008.0</td>\n",
       "      <td>Racing</td>\n",
       "      <td>15.68</td>\n",
       "      <td>12.76</td>\n",
       "      <td>3.79</td>\n",
       "      <td>3.29</td>\n",
       "      <td>82.0</td>\n",
       "      <td>8.3</td>\n",
       "      <td>E</td>\n",
       "    </tr>\n",
       "    <tr>\n",
       "      <th>3</th>\n",
       "      <td>Wii Sports Resort</td>\n",
       "      <td>Wii</td>\n",
       "      <td>2009.0</td>\n",
       "      <td>Sports</td>\n",
       "      <td>15.61</td>\n",
       "      <td>10.93</td>\n",
       "      <td>3.28</td>\n",
       "      <td>2.95</td>\n",
       "      <td>80.0</td>\n",
       "      <td>8</td>\n",
       "      <td>E</td>\n",
       "    </tr>\n",
       "    <tr>\n",
       "      <th>4</th>\n",
       "      <td>Pokemon Red/Pokemon Blue</td>\n",
       "      <td>GB</td>\n",
       "      <td>1996.0</td>\n",
       "      <td>Role-Playing</td>\n",
       "      <td>11.27</td>\n",
       "      <td>8.89</td>\n",
       "      <td>10.22</td>\n",
       "      <td>1.00</td>\n",
       "      <td>NaN</td>\n",
       "      <td>NaN</td>\n",
       "      <td>NaN</td>\n",
       "    </tr>\n",
       "  </tbody>\n",
       "</table>\n",
       "</div>"
      ],
      "text/plain": [
       "                       Name Platform  Year_of_Release         Genre  NA_sales  \\\n",
       "0                Wii Sports      Wii           2006.0        Sports     41.36   \n",
       "1         Super Mario Bros.      NES           1985.0      Platform     29.08   \n",
       "2            Mario Kart Wii      Wii           2008.0        Racing     15.68   \n",
       "3         Wii Sports Resort      Wii           2009.0        Sports     15.61   \n",
       "4  Pokemon Red/Pokemon Blue       GB           1996.0  Role-Playing     11.27   \n",
       "\n",
       "   EU_sales  JP_sales  Other_sales  Critic_Score User_Score Rating  \n",
       "0     28.96      3.77         8.45          76.0          8      E  \n",
       "1      3.58      6.81         0.77           NaN        NaN    NaN  \n",
       "2     12.76      3.79         3.29          82.0        8.3      E  \n",
       "3     10.93      3.28         2.95          80.0          8      E  \n",
       "4      8.89     10.22         1.00           NaN        NaN    NaN  "
      ]
     },
     "execution_count": 3,
     "metadata": {},
     "output_type": "execute_result"
    }
   ],
   "source": [
    "data.head()"
   ]
  },
  {
   "cell_type": "markdown",
   "metadata": {},
   "source": [
    "<div class=\"alert alert-block alert-danger\">\n",
    "<b>❌Комментарий ревьюера:</b> \n",
    "    \n",
    " - При знакомстве с данными еще обязательно нужно изучить информацию о них с помощью метода `info()`. \n",
    " - Каждому пункту нужен вывод. Что мы можем сказать о данных после первичного знакомства  с ними?\n",
    "\n",
    "</div>"
   ]
  },
  {
   "cell_type": "markdown",
   "metadata": {},
   "source": [
    "<div class=\"alert alert-block alert-info\">\n",
    "<b>🔄Комментарий студента:</b> \n",
    "Внёс исправления ниже:\n",
    "</div>"
   ]
  },
  {
   "cell_type": "markdown",
   "metadata": {},
   "source": [
    "<div class=\"alert alert-block alert-success\">\n",
    "<b>✅Комментарий ревьюера 2:</b> Отлично, исправлено!👍  </div>"
   ]
  },
  {
   "cell_type": "code",
   "execution_count": 4,
   "metadata": {},
   "outputs": [
    {
     "name": "stdout",
     "output_type": "stream",
     "text": [
      "<class 'pandas.core.frame.DataFrame'>\n",
      "RangeIndex: 16715 entries, 0 to 16714\n",
      "Data columns (total 11 columns):\n",
      " #   Column           Non-Null Count  Dtype  \n",
      "---  ------           --------------  -----  \n",
      " 0   Name             16713 non-null  object \n",
      " 1   Platform         16715 non-null  object \n",
      " 2   Year_of_Release  16446 non-null  float64\n",
      " 3   Genre            16713 non-null  object \n",
      " 4   NA_sales         16715 non-null  float64\n",
      " 5   EU_sales         16715 non-null  float64\n",
      " 6   JP_sales         16715 non-null  float64\n",
      " 7   Other_sales      16715 non-null  float64\n",
      " 8   Critic_Score     8137 non-null   float64\n",
      " 9   User_Score       10014 non-null  object \n",
      " 10  Rating           9949 non-null   object \n",
      "dtypes: float64(6), object(5)\n",
      "memory usage: 1.4+ MB\n"
     ]
    }
   ],
   "source": [
    "data.info()"
   ]
  },
  {
   "cell_type": "markdown",
   "metadata": {},
   "source": [
    "**Вывод:** Файл представляет собой таблицу с информацией об играх, которые были проданы до 2016ого года. Для каждой игры указаны её название, платформа на которой она вышла, год выхода, жанр, продажи для разных регионов, оценки критиков и пользователей, а также рейтинг игры. У столбцев не удобные для работы названия, которые мы в последствии заменим, а также в таблице есть внушительное кол-во пропущенных данных, которые предстоит обработать."
   ]
  },
  {
   "cell_type": "markdown",
   "metadata": {},
   "source": [
    "## Подготовьте данные"
   ]
  },
  {
   "cell_type": "markdown",
   "metadata": {},
   "source": [
    "### Замените названия столбцов (приведите к нижнему регистру)"
   ]
  },
  {
   "cell_type": "markdown",
   "metadata": {},
   "source": [
    "Создаём список с новыми названиями колонок."
   ]
  },
  {
   "cell_type": "code",
   "execution_count": 5,
   "metadata": {},
   "outputs": [],
   "source": [
    "new_columns = ['name', 'platform', 'year', 'genre', 'na_sales', 'eu_sales', 'jp_sales', 'other_sales', 'critic_score',\\\n",
    "              'user_score', 'rating']"
   ]
  },
  {
   "cell_type": "markdown",
   "metadata": {},
   "source": [
    "<div class=\"alert alert-block alert-warning\">\n",
    "<b>🔁Комментарий ревьюера:</b> \n",
    "\n",
    "При переименовании столбцов всегда лучше использовать метод rename, иначе при изменении последовательности столбцов или их количества код будет работать не так как задумано или совсем не будет работать.</div>"
   ]
  },
  {
   "cell_type": "markdown",
   "metadata": {},
   "source": [
    "<div class=\"alert alert-block alert-success\">\n",
    "<b>✅Комментарий ревьюера:</b> \n",
    "\n",
    "Также названия столбцов можно привести в нижнему регистру, если к `df.columns` применить метод `str.lower`</div>\n",
    "\n",
    "```python\n",
    "\n",
    "                                    df.columns = df.columns.str.lower()\n",
    "    \n",
    "```"
   ]
  },
  {
   "cell_type": "markdown",
   "metadata": {},
   "source": [
    "Заменяем названия и сразу проверяем."
   ]
  },
  {
   "cell_type": "code",
   "execution_count": 6,
   "metadata": {},
   "outputs": [
    {
     "data": {
      "text/html": [
       "<div>\n",
       "<style scoped>\n",
       "    .dataframe tbody tr th:only-of-type {\n",
       "        vertical-align: middle;\n",
       "    }\n",
       "\n",
       "    .dataframe tbody tr th {\n",
       "        vertical-align: top;\n",
       "    }\n",
       "\n",
       "    .dataframe thead th {\n",
       "        text-align: right;\n",
       "    }\n",
       "</style>\n",
       "<table border=\"1\" class=\"dataframe\">\n",
       "  <thead>\n",
       "    <tr style=\"text-align: right;\">\n",
       "      <th></th>\n",
       "      <th>name</th>\n",
       "      <th>platform</th>\n",
       "      <th>year</th>\n",
       "      <th>genre</th>\n",
       "      <th>na_sales</th>\n",
       "      <th>eu_sales</th>\n",
       "      <th>jp_sales</th>\n",
       "      <th>other_sales</th>\n",
       "      <th>critic_score</th>\n",
       "      <th>user_score</th>\n",
       "      <th>rating</th>\n",
       "    </tr>\n",
       "  </thead>\n",
       "  <tbody>\n",
       "    <tr>\n",
       "      <th>0</th>\n",
       "      <td>Wii Sports</td>\n",
       "      <td>Wii</td>\n",
       "      <td>2006.0</td>\n",
       "      <td>Sports</td>\n",
       "      <td>41.36</td>\n",
       "      <td>28.96</td>\n",
       "      <td>3.77</td>\n",
       "      <td>8.45</td>\n",
       "      <td>76.0</td>\n",
       "      <td>8</td>\n",
       "      <td>E</td>\n",
       "    </tr>\n",
       "    <tr>\n",
       "      <th>1</th>\n",
       "      <td>Super Mario Bros.</td>\n",
       "      <td>NES</td>\n",
       "      <td>1985.0</td>\n",
       "      <td>Platform</td>\n",
       "      <td>29.08</td>\n",
       "      <td>3.58</td>\n",
       "      <td>6.81</td>\n",
       "      <td>0.77</td>\n",
       "      <td>NaN</td>\n",
       "      <td>NaN</td>\n",
       "      <td>NaN</td>\n",
       "    </tr>\n",
       "    <tr>\n",
       "      <th>2</th>\n",
       "      <td>Mario Kart Wii</td>\n",
       "      <td>Wii</td>\n",
       "      <td>2008.0</td>\n",
       "      <td>Racing</td>\n",
       "      <td>15.68</td>\n",
       "      <td>12.76</td>\n",
       "      <td>3.79</td>\n",
       "      <td>3.29</td>\n",
       "      <td>82.0</td>\n",
       "      <td>8.3</td>\n",
       "      <td>E</td>\n",
       "    </tr>\n",
       "    <tr>\n",
       "      <th>3</th>\n",
       "      <td>Wii Sports Resort</td>\n",
       "      <td>Wii</td>\n",
       "      <td>2009.0</td>\n",
       "      <td>Sports</td>\n",
       "      <td>15.61</td>\n",
       "      <td>10.93</td>\n",
       "      <td>3.28</td>\n",
       "      <td>2.95</td>\n",
       "      <td>80.0</td>\n",
       "      <td>8</td>\n",
       "      <td>E</td>\n",
       "    </tr>\n",
       "    <tr>\n",
       "      <th>4</th>\n",
       "      <td>Pokemon Red/Pokemon Blue</td>\n",
       "      <td>GB</td>\n",
       "      <td>1996.0</td>\n",
       "      <td>Role-Playing</td>\n",
       "      <td>11.27</td>\n",
       "      <td>8.89</td>\n",
       "      <td>10.22</td>\n",
       "      <td>1.00</td>\n",
       "      <td>NaN</td>\n",
       "      <td>NaN</td>\n",
       "      <td>NaN</td>\n",
       "    </tr>\n",
       "  </tbody>\n",
       "</table>\n",
       "</div>"
      ],
      "text/plain": [
       "                       name platform    year         genre  na_sales  \\\n",
       "0                Wii Sports      Wii  2006.0        Sports     41.36   \n",
       "1         Super Mario Bros.      NES  1985.0      Platform     29.08   \n",
       "2            Mario Kart Wii      Wii  2008.0        Racing     15.68   \n",
       "3         Wii Sports Resort      Wii  2009.0        Sports     15.61   \n",
       "4  Pokemon Red/Pokemon Blue       GB  1996.0  Role-Playing     11.27   \n",
       "\n",
       "   eu_sales  jp_sales  other_sales  critic_score user_score rating  \n",
       "0     28.96      3.77         8.45          76.0          8      E  \n",
       "1      3.58      6.81         0.77           NaN        NaN    NaN  \n",
       "2     12.76      3.79         3.29          82.0        8.3      E  \n",
       "3     10.93      3.28         2.95          80.0          8      E  \n",
       "4      8.89     10.22         1.00           NaN        NaN    NaN  "
      ]
     },
     "metadata": {},
     "output_type": "display_data"
    }
   ],
   "source": [
    "data.columns = new_columns\n",
    "display(data.head())"
   ]
  },
  {
   "cell_type": "markdown",
   "metadata": {},
   "source": [
    "### Преобразуйте данные в нужные типы и обработка пропусков."
   ]
  },
  {
   "cell_type": "code",
   "execution_count": 7,
   "metadata": {},
   "outputs": [
    {
     "name": "stdout",
     "output_type": "stream",
     "text": [
      "<class 'pandas.core.frame.DataFrame'>\n",
      "RangeIndex: 16715 entries, 0 to 16714\n",
      "Data columns (total 11 columns):\n",
      " #   Column        Non-Null Count  Dtype  \n",
      "---  ------        --------------  -----  \n",
      " 0   name          16713 non-null  object \n",
      " 1   platform      16715 non-null  object \n",
      " 2   year          16446 non-null  float64\n",
      " 3   genre         16713 non-null  object \n",
      " 4   na_sales      16715 non-null  float64\n",
      " 5   eu_sales      16715 non-null  float64\n",
      " 6   jp_sales      16715 non-null  float64\n",
      " 7   other_sales   16715 non-null  float64\n",
      " 8   critic_score  8137 non-null   float64\n",
      " 9   user_score    10014 non-null  object \n",
      " 10  rating        9949 non-null   object \n",
      "dtypes: float64(6), object(5)\n",
      "memory usage: 1.4+ MB\n"
     ]
    }
   ],
   "source": [
    "data.info()"
   ]
  },
  {
   "cell_type": "markdown",
   "metadata": {},
   "source": [
    "Заменим типы данных на подходящие. user_score в числовой формат."
   ]
  },
  {
   "cell_type": "code",
   "execution_count": 8,
   "metadata": {},
   "outputs": [],
   "source": [
    "data['user_score'] = pd.to_numeric(data['user_score'], errors='coerce')"
   ]
  },
  {
   "cell_type": "markdown",
   "metadata": {},
   "source": [
    "<div class=\"alert alert-block alert-danger\">\n",
    "<b>❌Комментарий ревьюера:</b> \n",
    "    \n",
    "При таком изменении типа данных что произойдет со значениями 'tbd'? Необходимо пояснить читателю, что значит 'tbd' и как мы их обрабатываем.\n",
    "\n",
    "</div>"
   ]
  },
  {
   "cell_type": "markdown",
   "metadata": {},
   "source": [
    "<div class=\"alert alert-block alert-info\">\n",
    "<b>🔄Комментарий студента:</b> \n",
    "Добавил пояснение ниже:\n",
    "</div>"
   ]
  },
  {
   "cell_type": "markdown",
   "metadata": {},
   "source": [
    "<div class=\"alert alert-block alert-success\">\n",
    "<b>✅Комментарий ревьюера 2:</b> Отлично, исправлено!👍  </div>"
   ]
  },
  {
   "cell_type": "markdown",
   "metadata": {},
   "source": [
    "Аббревиатура TBD означает «to be determined» или «to be decided» и часто используется в различных областях для указания на то, что конкретное значение или решение еще не определены или еще предстоит принять. При переводе столбца в цифровой формат мной было указано \"errors='coerce'\" что, в свою очередь, заменит все значениея, которые не получается перевести в числовыой формат, на Nan (пустые) значения. По скольку TBD означает что рейтинга нет, то Nan - логичная замена."
   ]
  },
  {
   "cell_type": "markdown",
   "metadata": {},
   "source": [
    "Создаём функцию для удобства проверки каждого столбца."
   ]
  },
  {
   "cell_type": "code",
   "execution_count": 9,
   "metadata": {},
   "outputs": [],
   "source": [
    "def data_check(column):\n",
    "    print('unique:')\n",
    "    display(data[column].unique())\n",
    "    print('value_counts:')\n",
    "    display(data[column].value_counts())\n",
    "    print('Nan amount:')\n",
    "    display(data[data[column].isna()].count())"
   ]
  },
  {
   "cell_type": "markdown",
   "metadata": {},
   "source": [
    "#### name"
   ]
  },
  {
   "cell_type": "markdown",
   "metadata": {},
   "source": [
    "Проверяем столлбец."
   ]
  },
  {
   "cell_type": "code",
   "execution_count": 10,
   "metadata": {},
   "outputs": [
    {
     "name": "stdout",
     "output_type": "stream",
     "text": [
      "unique:\n"
     ]
    },
    {
     "data": {
      "text/plain": [
       "array(['Wii Sports', 'Super Mario Bros.', 'Mario Kart Wii', ...,\n",
       "       'Woody Woodpecker in Crazy Castle 5', 'LMA Manager 2007',\n",
       "       'Haitaka no Psychedelica'], dtype=object)"
      ]
     },
     "metadata": {},
     "output_type": "display_data"
    },
    {
     "name": "stdout",
     "output_type": "stream",
     "text": [
      "value_counts:\n"
     ]
    },
    {
     "data": {
      "text/plain": [
       "Need for Speed: Most Wanted       12\n",
       "FIFA 14                            9\n",
       "LEGO Marvel Super Heroes           9\n",
       "Madden NFL 07                      9\n",
       "Ratatouille                        9\n",
       "                                  ..\n",
       "Legacy of Ys: Books I & II         1\n",
       "Eyeshield 21: Max Devil Power      1\n",
       "Buzz Lightyear of Star Command     1\n",
       "Natsuzora no Monologue             1\n",
       "Adventures to Go!                  1\n",
       "Name: name, Length: 11559, dtype: int64"
      ]
     },
     "metadata": {},
     "output_type": "display_data"
    },
    {
     "name": "stdout",
     "output_type": "stream",
     "text": [
      "Nan amount:\n"
     ]
    },
    {
     "data": {
      "text/plain": [
       "name            0\n",
       "platform        2\n",
       "year            2\n",
       "genre           0\n",
       "na_sales        2\n",
       "eu_sales        2\n",
       "jp_sales        2\n",
       "other_sales     2\n",
       "critic_score    0\n",
       "user_score      0\n",
       "rating          0\n",
       "dtype: int64"
      ]
     },
     "metadata": {},
     "output_type": "display_data"
    }
   ],
   "source": [
    "data_check('name')"
   ]
  },
  {
   "cell_type": "markdown",
   "metadata": {},
   "source": [
    "Проверим на наличие дубликатов и проверим строки с пустыми значениями."
   ]
  },
  {
   "cell_type": "code",
   "execution_count": 11,
   "metadata": {},
   "outputs": [
    {
     "data": {
      "text/html": [
       "<div>\n",
       "<style scoped>\n",
       "    .dataframe tbody tr th:only-of-type {\n",
       "        vertical-align: middle;\n",
       "    }\n",
       "\n",
       "    .dataframe tbody tr th {\n",
       "        vertical-align: top;\n",
       "    }\n",
       "\n",
       "    .dataframe thead th {\n",
       "        text-align: right;\n",
       "    }\n",
       "</style>\n",
       "<table border=\"1\" class=\"dataframe\">\n",
       "  <thead>\n",
       "    <tr style=\"text-align: right;\">\n",
       "      <th></th>\n",
       "      <th>name</th>\n",
       "      <th>platform</th>\n",
       "      <th>year</th>\n",
       "      <th>genre</th>\n",
       "      <th>na_sales</th>\n",
       "      <th>eu_sales</th>\n",
       "      <th>jp_sales</th>\n",
       "      <th>other_sales</th>\n",
       "      <th>critic_score</th>\n",
       "      <th>user_score</th>\n",
       "      <th>rating</th>\n",
       "    </tr>\n",
       "  </thead>\n",
       "  <tbody>\n",
       "    <tr>\n",
       "      <th>14244</th>\n",
       "      <td>NaN</td>\n",
       "      <td>GEN</td>\n",
       "      <td>1993.0</td>\n",
       "      <td>NaN</td>\n",
       "      <td>0.0</td>\n",
       "      <td>0.00</td>\n",
       "      <td>0.03</td>\n",
       "      <td>0.0</td>\n",
       "      <td>NaN</td>\n",
       "      <td>NaN</td>\n",
       "      <td>NaN</td>\n",
       "    </tr>\n",
       "    <tr>\n",
       "      <th>16230</th>\n",
       "      <td>Madden NFL 13</td>\n",
       "      <td>PS3</td>\n",
       "      <td>2012.0</td>\n",
       "      <td>Sports</td>\n",
       "      <td>0.0</td>\n",
       "      <td>0.01</td>\n",
       "      <td>0.00</td>\n",
       "      <td>0.0</td>\n",
       "      <td>83.0</td>\n",
       "      <td>5.5</td>\n",
       "      <td>E</td>\n",
       "    </tr>\n",
       "  </tbody>\n",
       "</table>\n",
       "</div>"
      ],
      "text/plain": [
       "                name platform    year   genre  na_sales  eu_sales  jp_sales  \\\n",
       "14244            NaN      GEN  1993.0     NaN       0.0      0.00      0.03   \n",
       "16230  Madden NFL 13      PS3  2012.0  Sports       0.0      0.01      0.00   \n",
       "\n",
       "       other_sales  critic_score  user_score rating  \n",
       "14244          0.0           NaN         NaN    NaN  \n",
       "16230          0.0          83.0         5.5      E  "
      ]
     },
     "execution_count": 11,
     "metadata": {},
     "output_type": "execute_result"
    }
   ],
   "source": [
    "data[data.duplicated(['name', 'platform', 'year', 'genre'])]"
   ]
  },
  {
   "cell_type": "code",
   "execution_count": 12,
   "metadata": {},
   "outputs": [],
   "source": [
    "data = data.drop(data[data.duplicated(['name', 'platform', 'year', 'genre'])].index).reset_index(drop=True)"
   ]
  },
  {
   "cell_type": "markdown",
   "metadata": {},
   "source": [
    "<div class=\"alert alert-block alert-success\">\n",
    "<b>✅Комментарий ревьюера:</b> Здорово, что сделал такую проверку.</div>"
   ]
  },
  {
   "cell_type": "markdown",
   "metadata": {},
   "source": [
    "#### platform"
   ]
  },
  {
   "cell_type": "code",
   "execution_count": 13,
   "metadata": {},
   "outputs": [
    {
     "name": "stdout",
     "output_type": "stream",
     "text": [
      "unique:\n"
     ]
    },
    {
     "data": {
      "text/plain": [
       "array(['Wii', 'NES', 'GB', 'DS', 'X360', 'PS3', 'PS2', 'SNES', 'GBA',\n",
       "       'PS4', '3DS', 'N64', 'PS', 'XB', 'PC', '2600', 'PSP', 'XOne',\n",
       "       'WiiU', 'GC', 'GEN', 'DC', 'PSV', 'SAT', 'SCD', 'WS', 'NG', 'TG16',\n",
       "       '3DO', 'GG', 'PCFX'], dtype=object)"
      ]
     },
     "metadata": {},
     "output_type": "display_data"
    },
    {
     "name": "stdout",
     "output_type": "stream",
     "text": [
      "value_counts:\n"
     ]
    },
    {
     "data": {
      "text/plain": [
       "PS2     2161\n",
       "DS      2151\n",
       "PS3     1330\n",
       "Wii     1320\n",
       "X360    1262\n",
       "PSP     1209\n",
       "PS      1197\n",
       "PC       974\n",
       "XB       824\n",
       "GBA      822\n",
       "GC       556\n",
       "3DS      520\n",
       "PSV      430\n",
       "PS4      392\n",
       "N64      319\n",
       "XOne     247\n",
       "SNES     239\n",
       "SAT      173\n",
       "WiiU     147\n",
       "2600     133\n",
       "GB        98\n",
       "NES       98\n",
       "DC        52\n",
       "GEN       28\n",
       "NG        12\n",
       "SCD        6\n",
       "WS         6\n",
       "3DO        3\n",
       "TG16       2\n",
       "PCFX       1\n",
       "GG         1\n",
       "Name: platform, dtype: int64"
      ]
     },
     "metadata": {},
     "output_type": "display_data"
    },
    {
     "name": "stdout",
     "output_type": "stream",
     "text": [
      "Nan amount:\n"
     ]
    },
    {
     "data": {
      "text/plain": [
       "name            0\n",
       "platform        0\n",
       "year            0\n",
       "genre           0\n",
       "na_sales        0\n",
       "eu_sales        0\n",
       "jp_sales        0\n",
       "other_sales     0\n",
       "critic_score    0\n",
       "user_score      0\n",
       "rating          0\n",
       "dtype: int64"
      ]
     },
     "metadata": {},
     "output_type": "display_data"
    }
   ],
   "source": [
    "data_check('platform')"
   ]
  },
  {
   "cell_type": "code",
   "execution_count": 14,
   "metadata": {},
   "outputs": [
    {
     "data": {
      "text/plain": [
       "Text(0.5, 1.0, 'Платформы\\n')"
      ]
     },
     "execution_count": 14,
     "metadata": {},
     "output_type": "execute_result"
    },
    {
     "data": {
      "image/png": "[encoded data removed]",
      "text/plain": [
       "<Figure size 720x720 with 1 Axes>"
      ]
     },
     "metadata": {
      "needs_background": "light"
     },
     "output_type": "display_data"
    }
   ],
   "source": [
    "data.platform\\\n",
    ".value_counts()\\\n",
    ".to_frame()\\\n",
    ".plot(kind = 'bar', figsize = (10,10),  legend = False, fontsize = 16, grid = True)\\\n",
    ".set_title('Платформы' + \"\\n\", fontsize = 22) "
   ]
  },
  {
   "cell_type": "markdown",
   "metadata": {},
   "source": [
    "Последние шесть (6) платформ можно удалить, т.к. сейчас они больше похожи на аномалии / выбросы и будут только мешать расчётам."
   ]
  },
  {
   "cell_type": "code",
   "execution_count": 15,
   "metadata": {},
   "outputs": [],
   "source": [
    "list_to_delete = ['SCD', 'WS', '3DO', 'TG16', 'PCFX', 'GG']\n",
    "\n",
    "for platform in list_to_delete:\n",
    "    data = data.drop(data[data['platform'] == platform].index).reset_index(drop=True)"
   ]
  },
  {
   "cell_type": "markdown",
   "metadata": {},
   "source": [
    "<div class=\"alert alert-block alert-warning\">\n",
    "<b>🔁Комментарий ревьюера:</b>\n",
    "\n",
    "Это действие лишнее, ведь мы далее будем выделять актуальный период для исследования и эти платформы в любом случае туда не попадут.</div>"
   ]
  },
  {
   "cell_type": "markdown",
   "metadata": {},
   "source": [
    "#### year"
   ]
  },
  {
   "cell_type": "markdown",
   "metadata": {},
   "source": [
    "Проверяем столбец"
   ]
  },
  {
   "cell_type": "code",
   "execution_count": 16,
   "metadata": {},
   "outputs": [
    {
     "name": "stdout",
     "output_type": "stream",
     "text": [
      "unique:\n"
     ]
    },
    {
     "data": {
      "text/plain": [
       "array([2006., 1985., 2008., 2009., 1996., 1989., 1984., 2005., 1999.,\n",
       "       2007., 2010., 2013., 2004., 1990., 1988., 2002., 2001., 2011.,\n",
       "       1998., 2015., 2012., 2014., 1992., 1997., 1993., 1994., 1982.,\n",
       "       2016., 2003., 1986., 2000.,   nan, 1995., 1991., 1981., 1987.,\n",
       "       1980., 1983.])"
      ]
     },
     "metadata": {},
     "output_type": "display_data"
    },
    {
     "name": "stdout",
     "output_type": "stream",
     "text": [
      "value_counts:\n"
     ]
    },
    {
     "data": {
      "text/plain": [
       "2008.0    1427\n",
       "2009.0    1426\n",
       "2010.0    1255\n",
       "2007.0    1197\n",
       "2011.0    1136\n",
       "2006.0    1006\n",
       "2005.0     939\n",
       "2002.0     829\n",
       "2003.0     775\n",
       "2004.0     762\n",
       "2012.0     652\n",
       "2015.0     606\n",
       "2014.0     581\n",
       "2013.0     544\n",
       "2016.0     502\n",
       "2001.0     480\n",
       "1998.0     379\n",
       "2000.0     348\n",
       "1999.0     336\n",
       "1997.0     289\n",
       "1996.0     262\n",
       "1995.0     215\n",
       "1994.0     115\n",
       "1993.0      60\n",
       "1981.0      46\n",
       "1992.0      42\n",
       "1991.0      41\n",
       "1982.0      36\n",
       "1986.0      21\n",
       "1989.0      17\n",
       "1983.0      17\n",
       "1987.0      16\n",
       "1990.0      16\n",
       "1988.0      15\n",
       "1984.0      14\n",
       "1985.0      14\n",
       "1980.0       9\n",
       "Name: year, dtype: int64"
      ]
     },
     "metadata": {},
     "output_type": "display_data"
    },
    {
     "name": "stdout",
     "output_type": "stream",
     "text": [
      "Nan amount:\n"
     ]
    },
    {
     "data": {
      "text/plain": [
       "name            269\n",
       "platform        269\n",
       "year              0\n",
       "genre           269\n",
       "na_sales        269\n",
       "eu_sales        269\n",
       "jp_sales        269\n",
       "other_sales     269\n",
       "critic_score    154\n",
       "user_score      127\n",
       "rating          181\n",
       "dtype: int64"
      ]
     },
     "metadata": {},
     "output_type": "display_data"
    }
   ],
   "source": [
    "data_check('year')"
   ]
  },
  {
   "cell_type": "markdown",
   "metadata": {},
   "source": [
    "Удаляем строки без года выпуска, т.к. год - эта крайне важный показатель для нашего исследования и т.к. таких строк мало."
   ]
  },
  {
   "cell_type": "code",
   "execution_count": 17,
   "metadata": {},
   "outputs": [],
   "source": [
    "data = data.drop(data[(data['year'].isna())].index).reset_index(drop=True)"
   ]
  },
  {
   "cell_type": "markdown",
   "metadata": {},
   "source": [
    "Приводим столбец к типу int, т.к. год - число целое. Не стал приводить к типу Date-time  т.к. в данном случае это бессмысленно и усложнит работу с данными."
   ]
  },
  {
   "cell_type": "code",
   "execution_count": 18,
   "metadata": {},
   "outputs": [],
   "source": [
    "data['year'] = data['year'].astype(int)"
   ]
  },
  {
   "cell_type": "markdown",
   "metadata": {},
   "source": [
    "Проверка."
   ]
  },
  {
   "cell_type": "code",
   "execution_count": 19,
   "metadata": {},
   "outputs": [
    {
     "name": "stdout",
     "output_type": "stream",
     "text": [
      "unique:\n"
     ]
    },
    {
     "data": {
      "text/plain": [
       "array([2006, 1985, 2008, 2009, 1996, 1989, 1984, 2005, 1999, 2007, 2010,\n",
       "       2013, 2004, 1990, 1988, 2002, 2001, 2011, 1998, 2015, 2012, 2014,\n",
       "       1992, 1997, 1993, 1994, 1982, 2016, 2003, 1986, 2000, 1995, 1991,\n",
       "       1981, 1987, 1980, 1983])"
      ]
     },
     "metadata": {},
     "output_type": "display_data"
    },
    {
     "name": "stdout",
     "output_type": "stream",
     "text": [
      "value_counts:\n"
     ]
    },
    {
     "data": {
      "text/plain": [
       "2008    1427\n",
       "2009    1426\n",
       "2010    1255\n",
       "2007    1197\n",
       "2011    1136\n",
       "2006    1006\n",
       "2005     939\n",
       "2002     829\n",
       "2003     775\n",
       "2004     762\n",
       "2012     652\n",
       "2015     606\n",
       "2014     581\n",
       "2013     544\n",
       "2016     502\n",
       "2001     480\n",
       "1998     379\n",
       "2000     348\n",
       "1999     336\n",
       "1997     289\n",
       "1996     262\n",
       "1995     215\n",
       "1994     115\n",
       "1993      60\n",
       "1981      46\n",
       "1992      42\n",
       "1991      41\n",
       "1982      36\n",
       "1986      21\n",
       "1983      17\n",
       "1989      17\n",
       "1990      16\n",
       "1987      16\n",
       "1988      15\n",
       "1985      14\n",
       "1984      14\n",
       "1980       9\n",
       "Name: year, dtype: int64"
      ]
     },
     "metadata": {},
     "output_type": "display_data"
    },
    {
     "name": "stdout",
     "output_type": "stream",
     "text": [
      "Nan amount:\n"
     ]
    },
    {
     "data": {
      "text/plain": [
       "name            0\n",
       "platform        0\n",
       "year            0\n",
       "genre           0\n",
       "na_sales        0\n",
       "eu_sales        0\n",
       "jp_sales        0\n",
       "other_sales     0\n",
       "critic_score    0\n",
       "user_score      0\n",
       "rating          0\n",
       "dtype: int64"
      ]
     },
     "metadata": {},
     "output_type": "display_data"
    }
   ],
   "source": [
    "data_check('year')"
   ]
  },
  {
   "cell_type": "code",
   "execution_count": 20,
   "metadata": {},
   "outputs": [
    {
     "data": {
      "image/png": "[encoded data removed]",
      "text/plain": [
       "<Figure size 1440x360 with 1 Axes>"
      ]
     },
     "metadata": {
      "needs_background": "light"
     },
     "output_type": "display_data"
    }
   ],
   "source": [
    "plt.figure(figsize=(20, 5))\n",
    "data.year.hist(bins=35)\n",
    "plt.title(f'Гистограмма распределения по годам')\n",
    "plt.xlabel('')\n",
    "plt.show()"
   ]
  },
  {
   "cell_type": "markdown",
   "metadata": {},
   "source": [
    "Пустых значений больше нет, столбец приведён в правильный формат и выбрососв не обнаружено"
   ]
  },
  {
   "cell_type": "markdown",
   "metadata": {},
   "source": [
    "#### genre"
   ]
  },
  {
   "cell_type": "code",
   "execution_count": 21,
   "metadata": {},
   "outputs": [
    {
     "name": "stdout",
     "output_type": "stream",
     "text": [
      "unique:\n"
     ]
    },
    {
     "data": {
      "text/plain": [
       "array(['Sports', 'Platform', 'Racing', 'Role-Playing', 'Puzzle', 'Misc',\n",
       "       'Shooter', 'Simulation', 'Action', 'Fighting', 'Adventure',\n",
       "       'Strategy', nan], dtype=object)"
      ]
     },
     "metadata": {},
     "output_type": "display_data"
    },
    {
     "name": "stdout",
     "output_type": "stream",
     "text": [
      "value_counts:\n"
     ]
    },
    {
     "data": {
      "text/plain": [
       "Action          3307\n",
       "Sports          2305\n",
       "Misc            1719\n",
       "Role-Playing    1475\n",
       "Shooter         1295\n",
       "Adventure       1291\n",
       "Racing          1225\n",
       "Platform         876\n",
       "Simulation       856\n",
       "Fighting         837\n",
       "Strategy         670\n",
       "Puzzle           568\n",
       "Name: genre, dtype: int64"
      ]
     },
     "metadata": {},
     "output_type": "display_data"
    },
    {
     "name": "stdout",
     "output_type": "stream",
     "text": [
      "Nan amount:\n"
     ]
    },
    {
     "data": {
      "text/plain": [
       "name            0\n",
       "platform        1\n",
       "year            1\n",
       "genre           0\n",
       "na_sales        1\n",
       "eu_sales        1\n",
       "jp_sales        1\n",
       "other_sales     1\n",
       "critic_score    0\n",
       "user_score      0\n",
       "rating          0\n",
       "dtype: int64"
      ]
     },
     "metadata": {},
     "output_type": "display_data"
    }
   ],
   "source": [
    "data_check('genre')"
   ]
  },
  {
   "cell_type": "code",
   "execution_count": 22,
   "metadata": {},
   "outputs": [
    {
     "data": {
      "text/html": [
       "<div>\n",
       "<style scoped>\n",
       "    .dataframe tbody tr th:only-of-type {\n",
       "        vertical-align: middle;\n",
       "    }\n",
       "\n",
       "    .dataframe tbody tr th {\n",
       "        vertical-align: top;\n",
       "    }\n",
       "\n",
       "    .dataframe thead th {\n",
       "        text-align: right;\n",
       "    }\n",
       "</style>\n",
       "<table border=\"1\" class=\"dataframe\">\n",
       "  <thead>\n",
       "    <tr style=\"text-align: right;\">\n",
       "      <th></th>\n",
       "      <th>name</th>\n",
       "      <th>platform</th>\n",
       "      <th>year</th>\n",
       "      <th>genre</th>\n",
       "      <th>na_sales</th>\n",
       "      <th>eu_sales</th>\n",
       "      <th>jp_sales</th>\n",
       "      <th>other_sales</th>\n",
       "      <th>critic_score</th>\n",
       "      <th>user_score</th>\n",
       "      <th>rating</th>\n",
       "    </tr>\n",
       "  </thead>\n",
       "  <tbody>\n",
       "    <tr>\n",
       "      <th>652</th>\n",
       "      <td>NaN</td>\n",
       "      <td>GEN</td>\n",
       "      <td>1993</td>\n",
       "      <td>NaN</td>\n",
       "      <td>1.78</td>\n",
       "      <td>0.53</td>\n",
       "      <td>0.0</td>\n",
       "      <td>0.08</td>\n",
       "      <td>NaN</td>\n",
       "      <td>NaN</td>\n",
       "      <td>NaN</td>\n",
       "    </tr>\n",
       "  </tbody>\n",
       "</table>\n",
       "</div>"
      ],
      "text/plain": [
       "    name platform  year genre  na_sales  eu_sales  jp_sales  other_sales  \\\n",
       "652  NaN      GEN  1993   NaN      1.78      0.53       0.0         0.08   \n",
       "\n",
       "     critic_score  user_score rating  \n",
       "652           NaN         NaN    NaN  "
      ]
     },
     "execution_count": 22,
     "metadata": {},
     "output_type": "execute_result"
    }
   ],
   "source": [
    "data[data['genre'].isna()]"
   ]
  },
  {
   "cell_type": "markdown",
   "metadata": {},
   "source": [
    "Эта строка вообще пуста почти полностью. Удалим её."
   ]
  },
  {
   "cell_type": "code",
   "execution_count": 23,
   "metadata": {},
   "outputs": [],
   "source": [
    "data = data.drop(data[(data['genre'].isna())].index).reset_index(drop=True)"
   ]
  },
  {
   "cell_type": "code",
   "execution_count": 24,
   "metadata": {},
   "outputs": [
    {
     "data": {
      "text/plain": [
       "Text(0.5, 1.0, 'Жанры\\n')"
      ]
     },
     "execution_count": 24,
     "metadata": {},
     "output_type": "execute_result"
    },
    {
     "data": {
      "image/png": "[encoded data removed]",
      "text/plain": [
       "<Figure size 720x720 with 1 Axes>"
      ]
     },
     "metadata": {
      "needs_background": "light"
     },
     "output_type": "display_data"
    }
   ],
   "source": [
    "data.genre\\\n",
    ".value_counts()\\\n",
    ".to_frame()\\\n",
    ".plot(kind = 'bar', figsize = (10,10),  legend = False, fontsize = 16, grid = True)\\\n",
    ".set_title('Жанры' + \"\\n\", fontsize = 22) "
   ]
  },
  {
   "cell_type": "markdown",
   "metadata": {},
   "source": [
    "Столбец приведён в порядок."
   ]
  },
  {
   "cell_type": "markdown",
   "metadata": {},
   "source": [
    "#### na_sales        "
   ]
  },
  {
   "cell_type": "code",
   "execution_count": 25,
   "metadata": {
    "scrolled": true
   },
   "outputs": [
    {
     "name": "stdout",
     "output_type": "stream",
     "text": [
      "unique:\n"
     ]
    },
    {
     "data": {
      "text/plain": [
       "array([4.136e+01, 2.908e+01, 1.568e+01, 1.561e+01, 1.127e+01, 2.320e+01,\n",
       "       1.128e+01, 1.396e+01, 1.444e+01, 2.693e+01, 9.050e+00, 9.710e+00,\n",
       "       9.000e+00, 8.920e+00, 1.500e+01, 9.010e+00, 7.020e+00, 9.430e+00,\n",
       "       1.278e+01, 4.740e+00, 6.380e+00, 1.083e+01, 9.540e+00, 9.660e+00,\n",
       "       8.410e+00, 6.060e+00, 3.430e+00, 5.510e+00, 6.850e+00, 9.040e+00,\n",
       "       5.890e+00, 6.030e+00, 9.700e+00, 5.280e+00, 4.990e+00, 8.250e+00,\n",
       "       8.520e+00, 5.540e+00, 6.990e+00, 6.620e+00, 5.030e+00, 5.990e+00,\n",
       "       3.960e+00, 2.500e+00, 7.970e+00, 6.910e+00, 4.340e+00, 4.350e+00,\n",
       "       3.010e+00, 6.160e+00, 6.760e+00, 4.020e+00, 4.890e+00, 2.960e+00,\n",
       "       4.760e+00, 5.010e+00, 6.730e+00, 5.950e+00, 3.660e+00, 5.550e+00,\n",
       "       7.040e+00, 6.650e+00, 3.880e+00, 5.800e+00, 4.100e+00, 5.930e+00,\n",
       "       4.360e+00, 5.700e+00, 2.030e+00, 4.400e+00, 5.050e+00, 3.540e+00,\n",
       "       1.120e+00, 6.820e+00, 1.750e+00, 3.740e+00, 1.060e+00, 2.790e+00,\n",
       "       2.910e+00, 9.900e-01, 2.570e+00, 2.990e+00, 2.280e+00, 7.280e+00,\n",
       "       2.760e+00, 2.900e+00, 2.810e+00, 6.600e-01, 3.780e+00, 3.270e+00,\n",
       "       3.560e+00, 5.390e+00, 4.590e+00, 4.810e+00, 4.460e+00, 3.480e+00,\n",
       "       2.850e+00, 2.530e+00, 2.980e+00, 3.680e+00, 3.150e+00, 4.410e+00,\n",
       "       4.120e+00, 2.710e+00, 2.930e+00, 3.230e+00, 4.050e+00, 4.150e+00,\n",
       "       2.770e+00, 3.450e+00, 3.110e+00, 8.400e-01, 1.660e+00, 7.800e-01,\n",
       "       2.640e+00, 3.170e+00, 4.980e+00, 2.550e+00, 3.640e+00, 3.700e+00,\n",
       "       4.010e+00, 2.470e+00, 8.000e-02, 3.920e+00, 8.000e-01, 2.450e+00,\n",
       "       4.470e+00, 3.180e+00, 2.630e+00, 1.880e+00, 2.410e+00, 2.800e+00,\n",
       "       6.300e-01, 2.260e+00, 2.490e+00, 3.570e+00, 3.070e+00, 2.970e+00,\n",
       "       2.950e+00, 2.540e+00, 3.280e+00, 3.140e+00, 4.700e-01, 2.620e+00,\n",
       "       3.210e+00, 2.070e+00, 2.730e+00, 1.850e+00, 2.180e+00, 1.740e+00,\n",
       "       3.020e+00, 1.620e+00, 3.130e+00, 1.920e+00, 3.330e+00, 3.220e+00,\n",
       "       2.300e+00, 9.700e-01, 6.500e-01, 1.210e+00, 1.090e+00, 2.100e+00,\n",
       "       2.440e+00, 1.980e+00, 3.810e+00, 3.590e+00, 1.630e+00, 1.960e+00,\n",
       "       3.400e+00, 6.100e-01, 2.050e+00, 1.700e+00, 3.420e+00, 3.360e+00,\n",
       "       3.490e+00, 3.050e+00, 1.830e+00, 2.310e+00, 3.980e+00, 0.000e+00,\n",
       "       2.600e+00, 1.910e+00, 2.740e+00, 2.830e+00, 2.360e+00, 1.730e+00,\n",
       "       1.940e+00, 2.290e+00, 1.820e+00, 2.420e+00, 3.040e+00, 1.800e+00,\n",
       "       2.080e+00, 1.870e+00, 4.180e+00, 3.190e+00, 4.210e+00, 3.630e+00,\n",
       "       2.780e+00, 2.000e-01, 1.610e+00, 1.540e+00, 2.520e+00, 2.660e+00,\n",
       "       1.000e-01, 2.820e+00, 2.190e+00, 1.560e+00, 3.030e+00, 2.200e+00,\n",
       "       2.090e+00, 2.110e+00, 1.480e+00, 4.000e+00, 5.800e-01, 2.510e+00,\n",
       "       3.000e+00, 2.240e+00, 1.460e+00, 1.410e+00, 9.200e-01, 8.800e-01,\n",
       "       1.280e+00, 2.250e+00, 3.380e+00, 2.040e+00, 3.790e+00, 4.030e+00,\n",
       "       1.650e+00, 7.100e-01, 1.420e+00, 1.100e+00, 2.320e+00, 1.200e-01,\n",
       "       2.350e+00, 2.120e+00, 1.400e+00, 1.680e+00, 1.130e+00, 1.220e+00,\n",
       "       2.670e+00, 1.020e+00, 1.190e+00, 1.530e+00, 2.150e+00, 9.000e-01,\n",
       "       1.970e+00, 6.800e-01, 1.160e+00, 9.300e-01, 1.440e+00, 1.600e-01,\n",
       "       2.130e+00, 2.210e+00, 1.780e+00, 8.600e-01, 1.350e+00, 1.050e+00,\n",
       "       2.230e+00, 2.400e+00, 1.370e+00, 1.300e+00, 1.950e+00, 1.930e+00,\n",
       "       1.330e+00, 1.490e+00, 1.580e+00, 5.000e-02, 6.000e-01, 2.020e+00,\n",
       "       2.380e+00, 1.600e+00, 2.010e+00, 1.570e+00, 1.230e+00, 1.900e+00,\n",
       "       2.140e+00, 1.170e+00, 2.270e+00, 1.640e+00, 5.900e-01, 1.550e+00,\n",
       "       4.600e-01, 8.100e-01, 1.450e+00, 2.700e-01, 1.470e+00, 1.990e+00,\n",
       "       1.500e+00, 9.000e-02, 2.610e+00, 1.890e+00, 5.000e-01, 8.900e-01,\n",
       "       9.500e-01, 2.340e+00, 7.200e-01, 1.720e+00, 1.180e+00, 1.760e+00,\n",
       "       7.300e-01, 1.270e+00, 2.060e+00, 5.500e-01, 1.520e+00, 1.690e+00,\n",
       "       2.170e+00, 5.100e-01, 1.000e+00, 1.290e+00, 1.380e+00, 1.150e+00,\n",
       "       1.670e+00, 1.360e+00, 1.010e+00, 1.040e+00, 1.840e+00, 2.220e+00,\n",
       "       7.900e-01, 1.510e+00, 1.070e+00, 1.320e+00, 1.590e+00, 2.000e-02,\n",
       "       2.900e-01, 1.250e+00, 2.560e+00, 1.430e+00, 1.200e+00, 4.100e-01,\n",
       "       2.800e-01, 4.300e-01, 6.900e-01, 2.000e+00, 7.600e-01, 1.860e+00,\n",
       "       4.800e-01, 6.200e-01, 1.310e+00, 3.700e-01, 1.500e-01, 6.400e-01,\n",
       "       2.600e-01, 4.900e-01, 1.110e+00, 1.300e-01, 1.810e+00, 1.030e+00,\n",
       "       1.260e+00, 8.700e-01, 7.700e-01, 9.600e-01, 1.390e+00, 1.080e+00,\n",
       "       8.500e-01, 9.100e-01, 3.000e-01, 3.800e-01, 9.400e-01, 7.000e-02,\n",
       "       1.340e+00, 1.240e+00, 3.400e-01, 1.400e-01, 1.000e-02, 5.200e-01,\n",
       "       8.200e-01, 8.300e-01, 1.100e-01, 2.500e-01, 1.770e+00, 3.600e-01,\n",
       "       7.500e-01, 7.400e-01, 1.800e-01, 2.200e-01, 5.300e-01, 4.200e-01,\n",
       "       3.200e-01, 3.900e-01, 2.400e-01, 2.300e-01, 6.000e-02, 4.500e-01,\n",
       "       7.000e-01, 6.700e-01, 3.500e-01, 5.600e-01, 1.140e+00, 9.800e-01,\n",
       "       5.700e-01, 5.400e-01, 4.000e-02, 1.700e-01, 4.400e-01, 3.000e-02,\n",
       "       3.300e-01, 3.100e-01, 4.000e-01, 2.100e-01, 1.900e-01])"
      ]
     },
     "metadata": {},
     "output_type": "display_data"
    },
    {
     "name": "stdout",
     "output_type": "stream",
     "text": [
      "value_counts:\n"
     ]
    },
    {
     "data": {
      "text/plain": [
       "0.00     4430\n",
       "0.02      562\n",
       "0.03      554\n",
       "0.04      543\n",
       "0.05      536\n",
       "         ... \n",
       "14.44       1\n",
       "13.96       1\n",
       "2.35        1\n",
       "2.96        1\n",
       "4.40        1\n",
       "Name: na_sales, Length: 401, dtype: int64"
      ]
     },
     "metadata": {},
     "output_type": "display_data"
    },
    {
     "name": "stdout",
     "output_type": "stream",
     "text": [
      "Nan amount:\n"
     ]
    },
    {
     "data": {
      "text/plain": [
       "name            0\n",
       "platform        0\n",
       "year            0\n",
       "genre           0\n",
       "na_sales        0\n",
       "eu_sales        0\n",
       "jp_sales        0\n",
       "other_sales     0\n",
       "critic_score    0\n",
       "user_score      0\n",
       "rating          0\n",
       "dtype: int64"
      ]
     },
     "metadata": {},
     "output_type": "display_data"
    }
   ],
   "source": [
    "data_check('na_sales')"
   ]
  },
  {
   "cell_type": "code",
   "execution_count": 26,
   "metadata": {},
   "outputs": [],
   "source": [
    "data['na_sales'] = data['na_sales'].apply(lambda x: '{:.2f}'.format(x))"
   ]
  },
  {
   "cell_type": "code",
   "execution_count": 27,
   "metadata": {},
   "outputs": [],
   "source": [
    "data['na_sales'] = pd.to_numeric(data['na_sales'], errors='coerce')"
   ]
  },
  {
   "cell_type": "markdown",
   "metadata": {},
   "source": [
    "Видно, что данные записанны в научном формате, который тут совсем не нужен."
   ]
  },
  {
   "cell_type": "markdown",
   "metadata": {},
   "source": [
    "<div class=\"alert alert-block alert-warning\">\n",
    "<b>🔁Комментарий ревьюера:</b> \n",
    "\n",
    "А если посмотреть в таблице? Ты делаешь лишние действия.</div>"
   ]
  },
  {
   "cell_type": "code",
   "execution_count": 28,
   "metadata": {
    "scrolled": true
   },
   "outputs": [
    {
     "name": "stdout",
     "output_type": "stream",
     "text": [
      "unique:\n"
     ]
    },
    {
     "data": {
      "text/plain": [
       "array([4.136e+01, 2.908e+01, 1.568e+01, 1.561e+01, 1.127e+01, 2.320e+01,\n",
       "       1.128e+01, 1.396e+01, 1.444e+01, 2.693e+01, 9.050e+00, 9.710e+00,\n",
       "       9.000e+00, 8.920e+00, 1.500e+01, 9.010e+00, 7.020e+00, 9.430e+00,\n",
       "       1.278e+01, 4.740e+00, 6.380e+00, 1.083e+01, 9.540e+00, 9.660e+00,\n",
       "       8.410e+00, 6.060e+00, 3.430e+00, 5.510e+00, 6.850e+00, 9.040e+00,\n",
       "       5.890e+00, 6.030e+00, 9.700e+00, 5.280e+00, 4.990e+00, 8.250e+00,\n",
       "       8.520e+00, 5.540e+00, 6.990e+00, 6.620e+00, 5.030e+00, 5.990e+00,\n",
       "       3.960e+00, 2.500e+00, 7.970e+00, 6.910e+00, 4.340e+00, 4.350e+00,\n",
       "       3.010e+00, 6.160e+00, 6.760e+00, 4.020e+00, 4.890e+00, 2.960e+00,\n",
       "       4.760e+00, 5.010e+00, 6.730e+00, 5.950e+00, 3.660e+00, 5.550e+00,\n",
       "       7.040e+00, 6.650e+00, 3.880e+00, 5.800e+00, 4.100e+00, 5.930e+00,\n",
       "       4.360e+00, 5.700e+00, 2.030e+00, 4.400e+00, 5.050e+00, 3.540e+00,\n",
       "       1.120e+00, 6.820e+00, 1.750e+00, 3.740e+00, 1.060e+00, 2.790e+00,\n",
       "       2.910e+00, 9.900e-01, 2.570e+00, 2.990e+00, 2.280e+00, 7.280e+00,\n",
       "       2.760e+00, 2.900e+00, 2.810e+00, 6.600e-01, 3.780e+00, 3.270e+00,\n",
       "       3.560e+00, 5.390e+00, 4.590e+00, 4.810e+00, 4.460e+00, 3.480e+00,\n",
       "       2.850e+00, 2.530e+00, 2.980e+00, 3.680e+00, 3.150e+00, 4.410e+00,\n",
       "       4.120e+00, 2.710e+00, 2.930e+00, 3.230e+00, 4.050e+00, 4.150e+00,\n",
       "       2.770e+00, 3.450e+00, 3.110e+00, 8.400e-01, 1.660e+00, 7.800e-01,\n",
       "       2.640e+00, 3.170e+00, 4.980e+00, 2.550e+00, 3.640e+00, 3.700e+00,\n",
       "       4.010e+00, 2.470e+00, 8.000e-02, 3.920e+00, 8.000e-01, 2.450e+00,\n",
       "       4.470e+00, 3.180e+00, 2.630e+00, 1.880e+00, 2.410e+00, 2.800e+00,\n",
       "       6.300e-01, 2.260e+00, 2.490e+00, 3.570e+00, 3.070e+00, 2.970e+00,\n",
       "       2.950e+00, 2.540e+00, 3.280e+00, 3.140e+00, 4.700e-01, 2.620e+00,\n",
       "       3.210e+00, 2.070e+00, 2.730e+00, 1.850e+00, 2.180e+00, 1.740e+00,\n",
       "       3.020e+00, 1.620e+00, 3.130e+00, 1.920e+00, 3.330e+00, 3.220e+00,\n",
       "       2.300e+00, 9.700e-01, 6.500e-01, 1.210e+00, 1.090e+00, 2.100e+00,\n",
       "       2.440e+00, 1.980e+00, 3.810e+00, 3.590e+00, 1.630e+00, 1.960e+00,\n",
       "       3.400e+00, 6.100e-01, 2.050e+00, 1.700e+00, 3.420e+00, 3.360e+00,\n",
       "       3.490e+00, 3.050e+00, 1.830e+00, 2.310e+00, 3.980e+00, 0.000e+00,\n",
       "       2.600e+00, 1.910e+00, 2.740e+00, 2.830e+00, 2.360e+00, 1.730e+00,\n",
       "       1.940e+00, 2.290e+00, 1.820e+00, 2.420e+00, 3.040e+00, 1.800e+00,\n",
       "       2.080e+00, 1.870e+00, 4.180e+00, 3.190e+00, 4.210e+00, 3.630e+00,\n",
       "       2.780e+00, 2.000e-01, 1.610e+00, 1.540e+00, 2.520e+00, 2.660e+00,\n",
       "       1.000e-01, 2.820e+00, 2.190e+00, 1.560e+00, 3.030e+00, 2.200e+00,\n",
       "       2.090e+00, 2.110e+00, 1.480e+00, 4.000e+00, 5.800e-01, 2.510e+00,\n",
       "       3.000e+00, 2.240e+00, 1.460e+00, 1.410e+00, 9.200e-01, 8.800e-01,\n",
       "       1.280e+00, 2.250e+00, 3.380e+00, 2.040e+00, 3.790e+00, 4.030e+00,\n",
       "       1.650e+00, 7.100e-01, 1.420e+00, 1.100e+00, 2.320e+00, 1.200e-01,\n",
       "       2.350e+00, 2.120e+00, 1.400e+00, 1.680e+00, 1.130e+00, 1.220e+00,\n",
       "       2.670e+00, 1.020e+00, 1.190e+00, 1.530e+00, 2.150e+00, 9.000e-01,\n",
       "       1.970e+00, 6.800e-01, 1.160e+00, 9.300e-01, 1.440e+00, 1.600e-01,\n",
       "       2.130e+00, 2.210e+00, 1.780e+00, 8.600e-01, 1.350e+00, 1.050e+00,\n",
       "       2.230e+00, 2.400e+00, 1.370e+00, 1.300e+00, 1.950e+00, 1.930e+00,\n",
       "       1.330e+00, 1.490e+00, 1.580e+00, 5.000e-02, 6.000e-01, 2.020e+00,\n",
       "       2.380e+00, 1.600e+00, 2.010e+00, 1.570e+00, 1.230e+00, 1.900e+00,\n",
       "       2.140e+00, 1.170e+00, 2.270e+00, 1.640e+00, 5.900e-01, 1.550e+00,\n",
       "       4.600e-01, 8.100e-01, 1.450e+00, 2.700e-01, 1.470e+00, 1.990e+00,\n",
       "       1.500e+00, 9.000e-02, 2.610e+00, 1.890e+00, 5.000e-01, 8.900e-01,\n",
       "       9.500e-01, 2.340e+00, 7.200e-01, 1.720e+00, 1.180e+00, 1.760e+00,\n",
       "       7.300e-01, 1.270e+00, 2.060e+00, 5.500e-01, 1.520e+00, 1.690e+00,\n",
       "       2.170e+00, 5.100e-01, 1.000e+00, 1.290e+00, 1.380e+00, 1.150e+00,\n",
       "       1.670e+00, 1.360e+00, 1.010e+00, 1.040e+00, 1.840e+00, 2.220e+00,\n",
       "       7.900e-01, 1.510e+00, 1.070e+00, 1.320e+00, 1.590e+00, 2.000e-02,\n",
       "       2.900e-01, 1.250e+00, 2.560e+00, 1.430e+00, 1.200e+00, 4.100e-01,\n",
       "       2.800e-01, 4.300e-01, 6.900e-01, 2.000e+00, 7.600e-01, 1.860e+00,\n",
       "       4.800e-01, 6.200e-01, 1.310e+00, 3.700e-01, 1.500e-01, 6.400e-01,\n",
       "       2.600e-01, 4.900e-01, 1.110e+00, 1.300e-01, 1.810e+00, 1.030e+00,\n",
       "       1.260e+00, 8.700e-01, 7.700e-01, 9.600e-01, 1.390e+00, 1.080e+00,\n",
       "       8.500e-01, 9.100e-01, 3.000e-01, 3.800e-01, 9.400e-01, 7.000e-02,\n",
       "       1.340e+00, 1.240e+00, 3.400e-01, 1.400e-01, 1.000e-02, 5.200e-01,\n",
       "       8.200e-01, 8.300e-01, 1.100e-01, 2.500e-01, 1.770e+00, 3.600e-01,\n",
       "       7.500e-01, 7.400e-01, 1.800e-01, 2.200e-01, 5.300e-01, 4.200e-01,\n",
       "       3.200e-01, 3.900e-01, 2.400e-01, 2.300e-01, 6.000e-02, 4.500e-01,\n",
       "       7.000e-01, 6.700e-01, 3.500e-01, 5.600e-01, 1.140e+00, 9.800e-01,\n",
       "       5.700e-01, 5.400e-01, 4.000e-02, 1.700e-01, 4.400e-01, 3.000e-02,\n",
       "       3.300e-01, 3.100e-01, 4.000e-01, 2.100e-01, 1.900e-01])"
      ]
     },
     "metadata": {},
     "output_type": "display_data"
    },
    {
     "name": "stdout",
     "output_type": "stream",
     "text": [
      "value_counts:\n"
     ]
    },
    {
     "data": {
      "text/plain": [
       "0.00     4430\n",
       "0.02      562\n",
       "0.03      554\n",
       "0.04      543\n",
       "0.05      536\n",
       "         ... \n",
       "14.44       1\n",
       "13.96       1\n",
       "2.35        1\n",
       "2.96        1\n",
       "4.40        1\n",
       "Name: na_sales, Length: 401, dtype: int64"
      ]
     },
     "metadata": {},
     "output_type": "display_data"
    },
    {
     "name": "stdout",
     "output_type": "stream",
     "text": [
      "Nan amount:\n"
     ]
    },
    {
     "data": {
      "text/plain": [
       "name            0\n",
       "platform        0\n",
       "year            0\n",
       "genre           0\n",
       "na_sales        0\n",
       "eu_sales        0\n",
       "jp_sales        0\n",
       "other_sales     0\n",
       "critic_score    0\n",
       "user_score      0\n",
       "rating          0\n",
       "dtype: int64"
      ]
     },
     "metadata": {},
     "output_type": "display_data"
    }
   ],
   "source": [
    "data_check('na_sales')"
   ]
  },
  {
   "cell_type": "markdown",
   "metadata": {},
   "source": [
    "#### eu_sales"
   ]
  },
  {
   "cell_type": "code",
   "execution_count": 29,
   "metadata": {
    "scrolled": true
   },
   "outputs": [
    {
     "name": "stdout",
     "output_type": "stream",
     "text": [
      "unique:\n"
     ]
    },
    {
     "data": {
      "text/plain": [
       "array([2.896e+01, 3.580e+00, 1.276e+01, 1.093e+01, 8.890e+00, 2.260e+00,\n",
       "       9.140e+00, 9.180e+00, 6.940e+00, 6.300e-01, 1.095e+01, 7.470e+00,\n",
       "       6.180e+00, 8.030e+00, 4.890e+00, 8.490e+00, 9.090e+00, 4.000e-01,\n",
       "       3.750e+00, 9.200e+00, 4.460e+00, 2.710e+00, 3.440e+00, 5.140e+00,\n",
       "       5.490e+00, 3.900e+00, 5.350e+00, 3.170e+00, 5.090e+00, 4.240e+00,\n",
       "       5.040e+00, 5.860e+00, 3.680e+00, 4.190e+00, 5.730e+00, 3.590e+00,\n",
       "       4.510e+00, 2.550e+00, 4.020e+00, 4.370e+00, 6.310e+00, 3.450e+00,\n",
       "       2.810e+00, 2.850e+00, 3.490e+00, 1.000e-02, 3.350e+00, 2.040e+00,\n",
       "       3.070e+00, 3.870e+00, 3.000e+00, 4.820e+00, 3.640e+00, 2.150e+00,\n",
       "       3.690e+00, 2.650e+00, 2.560e+00, 3.110e+00, 3.140e+00, 1.940e+00,\n",
       "       1.950e+00, 2.470e+00, 2.280e+00, 3.420e+00, 3.630e+00, 2.360e+00,\n",
       "       1.710e+00, 1.850e+00, 2.790e+00, 1.240e+00, 6.120e+00, 1.530e+00,\n",
       "       3.470e+00, 2.240e+00, 5.010e+00, 2.010e+00, 1.720e+00, 2.070e+00,\n",
       "       6.420e+00, 3.860e+00, 4.500e-01, 3.480e+00, 1.890e+00, 5.750e+00,\n",
       "       2.170e+00, 1.370e+00, 2.350e+00, 1.180e+00, 2.110e+00, 1.880e+00,\n",
       "       2.830e+00, 2.990e+00, 2.890e+00, 3.270e+00, 2.220e+00, 2.140e+00,\n",
       "       1.450e+00, 1.750e+00, 1.040e+00, 1.770e+00, 3.020e+00, 2.750e+00,\n",
       "       2.160e+00, 1.900e+00, 2.590e+00, 2.200e+00, 4.300e+00, 9.300e-01,\n",
       "       2.530e+00, 2.520e+00, 1.790e+00, 1.300e+00, 2.600e+00, 1.580e+00,\n",
       "       1.200e+00, 1.560e+00, 1.340e+00, 1.260e+00, 8.300e-01, 6.210e+00,\n",
       "       2.800e+00, 1.590e+00, 1.730e+00, 4.330e+00, 1.830e+00, 0.000e+00,\n",
       "       2.180e+00, 1.980e+00, 1.470e+00, 6.700e-01, 1.550e+00, 1.910e+00,\n",
       "       6.900e-01, 6.000e-01, 1.930e+00, 1.640e+00, 5.500e-01, 2.190e+00,\n",
       "       1.110e+00, 2.290e+00, 2.500e+00, 9.600e-01, 1.210e+00, 1.120e+00,\n",
       "       7.700e-01, 1.690e+00, 1.080e+00, 7.900e-01, 2.370e+00, 2.460e+00,\n",
       "       7.500e-01, 1.250e+00, 2.430e+00, 9.800e-01, 7.400e-01, 2.230e+00,\n",
       "       6.100e-01, 2.450e+00, 1.410e+00, 1.800e+00, 3.280e+00, 1.160e+00,\n",
       "       1.990e+00, 1.380e+00, 1.360e+00, 1.170e+00, 1.190e+00, 9.900e-01,\n",
       "       2.600e-01, 1.680e+00, 2.000e+00, 1.330e+00, 1.570e+00, 1.480e+00,\n",
       "       2.100e+00, 1.270e+00, 1.970e+00, 9.100e-01, 1.390e+00, 1.960e+00,\n",
       "       2.400e-01, 1.510e+00, 1.400e-01, 1.290e+00, 2.390e+00, 1.030e+00,\n",
       "       5.000e-01, 5.800e-01, 1.310e+00, 2.020e+00, 1.320e+00, 1.010e+00,\n",
       "       2.270e+00, 2.300e+00, 1.820e+00, 2.780e+00, 4.400e-01, 4.800e-01,\n",
       "       2.700e-01, 2.100e-01, 2.480e+00, 5.100e-01, 1.520e+00, 4.000e-02,\n",
       "       2.800e-01, 1.350e+00, 8.700e-01, 2.130e+00, 1.130e+00, 1.760e+00,\n",
       "       7.600e-01, 2.120e+00, 6.600e-01, 1.600e+00, 1.440e+00, 1.430e+00,\n",
       "       1.700e+00, 4.700e-01, 1.870e+00, 8.600e-01, 7.300e-01, 1.280e+00,\n",
       "       8.100e-01, 1.090e+00, 6.800e-01, 1.220e+00, 1.400e+00, 1.020e+00,\n",
       "       1.490e+00, 1.140e+00, 4.900e-01, 9.000e-01, 3.800e-01, 1.420e+00,\n",
       "       9.500e-01, 1.620e+00, 7.100e-01, 1.050e+00, 9.200e-01, 3.300e-01,\n",
       "       3.000e-01, 1.670e+00, 1.000e+00, 8.900e-01, 1.000e-01, 7.200e-01,\n",
       "       5.900e-01, 5.600e-01, 1.600e-01, 9.700e-01, 6.200e-01, 8.500e-01,\n",
       "       9.400e-01, 8.800e-01, 8.400e-01, 1.060e+00, 2.000e-01, 1.150e+00,\n",
       "       8.000e-01, 1.100e+00, 7.000e-01, 1.920e+00, 3.200e-01, 1.500e-01,\n",
       "       5.300e-01, 9.000e-02, 1.460e+00, 2.900e-01, 2.200e-01, 1.230e+00,\n",
       "       7.000e-02, 1.700e-01, 5.400e-01, 3.600e-01, 3.100e-01, 1.840e+00,\n",
       "       5.200e-01, 1.100e-01, 6.400e-01, 1.200e-01, 2.050e+00, 1.630e+00,\n",
       "       8.200e-01, 8.000e-02, 5.700e-01, 1.650e+00, 1.900e-01, 2.000e-02,\n",
       "       4.300e-01, 2.500e-01, 1.500e+00, 1.800e-01, 3.900e-01, 1.300e-01,\n",
       "       1.070e+00, 4.600e-01, 4.100e-01, 6.000e-02, 3.000e-02, 3.700e-01,\n",
       "       5.000e-02, 2.300e-01, 6.500e-01, 4.200e-01, 3.400e-01, 3.500e-01,\n",
       "       7.800e-01])"
      ]
     },
     "metadata": {},
     "output_type": "display_data"
    },
    {
     "name": "stdout",
     "output_type": "stream",
     "text": [
      "value_counts:\n"
     ]
    },
    {
     "data": {
      "text/plain": [
       "0.00    5748\n",
       "0.01    1466\n",
       "0.02    1290\n",
       "0.03     911\n",
       "0.04     702\n",
       "        ... \n",
       "9.14       1\n",
       "1.92       1\n",
       "3.86       1\n",
       "2.59       1\n",
       "3.87       1\n",
       "Name: eu_sales, Length: 307, dtype: int64"
      ]
     },
     "metadata": {},
     "output_type": "display_data"
    },
    {
     "name": "stdout",
     "output_type": "stream",
     "text": [
      "Nan amount:\n"
     ]
    },
    {
     "data": {
      "text/plain": [
       "name            0\n",
       "platform        0\n",
       "year            0\n",
       "genre           0\n",
       "na_sales        0\n",
       "eu_sales        0\n",
       "jp_sales        0\n",
       "other_sales     0\n",
       "critic_score    0\n",
       "user_score      0\n",
       "rating          0\n",
       "dtype: int64"
      ]
     },
     "metadata": {},
     "output_type": "display_data"
    }
   ],
   "source": [
    "data_check('eu_sales')"
   ]
  },
  {
   "cell_type": "markdown",
   "metadata": {},
   "source": [
    "Аналогично с предыдущим и для этого столбца."
   ]
  },
  {
   "cell_type": "code",
   "execution_count": 30,
   "metadata": {},
   "outputs": [],
   "source": [
    "data['eu_sales'] = data['eu_sales'].apply(lambda x: '{:.2f}'.format(x))"
   ]
  },
  {
   "cell_type": "code",
   "execution_count": 31,
   "metadata": {},
   "outputs": [],
   "source": [
    "data['eu_sales'] = pd.to_numeric(data['eu_sales'], errors='coerce')"
   ]
  },
  {
   "cell_type": "code",
   "execution_count": 32,
   "metadata": {
    "scrolled": true
   },
   "outputs": [
    {
     "name": "stdout",
     "output_type": "stream",
     "text": [
      "unique:\n"
     ]
    },
    {
     "data": {
      "text/plain": [
       "array([2.896e+01, 3.580e+00, 1.276e+01, 1.093e+01, 8.890e+00, 2.260e+00,\n",
       "       9.140e+00, 9.180e+00, 6.940e+00, 6.300e-01, 1.095e+01, 7.470e+00,\n",
       "       6.180e+00, 8.030e+00, 4.890e+00, 8.490e+00, 9.090e+00, 4.000e-01,\n",
       "       3.750e+00, 9.200e+00, 4.460e+00, 2.710e+00, 3.440e+00, 5.140e+00,\n",
       "       5.490e+00, 3.900e+00, 5.350e+00, 3.170e+00, 5.090e+00, 4.240e+00,\n",
       "       5.040e+00, 5.860e+00, 3.680e+00, 4.190e+00, 5.730e+00, 3.590e+00,\n",
       "       4.510e+00, 2.550e+00, 4.020e+00, 4.370e+00, 6.310e+00, 3.450e+00,\n",
       "       2.810e+00, 2.850e+00, 3.490e+00, 1.000e-02, 3.350e+00, 2.040e+00,\n",
       "       3.070e+00, 3.870e+00, 3.000e+00, 4.820e+00, 3.640e+00, 2.150e+00,\n",
       "       3.690e+00, 2.650e+00, 2.560e+00, 3.110e+00, 3.140e+00, 1.940e+00,\n",
       "       1.950e+00, 2.470e+00, 2.280e+00, 3.420e+00, 3.630e+00, 2.360e+00,\n",
       "       1.710e+00, 1.850e+00, 2.790e+00, 1.240e+00, 6.120e+00, 1.530e+00,\n",
       "       3.470e+00, 2.240e+00, 5.010e+00, 2.010e+00, 1.720e+00, 2.070e+00,\n",
       "       6.420e+00, 3.860e+00, 4.500e-01, 3.480e+00, 1.890e+00, 5.750e+00,\n",
       "       2.170e+00, 1.370e+00, 2.350e+00, 1.180e+00, 2.110e+00, 1.880e+00,\n",
       "       2.830e+00, 2.990e+00, 2.890e+00, 3.270e+00, 2.220e+00, 2.140e+00,\n",
       "       1.450e+00, 1.750e+00, 1.040e+00, 1.770e+00, 3.020e+00, 2.750e+00,\n",
       "       2.160e+00, 1.900e+00, 2.590e+00, 2.200e+00, 4.300e+00, 9.300e-01,\n",
       "       2.530e+00, 2.520e+00, 1.790e+00, 1.300e+00, 2.600e+00, 1.580e+00,\n",
       "       1.200e+00, 1.560e+00, 1.340e+00, 1.260e+00, 8.300e-01, 6.210e+00,\n",
       "       2.800e+00, 1.590e+00, 1.730e+00, 4.330e+00, 1.830e+00, 0.000e+00,\n",
       "       2.180e+00, 1.980e+00, 1.470e+00, 6.700e-01, 1.550e+00, 1.910e+00,\n",
       "       6.900e-01, 6.000e-01, 1.930e+00, 1.640e+00, 5.500e-01, 2.190e+00,\n",
       "       1.110e+00, 2.290e+00, 2.500e+00, 9.600e-01, 1.210e+00, 1.120e+00,\n",
       "       7.700e-01, 1.690e+00, 1.080e+00, 7.900e-01, 2.370e+00, 2.460e+00,\n",
       "       7.500e-01, 1.250e+00, 2.430e+00, 9.800e-01, 7.400e-01, 2.230e+00,\n",
       "       6.100e-01, 2.450e+00, 1.410e+00, 1.800e+00, 3.280e+00, 1.160e+00,\n",
       "       1.990e+00, 1.380e+00, 1.360e+00, 1.170e+00, 1.190e+00, 9.900e-01,\n",
       "       2.600e-01, 1.680e+00, 2.000e+00, 1.330e+00, 1.570e+00, 1.480e+00,\n",
       "       2.100e+00, 1.270e+00, 1.970e+00, 9.100e-01, 1.390e+00, 1.960e+00,\n",
       "       2.400e-01, 1.510e+00, 1.400e-01, 1.290e+00, 2.390e+00, 1.030e+00,\n",
       "       5.000e-01, 5.800e-01, 1.310e+00, 2.020e+00, 1.320e+00, 1.010e+00,\n",
       "       2.270e+00, 2.300e+00, 1.820e+00, 2.780e+00, 4.400e-01, 4.800e-01,\n",
       "       2.700e-01, 2.100e-01, 2.480e+00, 5.100e-01, 1.520e+00, 4.000e-02,\n",
       "       2.800e-01, 1.350e+00, 8.700e-01, 2.130e+00, 1.130e+00, 1.760e+00,\n",
       "       7.600e-01, 2.120e+00, 6.600e-01, 1.600e+00, 1.440e+00, 1.430e+00,\n",
       "       1.700e+00, 4.700e-01, 1.870e+00, 8.600e-01, 7.300e-01, 1.280e+00,\n",
       "       8.100e-01, 1.090e+00, 6.800e-01, 1.220e+00, 1.400e+00, 1.020e+00,\n",
       "       1.490e+00, 1.140e+00, 4.900e-01, 9.000e-01, 3.800e-01, 1.420e+00,\n",
       "       9.500e-01, 1.620e+00, 7.100e-01, 1.050e+00, 9.200e-01, 3.300e-01,\n",
       "       3.000e-01, 1.670e+00, 1.000e+00, 8.900e-01, 1.000e-01, 7.200e-01,\n",
       "       5.900e-01, 5.600e-01, 1.600e-01, 9.700e-01, 6.200e-01, 8.500e-01,\n",
       "       9.400e-01, 8.800e-01, 8.400e-01, 1.060e+00, 2.000e-01, 1.150e+00,\n",
       "       8.000e-01, 1.100e+00, 7.000e-01, 1.920e+00, 3.200e-01, 1.500e-01,\n",
       "       5.300e-01, 9.000e-02, 1.460e+00, 2.900e-01, 2.200e-01, 1.230e+00,\n",
       "       7.000e-02, 1.700e-01, 5.400e-01, 3.600e-01, 3.100e-01, 1.840e+00,\n",
       "       5.200e-01, 1.100e-01, 6.400e-01, 1.200e-01, 2.050e+00, 1.630e+00,\n",
       "       8.200e-01, 8.000e-02, 5.700e-01, 1.650e+00, 1.900e-01, 2.000e-02,\n",
       "       4.300e-01, 2.500e-01, 1.500e+00, 1.800e-01, 3.900e-01, 1.300e-01,\n",
       "       1.070e+00, 4.600e-01, 4.100e-01, 6.000e-02, 3.000e-02, 3.700e-01,\n",
       "       5.000e-02, 2.300e-01, 6.500e-01, 4.200e-01, 3.400e-01, 3.500e-01,\n",
       "       7.800e-01])"
      ]
     },
     "metadata": {},
     "output_type": "display_data"
    },
    {
     "name": "stdout",
     "output_type": "stream",
     "text": [
      "value_counts:\n"
     ]
    },
    {
     "data": {
      "text/plain": [
       "0.00    5748\n",
       "0.01    1466\n",
       "0.02    1290\n",
       "0.03     911\n",
       "0.04     702\n",
       "        ... \n",
       "9.14       1\n",
       "1.92       1\n",
       "3.86       1\n",
       "2.59       1\n",
       "3.87       1\n",
       "Name: eu_sales, Length: 307, dtype: int64"
      ]
     },
     "metadata": {},
     "output_type": "display_data"
    },
    {
     "name": "stdout",
     "output_type": "stream",
     "text": [
      "Nan amount:\n"
     ]
    },
    {
     "data": {
      "text/plain": [
       "name            0\n",
       "platform        0\n",
       "year            0\n",
       "genre           0\n",
       "na_sales        0\n",
       "eu_sales        0\n",
       "jp_sales        0\n",
       "other_sales     0\n",
       "critic_score    0\n",
       "user_score      0\n",
       "rating          0\n",
       "dtype: int64"
      ]
     },
     "metadata": {},
     "output_type": "display_data"
    }
   ],
   "source": [
    "data_check('eu_sales')"
   ]
  },
  {
   "cell_type": "markdown",
   "metadata": {},
   "source": [
    "#### jp_sales"
   ]
  },
  {
   "cell_type": "code",
   "execution_count": 33,
   "metadata": {
    "scrolled": true
   },
   "outputs": [
    {
     "name": "stdout",
     "output_type": "stream",
     "text": [
      "unique:\n"
     ]
    },
    {
     "data": {
      "text/plain": [
       "array([3.770e+00, 6.810e+00, 3.790e+00, 3.280e+00, 1.022e+01, 4.220e+00,\n",
       "       6.500e+00, 2.930e+00, 4.700e+00, 2.800e-01, 1.930e+00, 4.130e+00,\n",
       "       7.200e+00, 3.600e+00, 2.400e-01, 2.530e+00, 9.800e-01, 4.100e-01,\n",
       "       3.540e+00, 4.160e+00, 6.040e+00, 4.180e+00, 3.840e+00, 6.000e-02,\n",
       "       4.700e-01, 5.380e+00, 5.320e+00, 5.650e+00, 1.870e+00, 1.300e-01,\n",
       "       3.120e+00, 3.600e-01, 1.100e-01, 4.350e+00, 6.500e-01, 7.000e-02,\n",
       "       8.000e-02, 4.900e-01, 3.000e-01, 2.660e+00, 2.690e+00, 4.800e-01,\n",
       "       3.800e-01, 5.330e+00, 1.910e+00, 3.960e+00, 3.100e+00, 1.100e+00,\n",
       "       1.200e+00, 1.400e-01, 2.540e+00, 2.140e+00, 8.100e-01, 2.120e+00,\n",
       "       4.400e-01, 3.150e+00, 1.250e+00, 4.000e-02, 0.000e+00, 2.470e+00,\n",
       "       2.230e+00, 1.690e+00, 1.000e-02, 3.000e+00, 2.000e-02, 4.390e+00,\n",
       "       1.980e+00, 1.000e-01, 3.810e+00, 5.000e-02, 2.490e+00, 1.580e+00,\n",
       "       3.140e+00, 2.730e+00, 6.600e-01, 2.200e-01, 3.630e+00, 1.450e+00,\n",
       "       1.310e+00, 2.430e+00, 7.000e-01, 3.500e-01, 1.400e+00, 6.000e-01,\n",
       "       2.260e+00, 1.420e+00, 1.280e+00, 1.390e+00, 8.700e-01, 1.700e-01,\n",
       "       9.400e-01, 1.900e-01, 2.100e-01, 1.600e+00, 1.600e-01, 1.030e+00,\n",
       "       2.500e-01, 2.060e+00, 1.490e+00, 1.290e+00, 9.000e-02, 2.870e+00,\n",
       "       3.000e-02, 7.800e-01, 8.300e-01, 2.330e+00, 2.020e+00, 1.360e+00,\n",
       "       1.810e+00, 1.970e+00, 9.100e-01, 9.900e-01, 9.500e-01, 2.000e+00,\n",
       "       1.010e+00, 2.780e+00, 2.110e+00, 1.090e+00, 2.000e-01, 1.900e+00,\n",
       "       1.270e+00, 3.610e+00, 1.570e+00, 2.200e+00, 1.700e+00, 1.080e+00,\n",
       "       1.500e-01, 1.110e+00, 2.900e-01, 1.540e+00, 1.200e-01, 8.900e-01,\n",
       "       4.870e+00, 1.520e+00, 1.320e+00, 1.150e+00, 4.100e+00, 1.460e+00,\n",
       "       4.600e-01, 1.050e+00, 1.610e+00, 2.600e-01, 1.380e+00, 6.200e-01,\n",
       "       7.300e-01, 5.700e-01, 3.100e-01, 5.800e-01, 1.760e+00, 2.100e+00,\n",
       "       9.000e-01, 5.100e-01, 6.400e-01, 2.460e+00, 2.300e-01, 3.700e-01,\n",
       "       9.200e-01, 1.070e+00, 2.620e+00, 1.120e+00, 5.400e-01, 2.700e-01,\n",
       "       5.900e-01, 3.670e+00, 5.500e-01, 1.750e+00, 3.440e+00, 3.300e-01,\n",
       "       2.550e+00, 2.320e+00, 2.790e+00, 7.400e-01, 3.180e+00, 8.200e-01,\n",
       "       7.700e-01, 4.000e-01, 2.350e+00, 3.190e+00, 8.000e-01, 7.600e-01,\n",
       "       3.030e+00, 8.800e-01, 4.500e-01, 1.160e+00, 3.400e-01, 1.190e+00,\n",
       "       1.130e+00, 2.130e+00, 1.960e+00, 7.100e-01, 1.040e+00, 2.680e+00,\n",
       "       6.800e-01, 2.650e+00, 9.600e-01, 2.410e+00, 5.200e-01, 1.800e-01,\n",
       "       1.340e+00, 1.480e+00, 2.340e+00, 1.060e+00, 1.210e+00, 2.290e+00,\n",
       "       1.630e+00, 2.050e+00, 2.170e+00, 1.560e+00, 1.350e+00, 1.330e+00,\n",
       "       6.300e-01, 7.900e-01, 7.500e-01, 5.300e-01, 1.530e+00, 1.300e+00,\n",
       "       3.900e-01, 6.900e-01, 4.200e-01, 9.300e-01, 5.600e-01, 8.400e-01,\n",
       "       7.200e-01, 3.200e-01, 1.710e+00, 1.650e+00, 6.100e-01, 1.510e+00,\n",
       "       1.500e+00, 1.440e+00, 1.240e+00, 1.180e+00, 1.370e+00, 1.000e+00,\n",
       "       1.260e+00, 8.500e-01, 4.300e-01, 6.700e-01, 1.140e+00, 8.600e-01,\n",
       "       1.170e+00, 5.000e-01, 1.020e+00, 9.700e-01])"
      ]
     },
     "metadata": {},
     "output_type": "display_data"
    },
    {
     "name": "stdout",
     "output_type": "stream",
     "text": [
      "value_counts:\n"
     ]
    },
    {
     "data": {
      "text/plain": [
       "0.00    10299\n",
       "0.02      730\n",
       "0.01      697\n",
       "0.03      538\n",
       "0.04      389\n",
       "        ...  \n",
       "3.84        1\n",
       "1.17        1\n",
       "3.03        1\n",
       "2.66        1\n",
       "1.71        1\n",
       "Name: jp_sales, Length: 244, dtype: int64"
      ]
     },
     "metadata": {},
     "output_type": "display_data"
    },
    {
     "name": "stdout",
     "output_type": "stream",
     "text": [
      "Nan amount:\n"
     ]
    },
    {
     "data": {
      "text/plain": [
       "name            0\n",
       "platform        0\n",
       "year            0\n",
       "genre           0\n",
       "na_sales        0\n",
       "eu_sales        0\n",
       "jp_sales        0\n",
       "other_sales     0\n",
       "critic_score    0\n",
       "user_score      0\n",
       "rating          0\n",
       "dtype: int64"
      ]
     },
     "metadata": {},
     "output_type": "display_data"
    }
   ],
   "source": [
    "data_check('jp_sales')"
   ]
  },
  {
   "cell_type": "markdown",
   "metadata": {},
   "source": [
    "Аналогично с предыдущим и для этого столбца."
   ]
  },
  {
   "cell_type": "code",
   "execution_count": 34,
   "metadata": {},
   "outputs": [],
   "source": [
    "data['jp_sales'] = data['jp_sales'].apply(lambda x: '{:.2f}'.format(x))"
   ]
  },
  {
   "cell_type": "code",
   "execution_count": 35,
   "metadata": {},
   "outputs": [],
   "source": [
    "data['jp_sales'] = pd.to_numeric(data['jp_sales'], errors='coerce')"
   ]
  },
  {
   "cell_type": "code",
   "execution_count": 36,
   "metadata": {
    "scrolled": true
   },
   "outputs": [
    {
     "name": "stdout",
     "output_type": "stream",
     "text": [
      "unique:\n"
     ]
    },
    {
     "data": {
      "text/plain": [
       "array([3.770e+00, 6.810e+00, 3.790e+00, 3.280e+00, 1.022e+01, 4.220e+00,\n",
       "       6.500e+00, 2.930e+00, 4.700e+00, 2.800e-01, 1.930e+00, 4.130e+00,\n",
       "       7.200e+00, 3.600e+00, 2.400e-01, 2.530e+00, 9.800e-01, 4.100e-01,\n",
       "       3.540e+00, 4.160e+00, 6.040e+00, 4.180e+00, 3.840e+00, 6.000e-02,\n",
       "       4.700e-01, 5.380e+00, 5.320e+00, 5.650e+00, 1.870e+00, 1.300e-01,\n",
       "       3.120e+00, 3.600e-01, 1.100e-01, 4.350e+00, 6.500e-01, 7.000e-02,\n",
       "       8.000e-02, 4.900e-01, 3.000e-01, 2.660e+00, 2.690e+00, 4.800e-01,\n",
       "       3.800e-01, 5.330e+00, 1.910e+00, 3.960e+00, 3.100e+00, 1.100e+00,\n",
       "       1.200e+00, 1.400e-01, 2.540e+00, 2.140e+00, 8.100e-01, 2.120e+00,\n",
       "       4.400e-01, 3.150e+00, 1.250e+00, 4.000e-02, 0.000e+00, 2.470e+00,\n",
       "       2.230e+00, 1.690e+00, 1.000e-02, 3.000e+00, 2.000e-02, 4.390e+00,\n",
       "       1.980e+00, 1.000e-01, 3.810e+00, 5.000e-02, 2.490e+00, 1.580e+00,\n",
       "       3.140e+00, 2.730e+00, 6.600e-01, 2.200e-01, 3.630e+00, 1.450e+00,\n",
       "       1.310e+00, 2.430e+00, 7.000e-01, 3.500e-01, 1.400e+00, 6.000e-01,\n",
       "       2.260e+00, 1.420e+00, 1.280e+00, 1.390e+00, 8.700e-01, 1.700e-01,\n",
       "       9.400e-01, 1.900e-01, 2.100e-01, 1.600e+00, 1.600e-01, 1.030e+00,\n",
       "       2.500e-01, 2.060e+00, 1.490e+00, 1.290e+00, 9.000e-02, 2.870e+00,\n",
       "       3.000e-02, 7.800e-01, 8.300e-01, 2.330e+00, 2.020e+00, 1.360e+00,\n",
       "       1.810e+00, 1.970e+00, 9.100e-01, 9.900e-01, 9.500e-01, 2.000e+00,\n",
       "       1.010e+00, 2.780e+00, 2.110e+00, 1.090e+00, 2.000e-01, 1.900e+00,\n",
       "       1.270e+00, 3.610e+00, 1.570e+00, 2.200e+00, 1.700e+00, 1.080e+00,\n",
       "       1.500e-01, 1.110e+00, 2.900e-01, 1.540e+00, 1.200e-01, 8.900e-01,\n",
       "       4.870e+00, 1.520e+00, 1.320e+00, 1.150e+00, 4.100e+00, 1.460e+00,\n",
       "       4.600e-01, 1.050e+00, 1.610e+00, 2.600e-01, 1.380e+00, 6.200e-01,\n",
       "       7.300e-01, 5.700e-01, 3.100e-01, 5.800e-01, 1.760e+00, 2.100e+00,\n",
       "       9.000e-01, 5.100e-01, 6.400e-01, 2.460e+00, 2.300e-01, 3.700e-01,\n",
       "       9.200e-01, 1.070e+00, 2.620e+00, 1.120e+00, 5.400e-01, 2.700e-01,\n",
       "       5.900e-01, 3.670e+00, 5.500e-01, 1.750e+00, 3.440e+00, 3.300e-01,\n",
       "       2.550e+00, 2.320e+00, 2.790e+00, 7.400e-01, 3.180e+00, 8.200e-01,\n",
       "       7.700e-01, 4.000e-01, 2.350e+00, 3.190e+00, 8.000e-01, 7.600e-01,\n",
       "       3.030e+00, 8.800e-01, 4.500e-01, 1.160e+00, 3.400e-01, 1.190e+00,\n",
       "       1.130e+00, 2.130e+00, 1.960e+00, 7.100e-01, 1.040e+00, 2.680e+00,\n",
       "       6.800e-01, 2.650e+00, 9.600e-01, 2.410e+00, 5.200e-01, 1.800e-01,\n",
       "       1.340e+00, 1.480e+00, 2.340e+00, 1.060e+00, 1.210e+00, 2.290e+00,\n",
       "       1.630e+00, 2.050e+00, 2.170e+00, 1.560e+00, 1.350e+00, 1.330e+00,\n",
       "       6.300e-01, 7.900e-01, 7.500e-01, 5.300e-01, 1.530e+00, 1.300e+00,\n",
       "       3.900e-01, 6.900e-01, 4.200e-01, 9.300e-01, 5.600e-01, 8.400e-01,\n",
       "       7.200e-01, 3.200e-01, 1.710e+00, 1.650e+00, 6.100e-01, 1.510e+00,\n",
       "       1.500e+00, 1.440e+00, 1.240e+00, 1.180e+00, 1.370e+00, 1.000e+00,\n",
       "       1.260e+00, 8.500e-01, 4.300e-01, 6.700e-01, 1.140e+00, 8.600e-01,\n",
       "       1.170e+00, 5.000e-01, 1.020e+00, 9.700e-01])"
      ]
     },
     "metadata": {},
     "output_type": "display_data"
    },
    {
     "name": "stdout",
     "output_type": "stream",
     "text": [
      "value_counts:\n"
     ]
    },
    {
     "data": {
      "text/plain": [
       "0.00    10299\n",
       "0.02      730\n",
       "0.01      697\n",
       "0.03      538\n",
       "0.04      389\n",
       "        ...  \n",
       "3.84        1\n",
       "1.17        1\n",
       "3.03        1\n",
       "2.66        1\n",
       "1.71        1\n",
       "Name: jp_sales, Length: 244, dtype: int64"
      ]
     },
     "metadata": {},
     "output_type": "display_data"
    },
    {
     "name": "stdout",
     "output_type": "stream",
     "text": [
      "Nan amount:\n"
     ]
    },
    {
     "data": {
      "text/plain": [
       "name            0\n",
       "platform        0\n",
       "year            0\n",
       "genre           0\n",
       "na_sales        0\n",
       "eu_sales        0\n",
       "jp_sales        0\n",
       "other_sales     0\n",
       "critic_score    0\n",
       "user_score      0\n",
       "rating          0\n",
       "dtype: int64"
      ]
     },
     "metadata": {},
     "output_type": "display_data"
    }
   ],
   "source": [
    "data_check('jp_sales')"
   ]
  },
  {
   "cell_type": "markdown",
   "metadata": {},
   "source": [
    "#### other_sales"
   ]
  },
  {
   "cell_type": "code",
   "execution_count": 37,
   "metadata": {
    "scrolled": true
   },
   "outputs": [
    {
     "name": "stdout",
     "output_type": "stream",
     "text": [
      "unique:\n"
     ]
    },
    {
     "data": {
      "text/plain": [
       "array([8.450e+00, 7.700e-01, 3.290e+00, 2.950e+00, 1.000e+00, 5.800e-01,\n",
       "       2.880e+00, 2.840e+00, 2.240e+00, 4.700e-01, 2.740e+00, 1.900e+00,\n",
       "       7.100e-01, 2.150e+00, 1.690e+00, 1.770e+00, 3.960e+00, 1.057e+01,\n",
       "       5.500e-01, 2.040e+00, 1.360e+00, 4.200e-01, 4.600e-01, 1.410e+00,\n",
       "       1.780e+00, 5.000e-01, 1.180e+00, 8.000e-01, 1.160e+00, 1.320e+00,\n",
       "       5.900e-01, 2.380e+00, 1.130e+00, 7.800e-01, 2.420e+00, 1.120e+00,\n",
       "       1.280e+00, 1.570e+00, 1.300e+00, 1.010e+00, 9.100e-01, 1.790e+00,\n",
       "       1.970e+00, 8.600e-01, 1.210e+00, 2.300e-01, 7.600e-01, 7.400e-01,\n",
       "       7.530e+00, 2.900e-01, 1.030e+00, 5.200e-01, 2.110e+00, 1.600e+00,\n",
       "       1.610e+00, 3.500e-01, 9.700e-01, 1.060e+00, 6.300e-01, 1.500e-01,\n",
       "       7.900e-01, 9.600e-01, 1.250e+00, 9.000e-01, 8.100e-01, 3.900e-01,\n",
       "       6.800e-01, 8.500e-01, 1.800e-01, 8.000e-02, 6.700e-01, 7.000e-01,\n",
       "       4.100e-01, 3.300e-01, 6.000e-01, 5.400e-01, 1.730e+00, 1.230e+00,\n",
       "       1.600e-01, 1.110e+00, 3.100e-01, 4.800e-01, 6.200e-01, 1.900e-01,\n",
       "       6.900e-01, 1.020e+00, 7.300e-01, 1.080e+00, 4.500e-01, 2.800e-01,\n",
       "       5.100e-01, 2.200e-01, 1.090e+00, 9.900e-01, 3.000e-01, 6.400e-01,\n",
       "       6.600e-01, 9.800e-01, 1.390e+00, 1.400e-01, 1.370e+00, 7.000e-02,\n",
       "       2.100e-01, 6.100e-01, 1.700e-01, 1.200e-01, 0.000e+00, 7.200e-01,\n",
       "       2.400e-01, 8.200e-01, 1.740e+00, 8.700e-01, 9.200e-01, 5.700e-01,\n",
       "       1.100e-01, 4.000e-02, 5.600e-01, 2.000e-01, 3.400e-01, 9.000e-02,\n",
       "       8.300e-01, 4.400e-01, 6.000e-02, 3.200e-01, 3.800e-01, 1.480e+00,\n",
       "       3.700e-01, 1.000e-01, 2.500e-01, 3.600e-01, 1.300e-01, 4.300e-01,\n",
       "       5.000e-02, 2.000e-02, 2.600e-01, 4.000e-01, 7.500e-01, 1.930e+00,\n",
       "       8.400e-01, 5.300e-01, 8.900e-01, 1.670e+00, 2.700e-01, 2.930e+00,\n",
       "       4.900e-01, 1.000e-02, 2.460e+00, 3.000e-02, 1.510e+00, 2.050e+00,\n",
       "       1.680e+00, 1.820e+00, 1.330e+00, 9.400e-01, 9.300e-01])"
      ]
     },
     "metadata": {},
     "output_type": "display_data"
    },
    {
     "name": "stdout",
     "output_type": "stream",
     "text": [
      "value_counts:\n"
     ]
    },
    {
     "data": {
      "text/plain": [
       "0.00    6473\n",
       "0.01    3398\n",
       "0.02    1596\n",
       "0.03     910\n",
       "0.04     641\n",
       "        ... \n",
       "0.72       1\n",
       "2.11       1\n",
       "0.96       1\n",
       "1.48       1\n",
       "3.96       1\n",
       "Name: other_sales, Length: 155, dtype: int64"
      ]
     },
     "metadata": {},
     "output_type": "display_data"
    },
    {
     "name": "stdout",
     "output_type": "stream",
     "text": [
      "Nan amount:\n"
     ]
    },
    {
     "data": {
      "text/plain": [
       "name            0\n",
       "platform        0\n",
       "year            0\n",
       "genre           0\n",
       "na_sales        0\n",
       "eu_sales        0\n",
       "jp_sales        0\n",
       "other_sales     0\n",
       "critic_score    0\n",
       "user_score      0\n",
       "rating          0\n",
       "dtype: int64"
      ]
     },
     "metadata": {},
     "output_type": "display_data"
    }
   ],
   "source": [
    "data_check('other_sales')"
   ]
  },
  {
   "cell_type": "markdown",
   "metadata": {},
   "source": [
    "Аналогично с предыдущим и для этого столбца."
   ]
  },
  {
   "cell_type": "code",
   "execution_count": 38,
   "metadata": {},
   "outputs": [],
   "source": [
    "data['other_sales'] = data['other_sales'].apply(lambda x: '{:.2f}'.format(x))"
   ]
  },
  {
   "cell_type": "code",
   "execution_count": 39,
   "metadata": {},
   "outputs": [],
   "source": [
    "data['other_sales'] = pd.to_numeric(data['other_sales'], errors='coerce')"
   ]
  },
  {
   "cell_type": "code",
   "execution_count": 40,
   "metadata": {
    "scrolled": true
   },
   "outputs": [
    {
     "name": "stdout",
     "output_type": "stream",
     "text": [
      "unique:\n"
     ]
    },
    {
     "data": {
      "text/plain": [
       "array([8.450e+00, 7.700e-01, 3.290e+00, 2.950e+00, 1.000e+00, 5.800e-01,\n",
       "       2.880e+00, 2.840e+00, 2.240e+00, 4.700e-01, 2.740e+00, 1.900e+00,\n",
       "       7.100e-01, 2.150e+00, 1.690e+00, 1.770e+00, 3.960e+00, 1.057e+01,\n",
       "       5.500e-01, 2.040e+00, 1.360e+00, 4.200e-01, 4.600e-01, 1.410e+00,\n",
       "       1.780e+00, 5.000e-01, 1.180e+00, 8.000e-01, 1.160e+00, 1.320e+00,\n",
       "       5.900e-01, 2.380e+00, 1.130e+00, 7.800e-01, 2.420e+00, 1.120e+00,\n",
       "       1.280e+00, 1.570e+00, 1.300e+00, 1.010e+00, 9.100e-01, 1.790e+00,\n",
       "       1.970e+00, 8.600e-01, 1.210e+00, 2.300e-01, 7.600e-01, 7.400e-01,\n",
       "       7.530e+00, 2.900e-01, 1.030e+00, 5.200e-01, 2.110e+00, 1.600e+00,\n",
       "       1.610e+00, 3.500e-01, 9.700e-01, 1.060e+00, 6.300e-01, 1.500e-01,\n",
       "       7.900e-01, 9.600e-01, 1.250e+00, 9.000e-01, 8.100e-01, 3.900e-01,\n",
       "       6.800e-01, 8.500e-01, 1.800e-01, 8.000e-02, 6.700e-01, 7.000e-01,\n",
       "       4.100e-01, 3.300e-01, 6.000e-01, 5.400e-01, 1.730e+00, 1.230e+00,\n",
       "       1.600e-01, 1.110e+00, 3.100e-01, 4.800e-01, 6.200e-01, 1.900e-01,\n",
       "       6.900e-01, 1.020e+00, 7.300e-01, 1.080e+00, 4.500e-01, 2.800e-01,\n",
       "       5.100e-01, 2.200e-01, 1.090e+00, 9.900e-01, 3.000e-01, 6.400e-01,\n",
       "       6.600e-01, 9.800e-01, 1.390e+00, 1.400e-01, 1.370e+00, 7.000e-02,\n",
       "       2.100e-01, 6.100e-01, 1.700e-01, 1.200e-01, 0.000e+00, 7.200e-01,\n",
       "       2.400e-01, 8.200e-01, 1.740e+00, 8.700e-01, 9.200e-01, 5.700e-01,\n",
       "       1.100e-01, 4.000e-02, 5.600e-01, 2.000e-01, 3.400e-01, 9.000e-02,\n",
       "       8.300e-01, 4.400e-01, 6.000e-02, 3.200e-01, 3.800e-01, 1.480e+00,\n",
       "       3.700e-01, 1.000e-01, 2.500e-01, 3.600e-01, 1.300e-01, 4.300e-01,\n",
       "       5.000e-02, 2.000e-02, 2.600e-01, 4.000e-01, 7.500e-01, 1.930e+00,\n",
       "       8.400e-01, 5.300e-01, 8.900e-01, 1.670e+00, 2.700e-01, 2.930e+00,\n",
       "       4.900e-01, 1.000e-02, 2.460e+00, 3.000e-02, 1.510e+00, 2.050e+00,\n",
       "       1.680e+00, 1.820e+00, 1.330e+00, 9.400e-01, 9.300e-01])"
      ]
     },
     "metadata": {},
     "output_type": "display_data"
    },
    {
     "name": "stdout",
     "output_type": "stream",
     "text": [
      "value_counts:\n"
     ]
    },
    {
     "data": {
      "text/plain": [
       "0.00    6473\n",
       "0.01    3398\n",
       "0.02    1596\n",
       "0.03     910\n",
       "0.04     641\n",
       "        ... \n",
       "0.72       1\n",
       "2.11       1\n",
       "0.96       1\n",
       "1.48       1\n",
       "3.96       1\n",
       "Name: other_sales, Length: 155, dtype: int64"
      ]
     },
     "metadata": {},
     "output_type": "display_data"
    },
    {
     "name": "stdout",
     "output_type": "stream",
     "text": [
      "Nan amount:\n"
     ]
    },
    {
     "data": {
      "text/plain": [
       "name            0\n",
       "platform        0\n",
       "year            0\n",
       "genre           0\n",
       "na_sales        0\n",
       "eu_sales        0\n",
       "jp_sales        0\n",
       "other_sales     0\n",
       "critic_score    0\n",
       "user_score      0\n",
       "rating          0\n",
       "dtype: int64"
      ]
     },
     "metadata": {},
     "output_type": "display_data"
    }
   ],
   "source": [
    "data_check('other_sales')"
   ]
  },
  {
   "cell_type": "markdown",
   "metadata": {},
   "source": [
    "#### critic_score"
   ]
  },
  {
   "cell_type": "code",
   "execution_count": 41,
   "metadata": {},
   "outputs": [
    {
     "name": "stdout",
     "output_type": "stream",
     "text": [
      "unique:\n"
     ]
    },
    {
     "data": {
      "text/plain": [
       "array([76., nan, 82., 80., 89., 58., 87., 91., 61., 97., 95., 77., 88.,\n",
       "       83., 94., 93., 85., 86., 98., 96., 90., 84., 73., 74., 78., 92.,\n",
       "       71., 72., 68., 62., 49., 67., 81., 66., 56., 79., 70., 59., 64.,\n",
       "       75., 60., 63., 69., 50., 25., 42., 44., 55., 48., 57., 29., 47.,\n",
       "       65., 54., 20., 53., 37., 38., 33., 52., 30., 32., 43., 45., 51.,\n",
       "       40., 46., 39., 34., 41., 36., 31., 27., 35., 26., 19., 28., 23.,\n",
       "       24., 21., 17., 13.])"
      ]
     },
     "metadata": {},
     "output_type": "display_data"
    },
    {
     "name": "stdout",
     "output_type": "stream",
     "text": [
      "value_counts:\n"
     ]
    },
    {
     "data": {
      "text/plain": [
       "70.0    252\n",
       "71.0    248\n",
       "75.0    240\n",
       "80.0    235\n",
       "73.0    234\n",
       "       ... \n",
       "29.0      3\n",
       "20.0      3\n",
       "13.0      1\n",
       "17.0      1\n",
       "21.0      1\n",
       "Name: critic_score, Length: 81, dtype: int64"
      ]
     },
     "metadata": {},
     "output_type": "display_data"
    },
    {
     "name": "stdout",
     "output_type": "stream",
     "text": [
      "Nan amount:\n"
     ]
    },
    {
     "data": {
      "text/plain": [
       "name            8442\n",
       "platform        8442\n",
       "year            8442\n",
       "genre           8442\n",
       "na_sales        8442\n",
       "eu_sales        8442\n",
       "jp_sales        8442\n",
       "other_sales     8442\n",
       "critic_score       0\n",
       "user_score       569\n",
       "rating          1866\n",
       "dtype: int64"
      ]
     },
     "metadata": {},
     "output_type": "display_data"
    }
   ],
   "source": [
    "data_check('critic_score')"
   ]
  },
  {
   "cell_type": "markdown",
   "metadata": {},
   "source": [
    "Пустые значения лучше оставить. В будущем будем их игнорировать при расчётах."
   ]
  },
  {
   "cell_type": "code",
   "execution_count": 42,
   "metadata": {},
   "outputs": [
    {
     "data": {
      "image/png": "[encoded data removed]",
      "text/plain": [
       "<Figure size 1440x360 with 1 Axes>"
      ]
     },
     "metadata": {
      "needs_background": "light"
     },
     "output_type": "display_data"
    }
   ],
   "source": [
    "plt.figure(figsize=(20, 5))\n",
    "data.critic_score.hist(bins=85)\n",
    "plt.title(f'Гистограмма распределения critic_score')\n",
    "plt.xlabel('')\n",
    "plt.show()"
   ]
  },
  {
   "cell_type": "markdown",
   "metadata": {},
   "source": [
    "выбросов нет, распределение нормальное."
   ]
  },
  {
   "cell_type": "markdown",
   "metadata": {},
   "source": [
    "#### user_score"
   ]
  },
  {
   "cell_type": "code",
   "execution_count": 43,
   "metadata": {},
   "outputs": [
    {
     "name": "stdout",
     "output_type": "stream",
     "text": [
      "unique:\n"
     ]
    },
    {
     "data": {
      "text/plain": [
       "array([8. , nan, 8.3, 8.5, 6.6, 8.4, 8.6, 7.7, 6.3, 7.4, 8.2, 9. , 7.9,\n",
       "       8.1, 8.7, 7.1, 3.4, 5.3, 4.8, 3.2, 8.9, 6.4, 7.8, 7.5, 2.6, 7.2,\n",
       "       9.2, 7. , 7.3, 4.3, 7.6, 5.7, 5. , 9.1, 6.5, 8.8, 6.9, 9.4, 6.8,\n",
       "       6.1, 6.7, 5.4, 4. , 4.9, 4.5, 9.3, 6.2, 4.2, 6. , 3.7, 4.1, 5.8,\n",
       "       5.6, 5.5, 4.4, 4.6, 5.9, 3.9, 3.1, 2.9, 5.2, 3.3, 4.7, 5.1, 3.5,\n",
       "       2.5, 1.9, 3. , 2.7, 2.2, 2. , 9.5, 2.1, 3.6, 2.8, 1.8, 3.8, 0. ,\n",
       "       1.6, 9.6, 2.4, 1.7, 1.1, 0.3, 1.5, 0.7, 1.2, 2.3, 0.5, 1.3, 0.2,\n",
       "       0.6, 1.4, 0.9, 1. , 9.7])"
      ]
     },
     "metadata": {},
     "output_type": "display_data"
    },
    {
     "name": "stdout",
     "output_type": "stream",
     "text": [
      "value_counts:\n"
     ]
    },
    {
     "data": {
      "text/plain": [
       "7.8    322\n",
       "8.0    285\n",
       "8.2    276\n",
       "8.3    252\n",
       "7.5    249\n",
       "      ... \n",
       "2.3      2\n",
       "0.7      2\n",
       "1.1      2\n",
       "9.7      1\n",
       "0.0      1\n",
       "Name: user_score, Length: 95, dtype: int64"
      ]
     },
     "metadata": {},
     "output_type": "display_data"
    },
    {
     "name": "stdout",
     "output_type": "stream",
     "text": [
      "Nan amount:\n"
     ]
    },
    {
     "data": {
      "text/plain": [
       "name            8962\n",
       "platform        8962\n",
       "year            8962\n",
       "genre           8962\n",
       "na_sales        8962\n",
       "eu_sales        8962\n",
       "jp_sales        8962\n",
       "other_sales     8962\n",
       "critic_score    1089\n",
       "user_score         0\n",
       "rating          2388\n",
       "dtype: int64"
      ]
     },
     "metadata": {},
     "output_type": "display_data"
    }
   ],
   "source": [
    "data_check('user_score')"
   ]
  },
  {
   "cell_type": "code",
   "execution_count": 44,
   "metadata": {},
   "outputs": [],
   "source": [
    "#data.loc[data['user_score'] == 'tbd', 'user_score'] = None"
   ]
  },
  {
   "cell_type": "markdown",
   "metadata": {},
   "source": [
    "<div class=\"alert alert-block alert-danger\">\n",
    "<b>❌Комментарий ревьюера:</b> \n",
    "    \n",
    "Что мы здесь делаем? Разве у нас остались значения 'tbd'?  В качестве пропуска можно взять `numpy.nan` из библиотеки `numpy`\n",
    "\n",
    "\n",
    "</div>"
   ]
  },
  {
   "cell_type": "markdown",
   "metadata": {},
   "source": [
    "<div class=\"alert alert-block alert-info\">\n",
    "<b>🔄Комментарий студента:</b> \n",
    "Действительно, это действие лишнее.\n",
    "</div>"
   ]
  },
  {
   "cell_type": "markdown",
   "metadata": {},
   "source": [
    "<div class=\"alert alert-block alert-success\">\n",
    "<b>✅Комментарий ревьюера 2:</b> Отлично, исправлено!👍  </div>"
   ]
  },
  {
   "cell_type": "markdown",
   "metadata": {},
   "source": [
    "Тут с пустыми значениями аналогичные действия."
   ]
  },
  {
   "cell_type": "code",
   "execution_count": 45,
   "metadata": {},
   "outputs": [
    {
     "data": {
      "image/png": "[encoded data removed]",
      "text/plain": [
       "<Figure size 1440x360 with 1 Axes>"
      ]
     },
     "metadata": {
      "needs_background": "light"
     },
     "output_type": "display_data"
    }
   ],
   "source": [
    "plt.figure(figsize=(20, 5))\n",
    "data.user_score.hist(bins=95)\n",
    "plt.title(f'Гистограмма распределения user_score')\n",
    "plt.xlabel('')\n",
    "plt.show()"
   ]
  },
  {
   "cell_type": "markdown",
   "metadata": {},
   "source": [
    "выбросов нет, распределение нормальное."
   ]
  },
  {
   "cell_type": "markdown",
   "metadata": {},
   "source": [
    "#### rating"
   ]
  },
  {
   "cell_type": "code",
   "execution_count": 46,
   "metadata": {},
   "outputs": [
    {
     "name": "stdout",
     "output_type": "stream",
     "text": [
      "unique:\n"
     ]
    },
    {
     "data": {
      "text/plain": [
       "array(['E', nan, 'M', 'T', 'E10+', 'K-A', 'AO', 'EC', 'RP'], dtype=object)"
      ]
     },
     "metadata": {},
     "output_type": "display_data"
    },
    {
     "name": "stdout",
     "output_type": "stream",
     "text": [
      "value_counts:\n"
     ]
    },
    {
     "data": {
      "text/plain": [
       "E       3920\n",
       "T       2905\n",
       "M       1536\n",
       "E10+    1393\n",
       "EC         8\n",
       "K-A        3\n",
       "RP         1\n",
       "AO         1\n",
       "Name: rating, dtype: int64"
      ]
     },
     "metadata": {},
     "output_type": "display_data"
    },
    {
     "name": "stdout",
     "output_type": "stream",
     "text": [
      "Nan amount:\n"
     ]
    },
    {
     "data": {
      "text/plain": [
       "name            6657\n",
       "platform        6657\n",
       "year            6657\n",
       "genre           6657\n",
       "na_sales        6657\n",
       "eu_sales        6657\n",
       "jp_sales        6657\n",
       "other_sales     6657\n",
       "critic_score      81\n",
       "user_score        83\n",
       "rating             0\n",
       "dtype: int64"
      ]
     },
     "metadata": {},
     "output_type": "display_data"
    }
   ],
   "source": [
    "data_check('rating')"
   ]
  },
  {
   "cell_type": "markdown",
   "metadata": {},
   "source": [
    "Тут с пустыми значениями аналогичные действия."
   ]
  },
  {
   "cell_type": "code",
   "execution_count": 47,
   "metadata": {},
   "outputs": [
    {
     "data": {
      "text/plain": [
       "Text(0.5, 1.0, 'Рейтинг\\n')"
      ]
     },
     "execution_count": 47,
     "metadata": {},
     "output_type": "execute_result"
    },
    {
     "data": {
      "image/png": "[encoded data removed]",
      "text/plain": [
       "<Figure size 720x720 with 1 Axes>"
      ]
     },
     "metadata": {
      "needs_background": "light"
     },
     "output_type": "display_data"
    }
   ],
   "source": [
    "data.rating\\\n",
    ".value_counts()\\\n",
    ".to_frame()\\\n",
    ".plot(kind = 'bar', figsize = (10,10),  legend = False, fontsize = 16, grid = True)\\\n",
    ".set_title('Рейтинг' + \"\\n\", fontsize = 22) "
   ]
  },
  {
   "cell_type": "markdown",
   "metadata": {},
   "source": [
    "выбросов нет."
   ]
  },
  {
   "cell_type": "markdown",
   "metadata": {},
   "source": [
    "<div class=\"alert alert-block alert-warning\">\n",
    "<b>🔁Комментарий ревьюера:</b> \n",
    "\n",
    "- Будь внимательнее к подписям заголовков визуализаций\n",
    "- Не смутило ли тебя малое количество некоторых рейтингов?</div>"
   ]
  },
  {
   "cell_type": "markdown",
   "metadata": {},
   "source": [
    "<div class=\"alert alert-block alert-info\">\n",
    "<b>🔄Комментарий студента:</b> \n",
    "Тут следует добавить краткое пояснение:\n",
    "</div>"
   ]
  },
  {
   "cell_type": "markdown",
   "metadata": {},
   "source": [
    "<div class=\"alert alert-block alert-success\">\n",
    "<b>✅Комментарий ревьюера 2:</b> Отлично, исправлено!👍  </div>"
   ]
  },
  {
   "cell_type": "markdown",
   "metadata": {},
   "source": [
    "Рейтинги"
   ]
  },
  {
   "cell_type": "markdown",
   "metadata": {},
   "source": [
    "EC: Early Childhood "
   ]
  },
  {
   "cell_type": "markdown",
   "metadata": {},
   "source": [
    "K-A: Kids To Adults"
   ]
  },
  {
   "cell_type": "markdown",
   "metadata": {},
   "source": [
    "RP: Rating Pending "
   ]
  },
  {
   "cell_type": "markdown",
   "metadata": {},
   "source": [
    "AO: Adults Only 18+"
   ]
  },
  {
   "cell_type": "markdown",
   "metadata": {},
   "source": [
    "почти не представлены в нашем массиве данных, т.к. это очень редкие и не популярные рейтинги игр. Рейтинги  AO и EC - это игры для слишком узкой аудитории, поэтому не выпускаются в большом количестве. Рейтинги RP и K-A - это рабочие названия для неопределенных рейтингов, что тоже большая редкость."
   ]
  },
  {
   "cell_type": "markdown",
   "metadata": {},
   "source": [
    "### Посчитайте суммарные продажи во всех регионах"
   ]
  },
  {
   "cell_type": "code",
   "execution_count": 48,
   "metadata": {},
   "outputs": [],
   "source": [
    "data['total_sales'] = data['na_sales'] + data['eu_sales'] + data['jp_sales'] + data['other_sales']"
   ]
  },
  {
   "cell_type": "markdown",
   "metadata": {},
   "source": [
    "<div class=\"alert alert-block alert-success\">\n",
    "<b>✅Комментарий ревьюера:</b> \n",
    "    \n",
    "Еще тут можно использовать метод `DataFrame.sum` с аргументом `axis=1`</div>\n",
    "\n",
    "```python\n",
    "\n",
    "        df['total_sum'] = df[['value_1', 'value_2', 'value_3', 'value_4']].sum(axis=1)\n",
    "    \n",
    "```"
   ]
  },
  {
   "cell_type": "code",
   "execution_count": 49,
   "metadata": {},
   "outputs": [
    {
     "name": "stdout",
     "output_type": "stream",
     "text": [
      "<class 'pandas.core.frame.DataFrame'>\n",
      "RangeIndex: 16424 entries, 0 to 16423\n",
      "Data columns (total 12 columns):\n",
      " #   Column        Non-Null Count  Dtype  \n",
      "---  ------        --------------  -----  \n",
      " 0   name          16424 non-null  object \n",
      " 1   platform      16424 non-null  object \n",
      " 2   year          16424 non-null  int64  \n",
      " 3   genre         16424 non-null  object \n",
      " 4   na_sales      16424 non-null  float64\n",
      " 5   eu_sales      16424 non-null  float64\n",
      " 6   jp_sales      16424 non-null  float64\n",
      " 7   other_sales   16424 non-null  float64\n",
      " 8   critic_score  7982 non-null   float64\n",
      " 9   user_score    7462 non-null   float64\n",
      " 10  rating        9767 non-null   object \n",
      " 11  total_sales   16424 non-null  float64\n",
      "dtypes: float64(7), int64(1), object(4)\n",
      "memory usage: 1.5+ MB\n"
     ]
    }
   ],
   "source": [
    "data.info()"
   ]
  },
  {
   "cell_type": "code",
   "execution_count": 50,
   "metadata": {},
   "outputs": [
    {
     "data": {
      "text/html": [
       "<div>\n",
       "<style scoped>\n",
       "    .dataframe tbody tr th:only-of-type {\n",
       "        vertical-align: middle;\n",
       "    }\n",
       "\n",
       "    .dataframe tbody tr th {\n",
       "        vertical-align: top;\n",
       "    }\n",
       "\n",
       "    .dataframe thead th {\n",
       "        text-align: right;\n",
       "    }\n",
       "</style>\n",
       "<table border=\"1\" class=\"dataframe\">\n",
       "  <thead>\n",
       "    <tr style=\"text-align: right;\">\n",
       "      <th></th>\n",
       "      <th>name</th>\n",
       "      <th>platform</th>\n",
       "      <th>year</th>\n",
       "      <th>genre</th>\n",
       "      <th>na_sales</th>\n",
       "      <th>eu_sales</th>\n",
       "      <th>jp_sales</th>\n",
       "      <th>other_sales</th>\n",
       "      <th>critic_score</th>\n",
       "      <th>user_score</th>\n",
       "      <th>rating</th>\n",
       "      <th>total_sales</th>\n",
       "    </tr>\n",
       "  </thead>\n",
       "  <tbody>\n",
       "    <tr>\n",
       "      <th>0</th>\n",
       "      <td>Wii Sports</td>\n",
       "      <td>Wii</td>\n",
       "      <td>2006</td>\n",
       "      <td>Sports</td>\n",
       "      <td>41.36</td>\n",
       "      <td>28.96</td>\n",
       "      <td>3.77</td>\n",
       "      <td>8.45</td>\n",
       "      <td>76.0</td>\n",
       "      <td>8.0</td>\n",
       "      <td>E</td>\n",
       "      <td>82.54</td>\n",
       "    </tr>\n",
       "    <tr>\n",
       "      <th>1</th>\n",
       "      <td>Super Mario Bros.</td>\n",
       "      <td>NES</td>\n",
       "      <td>1985</td>\n",
       "      <td>Platform</td>\n",
       "      <td>29.08</td>\n",
       "      <td>3.58</td>\n",
       "      <td>6.81</td>\n",
       "      <td>0.77</td>\n",
       "      <td>NaN</td>\n",
       "      <td>NaN</td>\n",
       "      <td>NaN</td>\n",
       "      <td>40.24</td>\n",
       "    </tr>\n",
       "    <tr>\n",
       "      <th>2</th>\n",
       "      <td>Mario Kart Wii</td>\n",
       "      <td>Wii</td>\n",
       "      <td>2008</td>\n",
       "      <td>Racing</td>\n",
       "      <td>15.68</td>\n",
       "      <td>12.76</td>\n",
       "      <td>3.79</td>\n",
       "      <td>3.29</td>\n",
       "      <td>82.0</td>\n",
       "      <td>8.3</td>\n",
       "      <td>E</td>\n",
       "      <td>35.52</td>\n",
       "    </tr>\n",
       "    <tr>\n",
       "      <th>3</th>\n",
       "      <td>Wii Sports Resort</td>\n",
       "      <td>Wii</td>\n",
       "      <td>2009</td>\n",
       "      <td>Sports</td>\n",
       "      <td>15.61</td>\n",
       "      <td>10.93</td>\n",
       "      <td>3.28</td>\n",
       "      <td>2.95</td>\n",
       "      <td>80.0</td>\n",
       "      <td>8.0</td>\n",
       "      <td>E</td>\n",
       "      <td>32.77</td>\n",
       "    </tr>\n",
       "    <tr>\n",
       "      <th>4</th>\n",
       "      <td>Pokemon Red/Pokemon Blue</td>\n",
       "      <td>GB</td>\n",
       "      <td>1996</td>\n",
       "      <td>Role-Playing</td>\n",
       "      <td>11.27</td>\n",
       "      <td>8.89</td>\n",
       "      <td>10.22</td>\n",
       "      <td>1.00</td>\n",
       "      <td>NaN</td>\n",
       "      <td>NaN</td>\n",
       "      <td>NaN</td>\n",
       "      <td>31.38</td>\n",
       "    </tr>\n",
       "  </tbody>\n",
       "</table>\n",
       "</div>"
      ],
      "text/plain": [
       "                       name platform  year         genre  na_sales  eu_sales  \\\n",
       "0                Wii Sports      Wii  2006        Sports     41.36     28.96   \n",
       "1         Super Mario Bros.      NES  1985      Platform     29.08      3.58   \n",
       "2            Mario Kart Wii      Wii  2008        Racing     15.68     12.76   \n",
       "3         Wii Sports Resort      Wii  2009        Sports     15.61     10.93   \n",
       "4  Pokemon Red/Pokemon Blue       GB  1996  Role-Playing     11.27      8.89   \n",
       "\n",
       "   jp_sales  other_sales  critic_score  user_score rating  total_sales  \n",
       "0      3.77         8.45          76.0         8.0      E        82.54  \n",
       "1      6.81         0.77           NaN         NaN    NaN        40.24  \n",
       "2      3.79         3.29          82.0         8.3      E        35.52  \n",
       "3      3.28         2.95          80.0         8.0      E        32.77  \n",
       "4     10.22         1.00           NaN         NaN    NaN        31.38  "
      ]
     },
     "execution_count": 50,
     "metadata": {},
     "output_type": "execute_result"
    }
   ],
   "source": [
    "data.head()"
   ]
  },
  {
   "cell_type": "markdown",
   "metadata": {
    "id": "5766e785"
   },
   "source": [
    "<div class=\"alert alert-block alert-danger\">\n",
    "<b>❌Комментарий ревьюера:</b> \n",
    "    \n",
    "После этапа предобработки также нужно сделать краткий резюмирующий вывод о проделанной работе.</div>"
   ]
  },
  {
   "cell_type": "markdown",
   "metadata": {},
   "source": [
    "<div class=\"alert alert-block alert-info\">\n",
    "<b>🔄Комментарий студента:</b> \n",
    "Добавил вывод ниже:\n",
    "</div>"
   ]
  },
  {
   "cell_type": "markdown",
   "metadata": {},
   "source": [
    "<div class=\"alert alert-block alert-success\">\n",
    "<b>✅Комментарий ревьюера 2:</b> Отлично, исправлено!👍  </div>"
   ]
  },
  {
   "cell_type": "markdown",
   "metadata": {},
   "source": [
    "**Вывод:** В таблице были найдены пара строк дубликатов. В столбце name всё было в порядке. В столбце platform аномалий не обнаружено. В столбце year были обнаружены пропуски, из-за чего пришлось удалить жти строки, т.к. год для нас - наиболее важный показатель в исследовании. В столбце genre всё в порядке. В столбцах na_sales, eu_sales, jp_sales и other_sales Данные были записаны в научном формате что я и исправил. В столбцах critic_score, user_score и rating аномалий не было."
   ]
  },
  {
   "cell_type": "markdown",
   "metadata": {},
   "source": [
    "## Проведите исследовательский анализ данных"
   ]
  },
  {
   "cell_type": "markdown",
   "metadata": {},
   "source": [
    "### Сколько игр выпускалось в разные годы. Важны ли данные за все периоды?"
   ]
  },
  {
   "cell_type": "code",
   "execution_count": 51,
   "metadata": {},
   "outputs": [
    {
     "data": {
      "image/png": "[encoded data removed]",
      "text/plain": [
       "<Figure size 720x432 with 1 Axes>"
      ]
     },
     "metadata": {
      "needs_background": "light"
     },
     "output_type": "display_data"
    }
   ],
   "source": [
    "games_per_year = data.groupby('year')['name'].count()\n",
    "games_per_year.plot(kind='bar', figsize=(10, 6), color='skyblue')\n",
    "plt.title('Кол-во игр в каждый год')\n",
    "plt.xlabel('Год релиза')\n",
    "plt.ylabel('Кол-во игр')\n",
    "plt.show()"
   ]
  },
  {
   "cell_type": "markdown",
   "metadata": {},
   "source": [
    "Считаю что данные до 1995ого года можно отбросить."
   ]
  },
  {
   "cell_type": "code",
   "execution_count": 52,
   "metadata": {},
   "outputs": [],
   "source": [
    "data = data.drop(data[data['year'] < 1996].index).reset_index(drop=True)"
   ]
  },
  {
   "cell_type": "code",
   "execution_count": 53,
   "metadata": {},
   "outputs": [
    {
     "data": {
      "image/png": "[encoded data removed]",
      "text/plain": [
       "<Figure size 720x432 with 1 Axes>"
      ]
     },
     "metadata": {
      "needs_background": "light"
     },
     "output_type": "display_data"
    }
   ],
   "source": [
    "games_per_year = data.groupby('year')['name'].count()\n",
    "games_per_year.plot(kind='bar', figsize=(10, 6), color='skyblue')\n",
    "plt.title('Кол-во игр в каждый год')\n",
    "plt.xlabel('Год релиза')\n",
    "plt.ylabel('Кол-во игр')\n",
    "plt.show()"
   ]
  },
  {
   "cell_type": "markdown",
   "metadata": {},
   "source": [
    "### Как менялись продажи по платформам."
   ]
  },
  {
   "cell_type": "code",
   "execution_count": 54,
   "metadata": {},
   "outputs": [
    {
     "data": {
      "image/png": "[encoded data removed]",
      "text/plain": [
       "<Figure size 720x432 with 1 Axes>"
      ]
     },
     "metadata": {
      "needs_background": "light"
     },
     "output_type": "display_data"
    }
   ],
   "source": [
    "platform_sales = data.groupby('platform')['total_sales'].sum().sort_values(ascending=False)\n",
    "platform_sales.plot(kind='bar', figsize=(10, 6), color='lightcoral')\n",
    "plt.title('Топ платформ по продажам')\n",
    "plt.xlabel('Платформы')\n",
    "plt.ylabel('Общие продажи')\n",
    "plt.show()"
   ]
  },
  {
   "cell_type": "markdown",
   "metadata": {},
   "source": [
    "Составляем список с топ 10 платформ."
   ]
  },
  {
   "cell_type": "code",
   "execution_count": 55,
   "metadata": {},
   "outputs": [],
   "source": [
    "top10platforms = ['PS2', 'X360', 'PS3', 'Wii', 'DS', 'PS', 'PS4', 'GBA', 'PSP', '3DS']"
   ]
  },
  {
   "cell_type": "markdown",
   "metadata": {},
   "source": [
    "<div class=\"alert alert-block alert-warning\">\n",
    "<b>🔁Комментарий ревьюера:</b>\n",
    "\n",
    "Нужно всегда стараться писать более универсальный код, без ручного внесения данных. Если данные дополнятся или изменятся, то список платформ нам придется переписывать, при этом можно допустить ошибки. Лучше сразу формировать список платформ из полученной группировки по продажам и его потом использовать при фильтрации. Ниже написал пример. </div>"
   ]
  },
  {
   "cell_type": "code",
   "execution_count": 56,
   "metadata": {},
   "outputs": [
    {
     "data": {
      "text/plain": [
       "['PS2', 'X360', 'PS3', 'Wii', 'DS', 'PS', 'PS4', 'GBA', 'PSP', '3DS']"
      ]
     },
     "execution_count": 56,
     "metadata": {},
     "output_type": "execute_result"
    }
   ],
   "source": [
    "# код ревьюера\n",
    "data.groupby('platform').agg({'total_sales': 'sum'}).sort_values(by='total_sales', ascending=False).head(10).index.to_list()"
   ]
  },
  {
   "cell_type": "markdown",
   "metadata": {},
   "source": [
    "Рассчитаем долю продаж по годам среди топовых платформ."
   ]
  },
  {
   "cell_type": "code",
   "execution_count": 57,
   "metadata": {},
   "outputs": [
    {
     "data": {
      "text/plain": [
       "Text(0, 0.5, 'Общие продажи')"
      ]
     },
     "execution_count": 57,
     "metadata": {},
     "output_type": "execute_result"
    },
    {
     "data": {
      "image/png": "[encoded data removed]",
      "text/plain": [
       "<Figure size 720x432 with 1 Axes>"
      ]
     },
     "metadata": {
      "needs_background": "light"
     },
     "output_type": "display_data"
    }
   ],
   "source": [
    "pd.pivot_table(data\\\n",
    ".query('platform in @top10platforms')\\\n",
    ".groupby(['year', 'platform'])['total_sales'].sum()\\\n",
    ".reset_index(), values='total_sales', index='year', columns='platform', fill_value=0)\\\n",
    ".plot(kind='bar', title='Доли продаж топовых платформ по годам', stacked=True, figsize=(10, 6))\\\n",
    ".legend(bbox_to_anchor=(1, 1))\n",
    "plt.xlabel('Год')\n",
    "plt.ylabel('Общие продажи')"
   ]
  },
  {
   "cell_type": "markdown",
   "metadata": {},
   "source": [
    "<div class=\"alert alert-block alert-danger\">\n",
    "<b>✔❌Комментарий ревьюера:</b>\n",
    "    \n",
    "У каждой визуализации необходимо подписывать не только заголовки, но и оси.</div>"
   ]
  },
  {
   "cell_type": "markdown",
   "metadata": {},
   "source": [
    "<div class=\"alert alert-block alert-success\">\n",
    "<b>✅Комментарий ревьюера 2:</b> Отлично, исправлено!👍  </div>"
   ]
  },
  {
   "cell_type": "markdown",
   "metadata": {},
   "source": [
    "Видно, что в среднем проходит 8-10 лет с момента, когда игры на платформу только появляются до момента, когда на неё перестают выходить игры."
   ]
  },
  {
   "cell_type": "markdown",
   "metadata": {},
   "source": [
    "<div class=\"alert alert-block alert-warning\">\n",
    "<b>🔁Комментарий ревьюера:</b> \n",
    "    \n",
    "Еще можно попробовать получить примерный срок жизни платформ с помощью расчетов.</div>"
   ]
  },
  {
   "cell_type": "markdown",
   "metadata": {},
   "source": [
    "### Возьмите данные за соответствующий актуальный период."
   ]
  },
  {
   "cell_type": "markdown",
   "metadata": {},
   "source": [
    "Актуальный период, по моему мнению, с 2012 по 2016, т.к. этот перод начинается за 5 лет до искомого года, соответственно 2017й год окажется серединой стандартного промежутка в 8-10 лет, где новые платформы будут на пике, а старые ещё не исчезнут с рынка."
   ]
  },
  {
   "cell_type": "markdown",
   "metadata": {},
   "source": [
    "<div class=\"alert alert-block alert-success\">\n",
    "<b>✅Комментарий ревьюера:</b> Согласен с выбранным актуальным периодом! </div>"
   ]
  },
  {
   "cell_type": "code",
   "execution_count": 58,
   "metadata": {},
   "outputs": [
    {
     "data": {
      "image/png": "[encoded data removed]",
      "text/plain": [
       "<Figure size 720x432 with 1 Axes>"
      ]
     },
     "metadata": {
      "needs_background": "light"
     },
     "output_type": "display_data"
    }
   ],
   "source": [
    "data.query('year >= 2012').groupby('platform')['total_sales'].sum().sort_values(ascending=False)\\\n",
    ".plot(kind='bar', figsize=(10, 6), color='lightcoral')\n",
    "plt.title('Топ платформ по продажам за 2012й-2016й год')\n",
    "plt.xlabel('Платформы')\n",
    "plt.ylabel('Общие продажи')\n",
    "plt.show()"
   ]
  },
  {
   "cell_type": "code",
   "execution_count": 59,
   "metadata": {},
   "outputs": [
    {
     "data": {
      "text/plain": [
       "Text(0, 0.5, 'Общие продажи')"
      ]
     },
     "execution_count": 59,
     "metadata": {},
     "output_type": "execute_result"
    },
    {
     "data": {
      "image/png": "[encoded data removed]",
      "text/plain": [
       "<Figure size 720x432 with 1 Axes>"
      ]
     },
     "metadata": {
      "needs_background": "light"
     },
     "output_type": "display_data"
    }
   ],
   "source": [
    "pd.pivot_table(data\\\n",
    ".query('platform in @top10platforms & year >= 2012')\\\n",
    ".groupby(['year', 'platform'])['total_sales'].sum()\\\n",
    ".reset_index(), values='total_sales', index='year', columns='platform', fill_value=0)\\\n",
    ".plot(kind='bar', title='Доли продаж топовых платформ по годам c 2012ого по 2016й', stacked=True, figsize=(10, 6))\\\n",
    ".legend(bbox_to_anchor=(1, 1))\n",
    "plt.xlabel('Год')\n",
    "plt.ylabel('Общие продажи')"
   ]
  },
  {
   "cell_type": "markdown",
   "metadata": {},
   "source": [
    "Учитывая что данные за 2016й год неполные, можно смело проедположить что в 2016ом и 2017ом году больше всего будут продаваться игры для PS4, так же, возможно, 2017й год может стать последним для платформы 3DS, но какие то продажи для неё всё равно будут. Продажи для платформ PS3, X360, Wii и DS будут падать сильно в 2017ом, если вообще будут."
   ]
  },
  {
   "cell_type": "markdown",
   "metadata": {},
   "source": [
    "### График «ящик с усами» по глобальным продажам игр в разбивке по платформам."
   ]
  },
  {
   "cell_type": "markdown",
   "metadata": {},
   "source": [
    "<div class=\"alert alert-block alert-warning\">\n",
    "<b>🔁Комментарий ревьюера:</b>\n",
    "\n",
    "Следует выделить актуальный период в отдельный датафрейм и далее работать только с ним, чтобы не делать постоянных фильтраций по году.</div>"
   ]
  },
  {
   "cell_type": "markdown",
   "metadata": {},
   "source": [
    "<div class=\"alert alert-block alert-info\">\n",
    "<b>🔄Комментарий студента:</b> \n",
    "Добавил переменную data_actual:\n",
    "</div>"
   ]
  },
  {
   "cell_type": "markdown",
   "metadata": {},
   "source": [
    "<div class=\"alert alert-block alert-success\">\n",
    "<b>✅Комментарий ревьюера 2:</b> Отлично, исправлено!👍  </div>"
   ]
  },
  {
   "cell_type": "code",
   "execution_count": 60,
   "metadata": {},
   "outputs": [],
   "source": [
    "data_actual = data.query('year >= 2012')"
   ]
  },
  {
   "cell_type": "markdown",
   "metadata": {
    "id": "5766e785"
   },
   "source": [
    "<div class=\"alert alert-block alert-danger\">\n",
    "<b>❌Комментарий ревьюера 2:</b> \n",
    "    \n",
    "Далее нам нужно анализировать все данные из актуального периода, без дополнительных фильтраций по платформам. Это позволит нам убедиться в правильности выбора перспективных платформ и не допустить ошибок. Иначе мы получаем некорректные результаты исследования, особенно при построении портретов пользователей.\n",
    "    \n",
    "P.S. Топ-10 платформ ведь был выбран по всем данным, являются ли они актуальными?</div>"
   ]
  },
  {
   "cell_type": "markdown",
   "metadata": {},
   "source": [
    "<div class=\"alert alert-block alert-info\">\n",
    "<b>🔄Комментарий студента:</b> \n",
    "Изменил переменную data_actual, теперь она фильтрует только по актуальному периоду.\n",
    "</div>"
   ]
  },
  {
   "cell_type": "markdown",
   "metadata": {},
   "source": [
    "<div class=\"alert alert-block alert-success\">\n",
    "<b>✅Комментарий ревьюера 3:</b> Отлично, исправлено!👍  </div>"
   ]
  },
  {
   "cell_type": "code",
   "execution_count": 61,
   "metadata": {},
   "outputs": [
    {
     "data": {
      "image/png": "[encoded data removed]",
      "text/plain": [
       "<Figure size 720x432 with 1 Axes>"
      ]
     },
     "metadata": {
      "needs_background": "light"
     },
     "output_type": "display_data"
    }
   ],
   "source": [
    "plt.figure(figsize=(10, 6))\n",
    "sns.boxplot(x='platform', y='total_sales', data=data_actual)\n",
    "\n",
    "plt.xlabel('Платформа')\n",
    "plt.ylabel('Глобальные продажи (млн)')\n",
    "plt.title('Глобальные продажи игр по платформам')\n",
    "\n",
    "plt.show()"
   ]
  },
  {
   "cell_type": "markdown",
   "metadata": {},
   "source": [
    "Построю ещё один боксплот с меньшим кол-вом выбросов для большей наглядности."
   ]
  },
  {
   "cell_type": "code",
   "execution_count": 62,
   "metadata": {},
   "outputs": [
    {
     "data": {
      "image/png": "[encoded data removed]",
      "text/plain": [
       "<Figure size 720x432 with 1 Axes>"
      ]
     },
     "metadata": {
      "needs_background": "light"
     },
     "output_type": "display_data"
    }
   ],
   "source": [
    "plt.figure(figsize=(10, 6))\n",
    "sns.boxplot(x='platform', y='total_sales', data=data.query('year >= 2012 & total_sales < 2'))\n",
    "\n",
    "plt.xlabel('Платформа')\n",
    "plt.ylabel('Глобальные продажи (млн)')\n",
    "plt.title('Глобальные продажи игр по платформам')\n",
    "\n",
    "plt.show()"
   ]
  },
  {
   "cell_type": "markdown",
   "metadata": {},
   "source": [
    "Видно, что на каждой платформе есть сильно выдающиеся игры, при этом общая масса продаж редко выходит за 250-500 тыс. копий в мировых продажах. Так же видно, что 3DS, PS3, PS4 и X360 - являются лидерами по кол-ву бестселлеров."
   ]
  },
  {
   "cell_type": "markdown",
   "metadata": {},
   "source": [
    "### Как влияют на продажи внутри одной популярной платформы отзывы пользователей и критиков."
   ]
  },
  {
   "cell_type": "markdown",
   "metadata": {
    "id": "5766e785"
   },
   "source": [
    "<div class=\"alert alert-block alert-danger\">\n",
    "<b>❌Комментарий ревьюера:</b> \n",
    "    \n",
    "Анализ зависимости продаж от оценок пользователей и критиков также нужно проводить по актуальному периоду.\n",
    "</div>"
   ]
  },
  {
   "cell_type": "markdown",
   "metadata": {},
   "source": [
    "<div class=\"alert alert-block alert-info\">\n",
    "<b>🔄Комментарий студента:</b> \n",
    "Теперь использую созданную ранее переменную data_actual:\n",
    "</div>"
   ]
  },
  {
   "cell_type": "markdown",
   "metadata": {},
   "source": [
    "<div class=\"alert alert-block alert-success\">\n",
    "<b>✅Комментарий ревьюера 2:</b> Отлично, исправлено!👍  </div>"
   ]
  },
  {
   "cell_type": "code",
   "execution_count": 63,
   "metadata": {},
   "outputs": [
    {
     "data": {
      "image/png": "[encoded data removed]",
      "text/plain": [
       "<Figure size 720x432 with 1 Axes>"
      ]
     },
     "metadata": {
      "needs_background": "light"
     },
     "output_type": "display_data"
    },
    {
     "name": "stdout",
     "output_type": "stream",
     "text": [
      "Корреляция между отзывами пользователей и продажами: 0.0041944811069172284\n",
      "Корреляция между отзывами критиков и продажами: 0.30863336128976016\n"
     ]
    }
   ],
   "source": [
    "# Построение диаграммы рассеяния\n",
    "plt.figure(figsize=(10, 6))\n",
    "plt.scatter(data_actual['user_score'], data_actual['total_sales'], label='Отзывы пользователей', color='blue')\n",
    "plt.scatter(data_actual['critic_score'], data_actual['total_sales'], label='Отзывы критиков', color='red')\n",
    "plt.xlabel('Отзывы')\n",
    "plt.ylabel('Глобальные продажи (млн)')\n",
    "plt.title('Диаграмма рассеяния между отзывами и продажами')\n",
    "plt.legend(bbox_to_anchor=(1, 1))\n",
    "plt.show()\n",
    "\n",
    "# Вычисление корреляции\n",
    "correlation_user = data_actual['user_score'].corr(data_actual['total_sales'])\n",
    "correlation_critic = data_actual['critic_score'].corr(data_actual['total_sales'])\n",
    "\n",
    "print(f\"Корреляция между отзывами пользователей и продажами: {correlation_user}\")\n",
    "print(f\"Корреляция между отзывами критиков и продажами: {correlation_critic}\")"
   ]
  },
  {
   "cell_type": "markdown",
   "metadata": {},
   "source": [
    "Видно, что отзывы пользователей гораздо чаще совпадают с реальным числом продаж, чем отзывы критиков."
   ]
  },
  {
   "cell_type": "markdown",
   "metadata": {
    "id": "5766e785"
   },
   "source": [
    "<div class=\"alert alert-block alert-danger\">\n",
    "<b>❌Комментарий ревьюера:</b> \n",
    "    \n",
    " - При анализе зависимости продаж от оценок нам необходимо  сначала сделать это внутри одной популярной платформы, а потом соотнести выводы с другими платформами, рассмотрев еще как минимум 3 платформы подобным образом. Так как код будет повторяться, его можно выполнять в цикле или написать небольшую функцию.\n",
    "    \n",
    " - Визуализации следует делать отдельные для оценок критиков и оценок пользователей, так как у них разные значения и распределение для оценок пользователей получается не очень информативным.\n",
    "</div>"
   ]
  },
  {
   "cell_type": "markdown",
   "metadata": {},
   "source": [
    "<div class=\"alert alert-block alert-info\">\n",
    "<b>🔄Комментарий студента:</b> \n",
    "Исправляю ниже:\n",
    "</div>"
   ]
  },
  {
   "cell_type": "markdown",
   "metadata": {},
   "source": [
    "<div class=\"alert alert-block alert-success\">\n",
    "<b>✅Комментарий ревьюера 2:</b> Отлично, исправлено!👍  </div>"
   ]
  },
  {
   "cell_type": "markdown",
   "metadata": {},
   "source": [
    "Напишу функцию для отдельного вывода графиков для корреляции отзывов пользователей и критиков."
   ]
  },
  {
   "cell_type": "code",
   "execution_count": 64,
   "metadata": {},
   "outputs": [],
   "source": [
    "def scatter_score(platform):\n",
    "    \n",
    "    #data_actual2 = data_actual.query('platform == @platform')\n",
    "    data_actual2 = data_actual[data_actual['platform'] == platform]\n",
    "    \n",
    "    # Построение диаграммы рассеяния\n",
    "    plt.figure(figsize=(10, 6))\n",
    "    plt.scatter(data_actual2['user_score'], data_actual2['total_sales'], label='Отзывы пользователей', color='blue')\n",
    "    plt.xlabel('Отзывы')\n",
    "    plt.ylabel('Глобальные продажи (млн)')\n",
    "    plt.title('Диаграмма рассеяния между отзывами и продажами')\n",
    "    plt.legend(bbox_to_anchor=(1, 1))\n",
    "    plt.show()\n",
    "\n",
    "    # Вычисление корреляции\n",
    "    correlation_user = data_actual2['user_score'].corr(data_actual2['total_sales'])\n",
    "\n",
    "    print(f\"Корреляция между отзывами пользователей и продажами: {correlation_user}\")\n",
    "\n",
    "    # Построение диаграммы рассеяния\n",
    "    plt.figure(figsize=(10, 6))\n",
    "    plt.scatter(data_actual2['critic_score'], data_actual2['total_sales'], label='Отзывы критиков', color='red')\n",
    "    plt.xlabel('Отзывы')\n",
    "    plt.ylabel('Глобальные продажи (млн)')\n",
    "    plt.title('Диаграмма рассеяния между отзывами и продажами')\n",
    "    plt.legend(bbox_to_anchor=(1, 1))\n",
    "    plt.show()\n",
    "\n",
    "    # Вычисление корреляции\n",
    "    correlation_critic = data_actual2['critic_score'].corr(data_actual2['total_sales'])\n",
    "\n",
    "    print(f\"Корреляция между отзывами критиков и продажами: {correlation_critic}\")"
   ]
  },
  {
   "cell_type": "markdown",
   "metadata": {},
   "source": [
    "Теперь рассмотрим 4 самые популярные платформы."
   ]
  },
  {
   "cell_type": "code",
   "execution_count": 65,
   "metadata": {
    "scrolled": false
   },
   "outputs": [
    {
     "data": {
      "image/png": "[encoded data removed]",
      "text/plain": [
       "<Figure size 720x432 with 1 Axes>"
      ]
     },
     "metadata": {
      "needs_background": "light"
     },
     "output_type": "display_data"
    },
    {
     "name": "stdout",
     "output_type": "stream",
     "text": [
      "Корреляция между отзывами пользователей и продажами: -0.006205767686051523\n"
     ]
    },
    {
     "data": {
      "image/png": "[encoded data removed]",
      "text/plain": [
       "<Figure size 720x432 with 1 Axes>"
      ]
     },
     "metadata": {
      "needs_background": "light"
     },
     "output_type": "display_data"
    },
    {
     "name": "stdout",
     "output_type": "stream",
     "text": [
      "Корреляция между отзывами критиков и продажами: 0.3341517575509856\n"
     ]
    }
   ],
   "source": [
    "scatter_score('PS3')"
   ]
  },
  {
   "cell_type": "markdown",
   "metadata": {},
   "source": [
    "**Вывод:** Для PS3 корреляция отзывов пользователей к продажам почти нулевая, в то время как корреляция отзывов критиков к продажам положительная, что значит что продажи гораздо сильнее зависят от отзывов критиков."
   ]
  },
  {
   "cell_type": "code",
   "execution_count": 66,
   "metadata": {},
   "outputs": [
    {
     "data": {
      "image/png": "[encoded data removed]",
      "text/plain": [
       "<Figure size 720x432 with 1 Axes>"
      ]
     },
     "metadata": {
      "needs_background": "light"
     },
     "output_type": "display_data"
    },
    {
     "name": "stdout",
     "output_type": "stream",
     "text": [
      "Корреляция между отзывами пользователей и продажами: -0.031957110204556376\n"
     ]
    },
    {
     "data": {
      "image/png": "[encoded data removed]",
      "text/plain": [
       "<Figure size 720x432 with 1 Axes>"
      ]
     },
     "metadata": {
      "needs_background": "light"
     },
     "output_type": "display_data"
    },
    {
     "name": "stdout",
     "output_type": "stream",
     "text": [
      "Корреляция между отзывами критиков и продажами: 0.40656790206178095\n"
     ]
    }
   ],
   "source": [
    "scatter_score('PS4')"
   ]
  },
  {
   "cell_type": "markdown",
   "metadata": {},
   "source": [
    "Если сравнивать корреляции платформы PS3 с корреляциями платформы PS4, то видна схожая ситуация."
   ]
  },
  {
   "cell_type": "code",
   "execution_count": 67,
   "metadata": {},
   "outputs": [
    {
     "data": {
      "image/png": "[encoded data removed]",
      "text/plain": [
       "<Figure size 720x432 with 1 Axes>"
      ]
     },
     "metadata": {
      "needs_background": "light"
     },
     "output_type": "display_data"
    },
    {
     "name": "stdout",
     "output_type": "stream",
     "text": [
      "Корреляция между отзывами пользователей и продажами: 0.19758263411038599\n"
     ]
    },
    {
     "data": {
      "image/png": "[encoded data removed]",
      "text/plain": [
       "<Figure size 720x432 with 1 Axes>"
      ]
     },
     "metadata": {
      "needs_background": "light"
     },
     "output_type": "display_data"
    },
    {
     "name": "stdout",
     "output_type": "stream",
     "text": [
      "Корреляция между отзывами критиков и продажами: 0.3208028695360785\n"
     ]
    }
   ],
   "source": [
    "scatter_score('3DS')"
   ]
  },
  {
   "cell_type": "markdown",
   "metadata": {},
   "source": [
    "Если сравнивать корреляции с платформы PS3 с корреляциями с платформы 3DS, то, в отличие от PS3, корреляция отзывов пользователей к продажам не нулевая, а так де положительная как и корреляция отзывов критиков к продажам, но при этом, отзывы критиков всё ещё больше влияют на продажи."
   ]
  },
  {
   "cell_type": "code",
   "execution_count": 68,
   "metadata": {},
   "outputs": [
    {
     "data": {
      "image/png": "[encoded data removed]",
      "text/plain": [
       "<Figure size 720x432 with 1 Axes>"
      ]
     },
     "metadata": {
      "needs_background": "light"
     },
     "output_type": "display_data"
    },
    {
     "name": "stdout",
     "output_type": "stream",
     "text": [
      "Корреляция между отзывами пользователей и продажами: 0.006163978646213326\n"
     ]
    },
    {
     "data": {
      "image/png": "[encoded data removed]",
      "text/plain": [
       "<Figure size 720x432 with 1 Axes>"
      ]
     },
     "metadata": {
      "needs_background": "light"
     },
     "output_type": "display_data"
    },
    {
     "name": "stdout",
     "output_type": "stream",
     "text": [
      "Корреляция между отзывами критиков и продажами: 0.3605734888507336\n"
     ]
    }
   ],
   "source": [
    "scatter_score('X360')"
   ]
  },
  {
   "cell_type": "markdown",
   "metadata": {},
   "source": [
    "Если сравнивать корреляции платформы PS3 с корреляциями платформы X360, то видна схожая ситуация."
   ]
  },
  {
   "cell_type": "markdown",
   "metadata": {},
   "source": [
    "**Общий вывод:** Для PS3 корреляция отзывов пользователей к продажам почти нулевая, в то время как корреляция отзывов критиков к продажам положительная, что значит что продажи гораздо сильнее зависят от отзывов критиков.\n",
    "Если сравнивать корреляции платформы PS3 с корреляциями платформ PS4 и X360, то видны схожие ситуации.\n",
    "Но если сравнивать корреляции с платформы PS3 с корреляциями с платформы 3DS, то, в отличие от PS3, корреляция отзывов пользователей к продажам не нулевая, а так де положительная как и корреляция отзывов критиков к продажам, но при этом, отзывы критиков всё ещё больше влияют на продажи.\n",
    "\n"
   ]
  },
  {
   "cell_type": "markdown",
   "metadata": {},
   "source": [
    "В целом видно, что, как правило, отзывы критиков оказывают ощутимое влияние на проддажи, в то время как отзывы пользователей, в основном, не оказывают большого влияния на продажи."
   ]
  },
  {
   "cell_type": "markdown",
   "metadata": {},
   "source": [
    "### Общее распределение игр по жанрам. "
   ]
  },
  {
   "cell_type": "markdown",
   "metadata": {},
   "source": [
    "#### Гистограмма распределения продаж по жанрам"
   ]
  },
  {
   "cell_type": "markdown",
   "metadata": {
    "id": "5766e785"
   },
   "source": [
    "<div class=\"alert alert-block alert-danger\">\n",
    "<b>❌Комментарий ревьюера:</b> \n",
    "    \n",
    "Определять прибыльные жанры тоже нужно по актуальному периоду.\n",
    "</div>"
   ]
  },
  {
   "cell_type": "markdown",
   "metadata": {},
   "source": [
    "<div class=\"alert alert-block alert-info\">\n",
    "<b>🔄Комментарий студента:</b> \n",
    "Исправляю ниже:\n",
    "</div>"
   ]
  },
  {
   "cell_type": "markdown",
   "metadata": {},
   "source": [
    "<div class=\"alert alert-block alert-success\">\n",
    "<b>✅Комментарий ревьюера 2:</b> Отлично, исправлено!👍  </div>"
   ]
  },
  {
   "cell_type": "code",
   "execution_count": 69,
   "metadata": {},
   "outputs": [
    {
     "data": {
      "image/png": "[encoded data removed]",
      "text/plain": [
       "<Figure size 864x432 with 1 Axes>"
      ]
     },
     "metadata": {
      "needs_background": "light"
     },
     "output_type": "display_data"
    }
   ],
   "source": [
    "plt.figure(figsize=(12, 6))\n",
    "sns.histplot(data=data_actual, x='genre', y='total_sales', bins=10, stat='count', kde=False)\n",
    "plt.xlabel('Жанр')\n",
    "plt.ylabel('Число игр')\n",
    "plt.title('Распределение числа игр по жанрам')\n",
    "plt.show()"
   ]
  },
  {
   "cell_type": "markdown",
   "metadata": {},
   "source": [
    "#### Boxplot для выделения жанров с высокими и низкими продажами"
   ]
  },
  {
   "cell_type": "code",
   "execution_count": 70,
   "metadata": {},
   "outputs": [
    {
     "data": {
      "image/png": "[encoded data removed]",
      "text/plain": [
       "<Figure size 864x432 with 1 Axes>"
      ]
     },
     "metadata": {
      "needs_background": "light"
     },
     "output_type": "display_data"
    }
   ],
   "source": [
    "plt.figure(figsize=(12, 6))\n",
    "sns.boxplot(x='genre', y='total_sales', data=data_actual)\n",
    "plt.xlabel('Жанр')\n",
    "plt.ylabel('Глобальные продажи (млн)')\n",
    "plt.title('Boxplot глобальных продаж по жанрам')\n",
    "plt.show()"
   ]
  },
  {
   "cell_type": "markdown",
   "metadata": {},
   "source": [
    "Ещё один график с меньшим кол-вом выбросов для большей наглядности."
   ]
  },
  {
   "cell_type": "code",
   "execution_count": 71,
   "metadata": {},
   "outputs": [
    {
     "data": {
      "image/png": "[encoded data removed]",
      "text/plain": [
       "<Figure size 864x432 with 1 Axes>"
      ]
     },
     "metadata": {
      "needs_background": "light"
     },
     "output_type": "display_data"
    }
   ],
   "source": [
    "plt.figure(figsize=(12, 6))\n",
    "sns.boxplot(x='genre', y='total_sales', data=data_actual.query('total_sales < 1.5'))\n",
    "plt.xlabel('Жанр')\n",
    "plt.ylabel('Глобальные продажи (млн)')\n",
    "plt.title('Boxplot глобальных продаж по жанрам')\n",
    "plt.show()"
   ]
  },
  {
   "cell_type": "markdown",
   "metadata": {},
   "source": [
    "Видно, что больше всего продаются игры в жанрах sport, racing, shooter, platform, role-playing и action, а меньше всего adventure, puzzle и strategy."
   ]
  },
  {
   "cell_type": "markdown",
   "metadata": {
    "id": "5766e785"
   },
   "source": [
    "<div class=\"alert alert-block alert-danger\">\n",
    "<b>❌Комментарий ревьюера:</b> \n",
    "    \n",
    "Какие жанры можно назвать прибыльными?\n",
    "</div>"
   ]
  },
  {
   "cell_type": "markdown",
   "metadata": {},
   "source": [
    "<div class=\"alert alert-block alert-info\">\n",
    "<b>🔄Комментарий студента:</b> \n",
    "Исправляю ниже:\n",
    "</div>"
   ]
  },
  {
   "cell_type": "markdown",
   "metadata": {},
   "source": [
    "<div class=\"alert alert-block alert-success\">\n",
    "<b>✅Комментарий ревьюера 2:</b> Отлично, исправлено!👍  </div>"
   ]
  },
  {
   "cell_type": "markdown",
   "metadata": {},
   "source": [
    "**Вывод:** Из исследования видно, что жанры sport, racing, shooter, platform, role-playing и action, очень популярны среди пользователей и хорошо продаются. Поэтому рекомендую сделать ставку в первую очередь на них."
   ]
  },
  {
   "cell_type": "markdown",
   "metadata": {},
   "source": [
    "## Составьте портрет пользователя каждого региона"
   ]
  },
  {
   "cell_type": "code",
   "execution_count": 72,
   "metadata": {},
   "outputs": [
    {
     "data": {
      "text/html": [
       "<div>\n",
       "<style scoped>\n",
       "    .dataframe tbody tr th:only-of-type {\n",
       "        vertical-align: middle;\n",
       "    }\n",
       "\n",
       "    .dataframe tbody tr th {\n",
       "        vertical-align: top;\n",
       "    }\n",
       "\n",
       "    .dataframe thead th {\n",
       "        text-align: right;\n",
       "    }\n",
       "</style>\n",
       "<table border=\"1\" class=\"dataframe\">\n",
       "  <thead>\n",
       "    <tr style=\"text-align: right;\">\n",
       "      <th></th>\n",
       "      <th>name</th>\n",
       "      <th>platform</th>\n",
       "      <th>year</th>\n",
       "      <th>genre</th>\n",
       "      <th>na_sales</th>\n",
       "      <th>eu_sales</th>\n",
       "      <th>jp_sales</th>\n",
       "      <th>other_sales</th>\n",
       "      <th>critic_score</th>\n",
       "      <th>user_score</th>\n",
       "      <th>rating</th>\n",
       "      <th>total_sales</th>\n",
       "    </tr>\n",
       "  </thead>\n",
       "  <tbody>\n",
       "    <tr>\n",
       "      <th>13</th>\n",
       "      <td>Grand Theft Auto V</td>\n",
       "      <td>PS3</td>\n",
       "      <td>2013</td>\n",
       "      <td>Action</td>\n",
       "      <td>7.02</td>\n",
       "      <td>9.09</td>\n",
       "      <td>0.98</td>\n",
       "      <td>3.96</td>\n",
       "      <td>97.0</td>\n",
       "      <td>8.2</td>\n",
       "      <td>M</td>\n",
       "      <td>21.05</td>\n",
       "    </tr>\n",
       "    <tr>\n",
       "      <th>17</th>\n",
       "      <td>Grand Theft Auto V</td>\n",
       "      <td>X360</td>\n",
       "      <td>2013</td>\n",
       "      <td>Action</td>\n",
       "      <td>9.66</td>\n",
       "      <td>5.14</td>\n",
       "      <td>0.06</td>\n",
       "      <td>1.41</td>\n",
       "      <td>97.0</td>\n",
       "      <td>8.1</td>\n",
       "      <td>M</td>\n",
       "      <td>16.27</td>\n",
       "    </tr>\n",
       "    <tr>\n",
       "      <th>25</th>\n",
       "      <td>Call of Duty: Black Ops 3</td>\n",
       "      <td>PS4</td>\n",
       "      <td>2015</td>\n",
       "      <td>Shooter</td>\n",
       "      <td>6.03</td>\n",
       "      <td>5.86</td>\n",
       "      <td>0.36</td>\n",
       "      <td>2.38</td>\n",
       "      <td>NaN</td>\n",
       "      <td>NaN</td>\n",
       "      <td>NaN</td>\n",
       "      <td>14.63</td>\n",
       "    </tr>\n",
       "    <tr>\n",
       "      <th>27</th>\n",
       "      <td>Pokemon X/Pokemon Y</td>\n",
       "      <td>3DS</td>\n",
       "      <td>2013</td>\n",
       "      <td>Role-Playing</td>\n",
       "      <td>5.28</td>\n",
       "      <td>4.19</td>\n",
       "      <td>4.35</td>\n",
       "      <td>0.78</td>\n",
       "      <td>NaN</td>\n",
       "      <td>NaN</td>\n",
       "      <td>NaN</td>\n",
       "      <td>14.60</td>\n",
       "    </tr>\n",
       "    <tr>\n",
       "      <th>28</th>\n",
       "      <td>Call of Duty: Black Ops II</td>\n",
       "      <td>PS3</td>\n",
       "      <td>2012</td>\n",
       "      <td>Shooter</td>\n",
       "      <td>4.99</td>\n",
       "      <td>5.73</td>\n",
       "      <td>0.65</td>\n",
       "      <td>2.42</td>\n",
       "      <td>83.0</td>\n",
       "      <td>5.3</td>\n",
       "      <td>M</td>\n",
       "      <td>13.79</td>\n",
       "    </tr>\n",
       "  </tbody>\n",
       "</table>\n",
       "</div>"
      ],
      "text/plain": [
       "                          name platform  year         genre  na_sales  \\\n",
       "13          Grand Theft Auto V      PS3  2013        Action      7.02   \n",
       "17          Grand Theft Auto V     X360  2013        Action      9.66   \n",
       "25   Call of Duty: Black Ops 3      PS4  2015       Shooter      6.03   \n",
       "27         Pokemon X/Pokemon Y      3DS  2013  Role-Playing      5.28   \n",
       "28  Call of Duty: Black Ops II      PS3  2012       Shooter      4.99   \n",
       "\n",
       "    eu_sales  jp_sales  other_sales  critic_score  user_score rating  \\\n",
       "13      9.09      0.98         3.96          97.0         8.2      M   \n",
       "17      5.14      0.06         1.41          97.0         8.1      M   \n",
       "25      5.86      0.36         2.38           NaN         NaN    NaN   \n",
       "27      4.19      4.35         0.78           NaN         NaN    NaN   \n",
       "28      5.73      0.65         2.42          83.0         5.3      M   \n",
       "\n",
       "    total_sales  \n",
       "13        21.05  \n",
       "17        16.27  \n",
       "25        14.63  \n",
       "27        14.60  \n",
       "28        13.79  "
      ]
     },
     "execution_count": 72,
     "metadata": {},
     "output_type": "execute_result"
    }
   ],
   "source": [
    "data_actual.head()"
   ]
  },
  {
   "cell_type": "markdown",
   "metadata": {
    "id": "5766e785"
   },
   "source": [
    "<div class=\"alert alert-block alert-danger\">\n",
    "<b>❌Комментарий ревьюера:</b> \n",
    "    \n",
    "Составлять портреты пользователей тоже необходимо по актуальному периоду\n",
    "</div>"
   ]
  },
  {
   "cell_type": "markdown",
   "metadata": {},
   "source": [
    "<div class=\"alert alert-block alert-info\">\n",
    "<b>🔄Комментарий студента:</b> \n",
    "Исправляю ниже:\n",
    "</div>"
   ]
  },
  {
   "cell_type": "markdown",
   "metadata": {},
   "source": [
    "<div class=\"alert alert-block alert-success\">\n",
    "<b>✅Комментарий ревьюера 2:</b> Отлично, исправлено!👍  </div>"
   ]
  },
  {
   "cell_type": "markdown",
   "metadata": {},
   "source": [
    "### Самые популярные платформы (топ-5)."
   ]
  },
  {
   "cell_type": "markdown",
   "metadata": {},
   "source": [
    "Визуализация различий в долях продаж по платформам"
   ]
  },
  {
   "cell_type": "code",
   "execution_count": 73,
   "metadata": {},
   "outputs": [
    {
     "data": {
      "image/png": "[encoded data removed]",
      "text/plain": [
       "<Figure size 720x432 with 1 Axes>"
      ]
     },
     "metadata": {
      "needs_background": "light"
     },
     "output_type": "display_data"
    }
   ],
   "source": [
    "# Самые популярные платформы\n",
    "top_platforms_na = data_actual.groupby('platform')['na_sales'].sum().nlargest(5)\n",
    "top_platforms_eu = data_actual.groupby('platform')['eu_sales'].sum().nlargest(5)\n",
    "top_platforms_jp = data_actual.groupby('platform')['jp_sales'].sum().nlargest(5)\n",
    "\n",
    "# Различия в долях продаж\n",
    "platforms_comparison = pd.DataFrame({\n",
    "    'na_sales': top_platforms_na / top_platforms_na.sum(),\n",
    "    'eu_sales': top_platforms_eu / top_platforms_eu.sum(),\n",
    "    'jp_sales': top_platforms_jp / top_platforms_jp.sum()\n",
    "})\n",
    "\n",
    "platforms_comparison.plot(kind='bar', figsize=(10, 6))\n",
    "plt.title('Доли продаж по топ-5 платформам в разных регионах')\n",
    "plt.xlabel('Платформа')\n",
    "plt.ylabel('Доля продаж')\n",
    "plt.show()"
   ]
  },
  {
   "cell_type": "markdown",
   "metadata": {},
   "source": [
    "Как видно из графика, некоторые платформы совершенно не представленны в некоторых регионах. Только 3DS, PS4 и PS3 представлены во всех регионах и, если PS3 продаётся во всех регионах примерно одинакого, то PS4 заметно популярнее в EU регионе. Самая популярная платформа в JP Регионе - 3DS, самая популярная в EU регионе - PS4, а самая популярная в NA регионе - X360. "
   ]
  },
  {
   "cell_type": "markdown",
   "metadata": {},
   "source": [
    "### Самые популярные жанры (топ-5)."
   ]
  },
  {
   "cell_type": "markdown",
   "metadata": {},
   "source": [
    "Визуализация различий в долях продаж по жанрам"
   ]
  },
  {
   "cell_type": "code",
   "execution_count": 74,
   "metadata": {},
   "outputs": [
    {
     "data": {
      "image/png": "[encoded data removed]",
      "text/plain": [
       "<Figure size 720x432 with 1 Axes>"
      ]
     },
     "metadata": {
      "needs_background": "light"
     },
     "output_type": "display_data"
    }
   ],
   "source": [
    "# Самые популярные жанры\n",
    "top_genres_na = data_actual.groupby('genre')['na_sales'].sum().nlargest(5)\n",
    "top_genres_eu = data_actual.groupby('genre')['eu_sales'].sum().nlargest(5)\n",
    "top_genres_jp = data_actual.groupby('genre')['jp_sales'].sum().nlargest(5)\n",
    "\n",
    "# Различия в долях продаж\n",
    "genres_comparison = pd.DataFrame({\n",
    "    'na_sales': top_genres_na / top_genres_na.sum(),\n",
    "    'eu_sales': top_genres_eu / top_genres_eu.sum(),\n",
    "    'jp_sales': top_genres_jp / top_genres_jp.sum()\n",
    "})\n",
    "\n",
    "genres_comparison.plot(kind='bar', figsize=(10, 6))\n",
    "plt.title('Доли продаж по топ-5 жанрам в разных регионах')\n",
    "plt.xlabel('Жанр')\n",
    "plt.ylabel('Доля продаж')\n",
    "plt.show()"
   ]
  },
  {
   "cell_type": "markdown",
   "metadata": {},
   "source": [
    "<div class=\"alert alert-block alert-warning\">\n",
    "<b>🔁Комментарий ревьюера:</b> \n",
    "    \n",
    "Такие  графики не очень информативны, их сложно считывать, лучше сделать визуализации отдельно по регионам. </div>"
   ]
  },
  {
   "cell_type": "markdown",
   "metadata": {},
   "source": [
    "Из всех жанров сразу в трёх регионах представлены только ACtion и Role-Playing. Самый популярный жанр в JP Регионе - Role-Playing, самый популярный в EU регионе - Action, а самый популярный в NA регионе - также Action."
   ]
  },
  {
   "cell_type": "markdown",
   "metadata": {},
   "source": [
    "### Влияние ESRB на продажи."
   ]
  },
  {
   "cell_type": "markdown",
   "metadata": {},
   "source": [
    "Визуализация влияния рейтинга ESRB на продажи"
   ]
  },
  {
   "cell_type": "code",
   "execution_count": 75,
   "metadata": {},
   "outputs": [
    {
     "data": {
      "image/png": "[encoded data removed]",
      "text/plain": [
       "<Figure size 720x432 with 1 Axes>"
      ]
     },
     "metadata": {
      "needs_background": "light"
     },
     "output_type": "display_data"
    }
   ],
   "source": [
    "# Влияние рейтинга ESRB на продажи\n",
    "rating_effect_na = data_actual.groupby('rating')['na_sales'].sum()\n",
    "rating_effect_eu = data_actual.groupby('rating')['eu_sales'].sum()\n",
    "rating_effect_jp = data_actual.groupby('rating')['jp_sales'].sum()\n",
    "\n",
    "# Различия в долях продаж\n",
    "ESRB_comparison = pd.DataFrame({\n",
    "    'na_sales': rating_effect_na / rating_effect_na.sum(),\n",
    "    'eu_sales': rating_effect_eu / rating_effect_eu.sum(),\n",
    "    'jp_sales': rating_effect_jp / rating_effect_jp.sum()\n",
    "})\n",
    "\n",
    "ESRB_comparison.plot(kind='bar', figsize=(10, 6))\n",
    "plt.title('Доли продаж по ESRB рейтингам в разных регионах')\n",
    "plt.xlabel('ESRB рейтинг')\n",
    "plt.ylabel('Доля продаж')\n",
    "plt.show()"
   ]
  },
  {
   "cell_type": "markdown",
   "metadata": {},
   "source": [
    "<div class=\"alert alert-block alert-warning\">\n",
    "<b>🔁Комментарий ревьюера:</b>\n",
    "\n",
    "А если заполнить пропуски в рейтингах каким-нибудь единым значением, означающим отсутствие рейтинга, то можно будет увидеть интересную особенность)</div>"
   ]
  },
  {
   "cell_type": "markdown",
   "metadata": {},
   "source": [
    "Во всех регионах продажи не сильно варьируются в зависимости от рейтинга, за исключением рейтинга \"M\" и \"Т\". Первый имеет заметно боле низкую популярность в регионе \"JP\", а второй, в свою очередь, гораздо популярнее в этом регионе чем в других. "
   ]
  },
  {
   "cell_type": "markdown",
   "metadata": {},
   "source": [
    "## Проверьте гипотезы"
   ]
  },
  {
   "cell_type": "markdown",
   "metadata": {},
   "source": [
    "Возьмём стандартное значение **Alpha** = 0.05, т.к. нас устроит ошибка в 5%."
   ]
  },
  {
   "cell_type": "markdown",
   "metadata": {},
   "source": [
    "### Гипотеза 1:"
   ]
  },
  {
   "cell_type": "markdown",
   "metadata": {},
   "source": [
    "**Нулевая гипотеза (H0):** Средние пользовательские рейтинги для платформ Xbox One и PC одинаковые."
   ]
  },
  {
   "cell_type": "markdown",
   "metadata": {},
   "source": [
    "**Альтернативная гипотеза (H1):** Средние пользовательские рейтинги для платформ Xbox One и PC различаются."
   ]
  },
  {
   "cell_type": "markdown",
   "metadata": {},
   "source": [
    "<div class=\"alert alert-block alert-success\">\n",
    "<b>✅Комментарий ревьюера:</b> Здорово, что формулируешь гипотезы вначале шага </div>"
   ]
  },
  {
   "cell_type": "code",
   "execution_count": 76,
   "metadata": {},
   "outputs": [
    {
     "name": "stdout",
     "output_type": "stream",
     "text": [
      "Тест для платформ Xbox One и PC: p-value = 0.5535080500643661\n"
     ]
    }
   ],
   "source": [
    "xbox_one_scores = data[(data['year'] >= 2012) & (data['platform'] == 'XOne')]['user_score'].dropna()\n",
    "pc_scores =       data[(data['year'] >= 2012) & (data['platform'] == 'PC')]['user_score'].dropna()\n",
    "\n",
    "alpha = 0.05 #Alpha 0.05 для обоих тестов\n",
    "statistic, p_value_xbox_pc = ttest_ind(xbox_one_scores, pc_scores)\n",
    "print(f\"Тест для платформ Xbox One и PC: p-value = {p_value_xbox_pc}\")"
   ]
  },
  {
   "cell_type": "markdown",
   "metadata": {
    "id": "5766e785"
   },
   "source": [
    "<div class=\"alert alert-block alert-danger\">\n",
    "<b>❌Комментарий ревьюера:</b> \n",
    "    \n",
    "Проверку гипотез нужно проводить также по данным из актуального периода.</div>"
   ]
  },
  {
   "cell_type": "markdown",
   "metadata": {},
   "source": [
    "<div class=\"alert alert-block alert-info\">\n",
    "<b>🔄Комментарий студента:</b> \n",
    "Исправил:\n",
    "</div>"
   ]
  },
  {
   "cell_type": "markdown",
   "metadata": {},
   "source": [
    "<div class=\"alert alert-block alert-success\">\n",
    "<b>✅Комментарий ревьюера 2:</b> Отлично, исправлено!👍  </div>"
   ]
  },
  {
   "cell_type": "markdown",
   "metadata": {},
   "source": [
    "P-value не меньше уроаня значимости 0.05, что не позволяет отклонить нулевую гипотезу. Таким образом, у нас нет оснований считать, что средние пользовательские рейтинги для этих платформ различаются."
   ]
  },
  {
   "cell_type": "markdown",
   "metadata": {},
   "source": [
    "### Гипотеза 2:"
   ]
  },
  {
   "cell_type": "markdown",
   "metadata": {},
   "source": [
    "**Нулевая гипотеза (H0):** Средние пользовательские рейтинги для жанров Action и Sports одинаковые."
   ]
  },
  {
   "cell_type": "markdown",
   "metadata": {},
   "source": [
    "**Альтернативная гипотеза (H1):** Средние пользовательские рейтинги для жанров Action и Sports различаются."
   ]
  },
  {
   "cell_type": "code",
   "execution_count": 77,
   "metadata": {},
   "outputs": [
    {
     "name": "stdout",
     "output_type": "stream",
     "text": [
      "Тест для жанров Action и Sports: p-value = 4.8045233804629176e-26\n"
     ]
    }
   ],
   "source": [
    "action_scores = data[(data['year'] >= 2012) & (data['genre'] == 'Action')]['user_score'].dropna()\n",
    "sports_scores = data[(data['year'] >= 2012) & (data['genre'] == 'Sports')]['user_score'].dropna()\n",
    "\n",
    "statistic, p_value_action_sports = ttest_ind(action_scores, sports_scores)\n",
    "print(f\"Тест для жанров Action и Sports: p-value = {p_value_action_sports}\")"
   ]
  },
  {
   "cell_type": "markdown",
   "metadata": {},
   "source": [
    "<div class=\"alert alert-block alert-success\">\n",
    "<b>✅Комментарий ревьюера:</b> \n",
    "    \n",
    "Кстати, можно не удалять пропуски из сравниваемых выборок, а передать в ttest_ind аргумент nan_policy с нужным значением, тогда они будут игнорироваться. Подробнее можно почитать [здесь](https://docs.scipy.org/doc/scipy/reference/generated/scipy.stats.ttest_ind.html) </div>"
   ]
  },
  {
   "cell_type": "markdown",
   "metadata": {},
   "source": [
    "P-value для теста между жанрами Action и Sports состввляет 4.8045233804629176e-26 (чрезвычайно маленькое число), это означает, что мы отклоняем нулевую гипотезу. Таким образом у нас есть статистически значимые доказательства того, что средние пользовательские рейтинги для жанров Action и Sports различаются."
   ]
  },
  {
   "cell_type": "markdown",
   "metadata": {},
   "source": [
    "**Пояснение:**\n",
    "Для проверки этих гипоиез был использован t-тест для независимых выборок. Я выбрал этот критерий так как мы имеем две независимые выборки (платыормы Xbox One и PC, жанры Action и Sports), и хочу проверить различие средних между этими группами."
   ]
  },
  {
   "cell_type": "markdown",
   "metadata": {},
   "source": [
    "## Вывод"
   ]
  },
  {
   "cell_type": "markdown",
   "metadata": {},
   "source": [
    "В данных былы обнаружены пустые значениея и некоторые дубликаты. Среди платформа, представленных в массиве данных, есть такие, которые совершенно не подходят для рассчётов, т.к. являются слишком не популярными. Так же были отпброшены данные до 95ого года, т.к. они очень скудные и также не отображают поведения рынка ввиду того что индустрия только зарождалась."
   ]
  },
  {
   "cell_type": "markdown",
   "metadata": {},
   "source": [
    "Были найдены самые популярные платформы, сильно обгоняющие другие по продажам, это - 'PS2', 'X360', 'PS3', 'Wii', 'DS' и 'PS'. Из исследования топ 10ти платформ, было обнаружено, что платформы, в среднем, от момента запуска до почти нулевых продаж, проходят 8-10 лет. Так же, было обнаружено, что огромный рост популярности, кторый продержится ещё несколько лет, в 2017ом году получит PS4. Так же на 2017й год, можно сделать небольшую ставку на 3DS, т.к. по моим подсчётам это будет последний или предпоследний год продаж игр для неё."
   ]
  },
  {
   "cell_type": "markdown",
   "metadata": {},
   "source": [
    "На 3DS, PS3, X360 и PS4, исходя из \"ящиков с усами\", чаще всего выходят бестселлеры, которые отображаются выбросами."
   ]
  },
  {
   "cell_type": "markdown",
   "metadata": {},
   "source": [
    "Из исследования ткаже видно, что отзывы пользователей гораздо чаще совпадают с реальным числом продаж, чем отзывы критиков."
   ]
  },
  {
   "cell_type": "markdown",
   "metadata": {},
   "source": [
    "Так же, исследование показало что больше всего продаются игры в жанрах sport, racing, shooter, platform, role-playing и action, а меньше всего adventure, puzzle и strategy. При этом чаще всего бестселлеры попадаются в жанрах sports и racing."
   ]
  },
  {
   "cell_type": "markdown",
   "metadata": {},
   "source": [
    "Из исследования видно, что некоторые платформы совершенно не рпедставленны в некоторых регионах. Только 3DS, PS3 и PS4 представлены во всех регионах и, если PS3 продаётся во всех регионах примерно одинакого, то PS4 заметно популярнее в EU регионе. Самая популярная платформа в JP Регионе - 3DS, самая популярная в EU регионе - PS4, а самая популярная в NA регионе - X360. Так же из всех жанров сразу в трёх регионах представлены только ACtion, Misc и Role-Playing. Самый популярный жанр в JP Регионе - Role-Playing, самый популярный в EU регионе - Action, а самый популярный в NA регионе - также Action. Что касается влияния ESRB, то во всех регионах продажи не сильно варьируются в зависимости от рейтинга, за исключением рейтинга \"M\" и \"Т\". Первый имеет заметно боле низкую популярность в регионе \"JP\", а второй, в свою очередь, гораздо популярнее в этом регионе чем в других.\n",
    "\n"
   ]
  },
  {
   "cell_type": "markdown",
   "metadata": {},
   "source": [
    "Исходя из гипотез, которые мы проверили, можно сказать, что средние пользовательские рейтинги для платформ Xbox One и PC не различаются и что средние пользовательские рейтинги для жанров Action и Sports различаются."
   ]
  },
  {
   "cell_type": "markdown",
   "metadata": {},
   "source": [
    "<div class=\"alert alert-block alert-warning\">\n",
    "<b>🔁Комментарий ревьюера:</b> \n",
    "    \n",
    "Хороший резюмирующий вывод, еще можно добавить рекомендации отделу маркетинга для проведения рекламной кампании в 2017 году. \n",
    "    \n",
    "\n",
    "\n",
    "**Хочу обратить твое внимание на то, что после исправления замечаний в некоторых пунктах исследования могут измениться результаты, поэтому нужно будет подкорректировать выводы.**</div>"
   ]
  },
  {
   "cell_type": "code",
   "execution_count": null,
   "metadata": {},
   "outputs": [],
   "source": []
  }
 ],
 "metadata": {
  "ExecuteTimeLog": [
   {
    "duration": 1261,
    "start_time": "2023-12-10T12:59:39.754Z"
   },
   {
    "duration": 91,
    "start_time": "2023-12-10T13:00:59.362Z"
   },
   {
    "duration": 18,
    "start_time": "2023-12-10T13:02:35.063Z"
   },
   {
    "duration": 3,
    "start_time": "2023-12-10T13:07:39.588Z"
   },
   {
    "duration": 87,
    "start_time": "2023-12-10T13:08:21.229Z"
   },
   {
    "duration": 2,
    "start_time": "2023-12-10T13:08:28.604Z"
   },
   {
    "duration": 3,
    "start_time": "2023-12-10T13:08:29.245Z"
   },
   {
    "duration": 20,
    "start_time": "2023-12-10T13:08:41.940Z"
   },
   {
    "duration": 16,
    "start_time": "2023-12-10T13:09:56.506Z"
   },
   {
    "duration": 14,
    "start_time": "2023-12-10T13:20:25.155Z"
   },
   {
    "duration": 20,
    "start_time": "2023-12-10T13:21:08.234Z"
   },
   {
    "duration": 10,
    "start_time": "2023-12-10T13:25:07.523Z"
   },
   {
    "duration": 13,
    "start_time": "2023-12-10T13:35:36.955Z"
   },
   {
    "duration": 3,
    "start_time": "2023-12-10T13:41:53.357Z"
   },
   {
    "duration": 8,
    "start_time": "2023-12-10T13:42:34.926Z"
   },
   {
    "duration": 1061,
    "start_time": "2023-12-10T13:43:05.561Z"
   },
   {
    "duration": 53,
    "start_time": "2023-12-10T13:43:06.624Z"
   },
   {
    "duration": 18,
    "start_time": "2023-12-10T13:43:06.678Z"
   },
   {
    "duration": 7,
    "start_time": "2023-12-10T13:43:06.697Z"
   },
   {
    "duration": 13,
    "start_time": "2023-12-10T13:43:06.705Z"
   },
   {
    "duration": 23,
    "start_time": "2023-12-10T13:43:06.719Z"
   },
   {
    "duration": 6,
    "start_time": "2023-12-10T13:43:06.744Z"
   },
   {
    "duration": 22,
    "start_time": "2023-12-10T13:43:06.751Z"
   },
   {
    "duration": 21,
    "start_time": "2023-12-10T13:43:06.774Z"
   },
   {
    "duration": 97,
    "start_time": "2023-12-10T13:43:06.796Z"
   },
   {
    "duration": 0,
    "start_time": "2023-12-10T13:43:06.894Z"
   },
   {
    "duration": 3,
    "start_time": "2023-12-10T13:44:07.733Z"
   },
   {
    "duration": 10,
    "start_time": "2023-12-10T13:44:08.538Z"
   },
   {
    "duration": 4,
    "start_time": "2023-12-10T13:44:18.020Z"
   },
   {
    "duration": 12,
    "start_time": "2023-12-10T13:44:18.554Z"
   },
   {
    "duration": 3,
    "start_time": "2023-12-10T13:44:42.280Z"
   },
   {
    "duration": 13,
    "start_time": "2023-12-10T13:44:43.780Z"
   },
   {
    "duration": 4,
    "start_time": "2023-12-10T13:45:02.293Z"
   },
   {
    "duration": 10,
    "start_time": "2023-12-10T13:45:02.792Z"
   },
   {
    "duration": 3,
    "start_time": "2023-12-10T13:45:32.535Z"
   },
   {
    "duration": 14,
    "start_time": "2023-12-10T13:45:35.147Z"
   },
   {
    "duration": 7,
    "start_time": "2023-12-10T13:48:23.936Z"
   },
   {
    "duration": 4,
    "start_time": "2023-12-10T13:48:26.655Z"
   },
   {
    "duration": 8,
    "start_time": "2023-12-10T13:50:50.983Z"
   },
   {
    "duration": 279,
    "start_time": "2023-12-10T13:54:20.904Z"
   },
   {
    "duration": 276,
    "start_time": "2023-12-10T13:54:26.508Z"
   },
   {
    "duration": 187,
    "start_time": "2023-12-10T13:54:35.457Z"
   },
   {
    "duration": 183,
    "start_time": "2023-12-10T13:54:43.899Z"
   },
   {
    "duration": 9,
    "start_time": "2023-12-10T13:55:34.533Z"
   },
   {
    "duration": 232,
    "start_time": "2023-12-10T13:56:00.754Z"
   },
   {
    "duration": 180,
    "start_time": "2023-12-10T13:56:14.321Z"
   },
   {
    "duration": 176,
    "start_time": "2023-12-10T13:56:19.920Z"
   },
   {
    "duration": 248,
    "start_time": "2023-12-10T13:56:31.286Z"
   },
   {
    "duration": 20,
    "start_time": "2023-12-10T13:58:13.870Z"
   },
   {
    "duration": 17,
    "start_time": "2023-12-10T14:01:13.980Z"
   },
   {
    "duration": 18,
    "start_time": "2023-12-10T14:01:21.229Z"
   },
   {
    "duration": 15,
    "start_time": "2023-12-10T14:02:29.929Z"
   },
   {
    "duration": 8,
    "start_time": "2023-12-10T14:03:12.697Z"
   },
   {
    "duration": 8,
    "start_time": "2023-12-10T14:03:35.183Z"
   },
   {
    "duration": 13,
    "start_time": "2023-12-10T14:05:07.523Z"
   },
   {
    "duration": 8,
    "start_time": "2023-12-10T14:05:14.935Z"
   },
   {
    "duration": 6,
    "start_time": "2023-12-10T14:05:22.071Z"
   },
   {
    "duration": 12,
    "start_time": "2023-12-10T14:05:28.828Z"
   },
   {
    "duration": 13,
    "start_time": "2023-12-10T14:05:53.855Z"
   },
   {
    "duration": 15,
    "start_time": "2023-12-10T14:06:01.383Z"
   },
   {
    "duration": 16,
    "start_time": "2023-12-10T14:06:05.070Z"
   },
   {
    "duration": 20,
    "start_time": "2023-12-10T14:06:15.530Z"
   },
   {
    "duration": 311,
    "start_time": "2023-12-10T14:19:57.810Z"
   },
   {
    "duration": 17,
    "start_time": "2023-12-10T14:20:10.577Z"
   },
   {
    "duration": 16,
    "start_time": "2023-12-10T14:20:39.214Z"
   },
   {
    "duration": 18,
    "start_time": "2023-12-10T14:20:50.709Z"
   },
   {
    "duration": 8,
    "start_time": "2023-12-10T14:26:00.789Z"
   },
   {
    "duration": 18,
    "start_time": "2023-12-10T14:26:16.610Z"
   },
   {
    "duration": 10,
    "start_time": "2023-12-10T14:27:20.058Z"
   },
   {
    "duration": 13,
    "start_time": "2023-12-10T14:27:24.905Z"
   },
   {
    "duration": 12,
    "start_time": "2023-12-10T14:33:35.467Z"
   },
   {
    "duration": 18,
    "start_time": "2023-12-10T14:34:53.161Z"
   },
   {
    "duration": 1006,
    "start_time": "2023-12-10T14:37:00.629Z"
   },
   {
    "duration": 54,
    "start_time": "2023-12-10T14:37:01.637Z"
   },
   {
    "duration": 18,
    "start_time": "2023-12-10T14:37:01.692Z"
   },
   {
    "duration": 6,
    "start_time": "2023-12-10T14:37:01.713Z"
   },
   {
    "duration": 58,
    "start_time": "2023-12-10T14:37:01.721Z"
   },
   {
    "duration": 27,
    "start_time": "2023-12-10T14:37:01.780Z"
   },
   {
    "duration": 10,
    "start_time": "2023-12-10T14:37:01.809Z"
   },
   {
    "duration": 20,
    "start_time": "2023-12-10T14:37:01.820Z"
   },
   {
    "duration": 36,
    "start_time": "2023-12-10T14:37:01.842Z"
   },
   {
    "duration": 18,
    "start_time": "2023-12-10T14:37:01.880Z"
   },
   {
    "duration": 24,
    "start_time": "2023-12-10T14:37:01.899Z"
   },
   {
    "duration": 33,
    "start_time": "2023-12-10T14:37:01.924Z"
   },
   {
    "duration": 25,
    "start_time": "2023-12-10T14:37:01.959Z"
   },
   {
    "duration": 16,
    "start_time": "2023-12-10T14:37:01.986Z"
   },
   {
    "duration": 7,
    "start_time": "2023-12-10T14:37:02.004Z"
   },
   {
    "duration": 42,
    "start_time": "2023-12-10T14:37:02.013Z"
   },
   {
    "duration": 220,
    "start_time": "2023-12-10T14:37:02.057Z"
   },
   {
    "duration": 287,
    "start_time": "2023-12-10T14:38:45.427Z"
   },
   {
    "duration": 273,
    "start_time": "2023-12-10T14:38:55.351Z"
   },
   {
    "duration": 288,
    "start_time": "2023-12-10T14:39:03.069Z"
   },
   {
    "duration": 270,
    "start_time": "2023-12-10T14:39:12.652Z"
   },
   {
    "duration": 351,
    "start_time": "2023-12-10T14:39:16.684Z"
   },
   {
    "duration": 71,
    "start_time": "2023-12-10T14:43:44.404Z"
   },
   {
    "duration": 80,
    "start_time": "2023-12-10T14:43:52.234Z"
   },
   {
    "duration": 1300,
    "start_time": "2023-12-10T14:44:58.995Z"
   },
   {
    "duration": 1115,
    "start_time": "2023-12-10T14:45:21.782Z"
   },
   {
    "duration": 1129,
    "start_time": "2023-12-10T14:45:27.740Z"
   },
   {
    "duration": 1096,
    "start_time": "2023-12-10T14:46:26.454Z"
   },
   {
    "duration": 1148,
    "start_time": "2023-12-10T14:47:25.091Z"
   },
   {
    "duration": 22,
    "start_time": "2023-12-10T14:47:59.764Z"
   },
   {
    "duration": 239,
    "start_time": "2023-12-10T14:48:07.212Z"
   },
   {
    "duration": 14,
    "start_time": "2023-12-10T14:49:16.094Z"
   },
   {
    "duration": 1157,
    "start_time": "2023-12-10T14:50:31.689Z"
   },
   {
    "duration": 13,
    "start_time": "2023-12-10T14:50:37.349Z"
   },
   {
    "duration": 6,
    "start_time": "2023-12-10T14:51:05.581Z"
   },
   {
    "duration": 9,
    "start_time": "2023-12-10T14:51:09.743Z"
   },
   {
    "duration": 9,
    "start_time": "2023-12-10T14:51:49.459Z"
   },
   {
    "duration": 238,
    "start_time": "2023-12-10T14:52:14.553Z"
   },
   {
    "duration": 192,
    "start_time": "2023-12-10T14:52:27.437Z"
   },
   {
    "duration": 15,
    "start_time": "2023-12-10T14:53:57.945Z"
   },
   {
    "duration": 4,
    "start_time": "2023-12-10T14:56:49.507Z"
   },
   {
    "duration": 14,
    "start_time": "2023-12-10T14:56:54.481Z"
   },
   {
    "duration": 219,
    "start_time": "2023-12-10T14:58:39.971Z"
   },
   {
    "duration": 171,
    "start_time": "2023-12-10T14:58:53.942Z"
   },
   {
    "duration": 147,
    "start_time": "2023-12-10T14:59:02.569Z"
   },
   {
    "duration": 18,
    "start_time": "2023-12-10T14:59:42.312Z"
   },
   {
    "duration": 14,
    "start_time": "2023-12-10T15:00:20.094Z"
   },
   {
    "duration": 586,
    "start_time": "2023-12-10T15:00:23.604Z"
   },
   {
    "duration": 151,
    "start_time": "2023-12-10T15:00:36.438Z"
   },
   {
    "duration": 133,
    "start_time": "2023-12-10T15:01:46.432Z"
   },
   {
    "duration": 1046,
    "start_time": "2023-12-10T15:02:59.382Z"
   },
   {
    "duration": 94,
    "start_time": "2023-12-10T15:03:00.430Z"
   },
   {
    "duration": 19,
    "start_time": "2023-12-10T15:03:00.525Z"
   },
   {
    "duration": 11,
    "start_time": "2023-12-10T15:03:00.546Z"
   },
   {
    "duration": 38,
    "start_time": "2023-12-10T15:03:00.558Z"
   },
   {
    "duration": 44,
    "start_time": "2023-12-10T15:03:00.598Z"
   },
   {
    "duration": 18,
    "start_time": "2023-12-10T15:03:00.644Z"
   },
   {
    "duration": 33,
    "start_time": "2023-12-10T15:03:00.663Z"
   },
   {
    "duration": 47,
    "start_time": "2023-12-10T15:03:00.698Z"
   },
   {
    "duration": 37,
    "start_time": "2023-12-10T15:03:00.746Z"
   },
   {
    "duration": 31,
    "start_time": "2023-12-10T15:03:00.784Z"
   },
   {
    "duration": 32,
    "start_time": "2023-12-10T15:03:00.816Z"
   },
   {
    "duration": 296,
    "start_time": "2023-12-10T15:03:00.850Z"
   },
   {
    "duration": 22,
    "start_time": "2023-12-10T15:03:01.149Z"
   },
   {
    "duration": 54,
    "start_time": "2023-12-10T15:03:01.172Z"
   },
   {
    "duration": 25,
    "start_time": "2023-12-10T15:03:01.227Z"
   },
   {
    "duration": 46,
    "start_time": "2023-12-10T15:03:01.253Z"
   },
   {
    "duration": 45,
    "start_time": "2023-12-10T15:03:01.301Z"
   },
   {
    "duration": 218,
    "start_time": "2023-12-10T15:03:01.348Z"
   },
   {
    "duration": 16,
    "start_time": "2023-12-10T15:03:01.568Z"
   },
   {
    "duration": 38,
    "start_time": "2023-12-10T15:03:01.585Z"
   },
   {
    "duration": 38,
    "start_time": "2023-12-10T15:03:01.625Z"
   },
   {
    "duration": 221,
    "start_time": "2023-12-10T15:03:01.665Z"
   },
   {
    "duration": 13,
    "start_time": "2023-12-10T15:03:01.888Z"
   },
   {
    "duration": 18,
    "start_time": "2023-12-10T15:03:01.902Z"
   },
   {
    "duration": 31,
    "start_time": "2023-12-10T15:03:01.921Z"
   },
   {
    "duration": 1014,
    "start_time": "2023-12-10T15:04:04.318Z"
   },
   {
    "duration": 92,
    "start_time": "2023-12-10T15:04:05.334Z"
   },
   {
    "duration": 17,
    "start_time": "2023-12-10T15:04:05.427Z"
   },
   {
    "duration": 21,
    "start_time": "2023-12-10T15:04:05.445Z"
   },
   {
    "duration": 15,
    "start_time": "2023-12-10T15:04:05.467Z"
   },
   {
    "duration": 15,
    "start_time": "2023-12-10T15:04:05.483Z"
   },
   {
    "duration": 6,
    "start_time": "2023-12-10T15:04:05.500Z"
   },
   {
    "duration": 5,
    "start_time": "2023-12-10T15:04:05.508Z"
   },
   {
    "duration": 26,
    "start_time": "2023-12-10T15:04:05.514Z"
   },
   {
    "duration": 16,
    "start_time": "2023-12-10T15:04:05.541Z"
   },
   {
    "duration": 30,
    "start_time": "2023-12-10T15:04:05.558Z"
   },
   {
    "duration": 12,
    "start_time": "2023-12-10T15:04:05.589Z"
   },
   {
    "duration": 293,
    "start_time": "2023-12-10T15:04:05.602Z"
   },
   {
    "duration": 25,
    "start_time": "2023-12-10T15:04:05.897Z"
   },
   {
    "duration": 13,
    "start_time": "2023-12-10T15:04:05.923Z"
   },
   {
    "duration": 12,
    "start_time": "2023-12-10T15:04:05.937Z"
   },
   {
    "duration": 9,
    "start_time": "2023-12-10T15:04:05.950Z"
   },
   {
    "duration": 29,
    "start_time": "2023-12-10T15:04:05.960Z"
   },
   {
    "duration": 206,
    "start_time": "2023-12-10T15:04:05.991Z"
   },
   {
    "duration": 14,
    "start_time": "2023-12-10T15:04:06.198Z"
   },
   {
    "duration": 12,
    "start_time": "2023-12-10T15:04:06.213Z"
   },
   {
    "duration": 28,
    "start_time": "2023-12-10T15:04:06.226Z"
   },
   {
    "duration": 190,
    "start_time": "2023-12-10T15:04:06.256Z"
   },
   {
    "duration": 13,
    "start_time": "2023-12-10T15:04:06.448Z"
   },
   {
    "duration": 20,
    "start_time": "2023-12-10T15:04:06.463Z"
   },
   {
    "duration": 14,
    "start_time": "2023-12-10T15:04:06.485Z"
   },
   {
    "duration": 452,
    "start_time": "2023-12-10T15:04:06.501Z"
   },
   {
    "duration": 0,
    "start_time": "2023-12-10T15:04:06.954Z"
   },
   {
    "duration": 191,
    "start_time": "2023-12-10T15:12:38.112Z"
   },
   {
    "duration": 3,
    "start_time": "2023-12-10T15:19:35.297Z"
   },
   {
    "duration": 3,
    "start_time": "2023-12-10T15:19:35.801Z"
   },
   {
    "duration": 16,
    "start_time": "2023-12-10T15:19:36.213Z"
   },
   {
    "duration": 177,
    "start_time": "2023-12-10T15:19:49.723Z"
   },
   {
    "duration": 1223,
    "start_time": "2023-12-10T15:21:05.297Z"
   },
   {
    "duration": 0,
    "start_time": "2023-12-10T15:21:06.521Z"
   },
   {
    "duration": 13,
    "start_time": "2023-12-10T15:21:06.542Z"
   },
   {
    "duration": 1217,
    "start_time": "2023-12-10T15:21:15.002Z"
   },
   {
    "duration": 14,
    "start_time": "2023-12-10T15:21:28.853Z"
   },
   {
    "duration": 1285,
    "start_time": "2023-12-10T15:21:30.258Z"
   },
   {
    "duration": 11,
    "start_time": "2023-12-10T15:24:49.044Z"
   },
   {
    "duration": 10,
    "start_time": "2023-12-10T15:24:52.175Z"
   },
   {
    "duration": 15,
    "start_time": "2023-12-10T15:24:52.506Z"
   },
   {
    "duration": 2,
    "start_time": "2023-12-10T15:24:58.230Z"
   },
   {
    "duration": 14,
    "start_time": "2023-12-10T15:24:58.611Z"
   },
   {
    "duration": 16,
    "start_time": "2023-12-10T15:25:51.717Z"
   },
   {
    "duration": 1069,
    "start_time": "2023-12-10T15:25:57.082Z"
   },
   {
    "duration": 54,
    "start_time": "2023-12-10T15:25:58.153Z"
   },
   {
    "duration": 18,
    "start_time": "2023-12-10T15:25:58.208Z"
   },
   {
    "duration": 2,
    "start_time": "2023-12-10T15:25:58.228Z"
   },
   {
    "duration": 14,
    "start_time": "2023-12-10T15:25:58.231Z"
   },
   {
    "duration": 15,
    "start_time": "2023-12-10T15:25:58.247Z"
   },
   {
    "duration": 24,
    "start_time": "2023-12-10T15:25:58.264Z"
   },
   {
    "duration": 9,
    "start_time": "2023-12-10T15:25:58.289Z"
   },
   {
    "duration": 39,
    "start_time": "2023-12-10T15:25:58.300Z"
   },
   {
    "duration": 29,
    "start_time": "2023-12-10T15:25:58.341Z"
   },
   {
    "duration": 21,
    "start_time": "2023-12-10T15:25:58.372Z"
   },
   {
    "duration": 25,
    "start_time": "2023-12-10T15:25:58.395Z"
   },
   {
    "duration": 298,
    "start_time": "2023-12-10T15:25:58.421Z"
   },
   {
    "duration": 24,
    "start_time": "2023-12-10T15:25:58.721Z"
   },
   {
    "duration": 13,
    "start_time": "2023-12-10T15:25:58.747Z"
   },
   {
    "duration": 25,
    "start_time": "2023-12-10T15:25:58.761Z"
   },
   {
    "duration": 14,
    "start_time": "2023-12-10T15:25:58.788Z"
   },
   {
    "duration": 14,
    "start_time": "2023-12-10T15:25:58.804Z"
   },
   {
    "duration": 209,
    "start_time": "2023-12-10T15:25:58.819Z"
   },
   {
    "duration": 21,
    "start_time": "2023-12-10T15:25:59.030Z"
   },
   {
    "duration": 36,
    "start_time": "2023-12-10T15:25:59.053Z"
   },
   {
    "duration": 9,
    "start_time": "2023-12-10T15:25:59.090Z"
   },
   {
    "duration": 200,
    "start_time": "2023-12-10T15:25:59.100Z"
   },
   {
    "duration": 14,
    "start_time": "2023-12-10T15:25:59.301Z"
   },
   {
    "duration": 10,
    "start_time": "2023-12-10T15:25:59.316Z"
   },
   {
    "duration": 17,
    "start_time": "2023-12-10T15:25:59.328Z"
   },
   {
    "duration": 4122,
    "start_time": "2023-12-10T15:25:59.346Z"
   },
   {
    "duration": 12,
    "start_time": "2023-12-10T15:26:03.470Z"
   },
   {
    "duration": 402,
    "start_time": "2023-12-10T15:26:10.639Z"
   },
   {
    "duration": 14,
    "start_time": "2023-12-10T15:26:11.392Z"
   },
   {
    "duration": 290,
    "start_time": "2023-12-10T15:26:17.387Z"
   },
   {
    "duration": 298,
    "start_time": "2023-12-10T15:26:20.272Z"
   },
   {
    "duration": 290,
    "start_time": "2023-12-10T15:26:24.987Z"
   },
   {
    "duration": 355,
    "start_time": "2023-12-10T15:26:39.192Z"
   },
   {
    "duration": 1051,
    "start_time": "2023-12-10T15:26:44.269Z"
   },
   {
    "duration": 55,
    "start_time": "2023-12-10T15:26:45.322Z"
   },
   {
    "duration": 18,
    "start_time": "2023-12-10T15:26:45.378Z"
   },
   {
    "duration": 3,
    "start_time": "2023-12-10T15:26:45.397Z"
   },
   {
    "duration": 14,
    "start_time": "2023-12-10T15:26:45.402Z"
   },
   {
    "duration": 14,
    "start_time": "2023-12-10T15:26:45.417Z"
   },
   {
    "duration": 8,
    "start_time": "2023-12-10T15:26:45.432Z"
   },
   {
    "duration": 4,
    "start_time": "2023-12-10T15:26:45.442Z"
   },
   {
    "duration": 47,
    "start_time": "2023-12-10T15:26:45.448Z"
   },
   {
    "duration": 18,
    "start_time": "2023-12-10T15:26:45.496Z"
   },
   {
    "duration": 12,
    "start_time": "2023-12-10T15:26:45.515Z"
   },
   {
    "duration": 13,
    "start_time": "2023-12-10T15:26:45.528Z"
   },
   {
    "duration": 313,
    "start_time": "2023-12-10T15:26:45.543Z"
   },
   {
    "duration": 30,
    "start_time": "2023-12-10T15:26:45.859Z"
   },
   {
    "duration": 14,
    "start_time": "2023-12-10T15:26:45.890Z"
   },
   {
    "duration": 5,
    "start_time": "2023-12-10T15:26:45.905Z"
   },
   {
    "duration": 5,
    "start_time": "2023-12-10T15:26:45.912Z"
   },
   {
    "duration": 13,
    "start_time": "2023-12-10T15:26:45.918Z"
   },
   {
    "duration": 214,
    "start_time": "2023-12-10T15:26:45.932Z"
   },
   {
    "duration": 14,
    "start_time": "2023-12-10T15:26:46.147Z"
   },
   {
    "duration": 26,
    "start_time": "2023-12-10T15:26:46.162Z"
   },
   {
    "duration": 15,
    "start_time": "2023-12-10T15:26:46.189Z"
   },
   {
    "duration": 193,
    "start_time": "2023-12-10T15:26:46.205Z"
   },
   {
    "duration": 16,
    "start_time": "2023-12-10T15:26:46.399Z"
   },
   {
    "duration": 10,
    "start_time": "2023-12-10T15:26:46.417Z"
   },
   {
    "duration": 17,
    "start_time": "2023-12-10T15:26:46.429Z"
   },
   {
    "duration": 4103,
    "start_time": "2023-12-10T15:26:46.447Z"
   },
   {
    "duration": 9,
    "start_time": "2023-12-10T15:26:50.552Z"
   },
   {
    "duration": 4011,
    "start_time": "2023-12-10T15:27:06.765Z"
   },
   {
    "duration": 1070,
    "start_time": "2023-12-10T15:28:23.564Z"
   },
   {
    "duration": 52,
    "start_time": "2023-12-10T15:28:24.636Z"
   },
   {
    "duration": 16,
    "start_time": "2023-12-10T15:28:24.690Z"
   },
   {
    "duration": 2,
    "start_time": "2023-12-10T15:28:24.708Z"
   },
   {
    "duration": 15,
    "start_time": "2023-12-10T15:28:24.711Z"
   },
   {
    "duration": 14,
    "start_time": "2023-12-10T15:28:24.727Z"
   },
   {
    "duration": 6,
    "start_time": "2023-12-10T15:28:24.743Z"
   },
   {
    "duration": 9,
    "start_time": "2023-12-10T15:28:24.750Z"
   },
   {
    "duration": 38,
    "start_time": "2023-12-10T15:28:24.760Z"
   },
   {
    "duration": 17,
    "start_time": "2023-12-10T15:28:24.800Z"
   },
   {
    "duration": 11,
    "start_time": "2023-12-10T15:28:24.818Z"
   },
   {
    "duration": 14,
    "start_time": "2023-12-10T15:28:24.830Z"
   },
   {
    "duration": 313,
    "start_time": "2023-12-10T15:28:24.845Z"
   },
   {
    "duration": 31,
    "start_time": "2023-12-10T15:28:25.160Z"
   },
   {
    "duration": 16,
    "start_time": "2023-12-10T15:28:25.193Z"
   },
   {
    "duration": 6,
    "start_time": "2023-12-10T15:28:25.210Z"
   },
   {
    "duration": 12,
    "start_time": "2023-12-10T15:28:25.218Z"
   },
   {
    "duration": 10,
    "start_time": "2023-12-10T15:28:25.231Z"
   },
   {
    "duration": 215,
    "start_time": "2023-12-10T15:28:25.243Z"
   },
   {
    "duration": 25,
    "start_time": "2023-12-10T15:28:25.460Z"
   },
   {
    "duration": 11,
    "start_time": "2023-12-10T15:28:25.486Z"
   },
   {
    "duration": 7,
    "start_time": "2023-12-10T15:28:25.499Z"
   },
   {
    "duration": 220,
    "start_time": "2023-12-10T15:28:25.507Z"
   },
   {
    "duration": 16,
    "start_time": "2023-12-10T15:28:25.729Z"
   },
   {
    "duration": 10,
    "start_time": "2023-12-10T15:28:25.746Z"
   },
   {
    "duration": 16,
    "start_time": "2023-12-10T15:28:25.781Z"
   },
   {
    "duration": 8,
    "start_time": "2023-12-10T15:28:25.798Z"
   },
   {
    "duration": 981,
    "start_time": "2023-12-10T15:28:46.231Z"
   },
   {
    "duration": 52,
    "start_time": "2023-12-10T15:28:47.213Z"
   },
   {
    "duration": 17,
    "start_time": "2023-12-10T15:28:47.266Z"
   },
   {
    "duration": 19,
    "start_time": "2023-12-10T15:28:47.285Z"
   },
   {
    "duration": 52,
    "start_time": "2023-12-10T15:28:47.306Z"
   },
   {
    "duration": 20,
    "start_time": "2023-12-10T15:28:47.359Z"
   },
   {
    "duration": 12,
    "start_time": "2023-12-10T15:28:47.380Z"
   },
   {
    "duration": 5,
    "start_time": "2023-12-10T15:28:47.393Z"
   },
   {
    "duration": 23,
    "start_time": "2023-12-10T15:28:47.399Z"
   },
   {
    "duration": 18,
    "start_time": "2023-12-10T15:28:47.423Z"
   },
   {
    "duration": 12,
    "start_time": "2023-12-10T15:28:47.443Z"
   },
   {
    "duration": 32,
    "start_time": "2023-12-10T15:28:47.456Z"
   },
   {
    "duration": 294,
    "start_time": "2023-12-10T15:28:47.490Z"
   },
   {
    "duration": 24,
    "start_time": "2023-12-10T15:28:47.786Z"
   },
   {
    "duration": 12,
    "start_time": "2023-12-10T15:28:47.812Z"
   },
   {
    "duration": 8,
    "start_time": "2023-12-10T15:28:47.826Z"
   },
   {
    "duration": 7,
    "start_time": "2023-12-10T15:28:47.835Z"
   },
   {
    "duration": 39,
    "start_time": "2023-12-10T15:28:47.844Z"
   },
   {
    "duration": 189,
    "start_time": "2023-12-10T15:28:47.884Z"
   },
   {
    "duration": 18,
    "start_time": "2023-12-10T15:28:48.074Z"
   },
   {
    "duration": 10,
    "start_time": "2023-12-10T15:28:48.094Z"
   },
   {
    "duration": 6,
    "start_time": "2023-12-10T15:28:48.105Z"
   },
   {
    "duration": 208,
    "start_time": "2023-12-10T15:28:48.112Z"
   },
   {
    "duration": 14,
    "start_time": "2023-12-10T15:28:48.321Z"
   },
   {
    "duration": 10,
    "start_time": "2023-12-10T15:28:48.336Z"
   },
   {
    "duration": 38,
    "start_time": "2023-12-10T15:28:48.348Z"
   },
   {
    "duration": 8,
    "start_time": "2023-12-10T15:28:48.388Z"
   },
   {
    "duration": 4623,
    "start_time": "2023-12-10T15:29:52.753Z"
   },
   {
    "duration": 96,
    "start_time": "2023-12-10T15:30:05.856Z"
   },
   {
    "duration": 7,
    "start_time": "2023-12-10T15:31:29.225Z"
   },
   {
    "duration": 14,
    "start_time": "2023-12-10T15:31:40.617Z"
   },
   {
    "duration": 11,
    "start_time": "2023-12-10T15:32:03.158Z"
   },
   {
    "duration": 18,
    "start_time": "2023-12-10T15:32:12.460Z"
   },
   {
    "duration": 13,
    "start_time": "2023-12-10T15:32:52.694Z"
   },
   {
    "duration": 11,
    "start_time": "2023-12-10T15:33:07.492Z"
   },
   {
    "duration": 16,
    "start_time": "2023-12-10T15:33:11.654Z"
   },
   {
    "duration": 8,
    "start_time": "2023-12-10T15:34:20.524Z"
   },
   {
    "duration": 13,
    "start_time": "2023-12-10T15:34:20.977Z"
   },
   {
    "duration": 10,
    "start_time": "2023-12-10T15:34:51.304Z"
   },
   {
    "duration": 16,
    "start_time": "2023-12-10T15:34:51.897Z"
   },
   {
    "duration": 12,
    "start_time": "2023-12-10T15:35:18.342Z"
   },
   {
    "duration": 12,
    "start_time": "2023-12-10T15:35:31.765Z"
   },
   {
    "duration": 19,
    "start_time": "2023-12-10T15:35:37.432Z"
   },
   {
    "duration": 18,
    "start_time": "2023-12-10T15:38:59.071Z"
   },
   {
    "duration": 13,
    "start_time": "2023-12-10T15:44:47.272Z"
   },
   {
    "duration": 170,
    "start_time": "2023-12-10T15:44:59.838Z"
   },
   {
    "duration": 167,
    "start_time": "2023-12-10T15:45:18.207Z"
   },
   {
    "duration": 248,
    "start_time": "2023-12-10T15:45:42.069Z"
   },
   {
    "duration": 313,
    "start_time": "2023-12-10T15:45:50.052Z"
   },
   {
    "duration": 233,
    "start_time": "2023-12-10T15:45:55.687Z"
   },
   {
    "duration": 212,
    "start_time": "2023-12-10T15:46:05.463Z"
   },
   {
    "duration": 25,
    "start_time": "2023-12-10T15:47:08.217Z"
   },
   {
    "duration": 224,
    "start_time": "2023-12-10T15:48:02.909Z"
   },
   {
    "duration": 17,
    "start_time": "2023-12-10T15:48:47.867Z"
   },
   {
    "duration": 245,
    "start_time": "2023-12-10T15:49:57.576Z"
   },
   {
    "duration": 323,
    "start_time": "2023-12-10T15:50:11.650Z"
   },
   {
    "duration": 259,
    "start_time": "2023-12-10T15:50:19.259Z"
   },
   {
    "duration": 212,
    "start_time": "2023-12-10T15:50:24.283Z"
   },
   {
    "duration": 219,
    "start_time": "2023-12-10T15:50:28.125Z"
   },
   {
    "duration": 251,
    "start_time": "2023-12-10T15:50:37.231Z"
   },
   {
    "duration": 146,
    "start_time": "2023-12-10T15:50:45.468Z"
   },
   {
    "duration": 130,
    "start_time": "2023-12-10T15:50:51.058Z"
   },
   {
    "duration": 264,
    "start_time": "2023-12-10T15:51:27.944Z"
   },
   {
    "duration": 68,
    "start_time": "2023-12-10T15:51:51.336Z"
   },
   {
    "duration": 4,
    "start_time": "2023-12-10T15:57:31.551Z"
   },
   {
    "duration": 225,
    "start_time": "2023-12-10T15:57:32.850Z"
   },
   {
    "duration": 9,
    "start_time": "2023-12-10T15:58:59.894Z"
   },
   {
    "duration": 9,
    "start_time": "2023-12-10T16:00:39.617Z"
   },
   {
    "duration": 13,
    "start_time": "2023-12-10T16:00:54.024Z"
   },
   {
    "duration": 279,
    "start_time": "2023-12-10T16:01:04.239Z"
   },
   {
    "duration": 3,
    "start_time": "2023-12-10T16:02:49.679Z"
   },
   {
    "duration": 12,
    "start_time": "2023-12-10T16:03:21.634Z"
   },
   {
    "duration": 198,
    "start_time": "2023-12-10T16:03:26.319Z"
   },
   {
    "duration": 9,
    "start_time": "2023-12-10T16:04:23.708Z"
   },
   {
    "duration": 30,
    "start_time": "2023-12-10T16:04:35.908Z"
   },
   {
    "duration": 51,
    "start_time": "2023-12-10T16:07:39.373Z"
   },
   {
    "duration": 30,
    "start_time": "2023-12-10T16:07:43.238Z"
   },
   {
    "duration": 199,
    "start_time": "2023-12-10T16:07:45.338Z"
   },
   {
    "duration": 13,
    "start_time": "2023-12-10T16:09:21.022Z"
   },
   {
    "duration": 408,
    "start_time": "2023-12-10T16:10:45.033Z"
   },
   {
    "duration": 11,
    "start_time": "2023-12-10T16:10:45.675Z"
   },
   {
    "duration": 302,
    "start_time": "2023-12-10T16:10:57.261Z"
   },
   {
    "duration": 7,
    "start_time": "2023-12-10T16:11:09.868Z"
   },
   {
    "duration": 12,
    "start_time": "2023-12-10T16:11:11.530Z"
   },
   {
    "duration": 7,
    "start_time": "2023-12-10T16:11:14.794Z"
   },
   {
    "duration": 12,
    "start_time": "2023-12-10T16:11:15.177Z"
   },
   {
    "duration": 27,
    "start_time": "2023-12-10T16:12:58.792Z"
   },
   {
    "duration": 9,
    "start_time": "2023-12-10T16:13:31.118Z"
   },
   {
    "duration": 29,
    "start_time": "2023-12-10T16:13:39.402Z"
   },
   {
    "duration": 32,
    "start_time": "2023-12-10T16:14:34.392Z"
   },
   {
    "duration": 16,
    "start_time": "2023-12-10T16:20:20.769Z"
   },
   {
    "duration": 1129,
    "start_time": "2023-12-10T16:22:18.545Z"
   },
   {
    "duration": 56,
    "start_time": "2023-12-10T16:22:19.676Z"
   },
   {
    "duration": 17,
    "start_time": "2023-12-10T16:22:19.734Z"
   },
   {
    "duration": 2,
    "start_time": "2023-12-10T16:22:19.753Z"
   },
   {
    "duration": 20,
    "start_time": "2023-12-10T16:22:19.757Z"
   },
   {
    "duration": 16,
    "start_time": "2023-12-10T16:22:19.778Z"
   },
   {
    "duration": 7,
    "start_time": "2023-12-10T16:22:19.795Z"
   },
   {
    "duration": 4,
    "start_time": "2023-12-10T16:22:19.803Z"
   },
   {
    "duration": 21,
    "start_time": "2023-12-10T16:22:19.808Z"
   },
   {
    "duration": 18,
    "start_time": "2023-12-10T16:22:19.831Z"
   },
   {
    "duration": 37,
    "start_time": "2023-12-10T16:22:19.851Z"
   },
   {
    "duration": 13,
    "start_time": "2023-12-10T16:22:19.889Z"
   },
   {
    "duration": 291,
    "start_time": "2023-12-10T16:22:19.903Z"
   },
   {
    "duration": 23,
    "start_time": "2023-12-10T16:22:20.197Z"
   },
   {
    "duration": 13,
    "start_time": "2023-12-10T16:22:20.221Z"
   },
   {
    "duration": 5,
    "start_time": "2023-12-10T16:22:20.235Z"
   },
   {
    "duration": 4,
    "start_time": "2023-12-10T16:22:20.241Z"
   },
   {
    "duration": 44,
    "start_time": "2023-12-10T16:22:20.246Z"
   },
   {
    "duration": 205,
    "start_time": "2023-12-10T16:22:20.291Z"
   },
   {
    "duration": 15,
    "start_time": "2023-12-10T16:22:20.497Z"
   },
   {
    "duration": 12,
    "start_time": "2023-12-10T16:22:20.513Z"
   },
   {
    "duration": 7,
    "start_time": "2023-12-10T16:22:20.526Z"
   },
   {
    "duration": 205,
    "start_time": "2023-12-10T16:22:20.534Z"
   },
   {
    "duration": 13,
    "start_time": "2023-12-10T16:22:20.740Z"
   },
   {
    "duration": 28,
    "start_time": "2023-12-10T16:22:20.754Z"
   },
   {
    "duration": 8,
    "start_time": "2023-12-10T16:22:20.784Z"
   },
   {
    "duration": 25,
    "start_time": "2023-12-10T16:22:20.794Z"
   },
   {
    "duration": 14,
    "start_time": "2023-12-10T16:22:20.821Z"
   },
   {
    "duration": 11,
    "start_time": "2023-12-10T16:22:20.836Z"
   },
   {
    "duration": 38,
    "start_time": "2023-12-10T16:22:20.848Z"
   },
   {
    "duration": 14,
    "start_time": "2023-12-10T16:22:20.888Z"
   },
   {
    "duration": 12,
    "start_time": "2023-12-10T16:22:20.903Z"
   },
   {
    "duration": 10,
    "start_time": "2023-12-10T16:22:20.916Z"
   },
   {
    "duration": 13,
    "start_time": "2023-12-10T16:22:20.927Z"
   },
   {
    "duration": 47,
    "start_time": "2023-12-10T16:22:20.941Z"
   },
   {
    "duration": 12,
    "start_time": "2023-12-10T16:22:20.990Z"
   },
   {
    "duration": 10,
    "start_time": "2023-12-10T16:22:21.004Z"
   },
   {
    "duration": 8,
    "start_time": "2023-12-10T16:22:21.016Z"
   },
   {
    "duration": 18,
    "start_time": "2023-12-10T16:22:21.025Z"
   },
   {
    "duration": 17,
    "start_time": "2023-12-10T16:22:21.081Z"
   },
   {
    "duration": 234,
    "start_time": "2023-12-10T16:22:21.103Z"
   },
   {
    "duration": 14,
    "start_time": "2023-12-10T16:22:21.338Z"
   },
   {
    "duration": 3,
    "start_time": "2023-12-10T16:22:21.353Z"
   },
   {
    "duration": 244,
    "start_time": "2023-12-10T16:22:21.358Z"
   },
   {
    "duration": 17,
    "start_time": "2023-12-10T16:22:21.604Z"
   },
   {
    "duration": 248,
    "start_time": "2023-12-10T16:22:21.623Z"
   },
   {
    "duration": 10,
    "start_time": "2023-12-10T16:22:21.872Z"
   },
   {
    "duration": 23,
    "start_time": "2023-12-10T16:22:21.883Z"
   },
   {
    "duration": 12,
    "start_time": "2023-12-10T16:22:21.907Z"
   },
   {
    "duration": 12,
    "start_time": "2023-12-10T16:22:21.920Z"
   },
   {
    "duration": 304,
    "start_time": "2023-12-10T16:22:21.933Z"
   },
   {
    "duration": 8,
    "start_time": "2023-12-10T16:22:22.238Z"
   },
   {
    "duration": 231,
    "start_time": "2023-12-10T16:22:22.248Z"
   },
   {
    "duration": 124,
    "start_time": "2023-12-10T16:22:22.481Z"
   },
   {
    "duration": 5,
    "start_time": "2023-12-10T16:22:47.697Z"
   },
   {
    "duration": 12,
    "start_time": "2023-12-10T16:22:48.939Z"
   },
   {
    "duration": 217,
    "start_time": "2023-12-10T16:22:56.617Z"
   },
   {
    "duration": 208,
    "start_time": "2023-12-10T16:23:14.724Z"
   },
   {
    "duration": 196,
    "start_time": "2023-12-10T16:24:16.729Z"
   },
   {
    "duration": 7,
    "start_time": "2023-12-10T16:24:18.252Z"
   },
   {
    "duration": 219,
    "start_time": "2023-12-10T16:24:19.363Z"
   },
   {
    "duration": 210,
    "start_time": "2023-12-10T16:25:00.817Z"
   },
   {
    "duration": 12,
    "start_time": "2023-12-10T16:25:08.016Z"
   },
   {
    "duration": 13,
    "start_time": "2023-12-10T16:25:08.553Z"
   },
   {
    "duration": 209,
    "start_time": "2023-12-10T16:25:10.429Z"
   },
   {
    "duration": 7,
    "start_time": "2023-12-10T16:25:11.021Z"
   },
   {
    "duration": 192,
    "start_time": "2023-12-10T16:25:11.270Z"
   },
   {
    "duration": 270,
    "start_time": "2023-12-10T16:25:12.522Z"
   },
   {
    "duration": 352,
    "start_time": "2023-12-10T16:27:59.249Z"
   },
   {
    "duration": 20,
    "start_time": "2023-12-10T16:37:30.062Z"
   },
   {
    "duration": 778,
    "start_time": "2023-12-10T16:37:48.435Z"
   },
   {
    "duration": 436,
    "start_time": "2023-12-10T16:45:29.237Z"
   },
   {
    "duration": 20,
    "start_time": "2023-12-10T16:50:10.797Z"
   },
   {
    "duration": 9,
    "start_time": "2023-12-10T16:50:18.433Z"
   },
   {
    "duration": 25,
    "start_time": "2023-12-10T16:50:24.929Z"
   },
   {
    "duration": 29,
    "start_time": "2023-12-10T17:45:43.201Z"
   },
   {
    "duration": 20,
    "start_time": "2023-12-10T18:48:19.488Z"
   },
   {
    "duration": 18,
    "start_time": "2023-12-10T18:50:03.623Z"
   },
   {
    "duration": 21,
    "start_time": "2023-12-10T18:50:17.595Z"
   },
   {
    "duration": 18,
    "start_time": "2023-12-10T18:50:24.505Z"
   },
   {
    "duration": 111,
    "start_time": "2023-12-10T18:50:31.674Z"
   },
   {
    "duration": 106,
    "start_time": "2023-12-10T18:52:43.035Z"
   },
   {
    "duration": 9,
    "start_time": "2023-12-10T18:53:19.074Z"
   },
   {
    "duration": 96,
    "start_time": "2023-12-10T18:53:28.823Z"
   },
   {
    "duration": 14,
    "start_time": "2023-12-10T18:53:35.834Z"
   },
   {
    "duration": 102,
    "start_time": "2023-12-10T18:53:55.521Z"
   },
   {
    "duration": 112,
    "start_time": "2023-12-10T18:54:47.275Z"
   },
   {
    "duration": 102,
    "start_time": "2023-12-10T18:54:56.650Z"
   },
   {
    "duration": 123,
    "start_time": "2023-12-10T18:57:07.776Z"
   },
   {
    "duration": 101,
    "start_time": "2023-12-10T18:57:40.809Z"
   },
   {
    "duration": 13,
    "start_time": "2023-12-10T19:03:18.738Z"
   },
   {
    "duration": 111,
    "start_time": "2023-12-10T19:03:27.972Z"
   },
   {
    "duration": 86,
    "start_time": "2023-12-10T19:06:30.224Z"
   },
   {
    "duration": 194,
    "start_time": "2023-12-10T19:06:41.830Z"
   },
   {
    "duration": 20280,
    "start_time": "2023-12-10T19:07:43.379Z"
   },
   {
    "duration": 107,
    "start_time": "2023-12-10T19:09:57.453Z"
   },
   {
    "duration": 21118,
    "start_time": "2023-12-10T19:10:09.713Z"
   },
   {
    "duration": 21200,
    "start_time": "2023-12-10T19:12:32.505Z"
   },
   {
    "duration": 21664,
    "start_time": "2023-12-10T19:14:44.057Z"
   },
   {
    "duration": 72,
    "start_time": "2023-12-10T19:15:25.554Z"
   },
   {
    "duration": 5,
    "start_time": "2023-12-10T19:17:54.605Z"
   },
   {
    "duration": 127,
    "start_time": "2023-12-10T19:18:03.785Z"
   },
   {
    "duration": 129,
    "start_time": "2023-12-10T19:18:11.329Z"
   },
   {
    "duration": 120,
    "start_time": "2023-12-10T19:18:28.604Z"
   },
   {
    "duration": 3,
    "start_time": "2023-12-10T19:20:05.093Z"
   },
   {
    "duration": 13097,
    "start_time": "2023-12-10T19:20:09.092Z"
   },
   {
    "duration": 117,
    "start_time": "2023-12-10T19:23:14.562Z"
   },
   {
    "duration": 13,
    "start_time": "2023-12-10T19:25:41.053Z"
   },
   {
    "duration": 12649,
    "start_time": "2023-12-10T19:25:53.715Z"
   },
   {
    "duration": 12656,
    "start_time": "2023-12-10T19:26:17.480Z"
   },
   {
    "duration": 121,
    "start_time": "2023-12-10T19:26:41.433Z"
   },
   {
    "duration": 12980,
    "start_time": "2023-12-10T19:27:15.438Z"
   },
   {
    "duration": 12983,
    "start_time": "2023-12-10T19:27:51.105Z"
   },
   {
    "duration": 12883,
    "start_time": "2023-12-10T19:28:08.765Z"
   },
   {
    "duration": 13556,
    "start_time": "2023-12-10T19:28:31.038Z"
   },
   {
    "duration": 12674,
    "start_time": "2023-12-10T19:29:04.948Z"
   },
   {
    "duration": 2,
    "start_time": "2023-12-10T19:30:52.784Z"
   },
   {
    "duration": 5442,
    "start_time": "2023-12-10T19:30:55.386Z"
   },
   {
    "duration": 4627,
    "start_time": "2023-12-10T19:31:50.622Z"
   },
   {
    "duration": 4554,
    "start_time": "2023-12-10T19:34:00.423Z"
   },
   {
    "duration": 229,
    "start_time": "2023-12-10T19:34:39.992Z"
   },
   {
    "duration": 209,
    "start_time": "2023-12-10T19:36:01.641Z"
   },
   {
    "duration": 224,
    "start_time": "2023-12-10T19:36:22.474Z"
   },
   {
    "duration": 36,
    "start_time": "2023-12-10T19:36:40.763Z"
   },
   {
    "duration": 199,
    "start_time": "2023-12-10T19:36:56.518Z"
   },
   {
    "duration": 201,
    "start_time": "2023-12-10T19:38:26.152Z"
   },
   {
    "duration": 472,
    "start_time": "2023-12-10T19:44:21.535Z"
   },
   {
    "duration": 162,
    "start_time": "2023-12-10T19:44:33.161Z"
   },
   {
    "duration": 150,
    "start_time": "2023-12-10T19:45:05.555Z"
   },
   {
    "duration": 198,
    "start_time": "2023-12-10T19:45:14.473Z"
   },
   {
    "duration": 283,
    "start_time": "2023-12-10T19:45:45.527Z"
   },
   {
    "duration": 308,
    "start_time": "2023-12-10T19:45:56.909Z"
   },
   {
    "duration": 233,
    "start_time": "2023-12-10T19:49:20.925Z"
   },
   {
    "duration": 181,
    "start_time": "2023-12-10T19:49:28.683Z"
   },
   {
    "duration": 244,
    "start_time": "2023-12-10T19:51:40.092Z"
   },
   {
    "duration": 176,
    "start_time": "2023-12-10T19:52:21.336Z"
   },
   {
    "duration": 16,
    "start_time": "2023-12-10T19:53:22.280Z"
   },
   {
    "duration": 294,
    "start_time": "2023-12-10T19:53:36.837Z"
   },
   {
    "duration": 195,
    "start_time": "2023-12-10T19:57:06.271Z"
   },
   {
    "duration": 193,
    "start_time": "2023-12-10T19:57:52.732Z"
   },
   {
    "duration": 214,
    "start_time": "2023-12-10T20:01:03.647Z"
   },
   {
    "duration": 198,
    "start_time": "2023-12-10T20:01:22.594Z"
   },
   {
    "duration": 183,
    "start_time": "2023-12-10T20:03:30.917Z"
   },
   {
    "duration": 192,
    "start_time": "2023-12-10T20:04:35.475Z"
   },
   {
    "duration": 176,
    "start_time": "2023-12-10T20:05:06.162Z"
   },
   {
    "duration": 176,
    "start_time": "2023-12-10T20:05:33.452Z"
   },
   {
    "duration": 168,
    "start_time": "2023-12-10T20:05:40.759Z"
   },
   {
    "duration": 156,
    "start_time": "2023-12-10T20:05:55.207Z"
   },
   {
    "duration": 245,
    "start_time": "2023-12-10T20:05:59.885Z"
   },
   {
    "duration": 2,
    "start_time": "2023-12-10T20:07:00.500Z"
   },
   {
    "duration": 227,
    "start_time": "2023-12-10T20:07:03.316Z"
   },
   {
    "duration": 252,
    "start_time": "2023-12-10T20:07:08.988Z"
   },
   {
    "duration": 245,
    "start_time": "2023-12-10T20:07:15.443Z"
   },
   {
    "duration": 233,
    "start_time": "2023-12-10T20:07:50.464Z"
   },
   {
    "duration": 251,
    "start_time": "2023-12-10T20:07:55.943Z"
   },
   {
    "duration": 330,
    "start_time": "2023-12-10T20:08:00.506Z"
   },
   {
    "duration": 239,
    "start_time": "2023-12-10T20:08:07.199Z"
   },
   {
    "duration": 243,
    "start_time": "2023-12-10T20:11:03.820Z"
   },
   {
    "duration": 1371,
    "start_time": "2024-01-07T16:24:08.628Z"
   },
   {
    "duration": 184,
    "start_time": "2024-01-07T16:24:10.001Z"
   },
   {
    "duration": 25,
    "start_time": "2024-01-07T16:24:10.187Z"
   },
   {
    "duration": 17,
    "start_time": "2024-01-07T16:24:10.214Z"
   },
   {
    "duration": 18,
    "start_time": "2024-01-07T16:24:10.233Z"
   },
   {
    "duration": 17,
    "start_time": "2024-01-07T16:24:10.253Z"
   },
   {
    "duration": 7,
    "start_time": "2024-01-07T16:24:10.272Z"
   },
   {
    "duration": 42,
    "start_time": "2024-01-07T16:24:10.281Z"
   },
   {
    "duration": 44,
    "start_time": "2024-01-07T16:24:10.325Z"
   },
   {
    "duration": 18,
    "start_time": "2024-01-07T16:24:10.372Z"
   },
   {
    "duration": 22,
    "start_time": "2024-01-07T16:24:10.391Z"
   },
   {
    "duration": 27,
    "start_time": "2024-01-07T16:24:10.414Z"
   },
   {
    "duration": 337,
    "start_time": "2024-01-07T16:24:10.442Z"
   },
   {
    "duration": 40,
    "start_time": "2024-01-07T16:24:10.781Z"
   },
   {
    "duration": 17,
    "start_time": "2024-01-07T16:24:10.822Z"
   },
   {
    "duration": 7,
    "start_time": "2024-01-07T16:24:10.840Z"
   },
   {
    "duration": 4,
    "start_time": "2024-01-07T16:24:10.848Z"
   },
   {
    "duration": 53,
    "start_time": "2024-01-07T16:24:10.853Z"
   },
   {
    "duration": 222,
    "start_time": "2024-01-07T16:24:10.908Z"
   },
   {
    "duration": 14,
    "start_time": "2024-01-07T16:24:11.131Z"
   },
   {
    "duration": 12,
    "start_time": "2024-01-07T16:24:11.147Z"
   },
   {
    "duration": 40,
    "start_time": "2024-01-07T16:24:11.160Z"
   },
   {
    "duration": 223,
    "start_time": "2024-01-07T16:24:11.206Z"
   },
   {
    "duration": 16,
    "start_time": "2024-01-07T16:24:11.431Z"
   },
   {
    "duration": 19,
    "start_time": "2024-01-07T16:24:11.449Z"
   },
   {
    "duration": 39,
    "start_time": "2024-01-07T16:24:11.469Z"
   },
   {
    "duration": 19,
    "start_time": "2024-01-07T16:24:11.510Z"
   },
   {
    "duration": 15,
    "start_time": "2024-01-07T16:24:11.532Z"
   },
   {
    "duration": 11,
    "start_time": "2024-01-07T16:24:11.548Z"
   },
   {
    "duration": 14,
    "start_time": "2024-01-07T16:24:11.593Z"
   },
   {
    "duration": 21,
    "start_time": "2024-01-07T16:24:11.609Z"
   },
   {
    "duration": 15,
    "start_time": "2024-01-07T16:24:11.632Z"
   },
   {
    "duration": 54,
    "start_time": "2024-01-07T16:24:11.649Z"
   },
   {
    "duration": 12,
    "start_time": "2024-01-07T16:24:11.705Z"
   },
   {
    "duration": 19,
    "start_time": "2024-01-07T16:24:11.719Z"
   },
   {
    "duration": 13,
    "start_time": "2024-01-07T16:24:11.740Z"
   },
   {
    "duration": 48,
    "start_time": "2024-01-07T16:24:11.755Z"
   },
   {
    "duration": 11,
    "start_time": "2024-01-07T16:24:11.805Z"
   },
   {
    "duration": 16,
    "start_time": "2024-01-07T16:24:11.817Z"
   },
   {
    "duration": 15,
    "start_time": "2024-01-07T16:24:11.835Z"
   },
   {
    "duration": 266,
    "start_time": "2024-01-07T16:24:11.900Z"
   },
   {
    "duration": 38,
    "start_time": "2024-01-07T16:24:12.168Z"
   },
   {
    "duration": 4,
    "start_time": "2024-01-07T16:24:12.208Z"
   },
   {
    "duration": 294,
    "start_time": "2024-01-07T16:24:12.213Z"
   },
   {
    "duration": 18,
    "start_time": "2024-01-07T16:24:12.509Z"
   },
   {
    "duration": 308,
    "start_time": "2024-01-07T16:24:12.529Z"
   },
   {
    "duration": 6,
    "start_time": "2024-01-07T16:24:12.839Z"
   },
   {
    "duration": 14,
    "start_time": "2024-01-07T16:24:12.847Z"
   },
   {
    "duration": 42,
    "start_time": "2024-01-07T16:24:12.862Z"
   },
   {
    "duration": 327,
    "start_time": "2024-01-07T16:24:12.906Z"
   },
   {
    "duration": 8,
    "start_time": "2024-01-07T16:24:13.234Z"
   },
   {
    "duration": 246,
    "start_time": "2024-01-07T16:24:13.243Z"
   },
   {
    "duration": 240,
    "start_time": "2024-01-07T16:24:13.492Z"
   },
   {
    "duration": 2,
    "start_time": "2024-01-07T16:24:13.734Z"
   },
   {
    "duration": 337,
    "start_time": "2024-01-07T16:24:13.737Z"
   },
   {
    "duration": 110,
    "start_time": "2024-01-07T16:24:32.546Z"
   },
   {
    "duration": 301,
    "start_time": "2024-01-07T16:26:11.997Z"
   },
   {
    "duration": 272,
    "start_time": "2024-01-07T16:28:41.114Z"
   },
   {
    "duration": 192,
    "start_time": "2024-01-07T16:29:01.271Z"
   },
   {
    "duration": 366,
    "start_time": "2024-01-07T16:29:45.007Z"
   },
   {
    "duration": 13,
    "start_time": "2024-01-07T16:30:32.252Z"
   },
   {
    "duration": 34211,
    "start_time": "2024-01-07T16:30:53.941Z"
   },
   {
    "duration": 76,
    "start_time": "2024-01-07T16:40:51.373Z"
   },
   {
    "duration": 40784,
    "start_time": "2024-01-07T16:40:56.326Z"
   },
   {
    "duration": 3129,
    "start_time": "2024-01-07T16:42:05.021Z"
   },
   {
    "duration": 9,
    "start_time": "2024-01-07T16:44:03.490Z"
   },
   {
    "duration": 11,
    "start_time": "2024-01-07T16:44:16.644Z"
   },
   {
    "duration": 19,
    "start_time": "2024-01-07T16:47:58.672Z"
   },
   {
    "duration": 3914,
    "start_time": "2024-01-07T16:48:22.682Z"
   },
   {
    "duration": 18,
    "start_time": "2024-01-07T17:26:22.794Z"
   },
   {
    "duration": 255,
    "start_time": "2024-01-07T17:26:37.582Z"
   },
   {
    "duration": 1259,
    "start_time": "2024-01-07T17:26:59.917Z"
   },
   {
    "duration": 1257,
    "start_time": "2024-01-07T17:34:19.502Z"
   },
   {
    "duration": 1030,
    "start_time": "2024-01-07T17:35:25.075Z"
   },
   {
    "duration": 1025,
    "start_time": "2024-01-07T17:36:25.713Z"
   },
   {
    "duration": 1158,
    "start_time": "2024-01-07T17:36:33.929Z"
   },
   {
    "duration": 1251,
    "start_time": "2024-01-07T17:38:16.860Z"
   },
   {
    "duration": 14,
    "start_time": "2024-01-07T17:38:35.872Z"
   },
   {
    "duration": 28,
    "start_time": "2024-01-07T17:40:14.724Z"
   },
   {
    "duration": 461,
    "start_time": "2024-01-07T17:40:35.832Z"
   },
   {
    "duration": 460,
    "start_time": "2024-01-07T17:42:02.065Z"
   },
   {
    "duration": 20,
    "start_time": "2024-01-07T17:43:12.143Z"
   },
   {
    "duration": 449,
    "start_time": "2024-01-07T17:43:53.137Z"
   },
   {
    "duration": 1237,
    "start_time": "2024-01-07T17:56:28.434Z"
   },
   {
    "duration": 457,
    "start_time": "2024-01-07T17:57:11.625Z"
   },
   {
    "duration": 1176,
    "start_time": "2024-01-07T17:57:49.347Z"
   },
   {
    "duration": 3,
    "start_time": "2024-01-07T18:02:14.219Z"
   },
   {
    "duration": 609,
    "start_time": "2024-01-07T18:02:22.583Z"
   },
   {
    "duration": 176,
    "start_time": "2024-01-07T19:12:29.376Z"
   },
   {
    "duration": 177,
    "start_time": "2024-01-07T19:24:12.882Z"
   },
   {
    "duration": 170,
    "start_time": "2024-01-07T19:24:16.853Z"
   },
   {
    "duration": 254,
    "start_time": "2024-01-07T19:26:52.557Z"
   },
   {
    "duration": 254,
    "start_time": "2024-01-07T19:27:18.308Z"
   },
   {
    "duration": 19,
    "start_time": "2024-01-08T03:11:06.364Z"
   },
   {
    "duration": 387,
    "start_time": "2024-01-08T03:11:47.547Z"
   },
   {
    "duration": 397,
    "start_time": "2024-01-08T03:12:31.247Z"
   },
   {
    "duration": 209,
    "start_time": "2024-01-08T03:13:12.352Z"
   },
   {
    "duration": 46,
    "start_time": "2024-01-08T16:46:03.945Z"
   },
   {
    "duration": 1232,
    "start_time": "2024-01-08T16:46:14.213Z"
   },
   {
    "duration": 99,
    "start_time": "2024-01-08T16:46:15.446Z"
   },
   {
    "duration": 15,
    "start_time": "2024-01-08T16:46:15.547Z"
   },
   {
    "duration": 24,
    "start_time": "2024-01-08T16:46:15.563Z"
   },
   {
    "duration": 50,
    "start_time": "2024-01-08T16:46:15.588Z"
   },
   {
    "duration": 73,
    "start_time": "2024-01-08T16:46:15.639Z"
   },
   {
    "duration": 31,
    "start_time": "2024-01-08T16:46:15.713Z"
   },
   {
    "duration": 34,
    "start_time": "2024-01-08T16:46:15.746Z"
   },
   {
    "duration": 64,
    "start_time": "2024-01-08T16:46:15.781Z"
   },
   {
    "duration": 35,
    "start_time": "2024-01-08T16:46:15.847Z"
   },
   {
    "duration": 24,
    "start_time": "2024-01-08T16:46:15.883Z"
   },
   {
    "duration": 11,
    "start_time": "2024-01-08T16:46:15.908Z"
   },
   {
    "duration": 270,
    "start_time": "2024-01-08T16:46:15.920Z"
   },
   {
    "duration": 22,
    "start_time": "2024-01-08T16:46:16.192Z"
   },
   {
    "duration": 30,
    "start_time": "2024-01-08T16:46:16.215Z"
   },
   {
    "duration": 6,
    "start_time": "2024-01-08T16:46:16.247Z"
   },
   {
    "duration": 34,
    "start_time": "2024-01-08T16:46:16.255Z"
   },
   {
    "duration": 30,
    "start_time": "2024-01-08T16:46:16.291Z"
   },
   {
    "duration": 215,
    "start_time": "2024-01-08T16:46:16.322Z"
   },
   {
    "duration": 19,
    "start_time": "2024-01-08T16:46:16.538Z"
   },
   {
    "duration": 21,
    "start_time": "2024-01-08T16:46:16.558Z"
   },
   {
    "duration": 25,
    "start_time": "2024-01-08T16:46:16.580Z"
   },
   {
    "duration": 206,
    "start_time": "2024-01-08T16:46:16.606Z"
   },
   {
    "duration": 12,
    "start_time": "2024-01-08T16:46:16.815Z"
   },
   {
    "duration": 24,
    "start_time": "2024-01-08T16:46:16.829Z"
   },
   {
    "duration": 35,
    "start_time": "2024-01-08T16:46:16.854Z"
   },
   {
    "duration": 34,
    "start_time": "2024-01-08T16:46:16.891Z"
   },
   {
    "duration": 28,
    "start_time": "2024-01-08T16:46:16.928Z"
   },
   {
    "duration": 31,
    "start_time": "2024-01-08T16:46:16.957Z"
   },
   {
    "duration": 15,
    "start_time": "2024-01-08T16:46:16.989Z"
   },
   {
    "duration": 40,
    "start_time": "2024-01-08T16:46:17.006Z"
   },
   {
    "duration": 36,
    "start_time": "2024-01-08T16:46:17.047Z"
   },
   {
    "duration": 22,
    "start_time": "2024-01-08T16:46:17.084Z"
   },
   {
    "duration": 30,
    "start_time": "2024-01-08T16:46:17.107Z"
   },
   {
    "duration": 39,
    "start_time": "2024-01-08T16:46:17.139Z"
   },
   {
    "duration": 19,
    "start_time": "2024-01-08T16:46:17.180Z"
   },
   {
    "duration": 34,
    "start_time": "2024-01-08T16:46:17.201Z"
   },
   {
    "duration": 29,
    "start_time": "2024-01-08T16:46:17.236Z"
   },
   {
    "duration": 31,
    "start_time": "2024-01-08T16:46:17.267Z"
   },
   {
    "duration": 14,
    "start_time": "2024-01-08T16:46:17.299Z"
   },
   {
    "duration": 245,
    "start_time": "2024-01-08T16:46:17.314Z"
   },
   {
    "duration": 16,
    "start_time": "2024-01-08T16:46:17.560Z"
   },
   {
    "duration": 3,
    "start_time": "2024-01-08T16:46:17.577Z"
   },
   {
    "duration": 260,
    "start_time": "2024-01-08T16:46:17.582Z"
   },
   {
    "duration": 15,
    "start_time": "2024-01-08T16:46:17.845Z"
   },
   {
    "duration": 253,
    "start_time": "2024-01-08T16:46:17.861Z"
   },
   {
    "duration": 5,
    "start_time": "2024-01-08T16:46:18.116Z"
   },
   {
    "duration": 15,
    "start_time": "2024-01-08T16:46:18.122Z"
   },
   {
    "duration": 13,
    "start_time": "2024-01-08T16:46:18.145Z"
   },
   {
    "duration": 276,
    "start_time": "2024-01-08T16:46:18.160Z"
   },
   {
    "duration": 10,
    "start_time": "2024-01-08T16:46:18.437Z"
   },
   {
    "duration": 190,
    "start_time": "2024-01-08T16:46:18.448Z"
   },
   {
    "duration": 204,
    "start_time": "2024-01-08T16:46:18.644Z"
   },
   {
    "duration": 3,
    "start_time": "2024-01-08T16:46:18.850Z"
   },
   {
    "duration": 527,
    "start_time": "2024-01-08T16:46:18.854Z"
   },
   {
    "duration": 155,
    "start_time": "2024-01-08T16:46:19.383Z"
   },
   {
    "duration": 218,
    "start_time": "2024-01-08T16:46:19.544Z"
   },
   {
    "duration": 248,
    "start_time": "2024-01-08T16:46:19.763Z"
   },
   {
    "duration": 175,
    "start_time": "2024-01-08T16:46:20.012Z"
   },
   {
    "duration": 185,
    "start_time": "2024-01-08T16:46:29.332Z"
   },
   {
    "duration": 183,
    "start_time": "2024-01-08T16:46:40.394Z"
   },
   {
    "duration": 1613,
    "start_time": "2024-01-08T17:08:22.249Z"
   },
   {
    "duration": 570,
    "start_time": "2024-01-08T17:08:45.286Z"
   },
   {
    "duration": 570,
    "start_time": "2024-01-08T17:12:09.260Z"
   },
   {
    "duration": 576,
    "start_time": "2024-01-08T17:12:27.686Z"
   },
   {
    "duration": 577,
    "start_time": "2024-01-08T17:12:33.219Z"
   },
   {
    "duration": 581,
    "start_time": "2024-01-08T17:12:39.324Z"
   },
   {
    "duration": 396,
    "start_time": "2024-01-08T17:13:02.538Z"
   },
   {
    "duration": 463,
    "start_time": "2024-01-08T17:36:21.875Z"
   },
   {
    "duration": 384,
    "start_time": "2024-01-08T17:36:46.535Z"
   },
   {
    "duration": 391,
    "start_time": "2024-01-08T17:37:32.691Z"
   },
   {
    "duration": 238,
    "start_time": "2024-01-08T17:37:50.747Z"
   },
   {
    "duration": 233,
    "start_time": "2024-01-08T17:37:51.899Z"
   },
   {
    "duration": 153,
    "start_time": "2024-01-08T17:38:13.332Z"
   },
   {
    "duration": 233,
    "start_time": "2024-01-08T17:38:29.503Z"
   },
   {
    "duration": 13,
    "start_time": "2024-01-08T20:32:50.554Z"
   },
   {
    "duration": 22,
    "start_time": "2024-01-08T20:34:09.473Z"
   },
   {
    "duration": 577,
    "start_time": "2024-01-09T00:41:22.984Z"
   },
   {
    "duration": 214,
    "start_time": "2024-01-09T00:42:50.036Z"
   },
   {
    "duration": 184,
    "start_time": "2024-01-09T00:42:51.167Z"
   },
   {
    "duration": 252,
    "start_time": "2024-01-09T00:42:53.772Z"
   },
   {
    "duration": 22,
    "start_time": "2024-01-09T00:46:39.437Z"
   },
   {
    "duration": 587,
    "start_time": "2024-01-09T00:46:51.066Z"
   },
   {
    "duration": 170,
    "start_time": "2024-01-09T00:47:03.532Z"
   },
   {
    "duration": 15,
    "start_time": "2024-01-09T00:51:17.613Z"
   },
   {
    "duration": 13,
    "start_time": "2024-01-09T00:53:37.811Z"
   },
   {
    "duration": 13,
    "start_time": "2024-01-09T00:54:29.071Z"
   },
   {
    "duration": 236,
    "start_time": "2024-01-09T00:55:59.194Z"
   },
   {
    "duration": 150,
    "start_time": "2024-01-09T00:58:05.627Z"
   },
   {
    "duration": 317,
    "start_time": "2024-01-09T00:59:39.270Z"
   },
   {
    "duration": 406,
    "start_time": "2024-01-09T01:01:40.019Z"
   },
   {
    "duration": 1475,
    "start_time": "2024-01-09T01:03:27.443Z"
   },
   {
    "duration": 222,
    "start_time": "2024-01-09T01:05:04.123Z"
   },
   {
    "duration": 177,
    "start_time": "2024-01-09T01:07:23.290Z"
   },
   {
    "duration": 179,
    "start_time": "2024-01-09T01:08:31.427Z"
   },
   {
    "duration": 3,
    "start_time": "2024-01-09T01:55:36.986Z"
   },
   {
    "duration": 22,
    "start_time": "2024-01-09T01:57:27.288Z"
   },
   {
    "duration": 5,
    "start_time": "2024-01-09T01:57:58.058Z"
   },
   {
    "duration": 11,
    "start_time": "2024-01-09T02:00:09.503Z"
   },
   {
    "duration": 18,
    "start_time": "2024-01-09T02:03:58.532Z"
   },
   {
    "duration": 12,
    "start_time": "2024-01-09T02:04:39.946Z"
   },
   {
    "duration": 11,
    "start_time": "2024-01-09T02:04:53.984Z"
   },
   {
    "duration": 10,
    "start_time": "2024-01-09T02:07:57.111Z"
   },
   {
    "duration": 10,
    "start_time": "2024-01-09T02:08:09.943Z"
   },
   {
    "duration": 9,
    "start_time": "2024-01-09T02:09:03.915Z"
   },
   {
    "duration": 9,
    "start_time": "2024-01-09T02:15:44.483Z"
   },
   {
    "duration": 8,
    "start_time": "2024-01-09T02:15:46.565Z"
   },
   {
    "duration": 9,
    "start_time": "2024-01-09T02:17:00.088Z"
   },
   {
    "duration": 8,
    "start_time": "2024-01-09T02:17:02.748Z"
   },
   {
    "duration": 8,
    "start_time": "2024-01-09T02:17:20.267Z"
   },
   {
    "duration": 9,
    "start_time": "2024-01-09T02:19:41.999Z"
   },
   {
    "duration": 9,
    "start_time": "2024-01-09T02:20:17.131Z"
   },
   {
    "duration": 10,
    "start_time": "2024-01-09T02:20:26.347Z"
   },
   {
    "duration": 71,
    "start_time": "2024-01-09T02:21:04.864Z"
   },
   {
    "duration": 10,
    "start_time": "2024-01-09T02:21:11.848Z"
   },
   {
    "duration": 9,
    "start_time": "2024-01-09T02:21:22.543Z"
   },
   {
    "duration": 9,
    "start_time": "2024-01-09T02:22:08.282Z"
   },
   {
    "duration": 7,
    "start_time": "2024-01-09T02:22:14.693Z"
   },
   {
    "duration": 8,
    "start_time": "2024-01-09T02:22:19.075Z"
   },
   {
    "duration": 8,
    "start_time": "2024-01-09T02:22:20.731Z"
   },
   {
    "duration": 11,
    "start_time": "2024-01-09T02:22:27.398Z"
   },
   {
    "duration": 7,
    "start_time": "2024-01-09T02:22:28.448Z"
   },
   {
    "duration": 6,
    "start_time": "2024-01-09T02:23:33.074Z"
   },
   {
    "duration": 8,
    "start_time": "2024-01-09T02:23:48.190Z"
   },
   {
    "duration": 9,
    "start_time": "2024-01-09T02:24:06.555Z"
   },
   {
    "duration": 8,
    "start_time": "2024-01-09T02:24:15.115Z"
   },
   {
    "duration": 9,
    "start_time": "2024-01-09T02:28:21.037Z"
   },
   {
    "duration": 9,
    "start_time": "2024-01-09T02:37:14.004Z"
   },
   {
    "duration": 267,
    "start_time": "2024-01-09T03:01:05.931Z"
   },
   {
    "duration": 347,
    "start_time": "2024-01-09T03:01:13.929Z"
   },
   {
    "duration": 1291,
    "start_time": "2024-01-09T07:21:01.125Z"
   },
   {
    "duration": 107,
    "start_time": "2024-01-09T07:21:02.418Z"
   },
   {
    "duration": 18,
    "start_time": "2024-01-09T07:21:02.527Z"
   },
   {
    "duration": 28,
    "start_time": "2024-01-09T07:21:02.547Z"
   },
   {
    "duration": 30,
    "start_time": "2024-01-09T07:21:02.577Z"
   },
   {
    "duration": 39,
    "start_time": "2024-01-09T07:21:02.609Z"
   },
   {
    "duration": 29,
    "start_time": "2024-01-09T07:21:02.649Z"
   },
   {
    "duration": 45,
    "start_time": "2024-01-09T07:21:02.679Z"
   },
   {
    "duration": 41,
    "start_time": "2024-01-09T07:21:02.725Z"
   },
   {
    "duration": 19,
    "start_time": "2024-01-09T07:21:02.770Z"
   },
   {
    "duration": 13,
    "start_time": "2024-01-09T07:21:02.790Z"
   },
   {
    "duration": 25,
    "start_time": "2024-01-09T07:21:02.805Z"
   },
   {
    "duration": 330,
    "start_time": "2024-01-09T07:21:02.832Z"
   },
   {
    "duration": 37,
    "start_time": "2024-01-09T07:21:03.164Z"
   },
   {
    "duration": 14,
    "start_time": "2024-01-09T07:21:03.203Z"
   },
   {
    "duration": 6,
    "start_time": "2024-01-09T07:21:03.218Z"
   },
   {
    "duration": 4,
    "start_time": "2024-01-09T07:21:03.226Z"
   },
   {
    "duration": 13,
    "start_time": "2024-01-09T07:21:03.232Z"
   },
   {
    "duration": 249,
    "start_time": "2024-01-09T07:21:03.246Z"
   },
   {
    "duration": 16,
    "start_time": "2024-01-09T07:21:03.496Z"
   },
   {
    "duration": 19,
    "start_time": "2024-01-09T07:21:03.513Z"
   },
   {
    "duration": 10,
    "start_time": "2024-01-09T07:21:03.534Z"
   },
   {
    "duration": 223,
    "start_time": "2024-01-09T07:21:03.545Z"
   },
   {
    "duration": 22,
    "start_time": "2024-01-09T07:21:03.770Z"
   },
   {
    "duration": 11,
    "start_time": "2024-01-09T07:21:03.794Z"
   },
   {
    "duration": 14,
    "start_time": "2024-01-09T07:21:03.806Z"
   },
   {
    "duration": 27,
    "start_time": "2024-01-09T07:21:03.821Z"
   },
   {
    "duration": 41,
    "start_time": "2024-01-09T07:21:03.852Z"
   },
   {
    "duration": 12,
    "start_time": "2024-01-09T07:21:03.895Z"
   },
   {
    "duration": 13,
    "start_time": "2024-01-09T07:21:03.908Z"
   },
   {
    "duration": 25,
    "start_time": "2024-01-09T07:21:03.922Z"
   },
   {
    "duration": 39,
    "start_time": "2024-01-09T07:21:03.948Z"
   },
   {
    "duration": 10,
    "start_time": "2024-01-09T07:21:03.989Z"
   },
   {
    "duration": 11,
    "start_time": "2024-01-09T07:21:04.000Z"
   },
   {
    "duration": 20,
    "start_time": "2024-01-09T07:21:04.012Z"
   },
   {
    "duration": 20,
    "start_time": "2024-01-09T07:21:04.034Z"
   },
   {
    "duration": 35,
    "start_time": "2024-01-09T07:21:04.055Z"
   },
   {
    "duration": 8,
    "start_time": "2024-01-09T07:21:04.092Z"
   },
   {
    "duration": 19,
    "start_time": "2024-01-09T07:21:04.101Z"
   },
   {
    "duration": 15,
    "start_time": "2024-01-09T07:21:04.122Z"
   },
   {
    "duration": 277,
    "start_time": "2024-01-09T07:21:04.139Z"
   },
   {
    "duration": 16,
    "start_time": "2024-01-09T07:21:04.418Z"
   },
   {
    "duration": 7,
    "start_time": "2024-01-09T07:21:04.435Z"
   },
   {
    "duration": 275,
    "start_time": "2024-01-09T07:21:04.443Z"
   },
   {
    "duration": 16,
    "start_time": "2024-01-09T07:21:04.719Z"
   },
   {
    "duration": 254,
    "start_time": "2024-01-09T07:21:04.737Z"
   },
   {
    "duration": 5,
    "start_time": "2024-01-09T07:21:04.993Z"
   },
   {
    "duration": 23,
    "start_time": "2024-01-09T07:21:05.000Z"
   },
   {
    "duration": 13,
    "start_time": "2024-01-09T07:21:05.025Z"
   },
   {
    "duration": 315,
    "start_time": "2024-01-09T07:21:05.040Z"
   },
   {
    "duration": 7,
    "start_time": "2024-01-09T07:21:05.357Z"
   },
   {
    "duration": 220,
    "start_time": "2024-01-09T07:21:05.365Z"
   },
   {
    "duration": 218,
    "start_time": "2024-01-09T07:21:05.587Z"
   },
   {
    "duration": 2,
    "start_time": "2024-01-09T07:21:05.807Z"
   },
   {
    "duration": 628,
    "start_time": "2024-01-09T07:21:05.811Z"
   },
   {
    "duration": 178,
    "start_time": "2024-01-09T07:21:06.441Z"
   },
   {
    "duration": 253,
    "start_time": "2024-01-09T07:21:06.621Z"
   },
   {
    "duration": 281,
    "start_time": "2024-01-09T07:21:06.881Z"
   },
   {
    "duration": 223,
    "start_time": "2024-01-09T07:21:07.164Z"
   },
   {
    "duration": 446,
    "start_time": "2024-01-09T07:21:07.388Z"
   },
   {
    "duration": 182,
    "start_time": "2024-01-09T07:21:07.835Z"
   },
   {
    "duration": 279,
    "start_time": "2024-01-09T07:21:08.019Z"
   },
   {
    "duration": 293,
    "start_time": "2024-01-09T07:21:08.300Z"
   },
   {
    "duration": 14,
    "start_time": "2024-01-09T07:21:08.594Z"
   },
   {
    "duration": 215,
    "start_time": "2024-01-09T07:21:08.609Z"
   },
   {
    "duration": 222,
    "start_time": "2024-01-09T07:21:08.825Z"
   },
   {
    "duration": 204,
    "start_time": "2024-01-09T07:21:09.048Z"
   },
   {
    "duration": 9,
    "start_time": "2024-01-09T07:21:09.254Z"
   },
   {
    "duration": 22,
    "start_time": "2024-01-09T07:21:09.264Z"
   },
   {
    "duration": 9,
    "start_time": "2024-01-09T07:32:07.513Z"
   },
   {
    "duration": 1123,
    "start_time": "2024-01-09T07:46:10.059Z"
   },
   {
    "duration": 54,
    "start_time": "2024-01-09T07:46:11.184Z"
   },
   {
    "duration": 16,
    "start_time": "2024-01-09T07:46:11.239Z"
   },
   {
    "duration": 40,
    "start_time": "2024-01-09T07:46:11.257Z"
   },
   {
    "duration": 28,
    "start_time": "2024-01-09T07:46:11.298Z"
   },
   {
    "duration": 52,
    "start_time": "2024-01-09T07:46:11.327Z"
   },
   {
    "duration": 16,
    "start_time": "2024-01-09T07:46:11.380Z"
   },
   {
    "duration": 26,
    "start_time": "2024-01-09T07:46:11.397Z"
   },
   {
    "duration": 41,
    "start_time": "2024-01-09T07:46:11.425Z"
   },
   {
    "duration": 19,
    "start_time": "2024-01-09T07:46:11.468Z"
   },
   {
    "duration": 11,
    "start_time": "2024-01-09T07:46:11.488Z"
   },
   {
    "duration": 17,
    "start_time": "2024-01-09T07:46:11.501Z"
   },
   {
    "duration": 365,
    "start_time": "2024-01-09T07:46:11.520Z"
   },
   {
    "duration": 30,
    "start_time": "2024-01-09T07:46:11.886Z"
   },
   {
    "duration": 15,
    "start_time": "2024-01-09T07:46:11.918Z"
   },
   {
    "duration": 7,
    "start_time": "2024-01-09T07:46:11.934Z"
   },
   {
    "duration": 11,
    "start_time": "2024-01-09T07:46:11.942Z"
   },
   {
    "duration": 36,
    "start_time": "2024-01-09T07:46:11.954Z"
   },
   {
    "duration": 217,
    "start_time": "2024-01-09T07:46:11.992Z"
   },
   {
    "duration": 15,
    "start_time": "2024-01-09T07:46:12.210Z"
   },
   {
    "duration": 12,
    "start_time": "2024-01-09T07:46:12.227Z"
   },
   {
    "duration": 7,
    "start_time": "2024-01-09T07:46:12.240Z"
   },
   {
    "duration": 236,
    "start_time": "2024-01-09T07:46:12.249Z"
   },
   {
    "duration": 15,
    "start_time": "2024-01-09T07:46:12.487Z"
   },
   {
    "duration": 12,
    "start_time": "2024-01-09T07:46:12.503Z"
   },
   {
    "duration": 10,
    "start_time": "2024-01-09T07:46:12.517Z"
   },
   {
    "duration": 31,
    "start_time": "2024-01-09T07:46:12.528Z"
   },
   {
    "duration": 14,
    "start_time": "2024-01-09T07:46:12.582Z"
   },
   {
    "duration": 10,
    "start_time": "2024-01-09T07:46:12.598Z"
   },
   {
    "duration": 16,
    "start_time": "2024-01-09T07:46:12.610Z"
   },
   {
    "duration": 15,
    "start_time": "2024-01-09T07:46:12.627Z"
   },
   {
    "duration": 47,
    "start_time": "2024-01-09T07:46:12.643Z"
   },
   {
    "duration": 10,
    "start_time": "2024-01-09T07:46:12.691Z"
   },
   {
    "duration": 9,
    "start_time": "2024-01-09T07:46:12.702Z"
   },
   {
    "duration": 15,
    "start_time": "2024-01-09T07:46:12.712Z"
   },
   {
    "duration": 55,
    "start_time": "2024-01-09T07:46:12.728Z"
   },
   {
    "duration": 17,
    "start_time": "2024-01-09T07:46:12.785Z"
   },
   {
    "duration": 13,
    "start_time": "2024-01-09T07:46:12.803Z"
   },
   {
    "duration": 17,
    "start_time": "2024-01-09T07:46:12.818Z"
   },
   {
    "duration": 53,
    "start_time": "2024-01-09T07:46:12.837Z"
   },
   {
    "duration": 273,
    "start_time": "2024-01-09T07:46:12.892Z"
   },
   {
    "duration": 24,
    "start_time": "2024-01-09T07:46:13.167Z"
   },
   {
    "duration": 3,
    "start_time": "2024-01-09T07:46:13.193Z"
   },
   {
    "duration": 267,
    "start_time": "2024-01-09T07:46:13.197Z"
   },
   {
    "duration": 27,
    "start_time": "2024-01-09T07:46:13.466Z"
   },
   {
    "duration": 254,
    "start_time": "2024-01-09T07:46:13.494Z"
   },
   {
    "duration": 6,
    "start_time": "2024-01-09T07:46:13.750Z"
   },
   {
    "duration": 25,
    "start_time": "2024-01-09T07:46:13.757Z"
   },
   {
    "duration": 29,
    "start_time": "2024-01-09T07:46:13.783Z"
   },
   {
    "duration": 313,
    "start_time": "2024-01-09T07:46:13.813Z"
   },
   {
    "duration": 6,
    "start_time": "2024-01-09T07:46:14.128Z"
   },
   {
    "duration": 237,
    "start_time": "2024-01-09T07:46:14.136Z"
   },
   {
    "duration": 231,
    "start_time": "2024-01-09T07:46:14.375Z"
   },
   {
    "duration": 3,
    "start_time": "2024-01-09T07:46:14.607Z"
   },
   {
    "duration": 13,
    "start_time": "2024-01-09T07:46:14.612Z"
   },
   {
    "duration": 639,
    "start_time": "2024-01-09T07:46:14.626Z"
   },
   {
    "duration": 170,
    "start_time": "2024-01-09T07:46:15.267Z"
   },
   {
    "duration": 249,
    "start_time": "2024-01-09T07:46:15.438Z"
   },
   {
    "duration": 283,
    "start_time": "2024-01-09T07:46:15.688Z"
   },
   {
    "duration": 214,
    "start_time": "2024-01-09T07:46:15.972Z"
   },
   {
    "duration": 439,
    "start_time": "2024-01-09T07:46:16.188Z"
   },
   {
    "duration": 185,
    "start_time": "2024-01-09T07:46:16.628Z"
   },
   {
    "duration": 281,
    "start_time": "2024-01-09T07:46:16.815Z"
   },
   {
    "duration": 290,
    "start_time": "2024-01-09T07:46:17.097Z"
   },
   {
    "duration": 14,
    "start_time": "2024-01-09T07:46:17.389Z"
   },
   {
    "duration": 221,
    "start_time": "2024-01-09T07:46:17.404Z"
   },
   {
    "duration": 237,
    "start_time": "2024-01-09T07:46:17.627Z"
   },
   {
    "duration": 214,
    "start_time": "2024-01-09T07:46:17.866Z"
   },
   {
    "duration": 10,
    "start_time": "2024-01-09T07:46:18.082Z"
   },
   {
    "duration": 9,
    "start_time": "2024-01-09T07:46:18.094Z"
   },
   {
    "duration": 61,
    "start_time": "2024-01-09T16:16:42.832Z"
   },
   {
    "duration": 6,
    "start_time": "2024-01-09T16:16:46.243Z"
   },
   {
    "duration": 1437,
    "start_time": "2024-01-09T16:17:00.064Z"
   },
   {
    "duration": 98,
    "start_time": "2024-01-09T16:17:01.503Z"
   },
   {
    "duration": 25,
    "start_time": "2024-01-09T16:17:01.603Z"
   },
   {
    "duration": 30,
    "start_time": "2024-01-09T16:17:01.631Z"
   },
   {
    "duration": 4,
    "start_time": "2024-01-09T16:17:01.663Z"
   },
   {
    "duration": 32,
    "start_time": "2024-01-09T16:17:01.668Z"
   },
   {
    "duration": 21,
    "start_time": "2024-01-09T16:17:01.701Z"
   },
   {
    "duration": 28,
    "start_time": "2024-01-09T16:17:01.723Z"
   },
   {
    "duration": 18,
    "start_time": "2024-01-09T16:17:01.752Z"
   },
   {
    "duration": 48,
    "start_time": "2024-01-09T16:17:01.772Z"
   },
   {
    "duration": 18,
    "start_time": "2024-01-09T16:17:01.822Z"
   },
   {
    "duration": 33,
    "start_time": "2024-01-09T16:17:01.841Z"
   },
   {
    "duration": 24,
    "start_time": "2024-01-09T16:17:01.875Z"
   },
   {
    "duration": 307,
    "start_time": "2024-01-09T16:17:01.901Z"
   },
   {
    "duration": 32,
    "start_time": "2024-01-09T16:17:02.210Z"
   },
   {
    "duration": 21,
    "start_time": "2024-01-09T16:17:02.244Z"
   },
   {
    "duration": 13,
    "start_time": "2024-01-09T16:17:02.266Z"
   },
   {
    "duration": 18,
    "start_time": "2024-01-09T16:17:02.280Z"
   },
   {
    "duration": 13,
    "start_time": "2024-01-09T16:17:02.299Z"
   },
   {
    "duration": 225,
    "start_time": "2024-01-09T16:17:02.313Z"
   },
   {
    "duration": 15,
    "start_time": "2024-01-09T16:17:02.541Z"
   },
   {
    "duration": 33,
    "start_time": "2024-01-09T16:17:02.558Z"
   },
   {
    "duration": 57,
    "start_time": "2024-01-09T16:17:02.592Z"
   },
   {
    "duration": 216,
    "start_time": "2024-01-09T16:17:02.651Z"
   },
   {
    "duration": 21,
    "start_time": "2024-01-09T16:17:02.868Z"
   },
   {
    "duration": 14,
    "start_time": "2024-01-09T16:17:02.890Z"
   },
   {
    "duration": 37,
    "start_time": "2024-01-09T16:17:02.906Z"
   },
   {
    "duration": 16,
    "start_time": "2024-01-09T16:17:02.948Z"
   },
   {
    "duration": 33,
    "start_time": "2024-01-09T16:17:02.965Z"
   },
   {
    "duration": 17,
    "start_time": "2024-01-09T16:17:03.000Z"
   },
   {
    "duration": 25,
    "start_time": "2024-01-09T16:17:03.019Z"
   },
   {
    "duration": 15,
    "start_time": "2024-01-09T16:17:03.046Z"
   },
   {
    "duration": 16,
    "start_time": "2024-01-09T16:17:03.063Z"
   },
   {
    "duration": 18,
    "start_time": "2024-01-09T16:17:03.081Z"
   },
   {
    "duration": 42,
    "start_time": "2024-01-09T16:17:03.100Z"
   },
   {
    "duration": 19,
    "start_time": "2024-01-09T16:17:03.144Z"
   },
   {
    "duration": 17,
    "start_time": "2024-01-09T16:17:03.165Z"
   },
   {
    "duration": 15,
    "start_time": "2024-01-09T16:17:03.185Z"
   },
   {
    "duration": 44,
    "start_time": "2024-01-09T16:17:03.201Z"
   },
   {
    "duration": 17,
    "start_time": "2024-01-09T16:17:03.246Z"
   },
   {
    "duration": 16,
    "start_time": "2024-01-09T16:17:03.264Z"
   },
   {
    "duration": 275,
    "start_time": "2024-01-09T16:17:03.281Z"
   },
   {
    "duration": 16,
    "start_time": "2024-01-09T16:17:03.557Z"
   },
   {
    "duration": 5,
    "start_time": "2024-01-09T16:17:03.574Z"
   },
   {
    "duration": 285,
    "start_time": "2024-01-09T16:17:03.580Z"
   },
   {
    "duration": 20,
    "start_time": "2024-01-09T16:17:03.866Z"
   },
   {
    "duration": 304,
    "start_time": "2024-01-09T16:17:03.887Z"
   },
   {
    "duration": 7,
    "start_time": "2024-01-09T16:17:04.193Z"
   },
   {
    "duration": 31,
    "start_time": "2024-01-09T16:17:04.201Z"
   },
   {
    "duration": 21,
    "start_time": "2024-01-09T16:17:04.234Z"
   },
   {
    "duration": 310,
    "start_time": "2024-01-09T16:17:04.257Z"
   },
   {
    "duration": 8,
    "start_time": "2024-01-09T16:17:04.569Z"
   },
   {
    "duration": 234,
    "start_time": "2024-01-09T16:17:04.578Z"
   },
   {
    "duration": 222,
    "start_time": "2024-01-09T16:17:04.814Z"
   },
   {
    "duration": 2,
    "start_time": "2024-01-09T16:17:05.043Z"
   },
   {
    "duration": 10,
    "start_time": "2024-01-09T16:17:05.047Z"
   },
   {
    "duration": 638,
    "start_time": "2024-01-09T16:17:05.059Z"
   },
   {
    "duration": 192,
    "start_time": "2024-01-09T16:17:05.699Z"
   },
   {
    "duration": 261,
    "start_time": "2024-01-09T16:17:05.893Z"
   },
   {
    "duration": 293,
    "start_time": "2024-01-09T16:17:06.155Z"
   },
   {
    "duration": 251,
    "start_time": "2024-01-09T16:17:06.449Z"
   },
   {
    "duration": 424,
    "start_time": "2024-01-09T16:17:06.701Z"
   },
   {
    "duration": 180,
    "start_time": "2024-01-09T16:17:07.126Z"
   },
   {
    "duration": 266,
    "start_time": "2024-01-09T16:17:07.308Z"
   },
   {
    "duration": 316,
    "start_time": "2024-01-09T16:17:07.575Z"
   },
   {
    "duration": 14,
    "start_time": "2024-01-09T16:17:07.893Z"
   },
   {
    "duration": 216,
    "start_time": "2024-01-09T16:17:07.908Z"
   },
   {
    "duration": 228,
    "start_time": "2024-01-09T16:17:08.126Z"
   },
   {
    "duration": 212,
    "start_time": "2024-01-09T16:17:08.356Z"
   },
   {
    "duration": 9,
    "start_time": "2024-01-09T16:17:08.569Z"
   },
   {
    "duration": 9,
    "start_time": "2024-01-09T16:17:08.580Z"
   },
   {
    "duration": 70,
    "start_time": "2024-01-09T16:23:35.510Z"
   },
   {
    "duration": 87,
    "start_time": "2024-01-09T16:33:02.012Z"
   },
   {
    "duration": 272,
    "start_time": "2024-01-09T16:39:34.199Z"
   },
   {
    "duration": 676,
    "start_time": "2024-01-09T18:04:11.807Z"
   },
   {
    "duration": 590,
    "start_time": "2024-01-09T18:04:51.466Z"
   },
   {
    "duration": 658,
    "start_time": "2024-01-09T18:05:07.017Z"
   },
   {
    "duration": 571,
    "start_time": "2024-01-09T18:07:11.166Z"
   },
   {
    "duration": 576,
    "start_time": "2024-01-09T18:07:15.334Z"
   },
   {
    "duration": 247,
    "start_time": "2024-01-09T18:11:35.866Z"
   },
   {
    "duration": 7,
    "start_time": "2024-01-09T18:15:54.519Z"
   },
   {
    "duration": 308,
    "start_time": "2024-01-09T18:16:38.621Z"
   },
   {
    "duration": 184,
    "start_time": "2024-01-09T18:16:47.678Z"
   },
   {
    "duration": 206,
    "start_time": "2024-01-09T18:18:36.257Z"
   },
   {
    "duration": 160,
    "start_time": "2024-01-09T18:22:29.280Z"
   },
   {
    "duration": 176,
    "start_time": "2024-01-09T18:24:32.609Z"
   },
   {
    "duration": 328,
    "start_time": "2024-01-09T18:39:16.615Z"
   },
   {
    "duration": 71,
    "start_time": "2024-01-09T18:43:51.227Z"
   },
   {
    "duration": 81,
    "start_time": "2024-01-09T18:44:20.750Z"
   },
   {
    "duration": 1722,
    "start_time": "2024-01-09T18:45:09.642Z"
   },
   {
    "duration": 7,
    "start_time": "2024-01-09T18:47:32.001Z"
   },
   {
    "duration": 6,
    "start_time": "2024-01-09T18:48:10.637Z"
   },
   {
    "duration": 605,
    "start_time": "2024-01-09T18:48:32.386Z"
   },
   {
    "duration": 7,
    "start_time": "2024-01-09T18:48:52.675Z"
   },
   {
    "duration": 713,
    "start_time": "2024-01-09T18:49:43.159Z"
   },
   {
    "duration": 79,
    "start_time": "2024-01-09T18:57:31.459Z"
   },
   {
    "duration": 6,
    "start_time": "2024-01-09T18:57:37.827Z"
   },
   {
    "duration": 23,
    "start_time": "2024-01-09T18:57:39.767Z"
   },
   {
    "duration": 6,
    "start_time": "2024-01-09T18:58:07.567Z"
   },
   {
    "duration": 317,
    "start_time": "2024-01-09T18:58:08.304Z"
   },
   {
    "duration": 6,
    "start_time": "2024-01-09T23:54:27.615Z"
   },
   {
    "duration": 1305,
    "start_time": "2024-01-09T23:54:28.847Z"
   },
   {
    "duration": 5,
    "start_time": "2024-01-09T23:54:41.290Z"
   },
   {
    "duration": 285,
    "start_time": "2024-01-09T23:54:42.377Z"
   },
   {
    "duration": 5,
    "start_time": "2024-01-09T23:55:07.359Z"
   },
   {
    "duration": 12,
    "start_time": "2024-01-09T23:55:07.667Z"
   },
   {
    "duration": 5,
    "start_time": "2024-01-09T23:55:11.327Z"
   },
   {
    "duration": 309,
    "start_time": "2024-01-09T23:55:11.639Z"
   },
   {
    "duration": 20,
    "start_time": "2024-01-09T23:55:39.958Z"
   },
   {
    "duration": 8,
    "start_time": "2024-01-09T23:56:08.572Z"
   },
   {
    "duration": 74,
    "start_time": "2024-01-09T23:56:22.266Z"
   },
   {
    "duration": 290,
    "start_time": "2024-01-09T23:56:23.274Z"
   },
   {
    "duration": 7,
    "start_time": "2024-01-09T23:56:58.508Z"
   },
   {
    "duration": 327,
    "start_time": "2024-01-09T23:57:22.361Z"
   },
   {
    "duration": 483,
    "start_time": "2024-01-09T23:58:10.616Z"
   },
   {
    "duration": 6,
    "start_time": "2024-01-09T23:58:12.800Z"
   },
   {
    "duration": 6,
    "start_time": "2024-01-09T23:58:15.360Z"
   },
   {
    "duration": 322,
    "start_time": "2024-01-09T23:58:15.765Z"
   },
   {
    "duration": 383,
    "start_time": "2024-01-09T23:58:28.917Z"
   },
   {
    "duration": 370,
    "start_time": "2024-01-10T00:01:10.064Z"
   },
   {
    "duration": 356,
    "start_time": "2024-01-10T00:01:11.120Z"
   },
   {
    "duration": 169,
    "start_time": "2024-01-10T00:38:57.796Z"
   },
   {
    "duration": 259,
    "start_time": "2024-01-10T00:39:17.808Z"
   },
   {
    "duration": 287,
    "start_time": "2024-01-10T00:39:27.088Z"
   },
   {
    "duration": 194,
    "start_time": "2024-01-10T00:44:04.412Z"
   },
   {
    "duration": 188,
    "start_time": "2024-01-10T00:45:40.863Z"
   },
   {
    "duration": 291,
    "start_time": "2024-01-10T00:46:36.431Z"
   },
   {
    "duration": 73,
    "start_time": "2024-01-10T00:47:27.294Z"
   },
   {
    "duration": 7,
    "start_time": "2024-01-10T00:48:00.157Z"
   },
   {
    "duration": 8,
    "start_time": "2024-01-10T00:48:55.416Z"
   },
   {
    "duration": 10,
    "start_time": "2024-01-10T00:51:38.562Z"
   },
   {
    "duration": 14,
    "start_time": "2024-01-10T00:57:44.649Z"
   },
   {
    "duration": 6,
    "start_time": "2024-01-10T00:59:17.053Z"
   },
   {
    "duration": 3,
    "start_time": "2024-01-10T01:02:03.623Z"
   },
   {
    "duration": 3,
    "start_time": "2024-01-10T01:02:17.356Z"
   },
   {
    "duration": 5,
    "start_time": "2024-01-10T01:02:33.945Z"
   },
   {
    "duration": 6,
    "start_time": "2024-01-10T01:03:07.006Z"
   },
   {
    "duration": 1249,
    "start_time": "2024-01-10T01:03:14.318Z"
   },
   {
    "duration": 57,
    "start_time": "2024-01-10T01:03:15.569Z"
   },
   {
    "duration": 18,
    "start_time": "2024-01-10T01:03:15.628Z"
   },
   {
    "duration": 29,
    "start_time": "2024-01-10T01:03:15.648Z"
   },
   {
    "duration": 12,
    "start_time": "2024-01-10T01:03:15.679Z"
   },
   {
    "duration": 41,
    "start_time": "2024-01-10T01:03:15.693Z"
   },
   {
    "duration": 35,
    "start_time": "2024-01-10T01:03:15.735Z"
   },
   {
    "duration": 8,
    "start_time": "2024-01-10T01:03:15.771Z"
   },
   {
    "duration": 16,
    "start_time": "2024-01-10T01:03:15.781Z"
   },
   {
    "duration": 27,
    "start_time": "2024-01-10T01:03:15.800Z"
   },
   {
    "duration": 19,
    "start_time": "2024-01-10T01:03:15.828Z"
   },
   {
    "duration": 12,
    "start_time": "2024-01-10T01:03:15.848Z"
   },
   {
    "duration": 15,
    "start_time": "2024-01-10T01:03:15.862Z"
   },
   {
    "duration": 336,
    "start_time": "2024-01-10T01:03:15.878Z"
   },
   {
    "duration": 39,
    "start_time": "2024-01-10T01:03:16.215Z"
   },
   {
    "duration": 27,
    "start_time": "2024-01-10T01:03:16.256Z"
   },
   {
    "duration": 6,
    "start_time": "2024-01-10T01:03:16.284Z"
   },
   {
    "duration": 3,
    "start_time": "2024-01-10T01:03:16.292Z"
   },
   {
    "duration": 11,
    "start_time": "2024-01-10T01:03:16.296Z"
   },
   {
    "duration": 228,
    "start_time": "2024-01-10T01:03:16.308Z"
   },
   {
    "duration": 16,
    "start_time": "2024-01-10T01:03:16.542Z"
   },
   {
    "duration": 12,
    "start_time": "2024-01-10T01:03:16.559Z"
   },
   {
    "duration": 10,
    "start_time": "2024-01-10T01:03:16.573Z"
   },
   {
    "duration": 226,
    "start_time": "2024-01-10T01:03:16.585Z"
   },
   {
    "duration": 14,
    "start_time": "2024-01-10T01:03:16.813Z"
   },
   {
    "duration": 26,
    "start_time": "2024-01-10T01:03:16.828Z"
   },
   {
    "duration": 12,
    "start_time": "2024-01-10T01:03:16.855Z"
   },
   {
    "duration": 18,
    "start_time": "2024-01-10T01:03:16.871Z"
   },
   {
    "duration": 14,
    "start_time": "2024-01-10T01:03:16.890Z"
   },
   {
    "duration": 41,
    "start_time": "2024-01-10T01:03:16.905Z"
   },
   {
    "duration": 18,
    "start_time": "2024-01-10T01:03:16.947Z"
   },
   {
    "duration": 16,
    "start_time": "2024-01-10T01:03:16.966Z"
   },
   {
    "duration": 15,
    "start_time": "2024-01-10T01:03:16.983Z"
   },
   {
    "duration": 17,
    "start_time": "2024-01-10T01:03:17.000Z"
   },
   {
    "duration": 25,
    "start_time": "2024-01-10T01:03:17.019Z"
   },
   {
    "duration": 25,
    "start_time": "2024-01-10T01:03:17.045Z"
   },
   {
    "duration": 12,
    "start_time": "2024-01-10T01:03:17.072Z"
   },
   {
    "duration": 11,
    "start_time": "2024-01-10T01:03:17.085Z"
   },
   {
    "duration": 10,
    "start_time": "2024-01-10T01:03:17.097Z"
   },
   {
    "duration": 45,
    "start_time": "2024-01-10T01:03:17.108Z"
   },
   {
    "duration": 16,
    "start_time": "2024-01-10T01:03:17.154Z"
   },
   {
    "duration": 268,
    "start_time": "2024-01-10T01:03:17.171Z"
   },
   {
    "duration": 19,
    "start_time": "2024-01-10T01:03:17.442Z"
   },
   {
    "duration": 3,
    "start_time": "2024-01-10T01:03:17.462Z"
   },
   {
    "duration": 283,
    "start_time": "2024-01-10T01:03:17.467Z"
   },
   {
    "duration": 20,
    "start_time": "2024-01-10T01:03:17.752Z"
   },
   {
    "duration": 269,
    "start_time": "2024-01-10T01:03:17.773Z"
   },
   {
    "duration": 5,
    "start_time": "2024-01-10T01:03:18.044Z"
   },
   {
    "duration": 17,
    "start_time": "2024-01-10T01:03:18.050Z"
   },
   {
    "duration": 14,
    "start_time": "2024-01-10T01:03:18.068Z"
   },
   {
    "duration": 311,
    "start_time": "2024-01-10T01:03:18.084Z"
   },
   {
    "duration": 7,
    "start_time": "2024-01-10T01:03:18.396Z"
   },
   {
    "duration": 230,
    "start_time": "2024-01-10T01:03:18.405Z"
   },
   {
    "duration": 217,
    "start_time": "2024-01-10T01:03:18.642Z"
   },
   {
    "duration": 3,
    "start_time": "2024-01-10T01:03:18.861Z"
   },
   {
    "duration": 21,
    "start_time": "2024-01-10T01:03:18.865Z"
   },
   {
    "duration": 550,
    "start_time": "2024-01-10T01:03:18.888Z"
   },
   {
    "duration": 171,
    "start_time": "2024-01-10T01:03:19.440Z"
   },
   {
    "duration": 270,
    "start_time": "2024-01-10T01:03:19.613Z"
   },
   {
    "duration": 7,
    "start_time": "2024-01-10T01:03:19.884Z"
   },
   {
    "duration": 285,
    "start_time": "2024-01-10T01:03:19.893Z"
   },
   {
    "duration": 237,
    "start_time": "2024-01-10T01:03:20.180Z"
   },
   {
    "duration": 216,
    "start_time": "2024-01-10T01:03:20.418Z"
   },
   {
    "duration": 6,
    "start_time": "2024-01-10T01:03:20.636Z"
   },
   {
    "duration": 305,
    "start_time": "2024-01-10T01:03:20.643Z"
   },
   {
    "duration": 405,
    "start_time": "2024-01-10T01:03:20.949Z"
   },
   {
    "duration": 330,
    "start_time": "2024-01-10T01:03:21.356Z"
   },
   {
    "duration": 372,
    "start_time": "2024-01-10T01:03:21.687Z"
   },
   {
    "duration": 169,
    "start_time": "2024-01-10T01:03:22.061Z"
   },
   {
    "duration": 581,
    "start_time": "2024-01-10T01:03:22.231Z"
   },
   {
    "duration": 303,
    "start_time": "2024-01-10T01:03:22.813Z"
   },
   {
    "duration": 14,
    "start_time": "2024-01-10T01:03:23.118Z"
   },
   {
    "duration": 201,
    "start_time": "2024-01-10T01:03:23.133Z"
   },
   {
    "duration": 197,
    "start_time": "2024-01-10T01:03:23.336Z"
   },
   {
    "duration": 170,
    "start_time": "2024-01-10T01:03:23.542Z"
   },
   {
    "duration": 7,
    "start_time": "2024-01-10T01:03:23.714Z"
   },
   {
    "duration": 21,
    "start_time": "2024-01-10T01:03:23.722Z"
   },
   {
    "duration": 5,
    "start_time": "2024-01-10T01:05:05.266Z"
   },
   {
    "duration": 5,
    "start_time": "2024-01-10T01:05:18.224Z"
   },
   {
    "duration": 8,
    "start_time": "2024-01-10T01:05:25.935Z"
   },
   {
    "duration": 7,
    "start_time": "2024-01-10T01:05:34.371Z"
   },
   {
    "duration": 5,
    "start_time": "2024-01-10T01:06:21.850Z"
   },
   {
    "duration": 11,
    "start_time": "2024-01-10T01:06:25.747Z"
   },
   {
    "duration": 8,
    "start_time": "2024-01-10T01:06:39.576Z"
   },
   {
    "duration": 6,
    "start_time": "2024-01-10T01:06:51.405Z"
   },
   {
    "duration": 5,
    "start_time": "2024-01-10T01:07:15.206Z"
   },
   {
    "duration": 6,
    "start_time": "2024-01-10T01:07:22.540Z"
   },
   {
    "duration": 5,
    "start_time": "2024-01-10T01:07:51.514Z"
   },
   {
    "duration": 50,
    "start_time": "2024-01-10T01:09:57.530Z"
   },
   {
    "duration": 121,
    "start_time": "2024-01-10T01:10:45.385Z"
   },
   {
    "duration": 25,
    "start_time": "2024-01-10T01:11:01.885Z"
   },
   {
    "duration": 13,
    "start_time": "2024-01-10T01:11:32.126Z"
   },
   {
    "duration": 14,
    "start_time": "2024-01-10T01:11:34.739Z"
   },
   {
    "duration": 3,
    "start_time": "2024-01-10T01:11:38.801Z"
   },
   {
    "duration": 13,
    "start_time": "2024-01-10T01:11:46.531Z"
   },
   {
    "duration": 13,
    "start_time": "2024-01-10T01:11:49.247Z"
   },
   {
    "duration": 23,
    "start_time": "2024-01-10T01:12:04.302Z"
   },
   {
    "duration": 14,
    "start_time": "2024-01-10T01:12:13.542Z"
   },
   {
    "duration": 9,
    "start_time": "2024-01-10T01:12:15.193Z"
   },
   {
    "duration": 3,
    "start_time": "2024-01-10T01:12:17.618Z"
   },
   {
    "duration": 21,
    "start_time": "2024-01-10T01:12:19.266Z"
   },
   {
    "duration": 20,
    "start_time": "2024-01-10T01:12:20.822Z"
   },
   {
    "duration": 11,
    "start_time": "2024-01-10T01:12:20.999Z"
   },
   {
    "duration": 15,
    "start_time": "2024-01-10T01:12:21.774Z"
   },
   {
    "duration": 269,
    "start_time": "2024-01-10T01:12:21.866Z"
   },
   {
    "duration": 25,
    "start_time": "2024-01-10T01:12:22.137Z"
   },
   {
    "duration": 14,
    "start_time": "2024-01-10T01:12:22.306Z"
   },
   {
    "duration": 6,
    "start_time": "2024-01-10T01:12:22.467Z"
   },
   {
    "duration": 3,
    "start_time": "2024-01-10T01:12:22.637Z"
   },
   {
    "duration": 10,
    "start_time": "2024-01-10T01:12:22.839Z"
   },
   {
    "duration": 197,
    "start_time": "2024-01-10T01:12:22.930Z"
   },
   {
    "duration": 16,
    "start_time": "2024-01-10T01:12:23.167Z"
   },
   {
    "duration": 11,
    "start_time": "2024-01-10T01:12:23.265Z"
   },
   {
    "duration": 7,
    "start_time": "2024-01-10T01:12:23.446Z"
   },
   {
    "duration": 189,
    "start_time": "2024-01-10T01:12:23.529Z"
   },
   {
    "duration": 14,
    "start_time": "2024-01-10T01:12:23.795Z"
   },
   {
    "duration": 11,
    "start_time": "2024-01-10T01:12:23.884Z"
   },
   {
    "duration": 9,
    "start_time": "2024-01-10T01:12:23.993Z"
   },
   {
    "duration": 14,
    "start_time": "2024-01-10T01:12:24.245Z"
   },
   {
    "duration": 17,
    "start_time": "2024-01-10T01:12:24.395Z"
   },
   {
    "duration": 11,
    "start_time": "2024-01-10T01:12:24.547Z"
   },
   {
    "duration": 7,
    "start_time": "2024-01-10T01:12:24.630Z"
   },
   {
    "duration": 13,
    "start_time": "2024-01-10T01:12:24.695Z"
   },
   {
    "duration": 12,
    "start_time": "2024-01-10T01:12:24.850Z"
   },
   {
    "duration": 11,
    "start_time": "2024-01-10T01:12:25.029Z"
   },
   {
    "duration": 8,
    "start_time": "2024-01-10T01:12:25.125Z"
   },
   {
    "duration": 13,
    "start_time": "2024-01-10T01:12:25.209Z"
   },
   {
    "duration": 12,
    "start_time": "2024-01-10T01:12:25.345Z"
   },
   {
    "duration": 12,
    "start_time": "2024-01-10T01:12:25.508Z"
   },
   {
    "duration": 9,
    "start_time": "2024-01-10T01:12:25.589Z"
   },
   {
    "duration": 14,
    "start_time": "2024-01-10T01:12:25.677Z"
   },
   {
    "duration": 17,
    "start_time": "2024-01-10T01:12:25.881Z"
   },
   {
    "duration": 314,
    "start_time": "2024-01-10T01:12:26.065Z"
   },
   {
    "duration": 15,
    "start_time": "2024-01-10T01:12:26.381Z"
   },
   {
    "duration": 2,
    "start_time": "2024-01-10T01:12:26.398Z"
   },
   {
    "duration": 257,
    "start_time": "2024-01-10T01:12:26.635Z"
   },
   {
    "duration": 20,
    "start_time": "2024-01-10T01:12:26.897Z"
   },
   {
    "duration": 166,
    "start_time": "2024-01-10T01:12:27.057Z"
   },
   {
    "duration": 22,
    "start_time": "2024-01-10T01:12:37.192Z"
   },
   {
    "duration": 5,
    "start_time": "2024-01-10T01:12:42.879Z"
   },
   {
    "duration": 13,
    "start_time": "2024-01-10T01:12:44.507Z"
   },
   {
    "duration": 13,
    "start_time": "2024-01-10T01:12:46.592Z"
   },
   {
    "duration": 282,
    "start_time": "2024-01-10T01:12:52.891Z"
   },
   {
    "duration": 7,
    "start_time": "2024-01-10T01:12:53.814Z"
   },
   {
    "duration": 212,
    "start_time": "2024-01-10T01:12:54.115Z"
   },
   {
    "duration": 195,
    "start_time": "2024-01-10T01:12:54.693Z"
   },
   {
    "duration": 3,
    "start_time": "2024-01-10T01:12:55.216Z"
   },
   {
    "duration": 8,
    "start_time": "2024-01-10T01:12:58.121Z"
   },
   {
    "duration": 689,
    "start_time": "2024-01-10T01:13:13.255Z"
   },
   {
    "duration": 978,
    "start_time": "2024-01-10T01:16:21.800Z"
   },
   {
    "duration": 10,
    "start_time": "2024-01-10T01:16:59.708Z"
   },
   {
    "duration": 10,
    "start_time": "2024-01-10T01:17:50.738Z"
   },
   {
    "duration": 11,
    "start_time": "2024-01-10T01:20:06.762Z"
   },
   {
    "duration": 1148,
    "start_time": "2024-01-10T07:42:07.377Z"
   },
   {
    "duration": 100,
    "start_time": "2024-01-10T07:42:08.527Z"
   },
   {
    "duration": 16,
    "start_time": "2024-01-10T07:42:08.628Z"
   },
   {
    "duration": 14,
    "start_time": "2024-01-10T07:42:08.646Z"
   },
   {
    "duration": 8,
    "start_time": "2024-01-10T07:42:08.662Z"
   },
   {
    "duration": 40,
    "start_time": "2024-01-10T07:42:08.671Z"
   },
   {
    "duration": 25,
    "start_time": "2024-01-10T07:42:08.712Z"
   },
   {
    "duration": 13,
    "start_time": "2024-01-10T07:42:08.738Z"
   },
   {
    "duration": 19,
    "start_time": "2024-01-10T07:42:08.752Z"
   },
   {
    "duration": 27,
    "start_time": "2024-01-10T07:42:08.773Z"
   },
   {
    "duration": 18,
    "start_time": "2024-01-10T07:42:08.802Z"
   },
   {
    "duration": 13,
    "start_time": "2024-01-10T07:42:08.822Z"
   },
   {
    "duration": 18,
    "start_time": "2024-01-10T07:42:08.836Z"
   },
   {
    "duration": 312,
    "start_time": "2024-01-10T07:42:08.856Z"
   },
   {
    "duration": 24,
    "start_time": "2024-01-10T07:42:09.169Z"
   },
   {
    "duration": 26,
    "start_time": "2024-01-10T07:42:09.194Z"
   },
   {
    "duration": 6,
    "start_time": "2024-01-10T07:42:09.222Z"
   },
   {
    "duration": 7,
    "start_time": "2024-01-10T07:42:09.230Z"
   },
   {
    "duration": 13,
    "start_time": "2024-01-10T07:42:09.238Z"
   },
   {
    "duration": 223,
    "start_time": "2024-01-10T07:42:09.253Z"
   },
   {
    "duration": 33,
    "start_time": "2024-01-10T07:42:09.478Z"
   },
   {
    "duration": 12,
    "start_time": "2024-01-10T07:42:09.513Z"
   },
   {
    "duration": 12,
    "start_time": "2024-01-10T07:42:09.527Z"
   },
   {
    "duration": 231,
    "start_time": "2024-01-10T07:42:09.541Z"
   },
   {
    "duration": 22,
    "start_time": "2024-01-10T07:42:09.774Z"
   },
   {
    "duration": 17,
    "start_time": "2024-01-10T07:42:09.811Z"
   },
   {
    "duration": 11,
    "start_time": "2024-01-10T07:42:09.830Z"
   },
   {
    "duration": 22,
    "start_time": "2024-01-10T07:42:09.845Z"
   },
   {
    "duration": 13,
    "start_time": "2024-01-10T07:42:09.868Z"
   },
   {
    "duration": 37,
    "start_time": "2024-01-10T07:42:09.883Z"
   },
   {
    "duration": 8,
    "start_time": "2024-01-10T07:42:09.921Z"
   },
   {
    "duration": 30,
    "start_time": "2024-01-10T07:42:09.931Z"
   },
   {
    "duration": 12,
    "start_time": "2024-01-10T07:42:09.963Z"
   },
   {
    "duration": 26,
    "start_time": "2024-01-10T07:42:09.977Z"
   },
   {
    "duration": 25,
    "start_time": "2024-01-10T07:42:10.005Z"
   },
   {
    "duration": 24,
    "start_time": "2024-01-10T07:42:10.031Z"
   },
   {
    "duration": 18,
    "start_time": "2024-01-10T07:42:10.057Z"
   },
   {
    "duration": 14,
    "start_time": "2024-01-10T07:42:10.077Z"
   },
   {
    "duration": 28,
    "start_time": "2024-01-10T07:42:10.093Z"
   },
   {
    "duration": 18,
    "start_time": "2024-01-10T07:42:10.123Z"
   },
   {
    "duration": 14,
    "start_time": "2024-01-10T07:42:10.142Z"
   },
   {
    "duration": 241,
    "start_time": "2024-01-10T07:42:10.158Z"
   },
   {
    "duration": 21,
    "start_time": "2024-01-10T07:42:10.401Z"
   },
   {
    "duration": 2,
    "start_time": "2024-01-10T07:42:10.424Z"
   },
   {
    "duration": 253,
    "start_time": "2024-01-10T07:42:10.427Z"
   },
   {
    "duration": 16,
    "start_time": "2024-01-10T07:42:10.681Z"
   },
   {
    "duration": 254,
    "start_time": "2024-01-10T07:42:10.698Z"
   },
   {
    "duration": 6,
    "start_time": "2024-01-10T07:42:10.953Z"
   },
   {
    "duration": 14,
    "start_time": "2024-01-10T07:42:10.960Z"
   },
   {
    "duration": 13,
    "start_time": "2024-01-10T07:42:10.976Z"
   },
   {
    "duration": 301,
    "start_time": "2024-01-10T07:42:11.011Z"
   },
   {
    "duration": 6,
    "start_time": "2024-01-10T07:42:11.314Z"
   },
   {
    "duration": 213,
    "start_time": "2024-01-10T07:42:11.322Z"
   },
   {
    "duration": 214,
    "start_time": "2024-01-10T07:42:11.537Z"
   },
   {
    "duration": 3,
    "start_time": "2024-01-10T07:42:11.753Z"
   },
   {
    "duration": 19,
    "start_time": "2024-01-10T07:42:11.757Z"
   },
   {
    "duration": 569,
    "start_time": "2024-01-10T07:42:11.777Z"
   },
   {
    "duration": 158,
    "start_time": "2024-01-10T07:42:12.347Z"
   },
   {
    "duration": 232,
    "start_time": "2024-01-10T07:42:12.510Z"
   },
   {
    "duration": 6,
    "start_time": "2024-01-10T07:42:12.743Z"
   },
   {
    "duration": 262,
    "start_time": "2024-01-10T07:42:12.751Z"
   },
   {
    "duration": 205,
    "start_time": "2024-01-10T07:42:13.015Z"
   },
   {
    "duration": 215,
    "start_time": "2024-01-10T07:42:13.222Z"
   },
   {
    "duration": 5,
    "start_time": "2024-01-10T07:42:13.439Z"
   },
   {
    "duration": 328,
    "start_time": "2024-01-10T07:42:13.447Z"
   },
   {
    "duration": 356,
    "start_time": "2024-01-10T07:42:13.777Z"
   },
   {
    "duration": 341,
    "start_time": "2024-01-10T07:42:14.135Z"
   },
   {
    "duration": 370,
    "start_time": "2024-01-10T07:42:14.477Z"
   },
   {
    "duration": 168,
    "start_time": "2024-01-10T07:42:14.848Z"
   },
   {
    "duration": 371,
    "start_time": "2024-01-10T07:42:15.017Z"
   },
   {
    "duration": 293,
    "start_time": "2024-01-10T07:42:15.390Z"
   },
   {
    "duration": 14,
    "start_time": "2024-01-10T07:42:15.684Z"
   },
   {
    "duration": 203,
    "start_time": "2024-01-10T07:42:15.699Z"
   },
   {
    "duration": 215,
    "start_time": "2024-01-10T07:42:15.904Z"
   },
   {
    "duration": 179,
    "start_time": "2024-01-10T07:42:16.121Z"
   },
   {
    "duration": 13,
    "start_time": "2024-01-10T07:42:16.301Z"
   },
   {
    "duration": 9,
    "start_time": "2024-01-10T07:42:16.316Z"
   },
   {
    "duration": 1126,
    "start_time": "2024-01-10T07:48:41.369Z"
   },
   {
    "duration": 52,
    "start_time": "2024-01-10T07:48:42.497Z"
   },
   {
    "duration": 17,
    "start_time": "2024-01-10T07:48:42.551Z"
   },
   {
    "duration": 14,
    "start_time": "2024-01-10T07:48:42.571Z"
   },
   {
    "duration": 4,
    "start_time": "2024-01-10T07:48:42.586Z"
   },
   {
    "duration": 26,
    "start_time": "2024-01-10T07:48:42.591Z"
   },
   {
    "duration": 13,
    "start_time": "2024-01-10T07:48:42.619Z"
   },
   {
    "duration": 14,
    "start_time": "2024-01-10T07:48:42.634Z"
   },
   {
    "duration": 5,
    "start_time": "2024-01-10T07:48:42.649Z"
   },
   {
    "duration": 23,
    "start_time": "2024-01-10T07:48:42.656Z"
   },
   {
    "duration": 37,
    "start_time": "2024-01-10T07:48:42.681Z"
   },
   {
    "duration": 11,
    "start_time": "2024-01-10T07:48:42.719Z"
   },
   {
    "duration": 13,
    "start_time": "2024-01-10T07:48:42.732Z"
   },
   {
    "duration": 308,
    "start_time": "2024-01-10T07:48:42.746Z"
   },
   {
    "duration": 33,
    "start_time": "2024-01-10T07:48:43.056Z"
   },
   {
    "duration": 29,
    "start_time": "2024-01-10T07:48:43.091Z"
   },
   {
    "duration": 7,
    "start_time": "2024-01-10T07:48:43.122Z"
   },
   {
    "duration": 3,
    "start_time": "2024-01-10T07:48:43.131Z"
   },
   {
    "duration": 13,
    "start_time": "2024-01-10T07:48:43.136Z"
   },
   {
    "duration": 255,
    "start_time": "2024-01-10T07:48:43.151Z"
   },
   {
    "duration": 15,
    "start_time": "2024-01-10T07:48:43.407Z"
   },
   {
    "duration": 11,
    "start_time": "2024-01-10T07:48:43.423Z"
   },
   {
    "duration": 21,
    "start_time": "2024-01-10T07:48:43.435Z"
   },
   {
    "duration": 207,
    "start_time": "2024-01-10T07:48:43.457Z"
   },
   {
    "duration": 14,
    "start_time": "2024-01-10T07:48:43.665Z"
   },
   {
    "duration": 16,
    "start_time": "2024-01-10T07:48:43.680Z"
   },
   {
    "duration": 7,
    "start_time": "2024-01-10T07:48:43.711Z"
   },
   {
    "duration": 16,
    "start_time": "2024-01-10T07:48:43.723Z"
   },
   {
    "duration": 13,
    "start_time": "2024-01-10T07:48:43.740Z"
   },
   {
    "duration": 10,
    "start_time": "2024-01-10T07:48:43.754Z"
   },
   {
    "duration": 45,
    "start_time": "2024-01-10T07:48:43.766Z"
   },
   {
    "duration": 13,
    "start_time": "2024-01-10T07:48:43.813Z"
   },
   {
    "duration": 11,
    "start_time": "2024-01-10T07:48:43.827Z"
   },
   {
    "duration": 10,
    "start_time": "2024-01-10T07:48:43.840Z"
   },
   {
    "duration": 10,
    "start_time": "2024-01-10T07:48:43.851Z"
   },
   {
    "duration": 50,
    "start_time": "2024-01-10T07:48:43.863Z"
   },
   {
    "duration": 11,
    "start_time": "2024-01-10T07:48:43.914Z"
   },
   {
    "duration": 9,
    "start_time": "2024-01-10T07:48:43.927Z"
   },
   {
    "duration": 8,
    "start_time": "2024-01-10T07:48:43.937Z"
   },
   {
    "duration": 13,
    "start_time": "2024-01-10T07:48:43.947Z"
   },
   {
    "duration": 51,
    "start_time": "2024-01-10T07:48:43.961Z"
   },
   {
    "duration": 232,
    "start_time": "2024-01-10T07:48:44.013Z"
   },
   {
    "duration": 16,
    "start_time": "2024-01-10T07:48:44.246Z"
   },
   {
    "duration": 2,
    "start_time": "2024-01-10T07:48:44.264Z"
   },
   {
    "duration": 284,
    "start_time": "2024-01-10T07:48:44.268Z"
   },
   {
    "duration": 16,
    "start_time": "2024-01-10T07:48:44.554Z"
   },
   {
    "duration": 251,
    "start_time": "2024-01-10T07:48:44.571Z"
   },
   {
    "duration": 6,
    "start_time": "2024-01-10T07:48:44.823Z"
   },
   {
    "duration": 14,
    "start_time": "2024-01-10T07:48:44.830Z"
   },
   {
    "duration": 13,
    "start_time": "2024-01-10T07:48:44.845Z"
   },
   {
    "duration": 297,
    "start_time": "2024-01-10T07:48:44.860Z"
   },
   {
    "duration": 7,
    "start_time": "2024-01-10T07:48:45.159Z"
   },
   {
    "duration": 220,
    "start_time": "2024-01-10T07:48:45.167Z"
   },
   {
    "duration": 223,
    "start_time": "2024-01-10T07:48:45.389Z"
   },
   {
    "duration": 3,
    "start_time": "2024-01-10T07:48:45.615Z"
   },
   {
    "duration": 19,
    "start_time": "2024-01-10T07:48:45.619Z"
   },
   {
    "duration": 599,
    "start_time": "2024-01-10T07:48:45.639Z"
   },
   {
    "duration": 173,
    "start_time": "2024-01-10T07:48:46.240Z"
   },
   {
    "duration": 251,
    "start_time": "2024-01-10T07:48:46.414Z"
   },
   {
    "duration": 6,
    "start_time": "2024-01-10T07:48:46.666Z"
   },
   {
    "duration": 296,
    "start_time": "2024-01-10T07:48:46.674Z"
   },
   {
    "duration": 213,
    "start_time": "2024-01-10T07:48:46.972Z"
   },
   {
    "duration": 219,
    "start_time": "2024-01-10T07:48:47.186Z"
   },
   {
    "duration": 9,
    "start_time": "2024-01-10T07:48:47.406Z"
   },
   {
    "duration": 320,
    "start_time": "2024-01-10T07:48:47.417Z"
   },
   {
    "duration": 373,
    "start_time": "2024-01-10T07:48:47.738Z"
   },
   {
    "duration": 354,
    "start_time": "2024-01-10T07:48:48.113Z"
   },
   {
    "duration": 366,
    "start_time": "2024-01-10T07:48:48.469Z"
   },
   {
    "duration": 174,
    "start_time": "2024-01-10T07:48:48.837Z"
   },
   {
    "duration": 348,
    "start_time": "2024-01-10T07:48:49.012Z"
   },
   {
    "duration": 286,
    "start_time": "2024-01-10T07:48:49.361Z"
   },
   {
    "duration": 14,
    "start_time": "2024-01-10T07:48:49.648Z"
   },
   {
    "duration": 202,
    "start_time": "2024-01-10T07:48:49.663Z"
   },
   {
    "duration": 187,
    "start_time": "2024-01-10T07:48:49.866Z"
   },
   {
    "duration": 171,
    "start_time": "2024-01-10T07:48:50.054Z"
   },
   {
    "duration": 9,
    "start_time": "2024-01-10T07:48:50.227Z"
   },
   {
    "duration": 9,
    "start_time": "2024-01-10T07:48:50.237Z"
   },
   {
    "duration": 44,
    "start_time": "2024-01-11T00:27:56.883Z"
   },
   {
    "duration": 1290,
    "start_time": "2024-01-11T00:28:12.566Z"
   },
   {
    "duration": 183,
    "start_time": "2024-01-11T00:28:13.858Z"
   },
   {
    "duration": 16,
    "start_time": "2024-01-11T00:28:14.043Z"
   },
   {
    "duration": 14,
    "start_time": "2024-01-11T00:28:14.060Z"
   },
   {
    "duration": 2,
    "start_time": "2024-01-11T00:28:14.075Z"
   },
   {
    "duration": 13,
    "start_time": "2024-01-11T00:28:14.079Z"
   },
   {
    "duration": 12,
    "start_time": "2024-01-11T00:28:14.094Z"
   },
   {
    "duration": 8,
    "start_time": "2024-01-11T00:28:14.107Z"
   },
   {
    "duration": 9,
    "start_time": "2024-01-11T00:28:14.117Z"
   },
   {
    "duration": 22,
    "start_time": "2024-01-11T00:28:14.128Z"
   },
   {
    "duration": 17,
    "start_time": "2024-01-11T00:28:14.151Z"
   },
   {
    "duration": 30,
    "start_time": "2024-01-11T00:28:14.169Z"
   },
   {
    "duration": 12,
    "start_time": "2024-01-11T00:28:14.200Z"
   },
   {
    "duration": 286,
    "start_time": "2024-01-11T00:28:14.213Z"
   },
   {
    "duration": 23,
    "start_time": "2024-01-11T00:28:14.500Z"
   },
   {
    "duration": 12,
    "start_time": "2024-01-11T00:28:14.524Z"
   },
   {
    "duration": 5,
    "start_time": "2024-01-11T00:28:14.537Z"
   },
   {
    "duration": 3,
    "start_time": "2024-01-11T00:28:14.544Z"
   },
   {
    "duration": 10,
    "start_time": "2024-01-11T00:28:14.548Z"
   },
   {
    "duration": 209,
    "start_time": "2024-01-11T00:28:14.559Z"
   },
   {
    "duration": 13,
    "start_time": "2024-01-11T00:28:14.769Z"
   },
   {
    "duration": 12,
    "start_time": "2024-01-11T00:28:14.798Z"
   },
   {
    "duration": 6,
    "start_time": "2024-01-11T00:28:14.811Z"
   },
   {
    "duration": 186,
    "start_time": "2024-01-11T00:28:14.818Z"
   },
   {
    "duration": 15,
    "start_time": "2024-01-11T00:28:15.006Z"
   },
   {
    "duration": 48,
    "start_time": "2024-01-11T00:28:15.023Z"
   },
   {
    "duration": 31,
    "start_time": "2024-01-11T00:28:15.072Z"
   },
   {
    "duration": 90,
    "start_time": "2024-01-11T00:28:15.107Z"
   },
   {
    "duration": 41,
    "start_time": "2024-01-11T00:28:15.199Z"
   },
   {
    "duration": 10,
    "start_time": "2024-01-11T00:28:15.242Z"
   },
   {
    "duration": 35,
    "start_time": "2024-01-11T00:28:15.253Z"
   },
   {
    "duration": 137,
    "start_time": "2024-01-11T00:28:15.289Z"
   },
   {
    "duration": 25,
    "start_time": "2024-01-11T00:28:15.428Z"
   },
   {
    "duration": 27,
    "start_time": "2024-01-11T00:28:15.455Z"
   },
   {
    "duration": 58,
    "start_time": "2024-01-11T00:28:15.484Z"
   },
   {
    "duration": 23,
    "start_time": "2024-01-11T00:28:15.543Z"
   },
   {
    "duration": 10,
    "start_time": "2024-01-11T00:28:15.567Z"
   },
   {
    "duration": 9,
    "start_time": "2024-01-11T00:28:15.579Z"
   },
   {
    "duration": 15,
    "start_time": "2024-01-11T00:28:15.589Z"
   },
   {
    "duration": 30,
    "start_time": "2024-01-11T00:28:15.605Z"
   },
   {
    "duration": 20,
    "start_time": "2024-01-11T00:28:15.637Z"
   },
   {
    "duration": 216,
    "start_time": "2024-01-11T00:28:15.659Z"
   },
   {
    "duration": 27,
    "start_time": "2024-01-11T00:28:15.876Z"
   },
   {
    "duration": 2,
    "start_time": "2024-01-11T00:28:15.905Z"
   },
   {
    "duration": 292,
    "start_time": "2024-01-11T00:28:15.908Z"
   },
   {
    "duration": 15,
    "start_time": "2024-01-11T00:28:16.202Z"
   },
   {
    "duration": 172,
    "start_time": "2024-01-11T00:28:16.218Z"
   },
   {
    "duration": 10,
    "start_time": "2024-01-11T00:28:16.391Z"
   },
   {
    "duration": 14,
    "start_time": "2024-01-11T00:28:16.402Z"
   },
   {
    "duration": 18,
    "start_time": "2024-01-11T00:28:16.417Z"
   },
   {
    "duration": 299,
    "start_time": "2024-01-11T00:28:16.436Z"
   },
   {
    "duration": 9,
    "start_time": "2024-01-11T00:28:16.736Z"
   },
   {
    "duration": 216,
    "start_time": "2024-01-11T00:28:16.747Z"
   },
   {
    "duration": 208,
    "start_time": "2024-01-11T00:28:16.964Z"
   },
   {
    "duration": 2,
    "start_time": "2024-01-11T00:28:17.174Z"
   },
   {
    "duration": 9,
    "start_time": "2024-01-11T00:28:17.178Z"
   },
   {
    "duration": 549,
    "start_time": "2024-01-11T00:28:17.198Z"
   },
   {
    "duration": 152,
    "start_time": "2024-01-11T00:28:17.749Z"
   },
   {
    "duration": 329,
    "start_time": "2024-01-11T00:28:17.902Z"
   },
   {
    "duration": 5,
    "start_time": "2024-01-11T00:28:18.233Z"
   },
   {
    "duration": 216,
    "start_time": "2024-01-11T00:28:18.239Z"
   },
   {
    "duration": 190,
    "start_time": "2024-01-11T00:28:18.457Z"
   },
   {
    "duration": 207,
    "start_time": "2024-01-11T00:28:18.649Z"
   },
   {
    "duration": 5,
    "start_time": "2024-01-11T00:28:18.858Z"
   },
   {
    "duration": 302,
    "start_time": "2024-01-11T00:28:18.864Z"
   },
   {
    "duration": 332,
    "start_time": "2024-01-11T00:28:19.167Z"
   },
   {
    "duration": 313,
    "start_time": "2024-01-11T00:28:19.500Z"
   },
   {
    "duration": 410,
    "start_time": "2024-01-11T00:28:19.815Z"
   },
   {
    "duration": 167,
    "start_time": "2024-01-11T00:28:20.226Z"
   },
   {
    "duration": 237,
    "start_time": "2024-01-11T00:28:20.398Z"
   },
   {
    "duration": 260,
    "start_time": "2024-01-11T00:28:20.637Z"
   },
   {
    "duration": 13,
    "start_time": "2024-01-11T00:28:20.898Z"
   },
   {
    "duration": 178,
    "start_time": "2024-01-11T00:28:20.912Z"
   },
   {
    "duration": 182,
    "start_time": "2024-01-11T00:28:21.092Z"
   },
   {
    "duration": 156,
    "start_time": "2024-01-11T00:28:21.276Z"
   },
   {
    "duration": 9,
    "start_time": "2024-01-11T00:28:21.434Z"
   },
   {
    "duration": 10,
    "start_time": "2024-01-11T00:28:21.444Z"
   },
   {
    "duration": 304,
    "start_time": "2024-01-11T00:29:20.895Z"
   },
   {
    "duration": 266,
    "start_time": "2024-01-11T00:29:35.219Z"
   },
   {
    "duration": 188,
    "start_time": "2024-01-11T00:38:33.521Z"
   },
   {
    "duration": 1193,
    "start_time": "2024-01-11T16:50:11.313Z"
   },
   {
    "duration": 100,
    "start_time": "2024-01-11T16:50:12.509Z"
   },
   {
    "duration": 20,
    "start_time": "2024-01-11T16:50:12.611Z"
   },
   {
    "duration": 24,
    "start_time": "2024-01-11T16:50:12.634Z"
   },
   {
    "duration": 13,
    "start_time": "2024-01-11T16:50:12.659Z"
   },
   {
    "duration": 30,
    "start_time": "2024-01-11T16:50:12.673Z"
   },
   {
    "duration": 32,
    "start_time": "2024-01-11T16:50:12.704Z"
   },
   {
    "duration": 19,
    "start_time": "2024-01-11T16:50:12.738Z"
   },
   {
    "duration": 7,
    "start_time": "2024-01-11T16:50:12.759Z"
   },
   {
    "duration": 29,
    "start_time": "2024-01-11T16:50:12.768Z"
   },
   {
    "duration": 18,
    "start_time": "2024-01-11T16:50:12.798Z"
   },
   {
    "duration": 12,
    "start_time": "2024-01-11T16:50:12.817Z"
   },
   {
    "duration": 13,
    "start_time": "2024-01-11T16:50:12.830Z"
   },
   {
    "duration": 391,
    "start_time": "2024-01-11T16:50:12.844Z"
   },
   {
    "duration": 25,
    "start_time": "2024-01-11T16:50:13.237Z"
   },
   {
    "duration": 27,
    "start_time": "2024-01-11T16:50:13.264Z"
   },
   {
    "duration": 9,
    "start_time": "2024-01-11T16:50:13.292Z"
   },
   {
    "duration": 4,
    "start_time": "2024-01-11T16:50:13.302Z"
   },
   {
    "duration": 25,
    "start_time": "2024-01-11T16:50:13.307Z"
   },
   {
    "duration": 252,
    "start_time": "2024-01-11T16:50:13.333Z"
   },
   {
    "duration": 17,
    "start_time": "2024-01-11T16:50:13.591Z"
   },
   {
    "duration": 19,
    "start_time": "2024-01-11T16:50:13.610Z"
   },
   {
    "duration": 8,
    "start_time": "2024-01-11T16:50:13.631Z"
   },
   {
    "duration": 261,
    "start_time": "2024-01-11T16:50:13.641Z"
   },
   {
    "duration": 14,
    "start_time": "2024-01-11T16:50:13.904Z"
   },
   {
    "duration": 11,
    "start_time": "2024-01-11T16:50:13.920Z"
   },
   {
    "duration": 10,
    "start_time": "2024-01-11T16:50:13.933Z"
   },
   {
    "duration": 47,
    "start_time": "2024-01-11T16:50:13.947Z"
   },
   {
    "duration": 15,
    "start_time": "2024-01-11T16:50:13.996Z"
   },
   {
    "duration": 12,
    "start_time": "2024-01-11T16:50:14.012Z"
   },
   {
    "duration": 12,
    "start_time": "2024-01-11T16:50:14.025Z"
   },
   {
    "duration": 52,
    "start_time": "2024-01-11T16:50:14.038Z"
   },
   {
    "duration": 15,
    "start_time": "2024-01-11T16:50:14.092Z"
   },
   {
    "duration": 11,
    "start_time": "2024-01-11T16:50:14.108Z"
   },
   {
    "duration": 16,
    "start_time": "2024-01-11T16:50:14.120Z"
   },
   {
    "duration": 50,
    "start_time": "2024-01-11T16:50:14.138Z"
   },
   {
    "duration": 15,
    "start_time": "2024-01-11T16:50:14.190Z"
   },
   {
    "duration": 12,
    "start_time": "2024-01-11T16:50:14.207Z"
   },
   {
    "duration": 9,
    "start_time": "2024-01-11T16:50:14.221Z"
   },
   {
    "duration": 52,
    "start_time": "2024-01-11T16:50:14.232Z"
   },
   {
    "duration": 17,
    "start_time": "2024-01-11T16:50:14.286Z"
   },
   {
    "duration": 293,
    "start_time": "2024-01-11T16:50:14.305Z"
   },
   {
    "duration": 18,
    "start_time": "2024-01-11T16:50:14.599Z"
   },
   {
    "duration": 2,
    "start_time": "2024-01-11T16:50:14.618Z"
   },
   {
    "duration": 311,
    "start_time": "2024-01-11T16:50:14.621Z"
   },
   {
    "duration": 24,
    "start_time": "2024-01-11T16:50:14.933Z"
   },
   {
    "duration": 290,
    "start_time": "2024-01-11T16:50:14.959Z"
   },
   {
    "duration": 5,
    "start_time": "2024-01-11T16:50:15.251Z"
   },
   {
    "duration": 45,
    "start_time": "2024-01-11T16:50:15.257Z"
   },
   {
    "duration": 14,
    "start_time": "2024-01-11T16:50:15.303Z"
   },
   {
    "duration": 340,
    "start_time": "2024-01-11T16:50:15.318Z"
   },
   {
    "duration": 7,
    "start_time": "2024-01-11T16:50:15.660Z"
   },
   {
    "duration": 250,
    "start_time": "2024-01-11T16:50:15.668Z"
   },
   {
    "duration": 253,
    "start_time": "2024-01-11T16:50:15.919Z"
   },
   {
    "duration": 3,
    "start_time": "2024-01-11T16:50:16.173Z"
   },
   {
    "duration": 28,
    "start_time": "2024-01-11T16:50:16.182Z"
   },
   {
    "duration": 666,
    "start_time": "2024-01-11T16:50:16.212Z"
   },
   {
    "duration": 183,
    "start_time": "2024-01-11T16:50:16.879Z"
   },
   {
    "duration": 282,
    "start_time": "2024-01-11T16:50:17.063Z"
   },
   {
    "duration": 5,
    "start_time": "2024-01-11T16:50:17.347Z"
   },
   {
    "duration": 363,
    "start_time": "2024-01-11T16:50:17.353Z"
   },
   {
    "duration": 310,
    "start_time": "2024-01-11T16:50:17.717Z"
   },
   {
    "duration": 281,
    "start_time": "2024-01-11T16:50:18.028Z"
   },
   {
    "duration": 6,
    "start_time": "2024-01-11T16:50:18.310Z"
   },
   {
    "duration": 374,
    "start_time": "2024-01-11T16:50:18.317Z"
   },
   {
    "duration": 410,
    "start_time": "2024-01-11T16:50:18.693Z"
   },
   {
    "duration": 365,
    "start_time": "2024-01-11T16:50:19.105Z"
   },
   {
    "duration": 417,
    "start_time": "2024-01-11T16:50:19.471Z"
   },
   {
    "duration": 289,
    "start_time": "2024-01-11T16:50:19.890Z"
   },
   {
    "duration": 297,
    "start_time": "2024-01-11T16:50:20.180Z"
   },
   {
    "duration": 314,
    "start_time": "2024-01-11T16:50:20.479Z"
   },
   {
    "duration": 21,
    "start_time": "2024-01-11T16:50:20.795Z"
   },
   {
    "duration": 242,
    "start_time": "2024-01-11T16:50:20.818Z"
   },
   {
    "duration": 247,
    "start_time": "2024-01-11T16:50:21.061Z"
   },
   {
    "duration": 193,
    "start_time": "2024-01-11T16:50:21.309Z"
   },
   {
    "duration": 11,
    "start_time": "2024-01-11T16:50:21.503Z"
   },
   {
    "duration": 10,
    "start_time": "2024-01-11T16:50:21.515Z"
   }
  ],
  "kernelspec": {
   "display_name": "Python 3 (ipykernel)",
   "language": "python",
   "name": "python3"
  },
  "language_info": {
   "codemirror_mode": {
    "name": "ipython",
    "version": 3
   },
   "file_extension": ".py",
   "mimetype": "text/x-python",
   "name": "python",
   "nbconvert_exporter": "python",
   "pygments_lexer": "ipython3",
   "version": "3.9.5"
  },
  "toc": {
   "base_numbering": 1,
   "nav_menu": {},
   "number_sections": true,
   "sideBar": true,
   "skip_h1_title": true,
   "title_cell": "Table of Contents",
   "title_sidebar": "Contents",
   "toc_cell": false,
   "toc_position": {
    "height": "calc(100% - 180px)",
    "left": "10px",
    "top": "150px",
    "width": "335px"
   },
   "toc_section_display": true,
   "toc_window_display": true
  }
 },
 "nbformat": 4,
 "nbformat_minor": 2
}
