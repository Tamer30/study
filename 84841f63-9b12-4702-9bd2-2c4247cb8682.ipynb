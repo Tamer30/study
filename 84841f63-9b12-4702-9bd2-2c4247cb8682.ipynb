{
 "cells": [
  {
   "cell_type": "markdown",
   "id": "7e44e4fc",
   "metadata": {},
   "source": [
    "<span style=\"color:green\">**Поздравляю, твой проект принят!**</span>\n",
    "\n",
    "Тамерлан, отличная работа, получился качественный аналитический отчет. Поставленные задачи были успешно выполнены! Спасибо за обозначение корректировок. Недочёты исправлены! Надеюсь, ревью было полезным:) Желаю успехов в учебе и следующих проектах!\n",
    "\n",
    "\n",
    "<span style=\"color:purple\">**Привет еще раз!**</span> v3\n",
    "\n",
    "Тамерлан, осталось исправить решение 6.2. Дал дополнительные комментарии, надеюсь они помогут. Жду твою работу!\n",
    "\n",
    "Оформление комментариев оставим таким же, только обозначим номер проверки `v3`.\n",
    "\n",
    "<span style=\"color:purple\">**Привет еще раз!**</span> v2\n",
    "\n",
    "Тамерлан, спасибо, что доработал проект – стало лучше! Проект почти готов, осталось написать общий вывод по сравнению тарифов и исправить недочёты на этапе проверки гипотез. Дал дополнительные комментарии, надеюсь они помогут. Жду твою работу!\n",
    "\n",
    "Оформление комментариев оставим таким же, только обозначим номер проверки `v2`.\n",
    "\n",
    "<span style=\"color:purple\">**Привет, Тамерлан!**</span>\n",
    "\n",
    "Меня зовут **Василий** и я - ревьювер, буду проверять твой проект. Перед проверкой работы расскажу тебе о правилах оформления ревью.\n",
    "\n",
    "Если не против, я буду обращаться к тебе на \"ТЫ\". Если это неприемлемо, обязательно напиши мне в комментариях – мы прейдем на \"ВЫ\".\n",
    "\n",
    "Обрати внимание, я буду выделять свои комментарии цветом, в зависимости от того, какие действия, важность и особенности тебя ждут в процессе проверки.\n",
    "\n",
    "<div class=\"alert alert-block alert-success\">\n",
    "\n",
    "**Комментарий ревьювера (все отлично)**\n",
    "    \n",
    "Такими комментариями я буду помечать хорошо проделаную работу, а так же хорошо проделаную работу над ошибками.\n",
    "</div>\n",
    "\n",
    "<div class=\"alert alert-block alert-warning\">\n",
    "\n",
    "**Комментарий ревьювера (что можно улучшить)**\n",
    "    \n",
    "После таких комментариев ничего исправлять не нужно, но я дам рекомендации на будущее и подскажу, что можно улучшить.\n",
    "</div>\n",
    "\n",
    "<div class=\"alert alert-block alert-danger\">\n",
    "    \n",
    "**Комментарий ревьювера (недочет, который нужно доработать)**\n",
    "    \n",
    "Если ты видишь такой комментарий, значит я указываю тебе на недочёт, его нужно исправить. Без такого исправления я не приму твою работу:)\n",
    "</div>\n",
    "\n",
    "**Пожалуста, не удаляй мои комментарии. При повторной проверке, я буду ориентироваться на них.**\n",
    "\n",
    "<span style=\"color:blue\"> Можешь под моими комментариями оставлять свои, в которых опиши свои исправления. Это облегчит процесс проверки и мне, и тебе:) Например, вот так:</span>\n",
    "\n",
    "<div class=\"alert alert-block alert-info\">\n",
    "<b>КОММЕНТАРИЙ ОТ УЧЕНИКА: </b>\n",
    "</div>\n",
    "\n",
    "В конце проекта предоставлен общий комментарий с моими впечатлениями о работе."
   ]
  },
  {
   "cell_type": "markdown",
   "id": "aa54e870",
   "metadata": {},
   "source": [
    "<div class=\"alert alert-block alert-danger\">\n",
    "    \n",
    "**Комментарий ревьювера (недочет, который нужно доработать)**\n",
    "    \n",
    "Нужно оформить введение, то есть:\n",
    "   \n",
    "* добавить название проекта;\n",
    "* обозначить цели и задачи работы; \n",
    "* описать этапы исследования.\n",
    "    \n",
    "_________________\n",
    "\n",
    "**Почему это важно?** Когда ты будешь в будущем выполнять тестовые задания, просто скопировав присланную тебе задачу и не составив плана, ты можешь смутить будущего работодателя. А грамотно сконфигурированный план покажет тебя как ответсвенного и усидчивого специалиста. Также такой подход научит тебя структурировать исследование и не путаться при работе с большими проектами.\n",
    "</div>"
   ]
  },
  {
   "cell_type": "markdown",
   "id": "32d98b49",
   "metadata": {},
   "source": [
    "# Анализ сервиса аренды самокатов GoFast"
   ]
  },
  {
   "cell_type": "markdown",
   "id": "5ad5ce8f",
   "metadata": {},
   "source": [
    "Задача: Проанализировать данные сервиса аренды самокатов GoFast и проверить некоторые гипотезы, которые могут помочь бизнесу вырасти.\n",
    "Весь процесс я разбил на несколько этапов:\n",
    "\n",
    "1) Загрузка данных и ознакомление с ними\n",
    "\n",
    "2) Предобработка данных: проверка на выбросы, нулевые значения, дублоикаты. Приведение столбцев в правильный формат.\n",
    "\n",
    "3) Исследование данных: проверка всех столбцев по очереди, составление гистограмм, поиск максимального и минимального, зависимостей и закономерностей, составление кратких выводов на основе полученных  данных и общий анализ.\n",
    "\n",
    "4) Объединение данных: после исследования датафреймов, их требуется объединить и исследовать в совокупности, найти отличия и составить гипотезы для проверок в дальнейшем.\n",
    "\n",
    "5) Добавление новых столбцев: после анализа данных и составления представления о гипотезах, которые нужно будет проверить, следует сделать необходимые расчёты и добавить столбцы, которые пригодятся в дальнейшем.\n",
    "\n",
    "6) Провера гипотез: составление пар гипотез и их проверка, для математически достоверного основания для составления рекомендаций по развитию бизнеса.\n",
    "\n",
    "7) Общий вывод, содержащий в себе срез всего исследования, для представления заказчику общей картины."
   ]
  },
  {
   "cell_type": "markdown",
   "id": "d3ff3422",
   "metadata": {},
   "source": [
    "<div class=\"alert alert-block alert-success\">\n",
    "\n",
    "**Комментарий ревьювера v2 (все отлично)**\n",
    "        \n",
    "Небольшая вводная перед исследованием даст быстрое понимание о том, чему оно посвящено.\n",
    "    \n",
    "Старайся выполнять свой проект в порядке, прописанном в твоем плане. Содержание можно добавить автоматически при помощи плагина table of contents в панели инструментов. Или расставляя метки и ссылки на них вручную. Вот тут почитай, как сделать <a href=\"https://sebastianraschka.com/Articles/2014_ipython_internal_links.html\">кликабельные разделы</a>.\n",
    "    \n",
    "_________________\n",
    "\n",
    "**Почему это важно?** Когда ты будешь в будущем выполнять тестовые задания, просто скопировав присланную тебе задачу и не составив плана, ты можешь смутить будущего работодателя. А грамотно сконфигурированный план покажет тебя как ответсвенного и усидчивого специалиста. Также такой подход научит тебя структурировать исследование и не путаться при работе с большими проектами.\n",
    "</div>"
   ]
  },
  {
   "cell_type": "markdown",
   "id": "c42cbe00",
   "metadata": {},
   "source": [
    "## Шаг. Загрузка данных"
   ]
  },
  {
   "cell_type": "code",
   "execution_count": 1,
   "id": "72576667",
   "metadata": {},
   "outputs": [],
   "source": [
    "import pandas as pd\n",
    "import matplotlib.pyplot as plt\n",
    "import numpy as np\n",
    "import math\n",
    "from scipy import stats"
   ]
  },
  {
   "cell_type": "markdown",
   "id": "4a48e5ed",
   "metadata": {},
   "source": [
    "<div class=\"alert alert-block alert-success\">\n",
    "\n",
    "**Комментарий ревьювера (все отлично)**\n",
    "    \n",
    "Правильно, что импортируешь необходимые библиотеки в первой ячейке. Так твой коллега, запускающий работу, будет в курсе используемых в ней библиотек и сможет настроить свое окружение при необходимости.\n",
    "</div>"
   ]
  },
  {
   "cell_type": "markdown",
   "id": "c118229e",
   "metadata": {},
   "source": [
    "### Считываем файлы"
   ]
  },
  {
   "cell_type": "code",
   "execution_count": 2,
   "id": "f516897b",
   "metadata": {},
   "outputs": [],
   "source": [
    "df_users = pd.read_csv('/datasets/users_go.csv')\n",
    "df_rides = pd.read_csv('/datasets/rides_go.csv')\n",
    "df_subs = pd.read_csv('/datasets/subscriptions_go.csv')"
   ]
  },
  {
   "cell_type": "markdown",
   "id": "2e6b3a23",
   "metadata": {},
   "source": [
    "### Выводим первые строки каждого набора данных и изучаем общую информацию о каждом датафрейме."
   ]
  },
  {
   "cell_type": "markdown",
   "id": "3cbe3313",
   "metadata": {},
   "source": [
    "#### Выводим df_users"
   ]
  },
  {
   "cell_type": "code",
   "execution_count": 3,
   "id": "8230f062",
   "metadata": {},
   "outputs": [
    {
     "data": {
      "text/html": [
       "<div>\n",
       "<style scoped>\n",
       "    .dataframe tbody tr th:only-of-type {\n",
       "        vertical-align: middle;\n",
       "    }\n",
       "\n",
       "    .dataframe tbody tr th {\n",
       "        vertical-align: top;\n",
       "    }\n",
       "\n",
       "    .dataframe thead th {\n",
       "        text-align: right;\n",
       "    }\n",
       "</style>\n",
       "<table border=\"1\" class=\"dataframe\">\n",
       "  <thead>\n",
       "    <tr style=\"text-align: right;\">\n",
       "      <th></th>\n",
       "      <th>user_id</th>\n",
       "      <th>name</th>\n",
       "      <th>age</th>\n",
       "      <th>city</th>\n",
       "      <th>subscription_type</th>\n",
       "    </tr>\n",
       "  </thead>\n",
       "  <tbody>\n",
       "    <tr>\n",
       "      <th>0</th>\n",
       "      <td>1</td>\n",
       "      <td>Кира</td>\n",
       "      <td>22</td>\n",
       "      <td>Тюмень</td>\n",
       "      <td>ultra</td>\n",
       "    </tr>\n",
       "    <tr>\n",
       "      <th>1</th>\n",
       "      <td>2</td>\n",
       "      <td>Станислав</td>\n",
       "      <td>31</td>\n",
       "      <td>Омск</td>\n",
       "      <td>ultra</td>\n",
       "    </tr>\n",
       "    <tr>\n",
       "      <th>2</th>\n",
       "      <td>3</td>\n",
       "      <td>Алексей</td>\n",
       "      <td>20</td>\n",
       "      <td>Москва</td>\n",
       "      <td>ultra</td>\n",
       "    </tr>\n",
       "    <tr>\n",
       "      <th>3</th>\n",
       "      <td>4</td>\n",
       "      <td>Константин</td>\n",
       "      <td>26</td>\n",
       "      <td>Ростов-на-Дону</td>\n",
       "      <td>ultra</td>\n",
       "    </tr>\n",
       "    <tr>\n",
       "      <th>4</th>\n",
       "      <td>5</td>\n",
       "      <td>Адель</td>\n",
       "      <td>28</td>\n",
       "      <td>Омск</td>\n",
       "      <td>ultra</td>\n",
       "    </tr>\n",
       "  </tbody>\n",
       "</table>\n",
       "</div>"
      ],
      "text/plain": [
       "   user_id        name  age            city subscription_type\n",
       "0        1        Кира   22          Тюмень             ultra\n",
       "1        2   Станислав   31            Омск             ultra\n",
       "2        3     Алексей   20          Москва             ultra\n",
       "3        4  Константин   26  Ростов-на-Дону             ultra\n",
       "4        5       Адель   28            Омск             ultra"
      ]
     },
     "execution_count": 3,
     "metadata": {},
     "output_type": "execute_result"
    }
   ],
   "source": [
    "df_users.head()"
   ]
  },
  {
   "cell_type": "code",
   "execution_count": 4,
   "id": "66d1fca1",
   "metadata": {},
   "outputs": [
    {
     "name": "stdout",
     "output_type": "stream",
     "text": [
      "<class 'pandas.core.frame.DataFrame'>\n",
      "RangeIndex: 1565 entries, 0 to 1564\n",
      "Data columns (total 5 columns):\n",
      " #   Column             Non-Null Count  Dtype \n",
      "---  ------             --------------  ----- \n",
      " 0   user_id            1565 non-null   int64 \n",
      " 1   name               1565 non-null   object\n",
      " 2   age                1565 non-null   int64 \n",
      " 3   city               1565 non-null   object\n",
      " 4   subscription_type  1565 non-null   object\n",
      "dtypes: int64(2), object(3)\n",
      "memory usage: 61.3+ KB\n"
     ]
    }
   ],
   "source": [
    "df_users.info()"
   ]
  },
  {
   "cell_type": "code",
   "execution_count": 5,
   "id": "4854575c",
   "metadata": {},
   "outputs": [
    {
     "data": {
      "text/html": [
       "<div>\n",
       "<style scoped>\n",
       "    .dataframe tbody tr th:only-of-type {\n",
       "        vertical-align: middle;\n",
       "    }\n",
       "\n",
       "    .dataframe tbody tr th {\n",
       "        vertical-align: top;\n",
       "    }\n",
       "\n",
       "    .dataframe thead th {\n",
       "        text-align: right;\n",
       "    }\n",
       "</style>\n",
       "<table border=\"1\" class=\"dataframe\">\n",
       "  <thead>\n",
       "    <tr style=\"text-align: right;\">\n",
       "      <th></th>\n",
       "      <th>user_id</th>\n",
       "      <th>age</th>\n",
       "    </tr>\n",
       "  </thead>\n",
       "  <tbody>\n",
       "    <tr>\n",
       "      <th>count</th>\n",
       "      <td>1565.000000</td>\n",
       "      <td>1565.000000</td>\n",
       "    </tr>\n",
       "    <tr>\n",
       "      <th>mean</th>\n",
       "      <td>762.633866</td>\n",
       "      <td>24.922045</td>\n",
       "    </tr>\n",
       "    <tr>\n",
       "      <th>std</th>\n",
       "      <td>443.260155</td>\n",
       "      <td>4.553496</td>\n",
       "    </tr>\n",
       "    <tr>\n",
       "      <th>min</th>\n",
       "      <td>1.000000</td>\n",
       "      <td>12.000000</td>\n",
       "    </tr>\n",
       "    <tr>\n",
       "      <th>25%</th>\n",
       "      <td>378.000000</td>\n",
       "      <td>22.000000</td>\n",
       "    </tr>\n",
       "    <tr>\n",
       "      <th>50%</th>\n",
       "      <td>762.000000</td>\n",
       "      <td>25.000000</td>\n",
       "    </tr>\n",
       "    <tr>\n",
       "      <th>75%</th>\n",
       "      <td>1146.000000</td>\n",
       "      <td>28.000000</td>\n",
       "    </tr>\n",
       "    <tr>\n",
       "      <th>max</th>\n",
       "      <td>1534.000000</td>\n",
       "      <td>43.000000</td>\n",
       "    </tr>\n",
       "  </tbody>\n",
       "</table>\n",
       "</div>"
      ],
      "text/plain": [
       "           user_id          age\n",
       "count  1565.000000  1565.000000\n",
       "mean    762.633866    24.922045\n",
       "std     443.260155     4.553496\n",
       "min       1.000000    12.000000\n",
       "25%     378.000000    22.000000\n",
       "50%     762.000000    25.000000\n",
       "75%    1146.000000    28.000000\n",
       "max    1534.000000    43.000000"
      ]
     },
     "execution_count": 5,
     "metadata": {},
     "output_type": "execute_result"
    }
   ],
   "source": [
    "df_users.describe()"
   ]
  },
  {
   "cell_type": "markdown",
   "id": "75f23b1f",
   "metadata": {},
   "source": [
    "Пустых значений нет, все столбцы в подходящем типе."
   ]
  },
  {
   "cell_type": "markdown",
   "id": "dc778028",
   "metadata": {},
   "source": [
    "#### Выводим df_rides"
   ]
  },
  {
   "cell_type": "code",
   "execution_count": 6,
   "id": "94e54766",
   "metadata": {},
   "outputs": [
    {
     "data": {
      "text/html": [
       "<div>\n",
       "<style scoped>\n",
       "    .dataframe tbody tr th:only-of-type {\n",
       "        vertical-align: middle;\n",
       "    }\n",
       "\n",
       "    .dataframe tbody tr th {\n",
       "        vertical-align: top;\n",
       "    }\n",
       "\n",
       "    .dataframe thead th {\n",
       "        text-align: right;\n",
       "    }\n",
       "</style>\n",
       "<table border=\"1\" class=\"dataframe\">\n",
       "  <thead>\n",
       "    <tr style=\"text-align: right;\">\n",
       "      <th></th>\n",
       "      <th>user_id</th>\n",
       "      <th>distance</th>\n",
       "      <th>duration</th>\n",
       "      <th>date</th>\n",
       "    </tr>\n",
       "  </thead>\n",
       "  <tbody>\n",
       "    <tr>\n",
       "      <th>0</th>\n",
       "      <td>1</td>\n",
       "      <td>4409.919140</td>\n",
       "      <td>25.599769</td>\n",
       "      <td>2021-01-01</td>\n",
       "    </tr>\n",
       "    <tr>\n",
       "      <th>1</th>\n",
       "      <td>1</td>\n",
       "      <td>2617.592153</td>\n",
       "      <td>15.816871</td>\n",
       "      <td>2021-01-18</td>\n",
       "    </tr>\n",
       "    <tr>\n",
       "      <th>2</th>\n",
       "      <td>1</td>\n",
       "      <td>754.159807</td>\n",
       "      <td>6.232113</td>\n",
       "      <td>2021-04-20</td>\n",
       "    </tr>\n",
       "    <tr>\n",
       "      <th>3</th>\n",
       "      <td>1</td>\n",
       "      <td>2694.783254</td>\n",
       "      <td>18.511000</td>\n",
       "      <td>2021-08-11</td>\n",
       "    </tr>\n",
       "    <tr>\n",
       "      <th>4</th>\n",
       "      <td>1</td>\n",
       "      <td>4028.687306</td>\n",
       "      <td>26.265803</td>\n",
       "      <td>2021-08-28</td>\n",
       "    </tr>\n",
       "  </tbody>\n",
       "</table>\n",
       "</div>"
      ],
      "text/plain": [
       "   user_id     distance   duration        date\n",
       "0        1  4409.919140  25.599769  2021-01-01\n",
       "1        1  2617.592153  15.816871  2021-01-18\n",
       "2        1   754.159807   6.232113  2021-04-20\n",
       "3        1  2694.783254  18.511000  2021-08-11\n",
       "4        1  4028.687306  26.265803  2021-08-28"
      ]
     },
     "execution_count": 6,
     "metadata": {},
     "output_type": "execute_result"
    }
   ],
   "source": [
    "df_rides.head()"
   ]
  },
  {
   "cell_type": "code",
   "execution_count": 7,
   "id": "9858a8a7",
   "metadata": {},
   "outputs": [
    {
     "name": "stdout",
     "output_type": "stream",
     "text": [
      "<class 'pandas.core.frame.DataFrame'>\n",
      "RangeIndex: 18068 entries, 0 to 18067\n",
      "Data columns (total 4 columns):\n",
      " #   Column    Non-Null Count  Dtype  \n",
      "---  ------    --------------  -----  \n",
      " 0   user_id   18068 non-null  int64  \n",
      " 1   distance  18068 non-null  float64\n",
      " 2   duration  18068 non-null  float64\n",
      " 3   date      18068 non-null  object \n",
      "dtypes: float64(2), int64(1), object(1)\n",
      "memory usage: 564.8+ KB\n"
     ]
    }
   ],
   "source": [
    "df_rides.info()"
   ]
  },
  {
   "cell_type": "code",
   "execution_count": 8,
   "id": "88de4ded",
   "metadata": {},
   "outputs": [
    {
     "data": {
      "text/html": [
       "<div>\n",
       "<style scoped>\n",
       "    .dataframe tbody tr th:only-of-type {\n",
       "        vertical-align: middle;\n",
       "    }\n",
       "\n",
       "    .dataframe tbody tr th {\n",
       "        vertical-align: top;\n",
       "    }\n",
       "\n",
       "    .dataframe thead th {\n",
       "        text-align: right;\n",
       "    }\n",
       "</style>\n",
       "<table border=\"1\" class=\"dataframe\">\n",
       "  <thead>\n",
       "    <tr style=\"text-align: right;\">\n",
       "      <th></th>\n",
       "      <th>user_id</th>\n",
       "      <th>distance</th>\n",
       "      <th>duration</th>\n",
       "    </tr>\n",
       "  </thead>\n",
       "  <tbody>\n",
       "    <tr>\n",
       "      <th>count</th>\n",
       "      <td>18068.000000</td>\n",
       "      <td>18068.000000</td>\n",
       "      <td>18068.000000</td>\n",
       "    </tr>\n",
       "    <tr>\n",
       "      <th>mean</th>\n",
       "      <td>842.869936</td>\n",
       "      <td>3070.659976</td>\n",
       "      <td>17.805011</td>\n",
       "    </tr>\n",
       "    <tr>\n",
       "      <th>std</th>\n",
       "      <td>434.734317</td>\n",
       "      <td>1116.831209</td>\n",
       "      <td>6.091051</td>\n",
       "    </tr>\n",
       "    <tr>\n",
       "      <th>min</th>\n",
       "      <td>1.000000</td>\n",
       "      <td>0.855683</td>\n",
       "      <td>0.500000</td>\n",
       "    </tr>\n",
       "    <tr>\n",
       "      <th>25%</th>\n",
       "      <td>487.000000</td>\n",
       "      <td>2543.226360</td>\n",
       "      <td>13.597563</td>\n",
       "    </tr>\n",
       "    <tr>\n",
       "      <th>50%</th>\n",
       "      <td>889.000000</td>\n",
       "      <td>3133.609994</td>\n",
       "      <td>17.678395</td>\n",
       "    </tr>\n",
       "    <tr>\n",
       "      <th>75%</th>\n",
       "      <td>1213.250000</td>\n",
       "      <td>3776.222735</td>\n",
       "      <td>21.724800</td>\n",
       "    </tr>\n",
       "    <tr>\n",
       "      <th>max</th>\n",
       "      <td>1534.000000</td>\n",
       "      <td>7211.007745</td>\n",
       "      <td>40.823963</td>\n",
       "    </tr>\n",
       "  </tbody>\n",
       "</table>\n",
       "</div>"
      ],
      "text/plain": [
       "            user_id      distance      duration\n",
       "count  18068.000000  18068.000000  18068.000000\n",
       "mean     842.869936   3070.659976     17.805011\n",
       "std      434.734317   1116.831209      6.091051\n",
       "min        1.000000      0.855683      0.500000\n",
       "25%      487.000000   2543.226360     13.597563\n",
       "50%      889.000000   3133.609994     17.678395\n",
       "75%     1213.250000   3776.222735     21.724800\n",
       "max     1534.000000   7211.007745     40.823963"
      ]
     },
     "execution_count": 8,
     "metadata": {},
     "output_type": "execute_result"
    }
   ],
   "source": [
    "df_rides.describe()"
   ]
  },
  {
   "cell_type": "markdown",
   "id": "1b707f72",
   "metadata": {},
   "source": [
    "Пустых значений нет, все столбцы, кроме последнего, в подходящем типе. Видны аномально низкие значения, позже к ним вернёмся."
   ]
  },
  {
   "cell_type": "markdown",
   "id": "6d4275f8",
   "metadata": {},
   "source": [
    "#### Выводим df_subs"
   ]
  },
  {
   "cell_type": "code",
   "execution_count": 9,
   "id": "9727bce9",
   "metadata": {},
   "outputs": [
    {
     "data": {
      "text/html": [
       "<div>\n",
       "<style scoped>\n",
       "    .dataframe tbody tr th:only-of-type {\n",
       "        vertical-align: middle;\n",
       "    }\n",
       "\n",
       "    .dataframe tbody tr th {\n",
       "        vertical-align: top;\n",
       "    }\n",
       "\n",
       "    .dataframe thead th {\n",
       "        text-align: right;\n",
       "    }\n",
       "</style>\n",
       "<table border=\"1\" class=\"dataframe\">\n",
       "  <thead>\n",
       "    <tr style=\"text-align: right;\">\n",
       "      <th></th>\n",
       "      <th>subscription_type</th>\n",
       "      <th>minute_price</th>\n",
       "      <th>start_ride_price</th>\n",
       "      <th>subscription_fee</th>\n",
       "    </tr>\n",
       "  </thead>\n",
       "  <tbody>\n",
       "    <tr>\n",
       "      <th>0</th>\n",
       "      <td>free</td>\n",
       "      <td>8</td>\n",
       "      <td>50</td>\n",
       "      <td>0</td>\n",
       "    </tr>\n",
       "    <tr>\n",
       "      <th>1</th>\n",
       "      <td>ultra</td>\n",
       "      <td>6</td>\n",
       "      <td>0</td>\n",
       "      <td>199</td>\n",
       "    </tr>\n",
       "  </tbody>\n",
       "</table>\n",
       "</div>"
      ],
      "text/plain": [
       "  subscription_type  minute_price  start_ride_price  subscription_fee\n",
       "0              free             8                50                 0\n",
       "1             ultra             6                 0               199"
      ]
     },
     "execution_count": 9,
     "metadata": {},
     "output_type": "execute_result"
    }
   ],
   "source": [
    "df_subs.head()"
   ]
  },
  {
   "cell_type": "code",
   "execution_count": 10,
   "id": "05d27a21",
   "metadata": {},
   "outputs": [
    {
     "name": "stdout",
     "output_type": "stream",
     "text": [
      "<class 'pandas.core.frame.DataFrame'>\n",
      "RangeIndex: 2 entries, 0 to 1\n",
      "Data columns (total 4 columns):\n",
      " #   Column             Non-Null Count  Dtype \n",
      "---  ------             --------------  ----- \n",
      " 0   subscription_type  2 non-null      object\n",
      " 1   minute_price       2 non-null      int64 \n",
      " 2   start_ride_price   2 non-null      int64 \n",
      " 3   subscription_fee   2 non-null      int64 \n",
      "dtypes: int64(3), object(1)\n",
      "memory usage: 192.0+ bytes\n"
     ]
    }
   ],
   "source": [
    "df_subs.info()"
   ]
  },
  {
   "cell_type": "code",
   "execution_count": 11,
   "id": "11dcc3c7",
   "metadata": {},
   "outputs": [
    {
     "data": {
      "text/html": [
       "<div>\n",
       "<style scoped>\n",
       "    .dataframe tbody tr th:only-of-type {\n",
       "        vertical-align: middle;\n",
       "    }\n",
       "\n",
       "    .dataframe tbody tr th {\n",
       "        vertical-align: top;\n",
       "    }\n",
       "\n",
       "    .dataframe thead th {\n",
       "        text-align: right;\n",
       "    }\n",
       "</style>\n",
       "<table border=\"1\" class=\"dataframe\">\n",
       "  <thead>\n",
       "    <tr style=\"text-align: right;\">\n",
       "      <th></th>\n",
       "      <th>minute_price</th>\n",
       "      <th>start_ride_price</th>\n",
       "      <th>subscription_fee</th>\n",
       "    </tr>\n",
       "  </thead>\n",
       "  <tbody>\n",
       "    <tr>\n",
       "      <th>count</th>\n",
       "      <td>2.000000</td>\n",
       "      <td>2.000000</td>\n",
       "      <td>2.000000</td>\n",
       "    </tr>\n",
       "    <tr>\n",
       "      <th>mean</th>\n",
       "      <td>7.000000</td>\n",
       "      <td>25.000000</td>\n",
       "      <td>99.500000</td>\n",
       "    </tr>\n",
       "    <tr>\n",
       "      <th>std</th>\n",
       "      <td>1.414214</td>\n",
       "      <td>35.355339</td>\n",
       "      <td>140.714249</td>\n",
       "    </tr>\n",
       "    <tr>\n",
       "      <th>min</th>\n",
       "      <td>6.000000</td>\n",
       "      <td>0.000000</td>\n",
       "      <td>0.000000</td>\n",
       "    </tr>\n",
       "    <tr>\n",
       "      <th>25%</th>\n",
       "      <td>6.500000</td>\n",
       "      <td>12.500000</td>\n",
       "      <td>49.750000</td>\n",
       "    </tr>\n",
       "    <tr>\n",
       "      <th>50%</th>\n",
       "      <td>7.000000</td>\n",
       "      <td>25.000000</td>\n",
       "      <td>99.500000</td>\n",
       "    </tr>\n",
       "    <tr>\n",
       "      <th>75%</th>\n",
       "      <td>7.500000</td>\n",
       "      <td>37.500000</td>\n",
       "      <td>149.250000</td>\n",
       "    </tr>\n",
       "    <tr>\n",
       "      <th>max</th>\n",
       "      <td>8.000000</td>\n",
       "      <td>50.000000</td>\n",
       "      <td>199.000000</td>\n",
       "    </tr>\n",
       "  </tbody>\n",
       "</table>\n",
       "</div>"
      ],
      "text/plain": [
       "       minute_price  start_ride_price  subscription_fee\n",
       "count      2.000000          2.000000          2.000000\n",
       "mean       7.000000         25.000000         99.500000\n",
       "std        1.414214         35.355339        140.714249\n",
       "min        6.000000          0.000000          0.000000\n",
       "25%        6.500000         12.500000         49.750000\n",
       "50%        7.000000         25.000000         99.500000\n",
       "75%        7.500000         37.500000        149.250000\n",
       "max        8.000000         50.000000        199.000000"
      ]
     },
     "execution_count": 11,
     "metadata": {},
     "output_type": "execute_result"
    }
   ],
   "source": [
    "df_subs.describe()"
   ]
  },
  {
   "cell_type": "markdown",
   "id": "630d09ff",
   "metadata": {},
   "source": [
    "<div class=\"alert alert-block alert-warning\">\n",
    "\n",
    "**Комментарий ревьювера (что можно улучшить)**\n",
    "    \n",
    "Для трех таблиц используется одинаковый код, который можно оптимизировать, создав функцию:\n",
    "    \n",
    "```python   \n",
    "def check_df (df):\n",
    "    \n",
    "    # общая информация \n",
    "    display(df.info())\n",
    "    \n",
    "    # первые 5 строк\n",
    "    display(df.head())\n",
    "    \n",
    "    # и так далее...\n",
    "    # от проверок на дубликаты и пропуски до EDA\n",
    "    \n",
    "```\n",
    "    \n",
    "Теперь достаточно просто обратиться к этой функции в коде:\n",
    "    \n",
    "```python\n",
    "check_df(df_rides)\n",
    "```    \n",
    "</div>"
   ]
  },
  {
   "cell_type": "markdown",
   "id": "df65ef42",
   "metadata": {},
   "source": [
    "Пустых значений нет, все столбцы в подходящем типе."
   ]
  },
  {
   "cell_type": "markdown",
   "id": "f30e671a",
   "metadata": {},
   "source": [
    "<div class=\"alert alert-block alert-success\">\n",
    "\n",
    "**Комментарий ревьювера (все отлично)**\n",
    "    \n",
    "Здорово, что прокомментировал результаты обзора данных таблиц.\n",
    "</div>"
   ]
  },
  {
   "cell_type": "markdown",
   "id": "e95ebca7",
   "metadata": {},
   "source": [
    "## Шаг. Предобработка данных"
   ]
  },
  {
   "cell_type": "markdown",
   "id": "6aa8baa9",
   "metadata": {},
   "source": [
    "### Приводим столбец date к типу даты pandas"
   ]
  },
  {
   "cell_type": "code",
   "execution_count": 12,
   "id": "af6d202c",
   "metadata": {},
   "outputs": [],
   "source": [
    "df_rides['date'] = pd.to_datetime(\n",
    "    df_rides['date'], format='%Y.%m.%d'\n",
    ")"
   ]
  },
  {
   "cell_type": "markdown",
   "id": "a1c4d48f",
   "metadata": {},
   "source": [
    "<div class=\"alert alert-block alert-success\">\n",
    "\n",
    "**Комментарий ревьювера (все отлично)**\n",
    "    \n",
    "Даты приведены к соответствующему типу👍\n",
    "</div>"
   ]
  },
  {
   "cell_type": "markdown",
   "id": "e1acc47e",
   "metadata": {},
   "source": [
    "Проверка"
   ]
  },
  {
   "cell_type": "code",
   "execution_count": 13,
   "id": "70d553f9",
   "metadata": {},
   "outputs": [
    {
     "name": "stdout",
     "output_type": "stream",
     "text": [
      "<class 'pandas.core.frame.DataFrame'>\n",
      "RangeIndex: 18068 entries, 0 to 18067\n",
      "Data columns (total 4 columns):\n",
      " #   Column    Non-Null Count  Dtype         \n",
      "---  ------    --------------  -----         \n",
      " 0   user_id   18068 non-null  int64         \n",
      " 1   distance  18068 non-null  float64       \n",
      " 2   duration  18068 non-null  float64       \n",
      " 3   date      18068 non-null  datetime64[ns]\n",
      "dtypes: datetime64[ns](1), float64(2), int64(1)\n",
      "memory usage: 564.8 KB\n"
     ]
    }
   ],
   "source": [
    "df_rides.info()"
   ]
  },
  {
   "cell_type": "markdown",
   "id": "d95623bb",
   "metadata": {},
   "source": [
    "### Создаём новый столбец с номером месяца на основе столбца date."
   ]
  },
  {
   "cell_type": "code",
   "execution_count": 14,
   "id": "ba65ce5a",
   "metadata": {},
   "outputs": [],
   "source": [
    "df_rides['month'] = pd.DatetimeIndex(df_rides['date']).month"
   ]
  },
  {
   "cell_type": "markdown",
   "id": "4a173fc5",
   "metadata": {},
   "source": [
    "<div class=\"alert alert-block alert-warning\">\n",
    "\n",
    "**Комментарий ревьювера (что можно улучшить)**\n",
    "    \n",
    "Можно дополнительно проверить за какой год предоставлены данные, чтобы убедиться, что они актуальные.\n",
    "</div>"
   ]
  },
  {
   "cell_type": "markdown",
   "id": "3a47659a",
   "metadata": {},
   "source": [
    "Проверка"
   ]
  },
  {
   "cell_type": "code",
   "execution_count": 15,
   "id": "cb37e071",
   "metadata": {},
   "outputs": [
    {
     "data": {
      "text/html": [
       "<div>\n",
       "<style scoped>\n",
       "    .dataframe tbody tr th:only-of-type {\n",
       "        vertical-align: middle;\n",
       "    }\n",
       "\n",
       "    .dataframe tbody tr th {\n",
       "        vertical-align: top;\n",
       "    }\n",
       "\n",
       "    .dataframe thead th {\n",
       "        text-align: right;\n",
       "    }\n",
       "</style>\n",
       "<table border=\"1\" class=\"dataframe\">\n",
       "  <thead>\n",
       "    <tr style=\"text-align: right;\">\n",
       "      <th></th>\n",
       "      <th>user_id</th>\n",
       "      <th>distance</th>\n",
       "      <th>duration</th>\n",
       "      <th>date</th>\n",
       "      <th>month</th>\n",
       "    </tr>\n",
       "  </thead>\n",
       "  <tbody>\n",
       "    <tr>\n",
       "      <th>0</th>\n",
       "      <td>1</td>\n",
       "      <td>4409.91914</td>\n",
       "      <td>25.599769</td>\n",
       "      <td>2021-01-01</td>\n",
       "      <td>1</td>\n",
       "    </tr>\n",
       "  </tbody>\n",
       "</table>\n",
       "</div>"
      ],
      "text/plain": [
       "   user_id    distance   duration       date  month\n",
       "0        1  4409.91914  25.599769 2021-01-01      1"
      ]
     },
     "execution_count": 15,
     "metadata": {},
     "output_type": "execute_result"
    }
   ],
   "source": [
    "df_rides.head(1)"
   ]
  },
  {
   "cell_type": "markdown",
   "id": "c5534749",
   "metadata": {},
   "source": [
    "### Проверка на наличие пропущенных значений и дубликатов в датафреймах. "
   ]
  },
  {
   "cell_type": "markdown",
   "id": "5eb16ea4",
   "metadata": {},
   "source": [
    "#### df_users"
   ]
  },
  {
   "cell_type": "code",
   "execution_count": 16,
   "id": "85980398",
   "metadata": {},
   "outputs": [
    {
     "data": {
      "text/html": [
       "<div>\n",
       "<style scoped>\n",
       "    .dataframe tbody tr th:only-of-type {\n",
       "        vertical-align: middle;\n",
       "    }\n",
       "\n",
       "    .dataframe tbody tr th {\n",
       "        vertical-align: top;\n",
       "    }\n",
       "\n",
       "    .dataframe thead th {\n",
       "        text-align: right;\n",
       "    }\n",
       "</style>\n",
       "<table border=\"1\" class=\"dataframe\">\n",
       "  <thead>\n",
       "    <tr style=\"text-align: right;\">\n",
       "      <th></th>\n",
       "      <th>user_id</th>\n",
       "      <th>name</th>\n",
       "      <th>age</th>\n",
       "      <th>city</th>\n",
       "      <th>subscription_type</th>\n",
       "    </tr>\n",
       "  </thead>\n",
       "  <tbody>\n",
       "    <tr>\n",
       "      <th>0</th>\n",
       "      <td>1</td>\n",
       "      <td>Кира</td>\n",
       "      <td>22</td>\n",
       "      <td>Тюмень</td>\n",
       "      <td>ultra</td>\n",
       "    </tr>\n",
       "  </tbody>\n",
       "</table>\n",
       "</div>"
      ],
      "text/plain": [
       "   user_id  name  age    city subscription_type\n",
       "0        1  Кира   22  Тюмень             ultra"
      ]
     },
     "execution_count": 16,
     "metadata": {},
     "output_type": "execute_result"
    }
   ],
   "source": [
    "df_users.head(1)"
   ]
  },
  {
   "cell_type": "markdown",
   "id": "06f764e0",
   "metadata": {},
   "source": [
    "##### user_id"
   ]
  },
  {
   "cell_type": "code",
   "execution_count": 17,
   "id": "820d1810",
   "metadata": {},
   "outputs": [
    {
     "data": {
      "text/plain": [
       "array([   1,    2,    3, ..., 1532, 1533, 1534])"
      ]
     },
     "execution_count": 17,
     "metadata": {},
     "output_type": "execute_result"
    }
   ],
   "source": [
    "df_users.user_id.unique()"
   ]
  },
  {
   "cell_type": "markdown",
   "id": "0850eda0",
   "metadata": {},
   "source": [
    "Последние значения user_id не совпадают с длиной столбца. "
   ]
  },
  {
   "cell_type": "code",
   "execution_count": 18,
   "id": "aa8aba61",
   "metadata": {},
   "outputs": [
    {
     "data": {
      "text/html": [
       "<div>\n",
       "<style scoped>\n",
       "    .dataframe tbody tr th:only-of-type {\n",
       "        vertical-align: middle;\n",
       "    }\n",
       "\n",
       "    .dataframe tbody tr th {\n",
       "        vertical-align: top;\n",
       "    }\n",
       "\n",
       "    .dataframe thead th {\n",
       "        text-align: right;\n",
       "    }\n",
       "</style>\n",
       "<table border=\"1\" class=\"dataframe\">\n",
       "  <thead>\n",
       "    <tr style=\"text-align: right;\">\n",
       "      <th></th>\n",
       "      <th>user_id</th>\n",
       "      <th>name</th>\n",
       "      <th>age</th>\n",
       "      <th>city</th>\n",
       "      <th>subscription_type</th>\n",
       "    </tr>\n",
       "  </thead>\n",
       "  <tbody>\n",
       "    <tr>\n",
       "      <th>1534</th>\n",
       "      <td>293</td>\n",
       "      <td>Агата</td>\n",
       "      <td>26</td>\n",
       "      <td>Краснодар</td>\n",
       "      <td>ultra</td>\n",
       "    </tr>\n",
       "    <tr>\n",
       "      <th>1535</th>\n",
       "      <td>16</td>\n",
       "      <td>Амалия</td>\n",
       "      <td>27</td>\n",
       "      <td>Краснодар</td>\n",
       "      <td>ultra</td>\n",
       "    </tr>\n",
       "    <tr>\n",
       "      <th>1536</th>\n",
       "      <td>909</td>\n",
       "      <td>Константин</td>\n",
       "      <td>20</td>\n",
       "      <td>Екатеринбург</td>\n",
       "      <td>free</td>\n",
       "    </tr>\n",
       "    <tr>\n",
       "      <th>1537</th>\n",
       "      <td>403</td>\n",
       "      <td>Полина</td>\n",
       "      <td>19</td>\n",
       "      <td>Сочи</td>\n",
       "      <td>ultra</td>\n",
       "    </tr>\n",
       "    <tr>\n",
       "      <th>1538</th>\n",
       "      <td>908</td>\n",
       "      <td>Рустам</td>\n",
       "      <td>30</td>\n",
       "      <td>Тюмень</td>\n",
       "      <td>free</td>\n",
       "    </tr>\n",
       "    <tr>\n",
       "      <th>1539</th>\n",
       "      <td>43</td>\n",
       "      <td>Стефания</td>\n",
       "      <td>22</td>\n",
       "      <td>Омск</td>\n",
       "      <td>ultra</td>\n",
       "    </tr>\n",
       "    <tr>\n",
       "      <th>1540</th>\n",
       "      <td>127</td>\n",
       "      <td>Павел</td>\n",
       "      <td>25</td>\n",
       "      <td>Пятигорск</td>\n",
       "      <td>ultra</td>\n",
       "    </tr>\n",
       "    <tr>\n",
       "      <th>1541</th>\n",
       "      <td>659</td>\n",
       "      <td>Злата</td>\n",
       "      <td>27</td>\n",
       "      <td>Ростов-на-Дону</td>\n",
       "      <td>ultra</td>\n",
       "    </tr>\n",
       "    <tr>\n",
       "      <th>1542</th>\n",
       "      <td>204</td>\n",
       "      <td>Руслан</td>\n",
       "      <td>30</td>\n",
       "      <td>Пятигорск</td>\n",
       "      <td>ultra</td>\n",
       "    </tr>\n",
       "    <tr>\n",
       "      <th>1543</th>\n",
       "      <td>153</td>\n",
       "      <td>Герман</td>\n",
       "      <td>23</td>\n",
       "      <td>Москва</td>\n",
       "      <td>ultra</td>\n",
       "    </tr>\n",
       "    <tr>\n",
       "      <th>1544</th>\n",
       "      <td>1245</td>\n",
       "      <td>Регина</td>\n",
       "      <td>27</td>\n",
       "      <td>Пятигорск</td>\n",
       "      <td>free</td>\n",
       "    </tr>\n",
       "    <tr>\n",
       "      <th>1545</th>\n",
       "      <td>807</td>\n",
       "      <td>Александр</td>\n",
       "      <td>28</td>\n",
       "      <td>Екатеринбург</td>\n",
       "      <td>free</td>\n",
       "    </tr>\n",
       "    <tr>\n",
       "      <th>1546</th>\n",
       "      <td>924</td>\n",
       "      <td>Мария</td>\n",
       "      <td>23</td>\n",
       "      <td>Пятигорск</td>\n",
       "      <td>free</td>\n",
       "    </tr>\n",
       "    <tr>\n",
       "      <th>1547</th>\n",
       "      <td>635</td>\n",
       "      <td>Герман</td>\n",
       "      <td>21</td>\n",
       "      <td>Москва</td>\n",
       "      <td>ultra</td>\n",
       "    </tr>\n",
       "    <tr>\n",
       "      <th>1548</th>\n",
       "      <td>136</td>\n",
       "      <td>Марсель</td>\n",
       "      <td>25</td>\n",
       "      <td>Тюмень</td>\n",
       "      <td>ultra</td>\n",
       "    </tr>\n",
       "    <tr>\n",
       "      <th>1549</th>\n",
       "      <td>108</td>\n",
       "      <td>Влада</td>\n",
       "      <td>29</td>\n",
       "      <td>Тюмень</td>\n",
       "      <td>ultra</td>\n",
       "    </tr>\n",
       "    <tr>\n",
       "      <th>1550</th>\n",
       "      <td>737</td>\n",
       "      <td>Мелания</td>\n",
       "      <td>27</td>\n",
       "      <td>Ростов-на-Дону</td>\n",
       "      <td>free</td>\n",
       "    </tr>\n",
       "    <tr>\n",
       "      <th>1551</th>\n",
       "      <td>666</td>\n",
       "      <td>Зарина</td>\n",
       "      <td>29</td>\n",
       "      <td>Москва</td>\n",
       "      <td>ultra</td>\n",
       "    </tr>\n",
       "    <tr>\n",
       "      <th>1552</th>\n",
       "      <td>297</td>\n",
       "      <td>Егор</td>\n",
       "      <td>33</td>\n",
       "      <td>Пятигорск</td>\n",
       "      <td>ultra</td>\n",
       "    </tr>\n",
       "    <tr>\n",
       "      <th>1553</th>\n",
       "      <td>121</td>\n",
       "      <td>Алина</td>\n",
       "      <td>25</td>\n",
       "      <td>Пятигорск</td>\n",
       "      <td>ultra</td>\n",
       "    </tr>\n",
       "    <tr>\n",
       "      <th>1554</th>\n",
       "      <td>1198</td>\n",
       "      <td>Демид</td>\n",
       "      <td>29</td>\n",
       "      <td>Ростов-на-Дону</td>\n",
       "      <td>free</td>\n",
       "    </tr>\n",
       "    <tr>\n",
       "      <th>1555</th>\n",
       "      <td>72</td>\n",
       "      <td>Никита</td>\n",
       "      <td>25</td>\n",
       "      <td>Москва</td>\n",
       "      <td>ultra</td>\n",
       "    </tr>\n",
       "    <tr>\n",
       "      <th>1556</th>\n",
       "      <td>422</td>\n",
       "      <td>Кирилл</td>\n",
       "      <td>27</td>\n",
       "      <td>Сочи</td>\n",
       "      <td>ultra</td>\n",
       "    </tr>\n",
       "    <tr>\n",
       "      <th>1557</th>\n",
       "      <td>611</td>\n",
       "      <td>Владимир</td>\n",
       "      <td>28</td>\n",
       "      <td>Омск</td>\n",
       "      <td>ultra</td>\n",
       "    </tr>\n",
       "    <tr>\n",
       "      <th>1558</th>\n",
       "      <td>1237</td>\n",
       "      <td>Евгения</td>\n",
       "      <td>23</td>\n",
       "      <td>Тюмень</td>\n",
       "      <td>free</td>\n",
       "    </tr>\n",
       "    <tr>\n",
       "      <th>1559</th>\n",
       "      <td>209</td>\n",
       "      <td>Андрей</td>\n",
       "      <td>23</td>\n",
       "      <td>Омск</td>\n",
       "      <td>ultra</td>\n",
       "    </tr>\n",
       "    <tr>\n",
       "      <th>1560</th>\n",
       "      <td>829</td>\n",
       "      <td>Федор</td>\n",
       "      <td>29</td>\n",
       "      <td>Пятигорск</td>\n",
       "      <td>free</td>\n",
       "    </tr>\n",
       "    <tr>\n",
       "      <th>1561</th>\n",
       "      <td>809</td>\n",
       "      <td>Юрий</td>\n",
       "      <td>26</td>\n",
       "      <td>Сочи</td>\n",
       "      <td>free</td>\n",
       "    </tr>\n",
       "    <tr>\n",
       "      <th>1562</th>\n",
       "      <td>307</td>\n",
       "      <td>Ясмина</td>\n",
       "      <td>19</td>\n",
       "      <td>Краснодар</td>\n",
       "      <td>ultra</td>\n",
       "    </tr>\n",
       "    <tr>\n",
       "      <th>1563</th>\n",
       "      <td>47</td>\n",
       "      <td>Юрий</td>\n",
       "      <td>28</td>\n",
       "      <td>Тюмень</td>\n",
       "      <td>ultra</td>\n",
       "    </tr>\n",
       "    <tr>\n",
       "      <th>1564</th>\n",
       "      <td>1045</td>\n",
       "      <td>Артемий</td>\n",
       "      <td>28</td>\n",
       "      <td>Ростов-на-Дону</td>\n",
       "      <td>free</td>\n",
       "    </tr>\n",
       "  </tbody>\n",
       "</table>\n",
       "</div>"
      ],
      "text/plain": [
       "      user_id        name  age            city subscription_type\n",
       "1534      293       Агата   26       Краснодар             ultra\n",
       "1535       16      Амалия   27       Краснодар             ultra\n",
       "1536      909  Константин   20    Екатеринбург              free\n",
       "1537      403      Полина   19            Сочи             ultra\n",
       "1538      908      Рустам   30          Тюмень              free\n",
       "1539       43    Стефания   22            Омск             ultra\n",
       "1540      127       Павел   25       Пятигорск             ultra\n",
       "1541      659       Злата   27  Ростов-на-Дону             ultra\n",
       "1542      204      Руслан   30       Пятигорск             ultra\n",
       "1543      153      Герман   23          Москва             ultra\n",
       "1544     1245      Регина   27       Пятигорск              free\n",
       "1545      807   Александр   28    Екатеринбург              free\n",
       "1546      924       Мария   23       Пятигорск              free\n",
       "1547      635      Герман   21          Москва             ultra\n",
       "1548      136     Марсель   25          Тюмень             ultra\n",
       "1549      108       Влада   29          Тюмень             ultra\n",
       "1550      737     Мелания   27  Ростов-на-Дону              free\n",
       "1551      666      Зарина   29          Москва             ultra\n",
       "1552      297        Егор   33       Пятигорск             ultra\n",
       "1553      121       Алина   25       Пятигорск             ultra\n",
       "1554     1198       Демид   29  Ростов-на-Дону              free\n",
       "1555       72      Никита   25          Москва             ultra\n",
       "1556      422      Кирилл   27            Сочи             ultra\n",
       "1557      611    Владимир   28            Омск             ultra\n",
       "1558     1237     Евгения   23          Тюмень              free\n",
       "1559      209      Андрей   23            Омск             ultra\n",
       "1560      829       Федор   29       Пятигорск              free\n",
       "1561      809        Юрий   26            Сочи              free\n",
       "1562      307      Ясмина   19       Краснодар             ultra\n",
       "1563       47        Юрий   28          Тюмень             ultra\n",
       "1564     1045     Артемий   28  Ростов-на-Дону              free"
      ]
     },
     "metadata": {},
     "output_type": "display_data"
    }
   ],
   "source": [
    "display(df_users[df_users.duplicated()])"
   ]
  },
  {
   "cell_type": "markdown",
   "id": "e86ed6d3",
   "metadata": {},
   "source": [
    "Видимо, последние 30 строк - дубликаты. следует от них избавиться."
   ]
  },
  {
   "cell_type": "code",
   "execution_count": 19,
   "id": "acd642fe",
   "metadata": {},
   "outputs": [],
   "source": [
    "df_users = df_users.drop_duplicates().reset_index(drop=True)"
   ]
  },
  {
   "cell_type": "markdown",
   "id": "6b79aead",
   "metadata": {},
   "source": [
    "Проверка"
   ]
  },
  {
   "cell_type": "code",
   "execution_count": 20,
   "id": "a93a63db",
   "metadata": {},
   "outputs": [
    {
     "data": {
      "text/html": [
       "<div>\n",
       "<style scoped>\n",
       "    .dataframe tbody tr th:only-of-type {\n",
       "        vertical-align: middle;\n",
       "    }\n",
       "\n",
       "    .dataframe tbody tr th {\n",
       "        vertical-align: top;\n",
       "    }\n",
       "\n",
       "    .dataframe thead th {\n",
       "        text-align: right;\n",
       "    }\n",
       "</style>\n",
       "<table border=\"1\" class=\"dataframe\">\n",
       "  <thead>\n",
       "    <tr style=\"text-align: right;\">\n",
       "      <th></th>\n",
       "      <th>user_id</th>\n",
       "      <th>name</th>\n",
       "      <th>age</th>\n",
       "      <th>city</th>\n",
       "      <th>subscription_type</th>\n",
       "    </tr>\n",
       "  </thead>\n",
       "  <tbody>\n",
       "  </tbody>\n",
       "</table>\n",
       "</div>"
      ],
      "text/plain": [
       "Empty DataFrame\n",
       "Columns: [user_id, name, age, city, subscription_type]\n",
       "Index: []"
      ]
     },
     "metadata": {},
     "output_type": "display_data"
    },
    {
     "name": "stdout",
     "output_type": "stream",
     "text": [
      "<class 'pandas.core.frame.DataFrame'>\n",
      "RangeIndex: 1534 entries, 0 to 1533\n",
      "Data columns (total 5 columns):\n",
      " #   Column             Non-Null Count  Dtype \n",
      "---  ------             --------------  ----- \n",
      " 0   user_id            1534 non-null   int64 \n",
      " 1   name               1534 non-null   object\n",
      " 2   age                1534 non-null   int64 \n",
      " 3   city               1534 non-null   object\n",
      " 4   subscription_type  1534 non-null   object\n",
      "dtypes: int64(2), object(3)\n",
      "memory usage: 60.0+ KB\n"
     ]
    }
   ],
   "source": [
    "display(df_users[df_users.duplicated()])\n",
    "df_users.info()"
   ]
  },
  {
   "cell_type": "markdown",
   "id": "35bd5501",
   "metadata": {},
   "source": [
    "##### name"
   ]
  },
  {
   "cell_type": "code",
   "execution_count": 21,
   "id": "1c882e79",
   "metadata": {},
   "outputs": [
    {
     "data": {
      "text/plain": [
       "array(['Кира', 'Станислав', 'Алексей', 'Константин', 'Адель', 'Регина',\n",
       "       'Игорь', 'Юрий', 'Ян', 'Валерий', 'Агата', 'Марк', 'Ева',\n",
       "       'Антонина', 'Валерия', 'Амалия', 'Даниил', 'Аделина', 'Святогор',\n",
       "       'Борис', 'Вероника', 'Ростислав', 'Назар', 'Эдуард', 'Василий',\n",
       "       'Денис', 'Тамара', 'Николай', 'Эвелина', 'Федор', 'Руслан', 'Иван',\n",
       "       'Любовь', 'Ярослава', 'Майя', 'Ильдар', 'Данила', 'Нина',\n",
       "       'Стефания', 'Ясмина', 'Дмитрий', 'Александр', 'Одиссей', 'Арсений',\n",
       "       'Алла', 'Таисия', 'Максим', 'Юлиана', 'Павел', 'Карина', 'Алиса',\n",
       "       'Лидия', 'Рамиль', 'Родион', 'Ника', 'Оксана', 'Анастасия',\n",
       "       'Маргарита', 'Вера', 'Тимур', 'Никита', 'Лев', 'Влад', 'Артур',\n",
       "       'Анна', 'Ольга', 'Вячеслав', 'Ксения', 'Виталина', 'Владислав',\n",
       "       'Тамерлан', 'Амина', 'Вадим', 'Олеся', 'Зарина', 'Егор', 'Гордей',\n",
       "       'Лилия', 'Святослав', 'Роберт', 'Амир', 'Влада', 'Богдан',\n",
       "       'Полина', 'Марат', 'Елисей', 'Макар', 'Алина', 'Глеб', 'Андрей',\n",
       "       'Альбина', 'Людмила', 'Марсель', 'Милена', 'Диана', 'Дарина',\n",
       "       'Данил', 'Артемий', 'Лиана', 'Альберт', 'Герман', 'Жанна', 'Нелли',\n",
       "       'Евгения', 'Ариана', 'Самира', 'Захар', 'Эльвира', 'Екатерина',\n",
       "       'Инна', 'Демид', 'Яна', 'Михаил', 'Татьяна', 'Степан', 'Мелания',\n",
       "       'Тимофей', 'Ирина', 'Анжелика', 'Владислава', 'Елизавета',\n",
       "       'Мадина', 'Снежана', 'Даниэль', 'Рустам', 'Каролина', 'Ангелина',\n",
       "       'Владимир', 'Виктория', 'Валентина', 'Семен', 'Арина', 'Лариса',\n",
       "       'Есения', 'Галина', 'Кирилл', 'Игнат', 'Виталий', 'Эмилия',\n",
       "       'Виолетта', 'Яромир', 'Софья', 'Мирослава', 'Евгений', 'Варвара',\n",
       "       'Платон', 'Наталия', 'Анатолий', 'Кристина', 'Всеволод', 'Дарья',\n",
       "       'Наташа', 'Мария', 'Марина', 'Василиса', 'Юлия', 'Илья', 'Злата',\n",
       "       'Роман', 'Наталья', 'Элина', 'Арсен', 'Айдар', 'Алия', 'Виктор',\n",
       "       'Мирон', 'Ульяна', 'Георгий', 'Петр', 'Эльмира', 'Олег', 'Дамир',\n",
       "       'Самир', 'Ярослав', 'Камилла', 'Сергей', 'Эмиль', 'Радмир',\n",
       "       'Савелий', 'Елена', 'Антон', 'Мирослав', 'София', 'Тихон', 'Артём',\n",
       "       'Давид', 'Григорий', 'Алёна', 'Светлана', 'Леонид', 'Александра',\n",
       "       'Василина', 'Милана', 'Матвей'], dtype=object)"
      ]
     },
     "execution_count": 21,
     "metadata": {},
     "output_type": "execute_result"
    }
   ],
   "source": [
    "df_users.name.unique()"
   ]
  },
  {
   "cell_type": "markdown",
   "id": "b0139e37",
   "metadata": {},
   "source": [
    "На первый взгляд - всё в порядке, дубликатов нет."
   ]
  },
  {
   "cell_type": "markdown",
   "id": "d9df7018",
   "metadata": {},
   "source": [
    "##### age"
   ]
  },
  {
   "cell_type": "code",
   "execution_count": 22,
   "id": "4b298eab",
   "metadata": {},
   "outputs": [
    {
     "data": {
      "text/plain": [
       "[12,\n",
       " 13,\n",
       " 14,\n",
       " 15,\n",
       " 16,\n",
       " 17,\n",
       " 18,\n",
       " 19,\n",
       " 20,\n",
       " 21,\n",
       " 22,\n",
       " 23,\n",
       " 24,\n",
       " 25,\n",
       " 26,\n",
       " 27,\n",
       " 28,\n",
       " 29,\n",
       " 30,\n",
       " 31,\n",
       " 32,\n",
       " 33,\n",
       " 34,\n",
       " 35,\n",
       " 36,\n",
       " 37,\n",
       " 38,\n",
       " 39,\n",
       " 43]"
      ]
     },
     "execution_count": 22,
     "metadata": {},
     "output_type": "execute_result"
    }
   ],
   "source": [
    "sorted(df_users.age.unique())"
   ]
  },
  {
   "cell_type": "code",
   "execution_count": 23,
   "id": "9db46218",
   "metadata": {},
   "outputs": [
    {
     "data": {
      "text/plain": [
       "25    145\n",
       "24    132\n",
       "26    131\n",
       "23    129\n",
       "27    119\n",
       "22    119\n",
       "28    112\n",
       "21     93\n",
       "20     71\n",
       "30     68\n",
       "29     68\n",
       "31     48\n",
       "19     47\n",
       "18     46\n",
       "32     41\n",
       "33     39\n",
       "17     26\n",
       "34     19\n",
       "16     19\n",
       "35     15\n",
       "15     13\n",
       "14      9\n",
       "13      8\n",
       "36      6\n",
       "12      4\n",
       "38      3\n",
       "37      2\n",
       "39      1\n",
       "43      1\n",
       "Name: age, dtype: int64"
      ]
     },
     "execution_count": 23,
     "metadata": {},
     "output_type": "execute_result"
    }
   ],
   "source": [
    "df_users.age.value_counts()"
   ]
  },
  {
   "cell_type": "markdown",
   "id": "3d781918",
   "metadata": {},
   "source": [
    "Аномальных значений нет, распределение нормальное."
   ]
  },
  {
   "cell_type": "markdown",
   "id": "03eef944",
   "metadata": {},
   "source": [
    "##### city"
   ]
  },
  {
   "cell_type": "code",
   "execution_count": 24,
   "id": "1d72a836",
   "metadata": {},
   "outputs": [
    {
     "data": {
      "text/plain": [
       "array(['Тюмень', 'Омск', 'Москва', 'Ростов-на-Дону', 'Краснодар',\n",
       "       'Пятигорск', 'Екатеринбург', 'Сочи'], dtype=object)"
      ]
     },
     "execution_count": 24,
     "metadata": {},
     "output_type": "execute_result"
    }
   ],
   "source": [
    "df_users.city.unique()"
   ]
  },
  {
   "cell_type": "code",
   "execution_count": 25,
   "id": "ff2e6f35",
   "metadata": {},
   "outputs": [
    {
     "data": {
      "text/plain": [
       "Пятигорск         219\n",
       "Екатеринбург      204\n",
       "Ростов-на-Дону    198\n",
       "Краснодар         193\n",
       "Сочи              189\n",
       "Омск              183\n",
       "Тюмень            180\n",
       "Москва            168\n",
       "Name: city, dtype: int64"
      ]
     },
     "execution_count": 25,
     "metadata": {},
     "output_type": "execute_result"
    }
   ],
   "source": [
    "df_users.city.value_counts()"
   ]
  },
  {
   "cell_type": "markdown",
   "id": "5537628b",
   "metadata": {},
   "source": [
    "Дубликатов нет, распределение нормальное."
   ]
  },
  {
   "cell_type": "markdown",
   "id": "3a0def8f",
   "metadata": {},
   "source": [
    "##### subscription_type"
   ]
  },
  {
   "cell_type": "code",
   "execution_count": 26,
   "id": "a64341c6",
   "metadata": {},
   "outputs": [
    {
     "data": {
      "text/plain": [
       "array(['ultra', 'free'], dtype=object)"
      ]
     },
     "execution_count": 26,
     "metadata": {},
     "output_type": "execute_result"
    }
   ],
   "source": [
    "df_users.subscription_type.unique()"
   ]
  },
  {
   "cell_type": "code",
   "execution_count": 27,
   "id": "ea479636",
   "metadata": {},
   "outputs": [
    {
     "data": {
      "text/plain": [
       "free     835\n",
       "ultra    699\n",
       "Name: subscription_type, dtype: int64"
      ]
     },
     "execution_count": 27,
     "metadata": {},
     "output_type": "execute_result"
    }
   ],
   "source": [
    "df_users.subscription_type.value_counts()"
   ]
  },
  {
   "cell_type": "markdown",
   "id": "e209829e",
   "metadata": {},
   "source": [
    "Дубликатов нет, распределение нормальное."
   ]
  },
  {
   "cell_type": "markdown",
   "id": "b641b09b",
   "metadata": {},
   "source": [
    "#### df_rides"
   ]
  },
  {
   "cell_type": "code",
   "execution_count": 28,
   "id": "ea832cee",
   "metadata": {},
   "outputs": [
    {
     "data": {
      "text/html": [
       "<div>\n",
       "<style scoped>\n",
       "    .dataframe tbody tr th:only-of-type {\n",
       "        vertical-align: middle;\n",
       "    }\n",
       "\n",
       "    .dataframe tbody tr th {\n",
       "        vertical-align: top;\n",
       "    }\n",
       "\n",
       "    .dataframe thead th {\n",
       "        text-align: right;\n",
       "    }\n",
       "</style>\n",
       "<table border=\"1\" class=\"dataframe\">\n",
       "  <thead>\n",
       "    <tr style=\"text-align: right;\">\n",
       "      <th></th>\n",
       "      <th>user_id</th>\n",
       "      <th>distance</th>\n",
       "      <th>duration</th>\n",
       "      <th>date</th>\n",
       "      <th>month</th>\n",
       "    </tr>\n",
       "  </thead>\n",
       "  <tbody>\n",
       "    <tr>\n",
       "      <th>0</th>\n",
       "      <td>1</td>\n",
       "      <td>4409.919140</td>\n",
       "      <td>25.599769</td>\n",
       "      <td>2021-01-01</td>\n",
       "      <td>1</td>\n",
       "    </tr>\n",
       "    <tr>\n",
       "      <th>1</th>\n",
       "      <td>1</td>\n",
       "      <td>2617.592153</td>\n",
       "      <td>15.816871</td>\n",
       "      <td>2021-01-18</td>\n",
       "      <td>1</td>\n",
       "    </tr>\n",
       "    <tr>\n",
       "      <th>2</th>\n",
       "      <td>1</td>\n",
       "      <td>754.159807</td>\n",
       "      <td>6.232113</td>\n",
       "      <td>2021-04-20</td>\n",
       "      <td>4</td>\n",
       "    </tr>\n",
       "    <tr>\n",
       "      <th>3</th>\n",
       "      <td>1</td>\n",
       "      <td>2694.783254</td>\n",
       "      <td>18.511000</td>\n",
       "      <td>2021-08-11</td>\n",
       "      <td>8</td>\n",
       "    </tr>\n",
       "    <tr>\n",
       "      <th>4</th>\n",
       "      <td>1</td>\n",
       "      <td>4028.687306</td>\n",
       "      <td>26.265803</td>\n",
       "      <td>2021-08-28</td>\n",
       "      <td>8</td>\n",
       "    </tr>\n",
       "  </tbody>\n",
       "</table>\n",
       "</div>"
      ],
      "text/plain": [
       "   user_id     distance   duration       date  month\n",
       "0        1  4409.919140  25.599769 2021-01-01      1\n",
       "1        1  2617.592153  15.816871 2021-01-18      1\n",
       "2        1   754.159807   6.232113 2021-04-20      4\n",
       "3        1  2694.783254  18.511000 2021-08-11      8\n",
       "4        1  4028.687306  26.265803 2021-08-28      8"
      ]
     },
     "execution_count": 28,
     "metadata": {},
     "output_type": "execute_result"
    }
   ],
   "source": [
    "df_rides.head()"
   ]
  },
  {
   "cell_type": "code",
   "execution_count": 29,
   "id": "b9755f98",
   "metadata": {},
   "outputs": [
    {
     "data": {
      "text/html": [
       "<div>\n",
       "<style scoped>\n",
       "    .dataframe tbody tr th:only-of-type {\n",
       "        vertical-align: middle;\n",
       "    }\n",
       "\n",
       "    .dataframe tbody tr th {\n",
       "        vertical-align: top;\n",
       "    }\n",
       "\n",
       "    .dataframe thead th {\n",
       "        text-align: right;\n",
       "    }\n",
       "</style>\n",
       "<table border=\"1\" class=\"dataframe\">\n",
       "  <thead>\n",
       "    <tr style=\"text-align: right;\">\n",
       "      <th></th>\n",
       "      <th>user_id</th>\n",
       "      <th>distance</th>\n",
       "      <th>duration</th>\n",
       "      <th>date</th>\n",
       "      <th>month</th>\n",
       "    </tr>\n",
       "  </thead>\n",
       "  <tbody>\n",
       "  </tbody>\n",
       "</table>\n",
       "</div>"
      ],
      "text/plain": [
       "Empty DataFrame\n",
       "Columns: [user_id, distance, duration, date, month]\n",
       "Index: []"
      ]
     },
     "metadata": {},
     "output_type": "display_data"
    }
   ],
   "source": [
    "display(df_rides[df_rides.duplicated()])"
   ]
  },
  {
   "cell_type": "markdown",
   "id": "7be3fbce",
   "metadata": {},
   "source": [
    "##### user_id"
   ]
  },
  {
   "cell_type": "code",
   "execution_count": 30,
   "id": "50484538",
   "metadata": {},
   "outputs": [
    {
     "data": {
      "text/plain": [
       "array([   1,    2,    3, ..., 1532, 1533, 1534])"
      ]
     },
     "execution_count": 30,
     "metadata": {},
     "output_type": "execute_result"
    }
   ],
   "source": [
    "df_rides.user_id.unique()"
   ]
  },
  {
   "cell_type": "code",
   "execution_count": 31,
   "id": "3164bcb2",
   "metadata": {},
   "outputs": [
    {
     "data": {
      "text/plain": [
       "1236    27\n",
       "783     26\n",
       "1063    26\n",
       "1204    24\n",
       "1149    23\n",
       "        ..\n",
       "420      3\n",
       "108      3\n",
       "412      3\n",
       "342      2\n",
       "366      2\n",
       "Name: user_id, Length: 1534, dtype: int64"
      ]
     },
     "execution_count": 31,
     "metadata": {},
     "output_type": "execute_result"
    }
   ],
   "source": [
    "df_rides.user_id.value_counts()"
   ]
  },
  {
   "cell_type": "markdown",
   "id": "96ead56b",
   "metadata": {},
   "source": [
    "##### distance"
   ]
  },
  {
   "cell_type": "code",
   "execution_count": 32,
   "id": "011d3bcb",
   "metadata": {},
   "outputs": [
    {
     "data": {
      "text/plain": [
       "array([4409.9191402 , 2617.59215346,  754.15980696, ..., 3826.1855073 ,\n",
       "       2902.30866066, 2371.71119224])"
      ]
     },
     "execution_count": 32,
     "metadata": {},
     "output_type": "execute_result"
    }
   ],
   "source": [
    "df_rides.distance.unique()"
   ]
  },
  {
   "cell_type": "code",
   "execution_count": 33,
   "id": "a3c57a5c",
   "metadata": {},
   "outputs": [
    {
     "data": {
      "text/plain": [
       "741.545359     1\n",
       "4158.226381    1\n",
       "3672.118870    1\n",
       "4533.004089    1\n",
       "2437.274120    1\n",
       "              ..\n",
       "2949.530545    1\n",
       "3289.893471    1\n",
       "3047.554085    1\n",
       "2931.718067    1\n",
       "4031.935032    1\n",
       "Name: distance, Length: 18068, dtype: int64"
      ]
     },
     "execution_count": 33,
     "metadata": {},
     "output_type": "execute_result"
    }
   ],
   "source": [
    "df_rides.distance.value_counts()"
   ]
  },
  {
   "cell_type": "markdown",
   "id": "d3189c41",
   "metadata": {},
   "source": [
    "##### duration"
   ]
  },
  {
   "cell_type": "markdown",
   "id": "47cfcb5c",
   "metadata": {},
   "source": [
    "<span style=\"color:blue\">------------------------------------- округление для шага 5.2 </span>"
   ]
  },
  {
   "cell_type": "code",
   "execution_count": 34,
   "id": "af563dda",
   "metadata": {},
   "outputs": [],
   "source": [
    "df_rides['duration'] = np.ceil(df_rides['duration'])"
   ]
  },
  {
   "cell_type": "markdown",
   "id": "74d6f576",
   "metadata": {},
   "source": [
    "<span style=\"color:blue\">------------------------------------- </span>"
   ]
  },
  {
   "cell_type": "code",
   "execution_count": 35,
   "id": "c84df304",
   "metadata": {},
   "outputs": [
    {
     "data": {
      "text/plain": [
       "array([26., 16.,  7., 19., 27., 17., 15., 24., 18., 10., 25., 12., 21.,\n",
       "       14., 13., 22., 20., 23., 28., 36., 34., 11.,  6., 31., 33.,  8.,\n",
       "       29., 39., 32., 30.,  9.,  5., 37., 35., 40., 38., 41.,  4.,  1.,\n",
       "        3.])"
      ]
     },
     "execution_count": 35,
     "metadata": {},
     "output_type": "execute_result"
    }
   ],
   "source": [
    "df_rides.duration.unique()"
   ]
  },
  {
   "cell_type": "code",
   "execution_count": 36,
   "id": "91c0cedf",
   "metadata": {},
   "outputs": [
    {
     "data": {
      "text/plain": [
       "19.0    1198\n",
       "18.0    1190\n",
       "21.0    1122\n",
       "16.0    1119\n",
       "20.0    1119\n",
       "17.0    1095\n",
       "15.0    1080\n",
       "14.0     991\n",
       "22.0     958\n",
       "13.0     923\n",
       "23.0     815\n",
       "12.0     742\n",
       "24.0     684\n",
       "11.0     638\n",
       "25.0     561\n",
       "26.0     498\n",
       "10.0     469\n",
       "27.0     397\n",
       "9.0      330\n",
       "28.0     288\n",
       "29.0     271\n",
       "8.0      234\n",
       "30.0     197\n",
       "7.0      185\n",
       "31.0     164\n",
       "6.0      143\n",
       "32.0     137\n",
       "33.0      96\n",
       "5.0       95\n",
       "1.0       95\n",
       "34.0      71\n",
       "4.0       55\n",
       "35.0      47\n",
       "3.0       33\n",
       "36.0      14\n",
       "37.0       7\n",
       "39.0       3\n",
       "40.0       2\n",
       "41.0       1\n",
       "38.0       1\n",
       "Name: duration, dtype: int64"
      ]
     },
     "execution_count": 36,
     "metadata": {},
     "output_type": "execute_result"
    }
   ],
   "source": [
    "df_rides.duration.value_counts()"
   ]
  },
  {
   "cell_type": "code",
   "execution_count": 37,
   "id": "1e1cf0f2",
   "metadata": {},
   "outputs": [
    {
     "data": {
      "text/plain": [
       "1.0"
      ]
     },
     "metadata": {},
     "output_type": "display_data"
    },
    {
     "data": {
      "text/plain": [
       "41.0"
      ]
     },
     "metadata": {},
     "output_type": "display_data"
    },
    {
     "data": {
      "image/png": "[encoded data removed]",
      "text/plain": [
       "<Figure size 432x288 with 1 Axes>"
      ]
     },
     "metadata": {
      "needs_background": "light"
     },
     "output_type": "display_data"
    }
   ],
   "source": [
    "df_rides.duration.hist()\n",
    "display(df_rides.duration.min())\n",
    "display(df_rides.duration.max())"
   ]
  },
  {
   "cell_type": "markdown",
   "id": "21bb0b6b",
   "metadata": {},
   "source": [
    "Распределение нормальное, но есть 95 аномалий (поездка в 0.5 минут)"
   ]
  },
  {
   "cell_type": "code",
   "execution_count": 38,
   "id": "e6479e00",
   "metadata": {
    "scrolled": false
   },
   "outputs": [
    {
     "data": {
      "text/html": [
       "<div>\n",
       "<style scoped>\n",
       "    .dataframe tbody tr th:only-of-type {\n",
       "        vertical-align: middle;\n",
       "    }\n",
       "\n",
       "    .dataframe tbody tr th {\n",
       "        vertical-align: top;\n",
       "    }\n",
       "\n",
       "    .dataframe thead th {\n",
       "        text-align: right;\n",
       "    }\n",
       "</style>\n",
       "<table border=\"1\" class=\"dataframe\">\n",
       "  <thead>\n",
       "    <tr style=\"text-align: right;\">\n",
       "      <th></th>\n",
       "      <th>user_id</th>\n",
       "      <th>distance</th>\n",
       "      <th>duration</th>\n",
       "      <th>date</th>\n",
       "      <th>month</th>\n",
       "    </tr>\n",
       "  </thead>\n",
       "  <tbody>\n",
       "  </tbody>\n",
       "</table>\n",
       "</div>"
      ],
      "text/plain": [
       "Empty DataFrame\n",
       "Columns: [user_id, distance, duration, date, month]\n",
       "Index: []"
      ]
     },
     "execution_count": 38,
     "metadata": {},
     "output_type": "execute_result"
    }
   ],
   "source": [
    "df_rides[df_rides['duration'] == 0.5]"
   ]
  },
  {
   "cell_type": "code",
   "execution_count": 39,
   "id": "a62b5e39",
   "metadata": {},
   "outputs": [],
   "source": [
    "df_rides = df_rides.drop(df_rides[df_rides['duration'] == 0.5].index).reset_index(drop=True)"
   ]
  },
  {
   "cell_type": "markdown",
   "id": "0497eed1",
   "metadata": {},
   "source": [
    "Проверка"
   ]
  },
  {
   "cell_type": "code",
   "execution_count": 40,
   "id": "5da93642",
   "metadata": {},
   "outputs": [
    {
     "data": {
      "text/html": [
       "<div>\n",
       "<style scoped>\n",
       "    .dataframe tbody tr th:only-of-type {\n",
       "        vertical-align: middle;\n",
       "    }\n",
       "\n",
       "    .dataframe tbody tr th {\n",
       "        vertical-align: top;\n",
       "    }\n",
       "\n",
       "    .dataframe thead th {\n",
       "        text-align: right;\n",
       "    }\n",
       "</style>\n",
       "<table border=\"1\" class=\"dataframe\">\n",
       "  <thead>\n",
       "    <tr style=\"text-align: right;\">\n",
       "      <th></th>\n",
       "      <th>user_id</th>\n",
       "      <th>distance</th>\n",
       "      <th>duration</th>\n",
       "      <th>date</th>\n",
       "      <th>month</th>\n",
       "    </tr>\n",
       "  </thead>\n",
       "  <tbody>\n",
       "  </tbody>\n",
       "</table>\n",
       "</div>"
      ],
      "text/plain": [
       "Empty DataFrame\n",
       "Columns: [user_id, distance, duration, date, month]\n",
       "Index: []"
      ]
     },
     "execution_count": 40,
     "metadata": {},
     "output_type": "execute_result"
    }
   ],
   "source": [
    "df_rides[df_rides['duration'] == 0.5]"
   ]
  },
  {
   "cell_type": "markdown",
   "id": "5bfe55d5",
   "metadata": {},
   "source": [
    "##### date"
   ]
  },
  {
   "cell_type": "code",
   "execution_count": 41,
   "id": "af16ad07",
   "metadata": {
    "scrolled": false
   },
   "outputs": [
    {
     "data": {
      "text/plain": [
       "Timestamp('2021-01-01 00:00:00')"
      ]
     },
     "execution_count": 41,
     "metadata": {},
     "output_type": "execute_result"
    }
   ],
   "source": [
    "df_rides.date.min()"
   ]
  },
  {
   "cell_type": "code",
   "execution_count": 42,
   "id": "2ecb25d1",
   "metadata": {},
   "outputs": [
    {
     "data": {
      "text/plain": [
       "Timestamp('2021-12-30 00:00:00')"
      ]
     },
     "execution_count": 42,
     "metadata": {},
     "output_type": "execute_result"
    }
   ],
   "source": [
    "df_rides.date.max()"
   ]
  },
  {
   "cell_type": "markdown",
   "id": "fecb3744",
   "metadata": {},
   "source": [
    "<div class=\"alert alert-block alert-warning\">\n",
    "\n",
    "**Комментарий ревьювера (что можно улучшить)**\n",
    "    \n",
    "Проверить даты можно, показав максимальное и минимальное значение.\n",
    "</div>"
   ]
  },
  {
   "cell_type": "code",
   "execution_count": 43,
   "id": "a360c1ec",
   "metadata": {},
   "outputs": [
    {
     "data": {
      "text/plain": [
       "2021-12-22    72\n",
       "2021-01-12    70\n",
       "2021-12-27    69\n",
       "2021-08-20    67\n",
       "2021-06-09    67\n",
       "              ..\n",
       "2021-11-07    35\n",
       "2021-07-30    35\n",
       "2021-12-15    34\n",
       "2021-02-02    34\n",
       "2021-07-03    31\n",
       "Name: date, Length: 364, dtype: int64"
      ]
     },
     "execution_count": 43,
     "metadata": {},
     "output_type": "execute_result"
    }
   ],
   "source": [
    "df_rides.date.value_counts()"
   ]
  },
  {
   "cell_type": "markdown",
   "id": "ebf650c6",
   "metadata": {},
   "source": [
    "Аномалий не обнаружено"
   ]
  },
  {
   "cell_type": "markdown",
   "id": "588d1a3b",
   "metadata": {},
   "source": [
    "##### month"
   ]
  },
  {
   "cell_type": "code",
   "execution_count": 44,
   "id": "0a5f9444",
   "metadata": {},
   "outputs": [
    {
     "data": {
      "text/plain": [
       "array([ 1,  4,  8, 10, 11, 12,  3,  6,  7,  2,  5,  9])"
      ]
     },
     "execution_count": 44,
     "metadata": {},
     "output_type": "execute_result"
    }
   ],
   "source": [
    "df_rides.month.unique()"
   ]
  },
  {
   "cell_type": "code",
   "execution_count": 45,
   "id": "9ea590e9",
   "metadata": {},
   "outputs": [
    {
     "data": {
      "text/plain": [
       "1     1585\n",
       "5     1560\n",
       "6     1553\n",
       "3     1544\n",
       "7     1529\n",
       "12    1527\n",
       "8     1518\n",
       "9     1517\n",
       "4     1506\n",
       "10    1475\n",
       "11    1418\n",
       "2     1336\n",
       "Name: month, dtype: int64"
      ]
     },
     "execution_count": 45,
     "metadata": {},
     "output_type": "execute_result"
    }
   ],
   "source": [
    "df_rides.month.value_counts()"
   ]
  },
  {
   "cell_type": "markdown",
   "id": "a635db50",
   "metadata": {},
   "source": [
    "Аномалий не обнаружено"
   ]
  },
  {
   "cell_type": "markdown",
   "id": "45a9f1d9",
   "metadata": {},
   "source": [
    "#### df_subs"
   ]
  },
  {
   "cell_type": "code",
   "execution_count": 46,
   "id": "300ca232",
   "metadata": {},
   "outputs": [
    {
     "data": {
      "text/html": [
       "<div>\n",
       "<style scoped>\n",
       "    .dataframe tbody tr th:only-of-type {\n",
       "        vertical-align: middle;\n",
       "    }\n",
       "\n",
       "    .dataframe tbody tr th {\n",
       "        vertical-align: top;\n",
       "    }\n",
       "\n",
       "    .dataframe thead th {\n",
       "        text-align: right;\n",
       "    }\n",
       "</style>\n",
       "<table border=\"1\" class=\"dataframe\">\n",
       "  <thead>\n",
       "    <tr style=\"text-align: right;\">\n",
       "      <th></th>\n",
       "      <th>subscription_type</th>\n",
       "      <th>minute_price</th>\n",
       "      <th>start_ride_price</th>\n",
       "      <th>subscription_fee</th>\n",
       "    </tr>\n",
       "  </thead>\n",
       "  <tbody>\n",
       "    <tr>\n",
       "      <th>0</th>\n",
       "      <td>free</td>\n",
       "      <td>8</td>\n",
       "      <td>50</td>\n",
       "      <td>0</td>\n",
       "    </tr>\n",
       "    <tr>\n",
       "      <th>1</th>\n",
       "      <td>ultra</td>\n",
       "      <td>6</td>\n",
       "      <td>0</td>\n",
       "      <td>199</td>\n",
       "    </tr>\n",
       "  </tbody>\n",
       "</table>\n",
       "</div>"
      ],
      "text/plain": [
       "  subscription_type  minute_price  start_ride_price  subscription_fee\n",
       "0              free             8                50                 0\n",
       "1             ultra             6                 0               199"
      ]
     },
     "execution_count": 46,
     "metadata": {},
     "output_type": "execute_result"
    }
   ],
   "source": [
    "df_subs.head()"
   ]
  },
  {
   "cell_type": "markdown",
   "id": "abf4f06e",
   "metadata": {},
   "source": [
    "Датафрейм крохотный и аномалий нет."
   ]
  },
  {
   "cell_type": "markdown",
   "id": "bf763d4a",
   "metadata": {},
   "source": [
    "<div class=\"alert alert-block alert-success\">\n",
    "\n",
    "**Комментарий ревьювера (все отлично)**\n",
    "    \n",
    "Верно, данные готовы к анализу👍\n",
    "</div>"
   ]
  },
  {
   "cell_type": "markdown",
   "id": "212593c7",
   "metadata": {},
   "source": [
    "## Шаг. Исследовательский анализ данных"
   ]
  },
  {
   "cell_type": "markdown",
   "id": "1bd1a4fb",
   "metadata": {},
   "source": [
    "### Частота встречаемости городов"
   ]
  },
  {
   "cell_type": "code",
   "execution_count": 47,
   "id": "e3a4274c",
   "metadata": {},
   "outputs": [
    {
     "data": {
      "text/plain": [
       "Пятигорск         219\n",
       "Екатеринбург      204\n",
       "Ростов-на-Дону    198\n",
       "Краснодар         193\n",
       "Сочи              189\n",
       "Омск              183\n",
       "Тюмень            180\n",
       "Москва            168\n",
       "Name: city, dtype: int64"
      ]
     },
     "execution_count": 47,
     "metadata": {},
     "output_type": "execute_result"
    }
   ],
   "source": [
    "df_users.city.value_counts()"
   ]
  },
  {
   "cell_type": "code",
   "execution_count": 48,
   "id": "5d2241a6",
   "metadata": {
    "scrolled": false
   },
   "outputs": [
    {
     "data": {
      "text/plain": [
       "Text(0.5, 1.0, 'Частота встерчаемости городов\\n')"
      ]
     },
     "execution_count": 48,
     "metadata": {},
     "output_type": "execute_result"
    },
    {
     "data": {
      "image/png": "[encoded data removed]",
      "text/plain": [
       "<Figure size 1080x432 with 1 Axes>"
      ]
     },
     "metadata": {
      "needs_background": "light"
     },
     "output_type": "display_data"
    }
   ],
   "source": [
    "df_users.city\\\n",
    ".value_counts()\\\n",
    ".to_frame()\\\n",
    ".plot(kind = 'barh', figsize = (15,6),  legend = False, fontsize = 16, grid = True)\\\n",
    ".set_title('Частота встерчаемости городов' + \"\\n\", fontsize = 22) "
   ]
  },
  {
   "cell_type": "markdown",
   "id": "f31b7f60",
   "metadata": {},
   "source": [
    "Видно, что больше всего сервисом пользуются в Пятигорске, а меньше всего, что удивительно, в Москве."
   ]
  },
  {
   "cell_type": "markdown",
   "id": "4865c3b0",
   "metadata": {},
   "source": [
    "<div class=\"alert alert-block alert-success\">\n",
    "\n",
    "**Комментарий ревьювера (все отлично)**\n",
    "    \n",
    "Хорошо, что категории отсортированы – так удобнее сравнивать и сопоставлять данные.\n",
    "    \n",
    "Когда строишь визуализации, ставь себя на место человека, полностью не имеющего отношение к математике и аналитике, и пробуй проанализировать, как этот график будет воспринимать обычный обыватель. Главное, чтобы было:\n",
    "\n",
    "* все верно в расчетах, график показывал верные, не ошибочные данные.\n",
    "\n",
    "* все было понятно, по возможности просто и график отображал суть изучаемого вопроса.\n",
    "    \n",
    "* график имел хотя бы краткий комментарий под собой о том, что он демонстрирует.\n",
    "\n",
    "* красиво, так как даже от математических графиков нужно получать удовольствие:)\n",
    "</div>"
   ]
  },
  {
   "cell_type": "markdown",
   "id": "61e08ed1",
   "metadata": {},
   "source": [
    "### Соотношение пользователей с подпиской и без подписки"
   ]
  },
  {
   "cell_type": "code",
   "execution_count": 49,
   "id": "713bd7d2",
   "metadata": {},
   "outputs": [
    {
     "data": {
      "text/plain": [
       "subscription_type\n",
       "free     835\n",
       "ultra    699\n",
       "Name: user_id, dtype: int64"
      ]
     },
     "execution_count": 49,
     "metadata": {},
     "output_type": "execute_result"
    }
   ],
   "source": [
    "df_users.groupby('subscription_type')['user_id'].count()"
   ]
  },
  {
   "cell_type": "code",
   "execution_count": 50,
   "id": "22bfca6e",
   "metadata": {
    "scrolled": false
   },
   "outputs": [
    {
     "data": {
      "text/plain": [
       "Text(0.5, 1.0, 'Соотношение пользователей с подпиской и без подписки\\n')"
      ]
     },
     "execution_count": 50,
     "metadata": {},
     "output_type": "execute_result"
    },
    {
     "data": {
      "image/png": "[encoded data removed]",
      "text/plain": [
       "<Figure size 1080x144 with 1 Axes>"
      ]
     },
     "metadata": {
      "needs_background": "light"
     },
     "output_type": "display_data"
    }
   ],
   "source": [
    "df_users.groupby('subscription_type')['user_id'].count()\\\n",
    ".to_frame()\\\n",
    ".plot(kind = 'barh', figsize = (15,2),  legend = False, fontsize = 16, grid = True)\\\n",
    ".set_title('Соотношение пользователей с подпиской и без подписки' + \"\\n\", fontsize = 22) "
   ]
  },
  {
   "cell_type": "markdown",
   "id": "61a80773",
   "metadata": {},
   "source": [
    "<div class=\"alert alert-block alert-danger\">\n",
    "    \n",
    "**Комментарий ревьювера (недочет, который нужно доработать)**\n",
    "    \n",
    "Посчитай соотношение пользователей по тарифам в долях.\n",
    "</div>"
   ]
  },
  {
   "cell_type": "markdown",
   "id": "cae9fe48",
   "metadata": {},
   "source": [
    "<span style=\"color:blue\"> Ниже переделал </span>"
   ]
  },
  {
   "cell_type": "code",
   "execution_count": 51,
   "id": "266a59e4",
   "metadata": {},
   "outputs": [
    {
     "data": {
      "image/png": "[encoded data removed]",
      "text/plain": [
       "<Figure size 1080x144 with 1 Axes>"
      ]
     },
     "metadata": {
      "needs_background": "light"
     },
     "output_type": "display_data"
    }
   ],
   "source": [
    "#Подсчет общего количества пользователей\n",
    "total_users = df_users['user_id'].count()\n",
    "\n",
    "#Группировка и подсчет пользователей в каждой категории\n",
    "df_count = df_users.groupby('subscription_type')['user_id'].count().to_frame()\n",
    "\n",
    "#Расчет доли для каждой категории\n",
    "df_count['percentage'] = df_count['user_id'] / total_users * 100\n",
    "\n",
    "ax = df_count['percentage'].plot(kind='barh', figsize=(15, 2), legend=False, fontsize=16, grid=True)\n",
    "ax.set_title('Соотношение пользователей с подпиской и без подписки\\n', fontsize=22)\n",
    "\n",
    "#Отображение значений долей на столбцах\n",
    "for index, value in enumerate(df_count['percentage']):\n",
    "    ax.text(value, index, f'{value:.2f}%', fontsize=12, va='center')\n",
    "\n",
    "plt.show()"
   ]
  },
  {
   "cell_type": "markdown",
   "id": "fa02dfec",
   "metadata": {},
   "source": [
    "Видно что пользователей без подписки на ~10% больше"
   ]
  },
  {
   "cell_type": "markdown",
   "id": "e522f428",
   "metadata": {},
   "source": [
    "<div class=\"alert alert-block alert-success\">\n",
    "\n",
    "**Комментарий ревьювера v2 (все отлично)**\n",
    "    \n",
    "Принято👍\n",
    "</div>"
   ]
  },
  {
   "cell_type": "markdown",
   "id": "ca7db861",
   "metadata": {},
   "source": [
    "### Возраст пользователей"
   ]
  },
  {
   "cell_type": "code",
   "execution_count": 52,
   "id": "9344af61",
   "metadata": {
    "scrolled": true
   },
   "outputs": [
    {
     "data": {
      "text/plain": [
       "25    145\n",
       "24    132\n",
       "26    131\n",
       "23    129\n",
       "27    119\n",
       "22    119\n",
       "28    112\n",
       "21     93\n",
       "20     71\n",
       "30     68\n",
       "29     68\n",
       "31     48\n",
       "19     47\n",
       "18     46\n",
       "32     41\n",
       "33     39\n",
       "17     26\n",
       "34     19\n",
       "16     19\n",
       "35     15\n",
       "15     13\n",
       "14      9\n",
       "13      8\n",
       "36      6\n",
       "12      4\n",
       "38      3\n",
       "37      2\n",
       "39      1\n",
       "43      1\n",
       "Name: age, dtype: int64"
      ]
     },
     "execution_count": 52,
     "metadata": {},
     "output_type": "execute_result"
    }
   ],
   "source": [
    "df_users.age.value_counts()"
   ]
  },
  {
   "cell_type": "code",
   "execution_count": 53,
   "id": "f6cf1610",
   "metadata": {
    "scrolled": false
   },
   "outputs": [
    {
     "data": {
      "text/plain": [
       "Text(0.5, 1.0, 'Возраст пользователей\\n')"
      ]
     },
     "execution_count": 53,
     "metadata": {},
     "output_type": "execute_result"
    },
    {
     "data": {
      "image/png": "[encoded data removed]",
      "text/plain": [
       "<Figure size 720x720 with 1 Axes>"
      ]
     },
     "metadata": {
      "needs_background": "light"
     },
     "output_type": "display_data"
    }
   ],
   "source": [
    "df_users.age\\\n",
    ".value_counts(sort=False)\\\n",
    ".to_frame()\\\n",
    ".plot(kind = 'bar', figsize = (10,10),  legend = False, fontsize = 16, grid = True)\\\n",
    ".set_title('Возраст пользователей' + \"\\n\", fontsize = 22) "
   ]
  },
  {
   "cell_type": "markdown",
   "id": "ba86b579",
   "metadata": {},
   "source": [
    "На графике видно, что распределение нормальное. Больше всего пользователей возрастом в 25 лет. При этом у сервиса есть пользователи всех возрастов от 12ти до 39ти лет, а так же и 43х лет."
   ]
  },
  {
   "cell_type": "markdown",
   "id": "1d4421ae",
   "metadata": {},
   "source": [
    "<div class=\"alert alert-block alert-warning\">\n",
    "\n",
    "**Комментарий ревьювера (что можно улучшить)**\n",
    "    \n",
    "Лучше отобразить барплот по вертикали и отсортировать значения по порядку возраста, а не по количеству наблюдений.\n",
    "</div>"
   ]
  },
  {
   "cell_type": "markdown",
   "id": "cc969591",
   "metadata": {},
   "source": [
    "### Расстояние, которое пользователь преодолел за одну поездку"
   ]
  },
  {
   "cell_type": "code",
   "execution_count": 54,
   "id": "6175a689",
   "metadata": {},
   "outputs": [
    {
     "data": {
      "image/png": "[encoded data removed]",
      "text/plain": [
       "<Figure size 1080x360 with 1 Axes>"
      ]
     },
     "metadata": {
      "needs_background": "light"
     },
     "output_type": "display_data"
    }
   ],
   "source": [
    "plt.figure(figsize=(15, 5))\n",
    "df_rides.distance.hist(bins=100)\n",
    "plt.title(f'Гистограмма дистанции за поездку')\n",
    "plt.xlabel('')\n",
    "plt.show()"
   ]
  },
  {
   "cell_type": "markdown",
   "id": "acb2080e",
   "metadata": {},
   "source": [
    "Из гистограммы видно, что пользватели, как правило, делятся на две группы: тех, кто мобирается совершить небольшую поездку от 50 до 1500 метров и тех, кто собирается как следует прокатиться (1500 - 6000 метров). При этом вторая группа - в большинстве и с большим отрывом."
   ]
  },
  {
   "cell_type": "markdown",
   "id": "79442bc1",
   "metadata": {},
   "source": [
    "<div class=\"alert alert-block alert-warning\">\n",
    "\n",
    "**Комментарий ревьювера (что можно улучшить)**\n",
    "    \n",
    "Для исследовательского анализа данных использование одной гистограммы распределения бывает недостаточно. **Можно дополнить анализ количественных данных (п. 3.3 - 3.5)** описательной статистикой – метод `describe()`. \n",
    "</div>"
   ]
  },
  {
   "cell_type": "markdown",
   "id": "f0c7eb04",
   "metadata": {},
   "source": [
    "<div class=\"alert alert-block alert-success\">\n",
    "\n",
    "**Комментарий ревьювера v2 (все отлично)**\n",
    "    \n",
    "Здорово, что определил короткие поездки на распределении. Как думаешь, какова цель таких поездок?\n",
    "</div>"
   ]
  },
  {
   "cell_type": "markdown",
   "id": "96b300bd",
   "metadata": {},
   "source": [
    "### Продолжительность поездок"
   ]
  },
  {
   "cell_type": "code",
   "execution_count": null,
   "id": "2dffa370",
   "metadata": {},
   "outputs": [],
   "source": []
  },
  {
   "cell_type": "code",
   "execution_count": 55,
   "id": "98666b8f",
   "metadata": {
    "scrolled": true
   },
   "outputs": [
    {
     "data": {
      "image/png": "[encoded data removed]",
      "text/plain": [
       "<Figure size 1080x360 with 1 Axes>"
      ]
     },
     "metadata": {
      "needs_background": "light"
     },
     "output_type": "display_data"
    }
   ],
   "source": [
    "plt.figure(figsize=(15, 5))\n",
    "df_rides.duration.hist(bins=100)\n",
    "plt.title(f'Гистограмма продолжительности поездки')\n",
    "plt.xlabel('')\n",
    "plt.show()"
   ]
  },
  {
   "cell_type": "markdown",
   "id": "b4a56fb8",
   "metadata": {},
   "source": [
    "Из гистограммы видно, что распределение нормальное. Люди, в среднем, чаще всего катаются около 15-20 минут и почти никогда больше 40ка минут."
   ]
  },
  {
   "cell_type": "markdown",
   "id": "f25bbed0",
   "metadata": {},
   "source": [
    "<div class=\"alert alert-block alert-danger\">\n",
    "    \n",
    "**Комментарий ревьювера (недочет, который нужно доработать)**\n",
    "    \n",
    "Графики нужно сопровождать комментариями (под ними), при этом в конце раздела нужно написать общий вывод с итогами раздела.\n",
    "</div>"
   ]
  },
  {
   "cell_type": "markdown",
   "id": "8e5fb4d9",
   "metadata": {},
   "source": [
    "<span style=\"color:blue\"> Постарался исправить </span>"
   ]
  },
  {
   "cell_type": "markdown",
   "id": "5e882fe3",
   "metadata": {},
   "source": [
    "### Вывод раздела"
   ]
  },
  {
   "cell_type": "markdown",
   "id": "83798a6d",
   "metadata": {},
   "source": [
    "Пользователей с подпиской и без, грубо говоря, почти равное количество (разница в ~10%). Большинство пользователей - это молодые люди в возрасте 20-30ти лет. Среди пользователей ярко выражены любители небольших поездок и любители долгих путешествий на самокате. При всём при этом, и большие и короткие поездки заканчиваются в среднем за 15-20 минту, что говорит о том, что пользователи-любители-долгих-поездок в среднем ездят быстрее первой группы."
   ]
  },
  {
   "cell_type": "markdown",
   "id": "15e622b8",
   "metadata": {},
   "source": [
    "<div class=\"alert alert-block alert-success\">\n",
    "\n",
    "**Комментарий ревьювера v2 (все отлично)**\n",
    "    \n",
    "Согласен с выводом.\n",
    "</div>"
   ]
  },
  {
   "cell_type": "markdown",
   "id": "4ef51331",
   "metadata": {},
   "source": [
    "## Шаг. Объединение данных"
   ]
  },
  {
   "cell_type": "markdown",
   "id": "c9bb56f2",
   "metadata": {},
   "source": [
    "### Объединение данных о пользователях, поездках и подписках в один датафрейм"
   ]
  },
  {
   "cell_type": "markdown",
   "id": "76fc21fc",
   "metadata": {},
   "source": [
    "#### merged_df"
   ]
  },
  {
   "cell_type": "code",
   "execution_count": 56,
   "id": "0f27fe3f",
   "metadata": {},
   "outputs": [],
   "source": [
    "merged_df = pd.merge(df_users, df_rides, on='user_id', how='inner')"
   ]
  },
  {
   "cell_type": "code",
   "execution_count": 57,
   "id": "a0c7ae20",
   "metadata": {},
   "outputs": [
    {
     "data": {
      "text/html": [
       "<div>\n",
       "<style scoped>\n",
       "    .dataframe tbody tr th:only-of-type {\n",
       "        vertical-align: middle;\n",
       "    }\n",
       "\n",
       "    .dataframe tbody tr th {\n",
       "        vertical-align: top;\n",
       "    }\n",
       "\n",
       "    .dataframe thead th {\n",
       "        text-align: right;\n",
       "    }\n",
       "</style>\n",
       "<table border=\"1\" class=\"dataframe\">\n",
       "  <thead>\n",
       "    <tr style=\"text-align: right;\">\n",
       "      <th></th>\n",
       "      <th>user_id</th>\n",
       "      <th>name</th>\n",
       "      <th>age</th>\n",
       "      <th>city</th>\n",
       "      <th>subscription_type</th>\n",
       "      <th>distance</th>\n",
       "      <th>duration</th>\n",
       "      <th>date</th>\n",
       "      <th>month</th>\n",
       "    </tr>\n",
       "  </thead>\n",
       "  <tbody>\n",
       "    <tr>\n",
       "      <th>0</th>\n",
       "      <td>1</td>\n",
       "      <td>Кира</td>\n",
       "      <td>22</td>\n",
       "      <td>Тюмень</td>\n",
       "      <td>ultra</td>\n",
       "      <td>4409.919140</td>\n",
       "      <td>26.0</td>\n",
       "      <td>2021-01-01</td>\n",
       "      <td>1</td>\n",
       "    </tr>\n",
       "    <tr>\n",
       "      <th>1</th>\n",
       "      <td>1</td>\n",
       "      <td>Кира</td>\n",
       "      <td>22</td>\n",
       "      <td>Тюмень</td>\n",
       "      <td>ultra</td>\n",
       "      <td>2617.592153</td>\n",
       "      <td>16.0</td>\n",
       "      <td>2021-01-18</td>\n",
       "      <td>1</td>\n",
       "    </tr>\n",
       "    <tr>\n",
       "      <th>2</th>\n",
       "      <td>1</td>\n",
       "      <td>Кира</td>\n",
       "      <td>22</td>\n",
       "      <td>Тюмень</td>\n",
       "      <td>ultra</td>\n",
       "      <td>754.159807</td>\n",
       "      <td>7.0</td>\n",
       "      <td>2021-04-20</td>\n",
       "      <td>4</td>\n",
       "    </tr>\n",
       "    <tr>\n",
       "      <th>3</th>\n",
       "      <td>1</td>\n",
       "      <td>Кира</td>\n",
       "      <td>22</td>\n",
       "      <td>Тюмень</td>\n",
       "      <td>ultra</td>\n",
       "      <td>2694.783254</td>\n",
       "      <td>19.0</td>\n",
       "      <td>2021-08-11</td>\n",
       "      <td>8</td>\n",
       "    </tr>\n",
       "    <tr>\n",
       "      <th>4</th>\n",
       "      <td>1</td>\n",
       "      <td>Кира</td>\n",
       "      <td>22</td>\n",
       "      <td>Тюмень</td>\n",
       "      <td>ultra</td>\n",
       "      <td>4028.687306</td>\n",
       "      <td>27.0</td>\n",
       "      <td>2021-08-28</td>\n",
       "      <td>8</td>\n",
       "    </tr>\n",
       "  </tbody>\n",
       "</table>\n",
       "</div>"
      ],
      "text/plain": [
       "   user_id  name  age    city subscription_type     distance  duration  \\\n",
       "0        1  Кира   22  Тюмень             ultra  4409.919140      26.0   \n",
       "1        1  Кира   22  Тюмень             ultra  2617.592153      16.0   \n",
       "2        1  Кира   22  Тюмень             ultra   754.159807       7.0   \n",
       "3        1  Кира   22  Тюмень             ultra  2694.783254      19.0   \n",
       "4        1  Кира   22  Тюмень             ultra  4028.687306      27.0   \n",
       "\n",
       "        date  month  \n",
       "0 2021-01-01      1  \n",
       "1 2021-01-18      1  \n",
       "2 2021-04-20      4  \n",
       "3 2021-08-11      8  \n",
       "4 2021-08-28      8  "
      ]
     },
     "execution_count": 57,
     "metadata": {},
     "output_type": "execute_result"
    }
   ],
   "source": [
    "merged_df.head()"
   ]
  },
  {
   "cell_type": "code",
   "execution_count": 58,
   "id": "143cc13d",
   "metadata": {},
   "outputs": [
    {
     "name": "stdout",
     "output_type": "stream",
     "text": [
      "<class 'pandas.core.frame.DataFrame'>\n",
      "Int64Index: 18068 entries, 0 to 18067\n",
      "Data columns (total 9 columns):\n",
      " #   Column             Non-Null Count  Dtype         \n",
      "---  ------             --------------  -----         \n",
      " 0   user_id            18068 non-null  int64         \n",
      " 1   name               18068 non-null  object        \n",
      " 2   age                18068 non-null  int64         \n",
      " 3   city               18068 non-null  object        \n",
      " 4   subscription_type  18068 non-null  object        \n",
      " 5   distance           18068 non-null  float64       \n",
      " 6   duration           18068 non-null  float64       \n",
      " 7   date               18068 non-null  datetime64[ns]\n",
      " 8   month              18068 non-null  int64         \n",
      "dtypes: datetime64[ns](1), float64(2), int64(3), object(3)\n",
      "memory usage: 1.4+ MB\n"
     ]
    }
   ],
   "source": [
    "merged_df.info()"
   ]
  },
  {
   "cell_type": "markdown",
   "id": "37e4ce95",
   "metadata": {},
   "source": [
    "<div class=\"alert alert-block alert-success\">\n",
    "\n",
    "**Комментарий ревьювера (все отлично)**\n",
    "    \n",
    "Объединение прошло корректно👍\n",
    "</div>"
   ]
  },
  {
   "cell_type": "markdown",
   "id": "3da93ba1",
   "metadata": {},
   "source": [
    "### Создаём ещё два датафрейма из датафрейма, созданного на этапе"
   ]
  },
  {
   "cell_type": "markdown",
   "id": "3b3bbefd",
   "metadata": {},
   "source": [
    "#### ultra_df"
   ]
  },
  {
   "cell_type": "code",
   "execution_count": 59,
   "id": "c0f11f25",
   "metadata": {},
   "outputs": [],
   "source": [
    "ultra_df = merged_df.query('subscription_type == \"ultra\"')"
   ]
  },
  {
   "cell_type": "code",
   "execution_count": 60,
   "id": "ba62b034",
   "metadata": {},
   "outputs": [
    {
     "name": "stdout",
     "output_type": "stream",
     "text": [
      "<class 'pandas.core.frame.DataFrame'>\n",
      "Int64Index: 6500 entries, 0 to 6499\n",
      "Data columns (total 9 columns):\n",
      " #   Column             Non-Null Count  Dtype         \n",
      "---  ------             --------------  -----         \n",
      " 0   user_id            6500 non-null   int64         \n",
      " 1   name               6500 non-null   object        \n",
      " 2   age                6500 non-null   int64         \n",
      " 3   city               6500 non-null   object        \n",
      " 4   subscription_type  6500 non-null   object        \n",
      " 5   distance           6500 non-null   float64       \n",
      " 6   duration           6500 non-null   float64       \n",
      " 7   date               6500 non-null   datetime64[ns]\n",
      " 8   month              6500 non-null   int64         \n",
      "dtypes: datetime64[ns](1), float64(2), int64(3), object(3)\n",
      "memory usage: 507.8+ KB\n"
     ]
    }
   ],
   "source": [
    "ultra_df.info()"
   ]
  },
  {
   "cell_type": "markdown",
   "id": "b0f58d7c",
   "metadata": {},
   "source": [
    "#### free_df"
   ]
  },
  {
   "cell_type": "code",
   "execution_count": 61,
   "id": "9cae8e09",
   "metadata": {},
   "outputs": [],
   "source": [
    "free_df = merged_df.query('subscription_type == \"free\"') "
   ]
  },
  {
   "cell_type": "code",
   "execution_count": 62,
   "id": "acad310d",
   "metadata": {},
   "outputs": [
    {
     "name": "stdout",
     "output_type": "stream",
     "text": [
      "<class 'pandas.core.frame.DataFrame'>\n",
      "Int64Index: 11568 entries, 6500 to 18067\n",
      "Data columns (total 9 columns):\n",
      " #   Column             Non-Null Count  Dtype         \n",
      "---  ------             --------------  -----         \n",
      " 0   user_id            11568 non-null  int64         \n",
      " 1   name               11568 non-null  object        \n",
      " 2   age                11568 non-null  int64         \n",
      " 3   city               11568 non-null  object        \n",
      " 4   subscription_type  11568 non-null  object        \n",
      " 5   distance           11568 non-null  float64       \n",
      " 6   duration           11568 non-null  float64       \n",
      " 7   date               11568 non-null  datetime64[ns]\n",
      " 8   month              11568 non-null  int64         \n",
      "dtypes: datetime64[ns](1), float64(2), int64(3), object(3)\n",
      "memory usage: 903.8+ KB\n"
     ]
    }
   ],
   "source": [
    "free_df.info()"
   ]
  },
  {
   "cell_type": "markdown",
   "id": "89c26ba3",
   "metadata": {},
   "source": [
    "### Визуализируем информацию о расстоянии и времени поездок для пользователей обеих категорий."
   ]
  },
  {
   "cell_type": "markdown",
   "id": "4be44582",
   "metadata": {},
   "source": [
    "#### ultra_df"
   ]
  },
  {
   "cell_type": "code",
   "execution_count": 63,
   "id": "afc5df10",
   "metadata": {},
   "outputs": [
    {
     "data": {
      "image/png": "[encoded data removed]",
      "text/plain": [
       "<Figure size 1080x360 with 1 Axes>"
      ]
     },
     "metadata": {
      "needs_background": "light"
     },
     "output_type": "display_data"
    }
   ],
   "source": [
    "plt.figure(figsize=(15, 5))\n",
    "ultra_df.distance.hist(bins=100)\n",
    "plt.title(f'Гистограмма дистанции за поездку')\n",
    "plt.xlabel('')\n",
    "plt.show()"
   ]
  },
  {
   "cell_type": "code",
   "execution_count": 64,
   "id": "9c11621c",
   "metadata": {},
   "outputs": [
    {
     "name": "stdout",
     "output_type": "stream",
     "text": [
      "ср.ар.: 3115.4453880370247\n",
      "медиана: 3148.6372291760854\n"
     ]
    }
   ],
   "source": [
    "print('ср.ар.:', ultra_df.distance.mean())\n",
    "print('медиана:',ultra_df.distance.median())"
   ]
  },
  {
   "cell_type": "code",
   "execution_count": 65,
   "id": "0b88cf3a",
   "metadata": {},
   "outputs": [
    {
     "data": {
      "image/png": "[encoded data removed]",
      "text/plain": [
       "<Figure size 1080x360 with 1 Axes>"
      ]
     },
     "metadata": {
      "needs_background": "light"
     },
     "output_type": "display_data"
    }
   ],
   "source": [
    "plt.figure(figsize=(15, 5))\n",
    "ultra_df.duration.hist(bins=100)\n",
    "plt.title(f'Гистограмма продолжительности поездки')\n",
    "plt.xlabel('')\n",
    "plt.show()"
   ]
  },
  {
   "cell_type": "code",
   "execution_count": 66,
   "id": "86b1aa3c",
   "metadata": {},
   "outputs": [
    {
     "name": "stdout",
     "output_type": "stream",
     "text": [
      "ср.ар.: 19.037692307692307\n",
      "медиана: 19.0\n"
     ]
    }
   ],
   "source": [
    "print('ср.ар.:', ultra_df.duration.mean())\n",
    "print('медиана:',ultra_df.duration.median())"
   ]
  },
  {
   "cell_type": "markdown",
   "id": "504d1eee",
   "metadata": {},
   "source": [
    "#### free_df"
   ]
  },
  {
   "cell_type": "code",
   "execution_count": 67,
   "id": "fded4bf8",
   "metadata": {},
   "outputs": [
    {
     "data": {
      "image/png": "[encoded data removed]",
      "text/plain": [
       "<Figure size 1080x360 with 1 Axes>"
      ]
     },
     "metadata": {
      "needs_background": "light"
     },
     "output_type": "display_data"
    }
   ],
   "source": [
    "plt.figure(figsize=(15, 5))\n",
    "free_df.distance.hist(bins=100)\n",
    "plt.title(f'Гистограмма дистанции за поездку')\n",
    "plt.xlabel('')\n",
    "plt.show()"
   ]
  },
  {
   "cell_type": "code",
   "execution_count": 68,
   "id": "7e94924a",
   "metadata": {},
   "outputs": [
    {
     "name": "stdout",
     "output_type": "stream",
     "text": [
      "ср.ар.: 3045.495281671816\n",
      "медиана: 3114.648464847295\n"
     ]
    }
   ],
   "source": [
    "print('ср.ар.:', free_df.distance.mean())\n",
    "print('медиана:',free_df.distance.median())"
   ]
  },
  {
   "cell_type": "code",
   "execution_count": 69,
   "id": "8600b07d",
   "metadata": {},
   "outputs": [
    {
     "data": {
      "image/png": "[encoded data removed]",
      "text/plain": [
       "<Figure size 1080x360 with 1 Axes>"
      ]
     },
     "metadata": {
      "needs_background": "light"
     },
     "output_type": "display_data"
    }
   ],
   "source": [
    "plt.figure(figsize=(15, 5))\n",
    "free_df.duration.hist(bins=100)\n",
    "plt.title(f'Гистограмма продолжительности поездки')\n",
    "plt.xlabel('')\n",
    "plt.show()"
   ]
  },
  {
   "cell_type": "markdown",
   "id": "4bda992c",
   "metadata": {},
   "source": [
    "<div class=\"alert alert-block alert-warning\">\n",
    "\n",
    "**Комментарий ревьювера (что можно улучшить)**\n",
    "\n",
    "Сложно ориентироваться по графикам в разделе, где изучается различие групп, так как все имеют одинаковый цвет. Лучше показывать графики, где показано распределение обеих групп.\n",
    "    \n",
    "Обе гистограммы можно совместить в одной с помощью простого кода:\n",
    "    \n",
    "```python\n",
    "# распределение 1 (в label указываем название группы, которое отразится в легенде, alpha - прозрачность заливки)\n",
    "ultra['distance'].hist(bins=20, label = 'ultra', alpha=0.5)    \n",
    "    \n",
    "# распределение 2\n",
    "free['distance'].hist(bins=20, alpha=0.5, label = 'free', alpha=0.5)    \n",
    "    \n",
    "# выводим легенду\n",
    "plt.legend()\n",
    "    \n",
    "# выводим график без технических строк\n",
    "plt.show()\n",
    "    \n",
    "```\n",
    "    \n",
    "Тогда тарифы будет проще сравнивать и анализировать.\n",
    "</div>"
   ]
  },
  {
   "cell_type": "code",
   "execution_count": 70,
   "id": "2c24bee0",
   "metadata": {},
   "outputs": [
    {
     "name": "stdout",
     "output_type": "stream",
     "text": [
      "ср.ар.: 17.890992392807746\n",
      "медиана: 18.0\n"
     ]
    }
   ],
   "source": [
    "print('ср.ар.:', free_df.duration.mean())\n",
    "print('медиана:',free_df.duration.median())"
   ]
  },
  {
   "cell_type": "markdown",
   "id": "ae72684b",
   "metadata": {},
   "source": [
    "<div class=\"alert alert-block alert-danger\">\n",
    "    \n",
    "**Комментарий ревьювера (недочет, который нужно доработать)**\n",
    "    \n",
    "Напиши комментарии по каждому распределению. В общем выводе опиши сходства, различия тарифов и возможные объяснения результатов.\n",
    "</div>"
   ]
  },
  {
   "cell_type": "markdown",
   "id": "9ba95e47",
   "metadata": {},
   "source": [
    "<span style=\"color:blue\"> Ниже взял твой пример и переделал (объединил 4.3.1 и 4.3.2) </span>"
   ]
  },
  {
   "cell_type": "markdown",
   "id": "8097e446",
   "metadata": {},
   "source": [
    "#### ultra vs free"
   ]
  },
  {
   "cell_type": "code",
   "execution_count": 71,
   "id": "7d597b8d",
   "metadata": {},
   "outputs": [
    {
     "data": {
      "image/png": "[encoded data removed]",
      "text/plain": [
       "<Figure size 1080x360 with 1 Axes>"
      ]
     },
     "metadata": {
      "needs_background": "light"
     },
     "output_type": "display_data"
    }
   ],
   "source": [
    "# распределение 1 (в label указываем название группы, которое отразится в легенде, alpha - прозрачность заливки)\n",
    "ultra_df['distance'].hist(bins=100, label = 'ultra', alpha=0.5, figsize=(15, 5))    \n",
    "\n",
    "# распределение 2\n",
    "free_df['distance'].hist(bins=100, label = 'free', alpha=0.5, figsize=(15, 5)) \n",
    "\n",
    "plt.title(f'Гистограмма дистанции за поездку')\n",
    "\n",
    "# выводим легенду\n",
    "plt.legend()\n",
    "\n",
    "# выводим график без технических строк\n",
    "plt.show()"
   ]
  },
  {
   "cell_type": "markdown",
   "id": "4ba1eec3",
   "metadata": {},
   "source": [
    "Видно, что у пользователей с подпиской более чёткие пики на гистограмме, можно предположить, что люди с подпиской имеют конкретные излюбленные маршруты от стоянки до стоянки, в то время как люди без подписки, катаясь редко, определенного маршрута не имеют, поэтому и разнообразия больше."
   ]
  },
  {
   "cell_type": "markdown",
   "id": "c6e57486",
   "metadata": {},
   "source": [
    "<div class=\"alert alert-block alert-success\">\n",
    "\n",
    "**Комментарий ревьювера v2 (все отлично)**\n",
    "    \n",
    "Согласен с комментарием.\n",
    "</div>"
   ]
  },
  {
   "cell_type": "code",
   "execution_count": 72,
   "id": "0cd1d643",
   "metadata": {},
   "outputs": [
    {
     "data": {
      "image/png": "[encoded data removed]",
      "text/plain": [
       "<Figure size 1080x360 with 1 Axes>"
      ]
     },
     "metadata": {
      "needs_background": "light"
     },
     "output_type": "display_data"
    }
   ],
   "source": [
    "# распределение 1 (в label указываем название группы, которое отразится в легенде, alpha - прозрачность заливки)\n",
    "ultra_df['duration'].hist(bins=100, label = 'ultra', alpha=0.5, figsize=(15, 5))    \n",
    "\n",
    "# распределение 2\n",
    "free_df['duration'].hist(bins=100, label = 'free', alpha=0.5, figsize=(15, 5))    \n",
    "\n",
    "plt.title(f'Гистограмма продолжительности поездки')\n",
    "\n",
    "# выводим легенду\n",
    "plt.legend()\n",
    "\n",
    "# выводим график без технических строк\n",
    "plt.show()"
   ]
  },
  {
   "cell_type": "markdown",
   "id": "f3119f48",
   "metadata": {},
   "source": [
    "Видно что обладатели подписки катаются в среднем на 5 минут дольше."
   ]
  },
  {
   "cell_type": "markdown",
   "id": "dc54f6ef",
   "metadata": {},
   "source": [
    "<div class=\"alert alert-block alert-danger\">\n",
    "    \n",
    "**Комментарий ревьювера v2 (недочет, который нужно доработать)**\n",
    "    \n",
    "По-прежнему нет вывода по разделу с выделенными сходствами и различиями тарифов.\n",
    "</div>"
   ]
  },
  {
   "cell_type": "markdown",
   "id": "37638bd9",
   "metadata": {},
   "source": [
    "### Вывод раздела"
   ]
  },
  {
   "cell_type": "markdown",
   "id": "6e35f96f",
   "metadata": {},
   "source": [
    "Из сравнения, можно с уверенностью сказать, что наличие подписки не сильно влияет на время, которое пользователь тратит на одну поездку (разница ~10 минут). Люди с подпиской используют сервис регулярно для развлечений или перемещения по городу на определённых излюбленных маршрутах. Пользователи без подписки, в свою очередь, по всей видимости используют сервис спонтанно и не планируют маршрут от стоянки до стоянки заранее, поэтому дистанция поездки варьируется гораздо больше, чем у подписчиков, но при этом разнообразие на длительностей поездки у обоих групп одинаковая."
   ]
  },
  {
   "cell_type": "markdown",
   "id": "06511167",
   "metadata": {},
   "source": [
    "<div class=\"alert alert-block alert-success\">\n",
    "\n",
    "**Комментарий ревьювера v3 (все отлично)**\n",
    "    \n",
    "Принято👍\n",
    "</div>"
   ]
  },
  {
   "cell_type": "markdown",
   "id": "402d620f",
   "metadata": {},
   "source": [
    "## Шаг. Подсчёт выручки"
   ]
  },
  {
   "cell_type": "markdown",
   "id": "06f87aa8",
   "metadata": {},
   "source": [
    "### Создаём датафрейм с агрегированными данными о поездках."
   ]
  },
  {
   "cell_type": "code",
   "execution_count": 73,
   "id": "f9c50d13",
   "metadata": {},
   "outputs": [],
   "source": [
    "aggregated_df = merged_df.groupby(['user_id', 'month', 'subscription_type']).agg({\n",
    "    'distance': 'sum',\n",
    "    'duration': 'sum',\n",
    "    'name': 'count' #name я использую как счётчик поездок за месяц\n",
    "}).reset_index()"
   ]
  },
  {
   "cell_type": "code",
   "execution_count": 74,
   "id": "17441e3e",
   "metadata": {
    "scrolled": false
   },
   "outputs": [
    {
     "data": {
      "text/html": [
       "<div>\n",
       "<style scoped>\n",
       "    .dataframe tbody tr th:only-of-type {\n",
       "        vertical-align: middle;\n",
       "    }\n",
       "\n",
       "    .dataframe tbody tr th {\n",
       "        vertical-align: top;\n",
       "    }\n",
       "\n",
       "    .dataframe thead th {\n",
       "        text-align: right;\n",
       "    }\n",
       "</style>\n",
       "<table border=\"1\" class=\"dataframe\">\n",
       "  <thead>\n",
       "    <tr style=\"text-align: right;\">\n",
       "      <th></th>\n",
       "      <th>user_id</th>\n",
       "      <th>month</th>\n",
       "      <th>subscription_type</th>\n",
       "      <th>distance</th>\n",
       "      <th>duration</th>\n",
       "      <th>name</th>\n",
       "    </tr>\n",
       "  </thead>\n",
       "  <tbody>\n",
       "    <tr>\n",
       "      <th>0</th>\n",
       "      <td>1</td>\n",
       "      <td>1</td>\n",
       "      <td>ultra</td>\n",
       "      <td>7027.511294</td>\n",
       "      <td>42.0</td>\n",
       "      <td>2</td>\n",
       "    </tr>\n",
       "    <tr>\n",
       "      <th>1</th>\n",
       "      <td>1</td>\n",
       "      <td>4</td>\n",
       "      <td>ultra</td>\n",
       "      <td>754.159807</td>\n",
       "      <td>7.0</td>\n",
       "      <td>1</td>\n",
       "    </tr>\n",
       "    <tr>\n",
       "      <th>2</th>\n",
       "      <td>1</td>\n",
       "      <td>8</td>\n",
       "      <td>ultra</td>\n",
       "      <td>6723.470560</td>\n",
       "      <td>46.0</td>\n",
       "      <td>2</td>\n",
       "    </tr>\n",
       "    <tr>\n",
       "      <th>3</th>\n",
       "      <td>1</td>\n",
       "      <td>10</td>\n",
       "      <td>ultra</td>\n",
       "      <td>5809.911100</td>\n",
       "      <td>32.0</td>\n",
       "      <td>2</td>\n",
       "    </tr>\n",
       "    <tr>\n",
       "      <th>4</th>\n",
       "      <td>1</td>\n",
       "      <td>11</td>\n",
       "      <td>ultra</td>\n",
       "      <td>7003.499363</td>\n",
       "      <td>56.0</td>\n",
       "      <td>3</td>\n",
       "    </tr>\n",
       "    <tr>\n",
       "      <th>...</th>\n",
       "      <td>...</td>\n",
       "      <td>...</td>\n",
       "      <td>...</td>\n",
       "      <td>...</td>\n",
       "      <td>...</td>\n",
       "      <td>...</td>\n",
       "    </tr>\n",
       "    <tr>\n",
       "      <th>11326</th>\n",
       "      <td>1534</td>\n",
       "      <td>6</td>\n",
       "      <td>free</td>\n",
       "      <td>3409.468534</td>\n",
       "      <td>26.0</td>\n",
       "      <td>2</td>\n",
       "    </tr>\n",
       "    <tr>\n",
       "      <th>11327</th>\n",
       "      <td>1534</td>\n",
       "      <td>8</td>\n",
       "      <td>free</td>\n",
       "      <td>7622.453034</td>\n",
       "      <td>48.0</td>\n",
       "      <td>2</td>\n",
       "    </tr>\n",
       "    <tr>\n",
       "      <th>11328</th>\n",
       "      <td>1534</td>\n",
       "      <td>9</td>\n",
       "      <td>free</td>\n",
       "      <td>4928.173852</td>\n",
       "      <td>23.0</td>\n",
       "      <td>1</td>\n",
       "    </tr>\n",
       "    <tr>\n",
       "      <th>11329</th>\n",
       "      <td>1534</td>\n",
       "      <td>11</td>\n",
       "      <td>free</td>\n",
       "      <td>13350.015305</td>\n",
       "      <td>78.0</td>\n",
       "      <td>4</td>\n",
       "    </tr>\n",
       "    <tr>\n",
       "      <th>11330</th>\n",
       "      <td>1534</td>\n",
       "      <td>12</td>\n",
       "      <td>free</td>\n",
       "      <td>2371.711192</td>\n",
       "      <td>16.0</td>\n",
       "      <td>1</td>\n",
       "    </tr>\n",
       "  </tbody>\n",
       "</table>\n",
       "<p>11331 rows × 6 columns</p>\n",
       "</div>"
      ],
      "text/plain": [
       "       user_id  month subscription_type      distance  duration  name\n",
       "0            1      1             ultra   7027.511294      42.0     2\n",
       "1            1      4             ultra    754.159807       7.0     1\n",
       "2            1      8             ultra   6723.470560      46.0     2\n",
       "3            1     10             ultra   5809.911100      32.0     2\n",
       "4            1     11             ultra   7003.499363      56.0     3\n",
       "...        ...    ...               ...           ...       ...   ...\n",
       "11326     1534      6              free   3409.468534      26.0     2\n",
       "11327     1534      8              free   7622.453034      48.0     2\n",
       "11328     1534      9              free   4928.173852      23.0     1\n",
       "11329     1534     11              free  13350.015305      78.0     4\n",
       "11330     1534     12              free   2371.711192      16.0     1\n",
       "\n",
       "[11331 rows x 6 columns]"
      ]
     },
     "metadata": {},
     "output_type": "display_data"
    }
   ],
   "source": [
    "display(aggregated_df)"
   ]
  },
  {
   "cell_type": "markdown",
   "id": "c4bdec4d",
   "metadata": {},
   "source": [
    "### В этот же датафрейм добавим столбец с помесячной выручкой, которую принёс каждый пользователь."
   ]
  },
  {
   "cell_type": "markdown",
   "id": "1cdcb87d",
   "metadata": {},
   "source": [
    "Округление продолжительности поездки до следующего целого числа"
   ]
  },
  {
   "cell_type": "code",
   "execution_count": 75,
   "id": "9e510fb7",
   "metadata": {},
   "outputs": [],
   "source": [
    "aggregated_df['round_duration'] = np.ceil(aggregated_df['duration']) "
   ]
  },
  {
   "cell_type": "markdown",
   "id": "99204794",
   "metadata": {},
   "source": [
    "<div class=\"alert alert-block alert-danger\">\n",
    "    \n",
    "**Комментарий ревьювера (недочет, который нужно доработать)**\n",
    "    \n",
    "В брифе проекта сказано, что при расчёте выручки нужно округлить продолжительность каждой поездки в большую сторону, а не сумму продолжительности поездок месяц.\n",
    "</div>"
   ]
  },
  {
   "cell_type": "markdown",
   "id": "12ce9b7f",
   "metadata": {},
   "source": [
    "<div class=\"alert alert-block alert-warning\">\n",
    "\n",
    "**Комментарий ревьювера v2 (что можно улучшить)**\n",
    "    \n",
    "Округление продолжительности нужно только для расчёта выручки. В остальном, для проверки гипотез, лучше оставить исходные данные.\n",
    "</div>"
   ]
  },
  {
   "cell_type": "markdown",
   "id": "e5a91ae2",
   "metadata": {},
   "source": [
    "<span style=\"color:blue\"> перенёс округление в пункт 2.3.2.3 </span>"
   ]
  },
  {
   "cell_type": "markdown",
   "id": "3d0fbdba",
   "metadata": {},
   "source": [
    "Определение стоимости поездки в зависимости от условий оплаты"
   ]
  },
  {
   "cell_type": "code",
   "execution_count": 76,
   "id": "67efaf44",
   "metadata": {},
   "outputs": [],
   "source": [
    "hourly_rate_subscriber = df_subs.loc[1, 'minute_price']\n",
    "hourly_rate_non_subscriber = df_subs.loc[0, 'minute_price']"
   ]
  },
  {
   "cell_type": "markdown",
   "id": "f347f1c7",
   "metadata": {},
   "source": [
    "Расчет помесячной выручки"
   ]
  },
  {
   "cell_type": "code",
   "execution_count": 77,
   "id": "b614f6db",
   "metadata": {},
   "outputs": [],
   "source": [
    "aggregated_df['revenue'] = \\\n",
    "np.where(aggregated_df['subscription_type'] == 'ultra',\n",
    "         aggregated_df['round_duration'] * hourly_rate_subscriber + df_subs.loc[1, 'subscription_fee'],\n",
    "         aggregated_df['round_duration'] * hourly_rate_non_subscriber\\\n",
    "                                         + (df_subs.loc[0, 'start_ride_price'] * aggregated_df['name']))"
   ]
  },
  {
   "cell_type": "markdown",
   "id": "1430d062",
   "metadata": {},
   "source": [
    "<div class=\"alert alert-block alert-danger\">\n",
    "    \n",
    "**Комментарий ревьювера (недочет, который нужно доработать)**\n",
    " \n",
    "Ручной ввод значений нужно исключить. Такой код неустойчив к изменениям исходных данных и может привести к ошибочным расчётам. Эти данные есть в таблице df_subs. Используй значения оттуда.    \n",
    "    \n",
    "\n",
    "\n",
    "\n",
    "</div>"
   ]
  },
  {
   "cell_type": "markdown",
   "id": "46e6db9c",
   "metadata": {},
   "source": [
    "<div class=\"alert alert-block alert-success\">\n",
    "\n",
    "**Комментарий ревьювера v2 (все отлично)**\n",
    "    \n",
    "👍\n",
    "</div>"
   ]
  },
  {
   "cell_type": "markdown",
   "id": "ae277046",
   "metadata": {},
   "source": [
    "<span style=\"color:blue\"> Исправил </span>"
   ]
  },
  {
   "cell_type": "code",
   "execution_count": 78,
   "id": "7cc83a19",
   "metadata": {},
   "outputs": [
    {
     "data": {
      "text/html": [
       "<div>\n",
       "<style scoped>\n",
       "    .dataframe tbody tr th:only-of-type {\n",
       "        vertical-align: middle;\n",
       "    }\n",
       "\n",
       "    .dataframe tbody tr th {\n",
       "        vertical-align: top;\n",
       "    }\n",
       "\n",
       "    .dataframe thead th {\n",
       "        text-align: right;\n",
       "    }\n",
       "</style>\n",
       "<table border=\"1\" class=\"dataframe\">\n",
       "  <thead>\n",
       "    <tr style=\"text-align: right;\">\n",
       "      <th></th>\n",
       "      <th>user_id</th>\n",
       "      <th>month</th>\n",
       "      <th>subscription_type</th>\n",
       "      <th>distance</th>\n",
       "      <th>duration</th>\n",
       "      <th>name</th>\n",
       "      <th>round_duration</th>\n",
       "      <th>revenue</th>\n",
       "    </tr>\n",
       "  </thead>\n",
       "  <tbody>\n",
       "    <tr>\n",
       "      <th>0</th>\n",
       "      <td>1</td>\n",
       "      <td>1</td>\n",
       "      <td>ultra</td>\n",
       "      <td>7027.511294</td>\n",
       "      <td>42.0</td>\n",
       "      <td>2</td>\n",
       "      <td>42.0</td>\n",
       "      <td>451.0</td>\n",
       "    </tr>\n",
       "    <tr>\n",
       "      <th>1</th>\n",
       "      <td>1</td>\n",
       "      <td>4</td>\n",
       "      <td>ultra</td>\n",
       "      <td>754.159807</td>\n",
       "      <td>7.0</td>\n",
       "      <td>1</td>\n",
       "      <td>7.0</td>\n",
       "      <td>241.0</td>\n",
       "    </tr>\n",
       "    <tr>\n",
       "      <th>2</th>\n",
       "      <td>1</td>\n",
       "      <td>8</td>\n",
       "      <td>ultra</td>\n",
       "      <td>6723.470560</td>\n",
       "      <td>46.0</td>\n",
       "      <td>2</td>\n",
       "      <td>46.0</td>\n",
       "      <td>475.0</td>\n",
       "    </tr>\n",
       "    <tr>\n",
       "      <th>3</th>\n",
       "      <td>1</td>\n",
       "      <td>10</td>\n",
       "      <td>ultra</td>\n",
       "      <td>5809.911100</td>\n",
       "      <td>32.0</td>\n",
       "      <td>2</td>\n",
       "      <td>32.0</td>\n",
       "      <td>391.0</td>\n",
       "    </tr>\n",
       "    <tr>\n",
       "      <th>4</th>\n",
       "      <td>1</td>\n",
       "      <td>11</td>\n",
       "      <td>ultra</td>\n",
       "      <td>7003.499363</td>\n",
       "      <td>56.0</td>\n",
       "      <td>3</td>\n",
       "      <td>56.0</td>\n",
       "      <td>535.0</td>\n",
       "    </tr>\n",
       "    <tr>\n",
       "      <th>...</th>\n",
       "      <td>...</td>\n",
       "      <td>...</td>\n",
       "      <td>...</td>\n",
       "      <td>...</td>\n",
       "      <td>...</td>\n",
       "      <td>...</td>\n",
       "      <td>...</td>\n",
       "      <td>...</td>\n",
       "    </tr>\n",
       "    <tr>\n",
       "      <th>11326</th>\n",
       "      <td>1534</td>\n",
       "      <td>6</td>\n",
       "      <td>free</td>\n",
       "      <td>3409.468534</td>\n",
       "      <td>26.0</td>\n",
       "      <td>2</td>\n",
       "      <td>26.0</td>\n",
       "      <td>308.0</td>\n",
       "    </tr>\n",
       "    <tr>\n",
       "      <th>11327</th>\n",
       "      <td>1534</td>\n",
       "      <td>8</td>\n",
       "      <td>free</td>\n",
       "      <td>7622.453034</td>\n",
       "      <td>48.0</td>\n",
       "      <td>2</td>\n",
       "      <td>48.0</td>\n",
       "      <td>484.0</td>\n",
       "    </tr>\n",
       "    <tr>\n",
       "      <th>11328</th>\n",
       "      <td>1534</td>\n",
       "      <td>9</td>\n",
       "      <td>free</td>\n",
       "      <td>4928.173852</td>\n",
       "      <td>23.0</td>\n",
       "      <td>1</td>\n",
       "      <td>23.0</td>\n",
       "      <td>234.0</td>\n",
       "    </tr>\n",
       "    <tr>\n",
       "      <th>11329</th>\n",
       "      <td>1534</td>\n",
       "      <td>11</td>\n",
       "      <td>free</td>\n",
       "      <td>13350.015305</td>\n",
       "      <td>78.0</td>\n",
       "      <td>4</td>\n",
       "      <td>78.0</td>\n",
       "      <td>824.0</td>\n",
       "    </tr>\n",
       "    <tr>\n",
       "      <th>11330</th>\n",
       "      <td>1534</td>\n",
       "      <td>12</td>\n",
       "      <td>free</td>\n",
       "      <td>2371.711192</td>\n",
       "      <td>16.0</td>\n",
       "      <td>1</td>\n",
       "      <td>16.0</td>\n",
       "      <td>178.0</td>\n",
       "    </tr>\n",
       "  </tbody>\n",
       "</table>\n",
       "<p>11331 rows × 8 columns</p>\n",
       "</div>"
      ],
      "text/plain": [
       "       user_id  month subscription_type      distance  duration  name  \\\n",
       "0            1      1             ultra   7027.511294      42.0     2   \n",
       "1            1      4             ultra    754.159807       7.0     1   \n",
       "2            1      8             ultra   6723.470560      46.0     2   \n",
       "3            1     10             ultra   5809.911100      32.0     2   \n",
       "4            1     11             ultra   7003.499363      56.0     3   \n",
       "...        ...    ...               ...           ...       ...   ...   \n",
       "11326     1534      6              free   3409.468534      26.0     2   \n",
       "11327     1534      8              free   7622.453034      48.0     2   \n",
       "11328     1534      9              free   4928.173852      23.0     1   \n",
       "11329     1534     11              free  13350.015305      78.0     4   \n",
       "11330     1534     12              free   2371.711192      16.0     1   \n",
       "\n",
       "       round_duration  revenue  \n",
       "0                42.0    451.0  \n",
       "1                 7.0    241.0  \n",
       "2                46.0    475.0  \n",
       "3                32.0    391.0  \n",
       "4                56.0    535.0  \n",
       "...               ...      ...  \n",
       "11326            26.0    308.0  \n",
       "11327            48.0    484.0  \n",
       "11328            23.0    234.0  \n",
       "11329            78.0    824.0  \n",
       "11330            16.0    178.0  \n",
       "\n",
       "[11331 rows x 8 columns]"
      ]
     },
     "metadata": {},
     "output_type": "display_data"
    }
   ],
   "source": [
    "display(aggregated_df)"
   ]
  },
  {
   "cell_type": "markdown",
   "id": "41545ac0",
   "metadata": {},
   "source": [
    "## Шаг. Проверка гипотез"
   ]
  },
  {
   "cell_type": "markdown",
   "id": "285b56b2",
   "metadata": {},
   "source": [
    "### Тратят ли пользователи с подпиской больше времени на поездки?"
   ]
  },
  {
   "cell_type": "markdown",
   "id": "58852b93",
   "metadata": {},
   "source": [
    "<div class=\"alert alert-block alert-danger\">\n",
    "    \n",
    "**Комментарий ревьювера (недочет, который нужно доработать)**\n",
    "    \n",
    "Сформулируй гипотезы (нулевую и альтернативную) перед всеми проверками.\n",
    "</div>"
   ]
  },
  {
   "cell_type": "markdown",
   "id": "05c751d0",
   "metadata": {},
   "source": [
    "Для проверки гипотезы о том, тратят ли пользователи с подпиской больше времени на поездки, мы сравним средние значения продолжительности поездок для подписчиков и не-подписчиков. \n",
    "Нулевая гипотеза предполагает, что нет статистического различия в продолжительности поездок для подписчиков и не-подписчиков, а альтернативная гипотеза - что различие существует."
   ]
  },
  {
   "cell_type": "code",
   "execution_count": 79,
   "id": "2aa508af",
   "metadata": {},
   "outputs": [
    {
     "name": "stdout",
     "output_type": "stream",
     "text": [
      "T-статистика: 12.186464491247767\n",
      "P-значение: 2.4959453720736625e-34\n",
      "Нулевую гипотезу отвергаем: среднее время поездок у подписчиков больше среднего времени у не-подписчиков.\n"
     ]
    }
   ],
   "source": [
    "t_stat, p_value = stats.ttest_ind(merged_df.loc[merged_df['subscription_type'] == 'ultra', 'duration'],\\\n",
    "                                  merged_df.loc[merged_df['subscription_type'] == 'free', 'duration'],\\\n",
    "                                  equal_var=True, alternative='greater')\n",
    "print(f'T-статистика: {t_stat}')\n",
    "print(f'P-значение: {p_value}')\n",
    "\n",
    "alpha = 0.05\n",
    "if p_value < alpha:\n",
    "    print('Нулевую гипотезу отвергаем: среднее время поездок у подписчиков больше среднего времени у не-подписчиков.')\n",
    "else:\n",
    "    print('Нулевую гипотезу не отвергаем: статистической разницы во времени поездок не выявлено.')"
   ]
  },
  {
   "cell_type": "markdown",
   "id": "ac9322cf",
   "metadata": {},
   "source": [
    "<div class=\"alert alert-block alert-danger\">\n",
    "    \n",
    "**Комментарий ревьювера (недочет, который нужно доработать)**\n",
    "    \n",
    "1) Почему сравниваются агрегированные данные по месяцам в этой проверке и 6.2?\n",
    "    \n",
    "2) На каком основании указан `equal_var=False` в этой проверке и 6.3?\n",
    "    \n",
    "3) Какие параметры `alternative` нужно указать в проверках этого раздела?\n",
    "</div>"
   ]
  },
  {
   "cell_type": "markdown",
   "id": "6d8f42d5",
   "metadata": {},
   "source": [
    "<span style=\"color:blue\">\n",
    "1) Исправил\n",
    "\n",
    "2) Действительно, т.к. дисперсии похожи, то параметр должен быть True\n",
    "\n",
    "3) alternative='two-sided' т.к. проверяется равенство средних значений двух групп.</span>"
   ]
  },
  {
   "cell_type": "markdown",
   "id": "cc9da013",
   "metadata": {},
   "source": [
    "<div class=\"alert alert-block alert-danger\">\n",
    "    \n",
    "**Комментарий ревьювера v2 (недочет, который нужно доработать)**\n",
    "    \n",
    "Нам явно нужно проверить то, что у подписчиков **больше** времени поездок (не просто наличие статистических различий), чем у не-подписчиков. В связи с этим исправь формулировку гипотез и укажи корректный параметр alternative. \n",
    "    \n",
    "Документация в помощь: https://docs.scipy.org/doc/scipy/reference/generated/scipy.stats.ttest_ind.html\n",
    "</div>"
   ]
  },
  {
   "cell_type": "markdown",
   "id": "b9e186a5",
   "metadata": {},
   "source": [
    "<span style=\"color:blue\">\n",
    "    Исправил код, гипотезы описал тут:\n",
    "    \n",
    "нулевая гипотеза: Среднее время поездок у подписчиков равно среднему времени поездок у не-подписчиков.\n",
    "    \n",
    "    \n",
    "альтернативная гипотеза: Среднее время поездок у подписчиков больше среднего времени поездок у не-подписчиков.</span>"
   ]
  },
  {
   "cell_type": "markdown",
   "id": "b7c549dc",
   "metadata": {},
   "source": [
    "<div class=\"alert alert-block alert-success\">\n",
    "\n",
    "**Комментарий ревьювера v3 (все отлично)**\n",
    "    \n",
    "Теперь все правильно, согласен с интерпретацией результата👍\n",
    "</div>"
   ]
  },
  {
   "cell_type": "markdown",
   "id": "7799f613",
   "metadata": {},
   "source": [
    "### Среднее расстояние, которое проезжают пользователи с подпиской за одну поездку, не превышает 3130 метров?"
   ]
  },
  {
   "cell_type": "markdown",
   "id": "9b057a04",
   "metadata": {},
   "source": [
    "Нулевая гипотеза (H0) утверждает, что среднее расстояние равно или меньше 3130 метров, а альтернативная гипотеза (H1) утверждает, что среднее расстояние больше 3130 метров."
   ]
  },
  {
   "cell_type": "code",
   "execution_count": 80,
   "id": "8af95f3b",
   "metadata": {},
   "outputs": [
    {
     "name": "stdout",
     "output_type": "stream",
     "text": [
      "T-статистика: -1.402123166869486\n",
      "P-значение: 0.9195368847849785\n",
      "Нулевую гипотезу не отвергаем: среднее расстояние для подписчиков равно или меньше 3130 метров.\n"
     ]
    }
   ],
   "source": [
    "t_stat, p_value = stats.ttest_1samp(merged_df.loc[merged_df['subscription_type'] == 'ultra', 'distance'], 3130,\\\n",
    "                                    alternative='greater')\n",
    "\n",
    "print(f'T-статистика: {t_stat}')\n",
    "print(f'P-значение: {p_value}')\n",
    "\n",
    "alpha = 0.05\n",
    "if p_value < alpha:\n",
    "    print('Нулевую гипотезу отвергаем: среднее расстояние для подписчиков превышает 3130 метров.')\n",
    "else:\n",
    "    print('Нулевую гипотезу не отвергаем: среднее расстояние для подписчиков равно или меньше 3130 метров.')"
   ]
  },
  {
   "cell_type": "markdown",
   "id": "a8b2694c",
   "metadata": {},
   "source": [
    "<div class=\"alert alert-block alert-danger\">\n",
    "    \n",
    "**Комментарий ревьювера v2 (недочет, который нужно доработать)**\n",
    "    \n",
    "Здесь также следует указать параметр alternative, так как h1 утверждает о превышении.\n",
    "</div>"
   ]
  },
  {
   "cell_type": "markdown",
   "id": "300bd715",
   "metadata": {},
   "source": [
    "<div class=\"alert alert-block alert-danger\">\n",
    "    \n",
    "**Комментарий ревьювера v3 (недочет, который нужно доработать)**\n",
    "    \n",
    "Нужно использовать данные о каждой поездке, а не агрегированные.\n",
    "</div>"
   ]
  },
  {
   "cell_type": "markdown",
   "id": "5295d15d",
   "metadata": {},
   "source": [
    "<span style=\"color:blue\">Действиетльно, если исплоьзовать данные о каждой поездке, то результат меняется. Исправил вывод.</span>"
   ]
  },
  {
   "cell_type": "markdown",
   "id": "54e0ab24",
   "metadata": {},
   "source": [
    "<div class=\"alert alert-block alert-success\">\n",
    "\n",
    "**Комментарий ревьювера v4 (все отлично)**\n",
    "    \n",
    "Согласен с результатами👍\n",
    "</div>"
   ]
  },
  {
   "cell_type": "markdown",
   "id": "a2f4b408",
   "metadata": {},
   "source": [
    "### Будет ли помесячная выручка от пользователей с подпиской по месяцам выше?"
   ]
  },
  {
   "cell_type": "markdown",
   "id": "d1c416a3",
   "metadata": {},
   "source": [
    "Нулевая гипотеза (H0) утверждает, что средние значения выручки равны у обеих групп пользователей, а альтернативная гипотеза (H1) утверждает, что средняя выручка от пользователей с подпиской выше."
   ]
  },
  {
   "cell_type": "code",
   "execution_count": 81,
   "id": "53ea6573",
   "metadata": {},
   "outputs": [
    {
     "name": "stdout",
     "output_type": "stream",
     "text": [
      "T-статистика: 11.64246602360774\n",
      "P-значение: 1.8850394384715216e-31\n",
      "Нулевую гипотезу отвергаем: средняя выручка от подписчиков выше.\n"
     ]
    }
   ],
   "source": [
    "t_stat, p_value = stats.ttest_ind(aggregated_df.loc[aggregated_df['subscription_type'] == 'ultra', 'revenue'],\\\n",
    "                                  aggregated_df.loc[aggregated_df['subscription_type'] == 'free', 'revenue'],\\\n",
    "                                  equal_var=True, alternative='greater')\n",
    "\n",
    "print(f'T-статистика: {t_stat}')\n",
    "print(f'P-значение: {p_value}')\n",
    "\n",
    "alpha = 0.05\n",
    "if p_value < alpha:\n",
    "    print('Нулевую гипотезу отвергаем: средняя выручка от подписчиков выше.')\n",
    "else:\n",
    "    print('Нулевую гипотезу не отвергаем: средняя выручка от подписчиков равна или ниже.')"
   ]
  },
  {
   "cell_type": "markdown",
   "id": "97e57b76",
   "metadata": {},
   "source": [
    "<div class=\"alert alert-block alert-danger\">\n",
    "    \n",
    "**Комментарий ревьювера v2 (недочет, который нужно доработать)**\n",
    "    \n",
    "Здесь также следует указать параметр alternative, так как h1 утверждает о превышении.\n",
    "</div>"
   ]
  },
  {
   "cell_type": "markdown",
   "id": "b26af11b",
   "metadata": {},
   "source": [
    "<div class=\"alert alert-block alert-success\">\n",
    "\n",
    "**Комментарий ревьювера v3 (все отлично)**\n",
    "    \n",
    "Результаты верны👍\n",
    "</div>"
   ]
  },
  {
   "cell_type": "markdown",
   "id": "618d1b5e",
   "metadata": {},
   "source": [
    "### Какой тест вам понадобился бы для проверки этой гипотезы?"
   ]
  },
  {
   "cell_type": "markdown",
   "id": "5dc26271",
   "metadata": {},
   "source": [
    "Полагаю, что надо использовать парный t-тест для связанных выборок так как наши данные собраны для одной и той же группы до и после обновления.\n",
    "Все пользователи представлены двумя измерениями, таким образом, выполнение парного t-теста позволяет определить, есть ли статистически значимая разница между этими двумя измерениями."
   ]
  },
  {
   "cell_type": "markdown",
   "id": "4123694d",
   "metadata": {},
   "source": [
    "В данном случае, наша нулевая гипотеза (H0) - \"количество обращений не изменилось или увеличилось\", и мы проверяем, действительно ли количество обращений уменьшилось.\n",
    "\n",
    "Следовательно, мы ожидаем, что среднее количество обращений до обновления будет больше, чем после обновления. Поэтому, мы используем параметр alternative='less' для односторонней альтернативы в меньшую сторону.\n",
    "\n",
    "Здесь массивы передаются в функцию ttest_rel в том порядке, в котором вы хотите их сравнивать (в данном случае, \"после\" и \"до\")."
   ]
  },
  {
   "cell_type": "markdown",
   "id": "fc51222a",
   "metadata": {},
   "source": [
    "```python\n",
    "#Пример теста\n",
    "t_stat, p_value = stats.ttest_rel(after_update, before_update, alternative='less')\n",
    "```"
   ]
  },
  {
   "cell_type": "markdown",
   "id": "b6889093",
   "metadata": {},
   "source": [
    "<div class=\"alert alert-block alert-danger\">\n",
    "    \n",
    "**Комментарий ревьювера (недочет, который нужно доработать)**\n",
    "    \n",
    "1) Ошибка в коде;\n",
    "    \n",
    "2) Ответ нужно дополнить. \n",
    "    \n",
    "Какой тогда следует указать параметр `alternative` и в каком порядке передать массивы методу?\n",
    "</div>"
   ]
  },
  {
   "cell_type": "markdown",
   "id": "d7e841ba",
   "metadata": {},
   "source": [
    "<div class=\"alert alert-block alert-danger\">\n",
    "    \n",
    "**Комментарий ревьювера v2 (недочет, который нужно доработать)**\n",
    "    \n",
    "alternative='less' верное решение. Но порядок передачи массивов и параметр alternative связаны. Передай массивы в верном порядке. Документация: https://docs.scipy.org/doc/scipy/reference/generated/scipy.stats.ttest_rel.html\n",
    "    \n",
    "    \n",
    "*Рекомендация: ты можешь не использовать ячеку кода. Вместо неё воспользуйся ячейкой markdown следующим образом:*\n",
    "    \n",
    "    ```python\n",
    "    t_stat, p_value = stats.ttest_rel(before_update, after_update, alternative='less')\n",
    "    ```\n",
    "    \n",
    "*результат*\n",
    "    \n",
    "```python\n",
    "t_stat, p_value = stats.ttest_rel(before_update, after_update, alternative='less')\n",
    "```\n",
    "    \n",
    "</div>"
   ]
  },
  {
   "cell_type": "markdown",
   "id": "2e177ba5",
   "metadata": {},
   "source": [
    "<div class=\"alert alert-block alert-success\">\n",
    "\n",
    "**Комментарий ревьювера v3 (все отлично)**\n",
    "    \n",
    "Принято👍\n",
    "</div>"
   ]
  },
  {
   "cell_type": "markdown",
   "id": "36e2a991",
   "metadata": {},
   "source": [
    "# Вывод"
   ]
  },
  {
   "cell_type": "markdown",
   "id": "d6495ae9",
   "metadata": {},
   "source": [
    "Подписчики сервиса тратят больше времени на поездки, что, в теории, может означать что они более \"прибыльные\" на дистанции. При этом, подписчики в среднем проезжают не более 3130 метров, что всё еще находится в рамках желаемого расстояния для оптимального износа самокатов. В итоге, гипотеза о том что подписчики сервиса приносят больше прибыли компании полностью подтвердилась."
   ]
  },
  {
   "cell_type": "markdown",
   "id": "581b7023",
   "metadata": {},
   "source": [
    "Видно, что больше всего сервисом пользуются в Пятигорске, а меньше всего, что удивительно, в Москве. Пользователей без подписки на ~10% больше. Больше всего пользователей возрастом в 25 лет. При этом у сервиса есть пользователи всех возрастов от 12ти до 39ти лет, а так же и 43х лет. Пользватели, как правило, делятся на две группы: тех, кто собирается совершить небольшую поездку от 50 до 1500 метров и тех, кто собирается как следует прокатиться (1500 - 6000 метров). При этом вторая группа - в большинстве с большим отрывом. Люди, в среднем, чаще всего катаются около 15-20 минут и почти никогда больше 40ка минут.\n"
   ]
  },
  {
   "cell_type": "markdown",
   "id": "f5f17be1",
   "metadata": {},
   "source": [
    "<div class=\"alert alert-block alert-danger\">\n",
    "    \n",
    "**Комментарий ревьювера (недочет, который нужно доработать)**\n",
    "    \n",
    "1) Проверь результаты после исправления недочётов.\n",
    "    \n",
    "2) В общем выводе опиши результаты исследовательского анализа данных.\n",
    "</div>"
   ]
  },
  {
   "cell_type": "markdown",
   "id": "7ef7cd5c",
   "metadata": {},
   "source": [
    "<div class=\"alert alert-block alert-success\">\n",
    "\n",
    "**Комментарий ревьювера v2 (все отлично)**\n",
    "    \n",
    "Отличный вывод – все основные результаты работы отражены и отвечают на поставленные задачи👍\n",
    "    \n",
    "*Проконтролируй выводы после исправления недочётов*\n",
    "</div>"
   ]
  },
  {
   "cell_type": "markdown",
   "id": "7cf0e0d3",
   "metadata": {},
   "source": [
    "<div class=\"alert alert-block alert-warning\">\n",
    "\n",
    "**Комментарий ревьювера (общий вывод)**\n",
    "    \n",
    "Тамерлан, хорошая работа! Проект хорошо структурирован, выводы и комментарии достаточно четко отражают результаты исследования, есть навыки в визуализации данных, умеешь преобразовывать данные (используешь сводные таблицы и объединения). Для принятия твоей работы нужно проработать критические недочёты:\n",
    "    \n",
    "* доработать оформление работы (графики, выводы);\n",
    "* исправить расчёт выручки;\n",
    "* исправить недочёты на этапе проверок гипотез;\n",
    "* дополнить выводы.\n",
    "    \n",
    "Спасибо за аккуратный код и качественное оформление работы, это упростило проверку. Жду твою работу!\n",
    "\n",
    "\n",
    "</div>"
   ]
  },
  {
   "cell_type": "code",
   "execution_count": null,
   "id": "974960d7",
   "metadata": {},
   "outputs": [],
   "source": []
  }
 ],
 "metadata": {
  "ExecuteTimeLog": [
   {
    "duration": 464,
    "start_time": "2023-12-07T12:51:49.435Z"
   },
   {
    "duration": 91,
    "start_time": "2023-12-07T12:51:51.630Z"
   },
   {
    "duration": 190,
    "start_time": "2023-12-07T12:52:18.476Z"
   },
   {
    "duration": 16,
    "start_time": "2023-12-07T12:57:25.328Z"
   },
   {
    "duration": 11,
    "start_time": "2023-12-07T12:58:03.125Z"
   },
   {
    "duration": 7,
    "start_time": "2023-12-07T12:58:29.441Z"
   },
   {
    "duration": 12,
    "start_time": "2023-12-07T12:59:44.389Z"
   },
   {
    "duration": 68,
    "start_time": "2023-12-07T13:00:34.095Z"
   },
   {
    "duration": 12,
    "start_time": "2023-12-07T13:00:41.295Z"
   },
   {
    "duration": 11,
    "start_time": "2023-12-07T13:01:25.789Z"
   },
   {
    "duration": 8,
    "start_time": "2023-12-07T13:08:37.271Z"
   },
   {
    "duration": 9,
    "start_time": "2023-12-07T13:09:12.275Z"
   },
   {
    "duration": 11,
    "start_time": "2023-12-07T13:09:21.341Z"
   },
   {
    "duration": 5,
    "start_time": "2023-12-07T13:13:28.946Z"
   },
   {
    "duration": 11,
    "start_time": "2023-12-07T13:13:49.359Z"
   },
   {
    "duration": 9,
    "start_time": "2023-12-07T13:14:28.340Z"
   },
   {
    "duration": 24,
    "start_time": "2023-12-07T13:20:40.429Z"
   },
   {
    "duration": 24,
    "start_time": "2023-12-07T13:22:11.216Z"
   },
   {
    "duration": 20,
    "start_time": "2023-12-07T13:23:57.525Z"
   },
   {
    "duration": 9,
    "start_time": "2023-12-07T13:26:26.650Z"
   },
   {
    "duration": 5,
    "start_time": "2023-12-07T13:26:49.179Z"
   },
   {
    "duration": 4,
    "start_time": "2023-12-07T13:27:19.357Z"
   },
   {
    "duration": 7,
    "start_time": "2023-12-07T13:31:13.763Z"
   },
   {
    "duration": 7,
    "start_time": "2023-12-07T13:32:41.802Z"
   },
   {
    "duration": 307,
    "start_time": "2023-12-07T13:33:06.794Z"
   },
   {
    "duration": 9,
    "start_time": "2023-12-07T13:33:30.375Z"
   },
   {
    "duration": 6,
    "start_time": "2023-12-07T13:33:36.968Z"
   },
   {
    "duration": 6,
    "start_time": "2023-12-07T13:33:52.483Z"
   },
   {
    "duration": 13,
    "start_time": "2023-12-07T13:34:08.439Z"
   },
   {
    "duration": 14,
    "start_time": "2023-12-07T13:37:02.989Z"
   },
   {
    "duration": 8,
    "start_time": "2023-12-07T13:39:19.066Z"
   },
   {
    "duration": 13,
    "start_time": "2023-12-07T13:39:41.685Z"
   },
   {
    "duration": 15,
    "start_time": "2023-12-07T13:39:56.773Z"
   },
   {
    "duration": 5,
    "start_time": "2023-12-07T13:43:06.705Z"
   },
   {
    "duration": 5,
    "start_time": "2023-12-07T13:43:16.490Z"
   },
   {
    "duration": 6,
    "start_time": "2023-12-07T13:43:52.416Z"
   },
   {
    "duration": 4,
    "start_time": "2023-12-07T13:45:27.391Z"
   },
   {
    "duration": 5,
    "start_time": "2023-12-07T13:45:47.325Z"
   },
   {
    "duration": 6,
    "start_time": "2023-12-07T13:47:44.315Z"
   },
   {
    "duration": 6,
    "start_time": "2023-12-07T13:47:53.062Z"
   },
   {
    "duration": 9,
    "start_time": "2023-12-07T13:49:15.354Z"
   },
   {
    "duration": 5,
    "start_time": "2023-12-07T13:49:56.727Z"
   },
   {
    "duration": 11,
    "start_time": "2023-12-07T13:50:45.683Z"
   },
   {
    "duration": 8,
    "start_time": "2023-12-07T20:53:03.379Z"
   },
   {
    "duration": 8,
    "start_time": "2023-12-07T20:54:23.467Z"
   },
   {
    "duration": 11,
    "start_time": "2023-12-07T20:54:40.457Z"
   },
   {
    "duration": 4,
    "start_time": "2023-12-07T20:54:42.576Z"
   },
   {
    "duration": 9,
    "start_time": "2023-12-07T20:55:32.546Z"
   },
   {
    "duration": 10,
    "start_time": "2023-12-07T20:55:37.873Z"
   },
   {
    "duration": 6,
    "start_time": "2023-12-07T20:56:32.253Z"
   },
   {
    "duration": 7,
    "start_time": "2023-12-07T20:56:33.104Z"
   },
   {
    "duration": 9,
    "start_time": "2023-12-07T20:58:13.024Z"
   },
   {
    "duration": 4,
    "start_time": "2023-12-07T20:58:46.333Z"
   },
   {
    "duration": 6,
    "start_time": "2023-12-07T20:59:37.220Z"
   },
   {
    "duration": 6,
    "start_time": "2023-12-07T20:59:38.173Z"
   },
   {
    "duration": 370,
    "start_time": "2023-12-07T21:01:20.529Z"
   },
   {
    "duration": 125,
    "start_time": "2023-12-07T21:02:00.206Z"
   },
   {
    "duration": 124,
    "start_time": "2023-12-07T21:02:22.910Z"
   },
   {
    "duration": 15,
    "start_time": "2023-12-07T21:05:51.513Z"
   },
   {
    "duration": 8,
    "start_time": "2023-12-07T21:09:18.933Z"
   },
   {
    "duration": 7,
    "start_time": "2023-12-07T21:09:27.966Z"
   },
   {
    "duration": 7,
    "start_time": "2023-12-07T21:10:05.273Z"
   },
   {
    "duration": 14,
    "start_time": "2023-12-07T21:10:05.608Z"
   },
   {
    "duration": 7,
    "start_time": "2023-12-07T21:10:10.077Z"
   },
   {
    "duration": 8,
    "start_time": "2023-12-07T21:11:05.066Z"
   },
   {
    "duration": 7,
    "start_time": "2023-12-07T21:11:05.349Z"
   },
   {
    "duration": 4,
    "start_time": "2023-12-07T21:12:24.131Z"
   },
   {
    "duration": 5,
    "start_time": "2023-12-07T21:12:25.112Z"
   },
   {
    "duration": 5,
    "start_time": "2023-12-07T21:12:40.981Z"
   },
   {
    "duration": 5,
    "start_time": "2023-12-07T21:12:41.309Z"
   },
   {
    "duration": 6,
    "start_time": "2023-12-07T21:13:26.249Z"
   },
   {
    "duration": 5,
    "start_time": "2023-12-07T21:14:00.733Z"
   },
   {
    "duration": 5,
    "start_time": "2023-12-07T21:14:01.090Z"
   },
   {
    "duration": 17,
    "start_time": "2023-12-07T23:34:18.623Z"
   },
   {
    "duration": 4,
    "start_time": "2023-12-07T23:34:32.904Z"
   },
   {
    "duration": 126,
    "start_time": "2023-12-07T23:34:46.788Z"
   },
   {
    "duration": 6,
    "start_time": "2023-12-08T00:50:24.943Z"
   },
   {
    "duration": 134,
    "start_time": "2023-12-08T00:50:42.862Z"
   },
   {
    "duration": 73,
    "start_time": "2023-12-08T00:53:03.702Z"
   },
   {
    "duration": 192,
    "start_time": "2023-12-08T00:53:12.186Z"
   },
   {
    "duration": 131,
    "start_time": "2023-12-08T00:53:45.263Z"
   },
   {
    "duration": 201,
    "start_time": "2023-12-08T00:54:12.430Z"
   },
   {
    "duration": 218,
    "start_time": "2023-12-08T00:54:23.824Z"
   },
   {
    "duration": 202,
    "start_time": "2023-12-08T00:54:34.147Z"
   },
   {
    "duration": 170,
    "start_time": "2023-12-08T00:54:44.371Z"
   },
   {
    "duration": 152,
    "start_time": "2023-12-08T00:55:08.091Z"
   },
   {
    "duration": 176,
    "start_time": "2023-12-08T00:56:00.655Z"
   },
   {
    "duration": 152,
    "start_time": "2023-12-08T00:56:08.274Z"
   },
   {
    "duration": 157,
    "start_time": "2023-12-08T00:56:15.747Z"
   },
   {
    "duration": 159,
    "start_time": "2023-12-08T00:57:15.736Z"
   },
   {
    "duration": 7,
    "start_time": "2023-12-08T01:04:23.317Z"
   },
   {
    "duration": 9,
    "start_time": "2023-12-08T01:04:32.192Z"
   },
   {
    "duration": 4,
    "start_time": "2023-12-08T01:05:05.936Z"
   },
   {
    "duration": 6,
    "start_time": "2023-12-08T01:05:12.688Z"
   },
   {
    "duration": 211,
    "start_time": "2023-12-08T01:05:48.708Z"
   },
   {
    "duration": 150,
    "start_time": "2023-12-08T01:06:25.911Z"
   },
   {
    "duration": 158,
    "start_time": "2023-12-08T01:07:58.138Z"
   },
   {
    "duration": 139,
    "start_time": "2023-12-08T01:08:06.752Z"
   },
   {
    "duration": 121,
    "start_time": "2023-12-08T01:08:11.991Z"
   },
   {
    "duration": 275,
    "start_time": "2023-12-08T01:09:40.971Z"
   },
   {
    "duration": 293,
    "start_time": "2023-12-08T01:09:50.827Z"
   },
   {
    "duration": 299,
    "start_time": "2023-12-08T01:10:02.530Z"
   },
   {
    "duration": 403,
    "start_time": "2023-12-08T01:10:07.772Z"
   },
   {
    "duration": 290,
    "start_time": "2023-12-08T01:10:11.028Z"
   },
   {
    "duration": 296,
    "start_time": "2023-12-08T01:10:17.117Z"
   },
   {
    "duration": 301,
    "start_time": "2023-12-08T01:10:34.386Z"
   },
   {
    "duration": 5,
    "start_time": "2023-12-08T01:10:52.102Z"
   },
   {
    "duration": 232,
    "start_time": "2023-12-08T01:16:00.478Z"
   },
   {
    "duration": 3,
    "start_time": "2023-12-08T01:16:38.512Z"
   },
   {
    "duration": 320,
    "start_time": "2023-12-08T01:16:43.288Z"
   },
   {
    "duration": 335,
    "start_time": "2023-12-08T01:16:49.801Z"
   },
   {
    "duration": 336,
    "start_time": "2023-12-08T01:16:55.315Z"
   },
   {
    "duration": 349,
    "start_time": "2023-12-08T01:17:01.387Z"
   },
   {
    "duration": 249,
    "start_time": "2023-12-08T01:17:17.190Z"
   },
   {
    "duration": 250,
    "start_time": "2023-12-08T01:17:43.162Z"
   },
   {
    "duration": 78,
    "start_time": "2023-12-08T01:18:53.706Z"
   },
   {
    "duration": 362,
    "start_time": "2023-12-08T01:21:43.676Z"
   },
   {
    "duration": 237,
    "start_time": "2023-12-08T01:22:00.181Z"
   },
   {
    "duration": 9,
    "start_time": "2023-12-08T01:55:55.851Z"
   },
   {
    "duration": 12,
    "start_time": "2023-12-08T01:56:07.324Z"
   },
   {
    "duration": 15,
    "start_time": "2023-12-08T01:56:38.253Z"
   },
   {
    "duration": 10,
    "start_time": "2023-12-08T01:56:45.763Z"
   },
   {
    "duration": 14,
    "start_time": "2023-12-08T01:56:57.634Z"
   },
   {
    "duration": 28,
    "start_time": "2023-12-08T02:37:19.988Z"
   },
   {
    "duration": 26,
    "start_time": "2023-12-08T02:39:29.627Z"
   },
   {
    "duration": 24,
    "start_time": "2023-12-08T02:39:59.538Z"
   },
   {
    "duration": 26,
    "start_time": "2023-12-08T02:40:05.719Z"
   },
   {
    "duration": 25,
    "start_time": "2023-12-08T02:40:24.167Z"
   },
   {
    "duration": 24,
    "start_time": "2023-12-08T02:40:31.213Z"
   },
   {
    "duration": 8,
    "start_time": "2023-12-08T02:42:22.331Z"
   },
   {
    "duration": 12,
    "start_time": "2023-12-08T02:42:41.660Z"
   },
   {
    "duration": 7,
    "start_time": "2023-12-08T02:44:28.429Z"
   },
   {
    "duration": 13,
    "start_time": "2023-12-08T02:44:35.443Z"
   },
   {
    "duration": 241,
    "start_time": "2023-12-08T02:57:36.632Z"
   },
   {
    "duration": 259,
    "start_time": "2023-12-08T02:57:36.971Z"
   },
   {
    "duration": 251,
    "start_time": "2023-12-08T02:58:18.731Z"
   },
   {
    "duration": 348,
    "start_time": "2023-12-08T02:58:19.016Z"
   },
   {
    "duration": 6,
    "start_time": "2023-12-08T03:07:25.744Z"
   },
   {
    "duration": 7,
    "start_time": "2023-12-08T03:08:13.789Z"
   },
   {
    "duration": 4,
    "start_time": "2023-12-08T03:08:42.186Z"
   },
   {
    "duration": 5,
    "start_time": "2023-12-08T03:09:17.473Z"
   },
   {
    "duration": 4,
    "start_time": "2023-12-08T03:09:39.061Z"
   },
   {
    "duration": 5,
    "start_time": "2023-12-08T03:10:09.564Z"
   },
   {
    "duration": 5,
    "start_time": "2023-12-08T03:21:31.125Z"
   },
   {
    "duration": 854,
    "start_time": "2023-12-08T03:25:00.474Z"
   },
   {
    "duration": 835,
    "start_time": "2023-12-08T03:25:08.754Z"
   },
   {
    "duration": 852,
    "start_time": "2023-12-08T03:25:11.338Z"
   },
   {
    "duration": 857,
    "start_time": "2023-12-08T03:28:15.604Z"
   },
   {
    "duration": 11,
    "start_time": "2023-12-08T03:31:59.723Z"
   },
   {
    "duration": 11,
    "start_time": "2023-12-08T03:32:14.653Z"
   },
   {
    "duration": 12,
    "start_time": "2023-12-08T03:32:15.018Z"
   },
   {
    "duration": 10,
    "start_time": "2023-12-08T03:41:33.691Z"
   },
   {
    "duration": 13,
    "start_time": "2023-12-08T03:41:34.808Z"
   },
   {
    "duration": 11,
    "start_time": "2023-12-08T03:41:36.363Z"
   },
   {
    "duration": 13,
    "start_time": "2023-12-08T03:41:36.873Z"
   },
   {
    "duration": 11,
    "start_time": "2023-12-08T03:48:06.902Z"
   },
   {
    "duration": 12,
    "start_time": "2023-12-08T03:48:07.304Z"
   },
   {
    "duration": 3,
    "start_time": "2023-12-08T03:56:31.925Z"
   },
   {
    "duration": 20,
    "start_time": "2023-12-08T03:59:03.485Z"
   },
   {
    "duration": 1445,
    "start_time": "2023-12-08T04:00:04.003Z"
   },
   {
    "duration": 1248,
    "start_time": "2023-12-08T04:00:37.716Z"
   },
   {
    "duration": 83,
    "start_time": "2023-12-08T04:01:11.304Z"
   },
   {
    "duration": 18,
    "start_time": "2023-12-08T04:01:42.822Z"
   },
   {
    "duration": 18,
    "start_time": "2023-12-08T04:03:26.972Z"
   },
   {
    "duration": 13,
    "start_time": "2023-12-08T04:03:27.687Z"
   },
   {
    "duration": 1299,
    "start_time": "2023-12-08T04:03:34.966Z"
   },
   {
    "duration": 14,
    "start_time": "2023-12-08T04:03:52.066Z"
   },
   {
    "duration": 15,
    "start_time": "2023-12-08T04:21:45.563Z"
   },
   {
    "duration": 21,
    "start_time": "2023-12-08T04:21:55.914Z"
   },
   {
    "duration": 25,
    "start_time": "2023-12-08T04:26:52.667Z"
   },
   {
    "duration": 21,
    "start_time": "2023-12-08T04:28:19.956Z"
   },
   {
    "duration": 22,
    "start_time": "2023-12-08T04:31:00.538Z"
   },
   {
    "duration": 22,
    "start_time": "2023-12-08T04:31:50.415Z"
   },
   {
    "duration": 7,
    "start_time": "2023-12-08T04:33:42.411Z"
   },
   {
    "duration": 3,
    "start_time": "2023-12-08T04:33:43.294Z"
   },
   {
    "duration": 5,
    "start_time": "2023-12-08T04:33:44.071Z"
   },
   {
    "duration": 14,
    "start_time": "2023-12-08T04:33:44.513Z"
   },
   {
    "duration": 8,
    "start_time": "2023-12-08T04:39:14.838Z"
   },
   {
    "duration": 4,
    "start_time": "2023-12-08T04:39:32.006Z"
   },
   {
    "duration": 3,
    "start_time": "2023-12-08T04:39:33.319Z"
   },
   {
    "duration": 6,
    "start_time": "2023-12-08T04:39:37.024Z"
   },
   {
    "duration": 17,
    "start_time": "2023-12-08T04:39:38.945Z"
   },
   {
    "duration": 9,
    "start_time": "2023-12-08T04:39:50.420Z"
   },
   {
    "duration": 15,
    "start_time": "2023-12-08T04:39:52.528Z"
   },
   {
    "duration": 4,
    "start_time": "2023-12-08T04:40:03.805Z"
   },
   {
    "duration": 3,
    "start_time": "2023-12-08T04:40:04.727Z"
   },
   {
    "duration": 6,
    "start_time": "2023-12-08T04:40:05.269Z"
   },
   {
    "duration": 16,
    "start_time": "2023-12-08T04:40:05.643Z"
   },
   {
    "duration": 435,
    "start_time": "2023-12-08T05:00:16.651Z"
   },
   {
    "duration": 36,
    "start_time": "2023-12-08T05:18:50.663Z"
   },
   {
    "duration": 10,
    "start_time": "2023-12-08T05:22:01.042Z"
   },
   {
    "duration": 9,
    "start_time": "2023-12-08T05:22:30.867Z"
   },
   {
    "duration": 7,
    "start_time": "2023-12-08T05:28:02.519Z"
   },
   {
    "duration": 76,
    "start_time": "2023-12-08T05:30:35.265Z"
   },
   {
    "duration": 9,
    "start_time": "2023-12-08T05:31:03.152Z"
   },
   {
    "duration": 7,
    "start_time": "2023-12-08T05:31:12.006Z"
   },
   {
    "duration": 8,
    "start_time": "2023-12-08T05:34:27.011Z"
   },
   {
    "duration": 8,
    "start_time": "2023-12-08T05:34:38.752Z"
   },
   {
    "duration": 966,
    "start_time": "2023-12-08T09:23:19.048Z"
   },
   {
    "duration": 64,
    "start_time": "2023-12-08T09:23:20.016Z"
   },
   {
    "duration": 10,
    "start_time": "2023-12-08T09:23:20.081Z"
   },
   {
    "duration": 13,
    "start_time": "2023-12-08T09:23:20.092Z"
   },
   {
    "duration": 13,
    "start_time": "2023-12-08T09:23:20.107Z"
   },
   {
    "duration": 7,
    "start_time": "2023-12-08T09:23:20.121Z"
   },
   {
    "duration": 13,
    "start_time": "2023-12-08T09:23:20.129Z"
   },
   {
    "duration": 30,
    "start_time": "2023-12-08T09:23:20.143Z"
   },
   {
    "duration": 21,
    "start_time": "2023-12-08T09:23:20.175Z"
   },
   {
    "duration": 23,
    "start_time": "2023-12-08T09:23:20.197Z"
   },
   {
    "duration": 48,
    "start_time": "2023-12-08T09:23:20.221Z"
   },
   {
    "duration": 51,
    "start_time": "2023-12-08T09:23:20.271Z"
   },
   {
    "duration": 24,
    "start_time": "2023-12-08T09:23:20.324Z"
   },
   {
    "duration": 4,
    "start_time": "2023-12-08T09:23:20.351Z"
   },
   {
    "duration": 29,
    "start_time": "2023-12-08T09:23:20.356Z"
   },
   {
    "duration": 34,
    "start_time": "2023-12-08T09:23:20.388Z"
   },
   {
    "duration": 36,
    "start_time": "2023-12-08T09:23:20.423Z"
   },
   {
    "duration": 25,
    "start_time": "2023-12-08T09:23:20.460Z"
   },
   {
    "duration": 11,
    "start_time": "2023-12-08T09:23:20.486Z"
   },
   {
    "duration": 48,
    "start_time": "2023-12-08T09:23:20.498Z"
   },
   {
    "duration": 16,
    "start_time": "2023-12-08T09:23:20.547Z"
   },
   {
    "duration": 23,
    "start_time": "2023-12-08T09:23:20.564Z"
   },
   {
    "duration": 9,
    "start_time": "2023-12-08T09:23:20.588Z"
   },
   {
    "duration": 16,
    "start_time": "2023-12-08T09:23:20.598Z"
   },
   {
    "duration": 20,
    "start_time": "2023-12-08T09:23:20.615Z"
   },
   {
    "duration": 8,
    "start_time": "2023-12-08T09:23:20.636Z"
   },
   {
    "duration": 26,
    "start_time": "2023-12-08T09:23:20.645Z"
   },
   {
    "duration": 18,
    "start_time": "2023-12-08T09:23:20.672Z"
   },
   {
    "duration": 25,
    "start_time": "2023-12-08T09:23:20.691Z"
   },
   {
    "duration": 8,
    "start_time": "2023-12-08T09:23:20.717Z"
   },
   {
    "duration": 17,
    "start_time": "2023-12-08T09:23:20.726Z"
   },
   {
    "duration": 5,
    "start_time": "2023-12-08T09:23:20.744Z"
   },
   {
    "duration": 10,
    "start_time": "2023-12-08T09:23:20.750Z"
   },
   {
    "duration": 5,
    "start_time": "2023-12-08T09:23:20.761Z"
   },
   {
    "duration": 34,
    "start_time": "2023-12-08T09:23:20.767Z"
   },
   {
    "duration": 204,
    "start_time": "2023-12-08T09:23:20.802Z"
   },
   {
    "duration": 13,
    "start_time": "2023-12-08T09:23:21.007Z"
   },
   {
    "duration": 84,
    "start_time": "2023-12-08T09:23:21.021Z"
   },
   {
    "duration": 6,
    "start_time": "2023-12-08T09:23:21.106Z"
   },
   {
    "duration": 7,
    "start_time": "2023-12-08T09:23:21.113Z"
   },
   {
    "duration": 49,
    "start_time": "2023-12-08T09:23:21.124Z"
   },
   {
    "duration": 44,
    "start_time": "2023-12-08T09:23:21.174Z"
   },
   {
    "duration": 4,
    "start_time": "2023-12-08T09:23:21.219Z"
   },
   {
    "duration": 12,
    "start_time": "2023-12-08T09:23:21.224Z"
   },
   {
    "duration": 5,
    "start_time": "2023-12-08T09:23:21.237Z"
   },
   {
    "duration": 156,
    "start_time": "2023-12-08T09:23:21.243Z"
   },
   {
    "duration": 4,
    "start_time": "2023-12-08T09:23:21.401Z"
   },
   {
    "duration": 152,
    "start_time": "2023-12-08T09:23:21.406Z"
   },
   {
    "duration": 4,
    "start_time": "2023-12-08T09:23:21.559Z"
   },
   {
    "duration": 276,
    "start_time": "2023-12-08T09:23:21.564Z"
   },
   {
    "duration": 233,
    "start_time": "2023-12-08T09:23:21.842Z"
   },
   {
    "duration": 216,
    "start_time": "2023-12-08T09:23:22.076Z"
   },
   {
    "duration": 7,
    "start_time": "2023-12-08T09:23:22.293Z"
   },
   {
    "duration": 14,
    "start_time": "2023-12-08T09:23:22.302Z"
   },
   {
    "duration": 27,
    "start_time": "2023-12-08T09:23:22.318Z"
   },
   {
    "duration": 6,
    "start_time": "2023-12-08T09:23:22.346Z"
   },
   {
    "duration": 10,
    "start_time": "2023-12-08T09:23:22.353Z"
   },
   {
    "duration": 60,
    "start_time": "2023-12-08T09:23:22.364Z"
   },
   {
    "duration": 19,
    "start_time": "2023-12-08T09:23:22.425Z"
   },
   {
    "duration": 210,
    "start_time": "2023-12-08T09:23:22.445Z"
   },
   {
    "duration": 4,
    "start_time": "2023-12-08T09:23:22.656Z"
   },
   {
    "duration": 219,
    "start_time": "2023-12-08T09:23:22.662Z"
   },
   {
    "duration": 4,
    "start_time": "2023-12-08T09:23:22.882Z"
   },
   {
    "duration": 222,
    "start_time": "2023-12-08T09:23:22.887Z"
   },
   {
    "duration": 4,
    "start_time": "2023-12-08T09:23:23.114Z"
   },
   {
    "duration": 211,
    "start_time": "2023-12-08T09:23:23.120Z"
   },
   {
    "duration": 4,
    "start_time": "2023-12-08T09:23:23.332Z"
   },
   {
    "duration": 23,
    "start_time": "2023-12-08T09:23:23.338Z"
   },
   {
    "duration": 10,
    "start_time": "2023-12-08T09:23:23.363Z"
   },
   {
    "duration": 4,
    "start_time": "2023-12-08T09:23:23.374Z"
   },
   {
    "duration": 4,
    "start_time": "2023-12-08T09:23:23.379Z"
   },
   {
    "duration": 12,
    "start_time": "2023-12-08T09:23:23.384Z"
   },
   {
    "duration": 19,
    "start_time": "2023-12-08T09:23:23.397Z"
   },
   {
    "duration": 6,
    "start_time": "2023-12-08T09:23:23.417Z"
   },
   {
    "duration": 19,
    "start_time": "2023-12-08T09:23:23.424Z"
   },
   {
    "duration": 8,
    "start_time": "2023-12-08T09:23:23.444Z"
   },
   {
    "duration": 89,
    "start_time": "2023-12-08T09:23:23.453Z"
   },
   {
    "duration": 997,
    "start_time": "2023-12-08T09:35:08.157Z"
   },
   {
    "duration": 68,
    "start_time": "2023-12-08T09:35:09.156Z"
   },
   {
    "duration": 10,
    "start_time": "2023-12-08T09:35:09.226Z"
   },
   {
    "duration": 28,
    "start_time": "2023-12-08T09:35:09.237Z"
   },
   {
    "duration": 12,
    "start_time": "2023-12-08T09:35:09.267Z"
   },
   {
    "duration": 7,
    "start_time": "2023-12-08T09:35:09.281Z"
   },
   {
    "duration": 9,
    "start_time": "2023-12-08T09:35:09.290Z"
   },
   {
    "duration": 31,
    "start_time": "2023-12-08T09:35:09.301Z"
   },
   {
    "duration": 5,
    "start_time": "2023-12-08T09:35:09.333Z"
   },
   {
    "duration": 8,
    "start_time": "2023-12-08T09:35:09.340Z"
   },
   {
    "duration": 13,
    "start_time": "2023-12-08T09:35:09.349Z"
   },
   {
    "duration": 7,
    "start_time": "2023-12-08T09:35:09.363Z"
   },
   {
    "duration": 34,
    "start_time": "2023-12-08T09:35:09.371Z"
   },
   {
    "duration": 22,
    "start_time": "2023-12-08T09:35:09.407Z"
   },
   {
    "duration": 9,
    "start_time": "2023-12-08T09:35:09.430Z"
   },
   {
    "duration": 20,
    "start_time": "2023-12-08T09:35:09.440Z"
   },
   {
    "duration": 70,
    "start_time": "2023-12-08T09:35:09.461Z"
   },
   {
    "duration": 12,
    "start_time": "2023-12-08T09:35:09.532Z"
   },
   {
    "duration": 39,
    "start_time": "2023-12-08T09:35:09.545Z"
   },
   {
    "duration": 37,
    "start_time": "2023-12-08T09:35:09.585Z"
   },
   {
    "duration": 4,
    "start_time": "2023-12-08T09:35:09.623Z"
   },
   {
    "duration": 6,
    "start_time": "2023-12-08T09:35:09.629Z"
   },
   {
    "duration": 5,
    "start_time": "2023-12-08T09:35:09.636Z"
   },
   {
    "duration": 3,
    "start_time": "2023-12-08T09:35:09.643Z"
   },
   {
    "duration": 21,
    "start_time": "2023-12-08T09:35:09.648Z"
   },
   {
    "duration": 56,
    "start_time": "2023-12-08T09:35:09.670Z"
   },
   {
    "duration": 40,
    "start_time": "2023-12-08T09:35:09.727Z"
   },
   {
    "duration": 14,
    "start_time": "2023-12-08T09:35:09.769Z"
   },
   {
    "duration": 12,
    "start_time": "2023-12-08T09:35:09.785Z"
   },
   {
    "duration": 3,
    "start_time": "2023-12-08T09:35:09.798Z"
   },
   {
    "duration": 18,
    "start_time": "2023-12-08T09:35:09.802Z"
   },
   {
    "duration": 30,
    "start_time": "2023-12-08T09:35:09.821Z"
   },
   {
    "duration": 6,
    "start_time": "2023-12-08T09:35:09.853Z"
   },
   {
    "duration": 4,
    "start_time": "2023-12-08T09:35:09.860Z"
   },
   {
    "duration": 12,
    "start_time": "2023-12-08T09:35:09.865Z"
   },
   {
    "duration": 114,
    "start_time": "2023-12-08T09:35:09.878Z"
   },
   {
    "duration": 11,
    "start_time": "2023-12-08T09:35:09.994Z"
   },
   {
    "duration": 18,
    "start_time": "2023-12-08T09:35:10.007Z"
   },
   {
    "duration": 45,
    "start_time": "2023-12-08T09:35:10.026Z"
   },
   {
    "duration": 9,
    "start_time": "2023-12-08T09:35:10.072Z"
   },
   {
    "duration": 24,
    "start_time": "2023-12-08T09:35:10.084Z"
   },
   {
    "duration": 7,
    "start_time": "2023-12-08T09:35:10.109Z"
   },
   {
    "duration": 18,
    "start_time": "2023-12-08T09:35:10.117Z"
   },
   {
    "duration": 16,
    "start_time": "2023-12-08T09:35:10.136Z"
   },
   {
    "duration": 10,
    "start_time": "2023-12-08T09:35:10.153Z"
   },
   {
    "duration": 160,
    "start_time": "2023-12-08T09:35:10.164Z"
   },
   {
    "duration": 6,
    "start_time": "2023-12-08T09:35:10.326Z"
   },
   {
    "duration": 141,
    "start_time": "2023-12-08T09:35:10.333Z"
   },
   {
    "duration": 4,
    "start_time": "2023-12-08T09:35:10.475Z"
   },
   {
    "duration": 282,
    "start_time": "2023-12-08T09:35:10.480Z"
   },
   {
    "duration": 211,
    "start_time": "2023-12-08T09:35:10.763Z"
   },
   {
    "duration": 221,
    "start_time": "2023-12-08T09:35:10.976Z"
   },
   {
    "duration": 8,
    "start_time": "2023-12-08T09:35:11.198Z"
   },
   {
    "duration": 9,
    "start_time": "2023-12-08T09:35:11.214Z"
   },
   {
    "duration": 12,
    "start_time": "2023-12-08T09:35:11.224Z"
   },
   {
    "duration": 5,
    "start_time": "2023-12-08T09:35:11.237Z"
   },
   {
    "duration": 10,
    "start_time": "2023-12-08T09:35:11.244Z"
   },
   {
    "duration": 77,
    "start_time": "2023-12-08T09:35:11.256Z"
   },
   {
    "duration": 10,
    "start_time": "2023-12-08T09:35:11.334Z"
   },
   {
    "duration": 214,
    "start_time": "2023-12-08T09:35:11.346Z"
   },
   {
    "duration": 4,
    "start_time": "2023-12-08T09:35:11.561Z"
   },
   {
    "duration": 226,
    "start_time": "2023-12-08T09:35:11.567Z"
   },
   {
    "duration": 4,
    "start_time": "2023-12-08T09:35:11.795Z"
   },
   {
    "duration": 218,
    "start_time": "2023-12-08T09:35:11.800Z"
   },
   {
    "duration": 5,
    "start_time": "2023-12-08T09:35:12.019Z"
   },
   {
    "duration": 221,
    "start_time": "2023-12-08T09:35:12.025Z"
   },
   {
    "duration": 3,
    "start_time": "2023-12-08T09:35:12.248Z"
   },
   {
    "duration": 18,
    "start_time": "2023-12-08T09:35:12.253Z"
   },
   {
    "duration": 12,
    "start_time": "2023-12-08T09:35:12.272Z"
   },
   {
    "duration": 4,
    "start_time": "2023-12-08T09:35:12.285Z"
   },
   {
    "duration": 28,
    "start_time": "2023-12-08T09:35:12.290Z"
   },
   {
    "duration": 6,
    "start_time": "2023-12-08T09:35:12.319Z"
   },
   {
    "duration": 16,
    "start_time": "2023-12-08T09:35:12.326Z"
   },
   {
    "duration": 6,
    "start_time": "2023-12-08T09:35:12.344Z"
   },
   {
    "duration": 7,
    "start_time": "2023-12-08T09:35:12.352Z"
   },
   {
    "duration": 14,
    "start_time": "2023-12-08T09:35:12.361Z"
   },
   {
    "duration": 96,
    "start_time": "2023-12-08T09:35:12.376Z"
   },
   {
    "duration": 9,
    "start_time": "2023-12-08T09:43:16.131Z"
   },
   {
    "duration": 9,
    "start_time": "2023-12-08T09:43:17.522Z"
   },
   {
    "duration": 12,
    "start_time": "2023-12-08T09:43:18.058Z"
   },
   {
    "duration": 975,
    "start_time": "2023-12-08T09:44:17.235Z"
   },
   {
    "duration": 68,
    "start_time": "2023-12-08T09:44:18.211Z"
   },
   {
    "duration": 9,
    "start_time": "2023-12-08T09:44:18.280Z"
   },
   {
    "duration": 14,
    "start_time": "2023-12-08T09:44:18.290Z"
   },
   {
    "duration": 15,
    "start_time": "2023-12-08T09:44:18.306Z"
   },
   {
    "duration": 10,
    "start_time": "2023-12-08T09:44:18.322Z"
   },
   {
    "duration": 16,
    "start_time": "2023-12-08T09:44:18.333Z"
   },
   {
    "duration": 13,
    "start_time": "2023-12-08T09:44:18.351Z"
   },
   {
    "duration": 12,
    "start_time": "2023-12-08T09:44:18.365Z"
   },
   {
    "duration": 9,
    "start_time": "2023-12-08T09:44:18.378Z"
   },
   {
    "duration": 23,
    "start_time": "2023-12-08T09:44:18.389Z"
   },
   {
    "duration": 6,
    "start_time": "2023-12-08T09:44:18.419Z"
   },
   {
    "duration": 8,
    "start_time": "2023-12-08T09:44:18.427Z"
   },
   {
    "duration": 5,
    "start_time": "2023-12-08T09:44:18.438Z"
   },
   {
    "duration": 12,
    "start_time": "2023-12-08T09:44:18.444Z"
   },
   {
    "duration": 20,
    "start_time": "2023-12-08T09:44:18.458Z"
   },
   {
    "duration": 12,
    "start_time": "2023-12-08T09:44:18.479Z"
   },
   {
    "duration": 10,
    "start_time": "2023-12-08T09:44:18.492Z"
   },
   {
    "duration": 4,
    "start_time": "2023-12-08T09:44:18.503Z"
   },
   {
    "duration": 17,
    "start_time": "2023-12-08T09:44:18.508Z"
   },
   {
    "duration": 4,
    "start_time": "2023-12-08T09:44:18.526Z"
   },
   {
    "duration": 5,
    "start_time": "2023-12-08T09:44:18.531Z"
   },
   {
    "duration": 4,
    "start_time": "2023-12-08T09:44:18.537Z"
   },
   {
    "duration": 4,
    "start_time": "2023-12-08T09:44:18.542Z"
   },
   {
    "duration": 5,
    "start_time": "2023-12-08T09:44:18.547Z"
   },
   {
    "duration": 11,
    "start_time": "2023-12-08T09:44:18.553Z"
   },
   {
    "duration": 6,
    "start_time": "2023-12-08T09:44:18.565Z"
   },
   {
    "duration": 7,
    "start_time": "2023-12-08T09:44:18.572Z"
   },
   {
    "duration": 14,
    "start_time": "2023-12-08T09:44:18.580Z"
   },
   {
    "duration": 20,
    "start_time": "2023-12-08T09:44:18.595Z"
   },
   {
    "duration": 5,
    "start_time": "2023-12-08T09:44:18.616Z"
   },
   {
    "duration": 4,
    "start_time": "2023-12-08T09:44:18.622Z"
   },
   {
    "duration": 4,
    "start_time": "2023-12-08T09:44:18.628Z"
   },
   {
    "duration": 4,
    "start_time": "2023-12-08T09:44:18.633Z"
   },
   {
    "duration": 9,
    "start_time": "2023-12-08T09:44:18.638Z"
   },
   {
    "duration": 138,
    "start_time": "2023-12-08T09:44:18.649Z"
   },
   {
    "duration": 11,
    "start_time": "2023-12-08T09:44:18.788Z"
   },
   {
    "duration": 15,
    "start_time": "2023-12-08T09:44:18.800Z"
   },
   {
    "duration": 10,
    "start_time": "2023-12-08T09:44:18.816Z"
   },
   {
    "duration": 18,
    "start_time": "2023-12-08T09:44:18.827Z"
   },
   {
    "duration": 5,
    "start_time": "2023-12-08T09:44:18.849Z"
   },
   {
    "duration": 4,
    "start_time": "2023-12-08T09:44:18.855Z"
   },
   {
    "duration": 6,
    "start_time": "2023-12-08T09:44:18.860Z"
   },
   {
    "duration": 9,
    "start_time": "2023-12-08T09:44:18.868Z"
   },
   {
    "duration": 7,
    "start_time": "2023-12-08T09:44:18.878Z"
   },
   {
    "duration": 146,
    "start_time": "2023-12-08T09:44:18.886Z"
   },
   {
    "duration": 6,
    "start_time": "2023-12-08T09:44:19.033Z"
   },
   {
    "duration": 121,
    "start_time": "2023-12-08T09:44:19.040Z"
   },
   {
    "duration": 4,
    "start_time": "2023-12-08T09:44:19.162Z"
   },
   {
    "duration": 275,
    "start_time": "2023-12-08T09:44:19.168Z"
   },
   {
    "duration": 214,
    "start_time": "2023-12-08T09:44:19.444Z"
   },
   {
    "duration": 203,
    "start_time": "2023-12-08T09:44:19.659Z"
   },
   {
    "duration": 7,
    "start_time": "2023-12-08T09:44:19.863Z"
   },
   {
    "duration": 11,
    "start_time": "2023-12-08T09:44:19.872Z"
   },
   {
    "duration": 16,
    "start_time": "2023-12-08T09:44:19.884Z"
   },
   {
    "duration": 16,
    "start_time": "2023-12-08T09:44:19.902Z"
   },
   {
    "duration": 12,
    "start_time": "2023-12-08T09:44:19.919Z"
   },
   {
    "duration": 55,
    "start_time": "2023-12-08T09:44:19.933Z"
   },
   {
    "duration": 10,
    "start_time": "2023-12-08T09:44:19.989Z"
   },
   {
    "duration": 208,
    "start_time": "2023-12-08T09:44:20.000Z"
   },
   {
    "duration": 4,
    "start_time": "2023-12-08T09:44:20.215Z"
   },
   {
    "duration": 229,
    "start_time": "2023-12-08T09:44:20.221Z"
   },
   {
    "duration": 4,
    "start_time": "2023-12-08T09:44:20.452Z"
   },
   {
    "duration": 241,
    "start_time": "2023-12-08T09:44:20.458Z"
   },
   {
    "duration": 15,
    "start_time": "2023-12-08T09:44:20.701Z"
   },
   {
    "duration": 209,
    "start_time": "2023-12-08T09:44:20.717Z"
   },
   {
    "duration": 4,
    "start_time": "2023-12-08T09:44:20.927Z"
   },
   {
    "duration": 17,
    "start_time": "2023-12-08T09:44:20.933Z"
   },
   {
    "duration": 25,
    "start_time": "2023-12-08T09:44:20.952Z"
   },
   {
    "duration": 3,
    "start_time": "2023-12-08T09:44:20.978Z"
   },
   {
    "duration": 12,
    "start_time": "2023-12-08T09:44:20.982Z"
   },
   {
    "duration": 8,
    "start_time": "2023-12-08T09:44:20.995Z"
   },
   {
    "duration": 16,
    "start_time": "2023-12-08T09:44:21.004Z"
   },
   {
    "duration": 6,
    "start_time": "2023-12-08T09:44:21.022Z"
   },
   {
    "duration": 6,
    "start_time": "2023-12-08T09:44:21.029Z"
   },
   {
    "duration": 7,
    "start_time": "2023-12-08T09:44:21.037Z"
   },
   {
    "duration": 98,
    "start_time": "2023-12-08T09:44:21.046Z"
   },
   {
    "duration": 984,
    "start_time": "2023-12-08T09:45:27.837Z"
   },
   {
    "duration": 68,
    "start_time": "2023-12-08T09:45:28.823Z"
   },
   {
    "duration": 10,
    "start_time": "2023-12-08T09:45:28.892Z"
   },
   {
    "duration": 11,
    "start_time": "2023-12-08T09:45:28.904Z"
   },
   {
    "duration": 18,
    "start_time": "2023-12-08T09:45:28.916Z"
   },
   {
    "duration": 6,
    "start_time": "2023-12-08T09:45:28.935Z"
   },
   {
    "duration": 16,
    "start_time": "2023-12-08T09:45:28.943Z"
   },
   {
    "duration": 26,
    "start_time": "2023-12-08T09:45:28.960Z"
   },
   {
    "duration": 6,
    "start_time": "2023-12-08T09:45:28.987Z"
   },
   {
    "duration": 7,
    "start_time": "2023-12-08T09:45:28.994Z"
   },
   {
    "duration": 17,
    "start_time": "2023-12-08T09:45:29.002Z"
   },
   {
    "duration": 6,
    "start_time": "2023-12-08T09:45:29.020Z"
   },
   {
    "duration": 10,
    "start_time": "2023-12-08T09:45:29.027Z"
   },
   {
    "duration": 4,
    "start_time": "2023-12-08T09:45:29.040Z"
   },
   {
    "duration": 10,
    "start_time": "2023-12-08T09:45:29.045Z"
   },
   {
    "duration": 9,
    "start_time": "2023-12-08T09:45:29.056Z"
   },
   {
    "duration": 19,
    "start_time": "2023-12-08T09:45:29.067Z"
   },
   {
    "duration": 14,
    "start_time": "2023-12-08T09:45:29.087Z"
   },
   {
    "duration": 15,
    "start_time": "2023-12-08T09:45:29.102Z"
   },
   {
    "duration": 16,
    "start_time": "2023-12-08T09:45:29.118Z"
   },
   {
    "duration": 4,
    "start_time": "2023-12-08T09:45:29.135Z"
   },
   {
    "duration": 6,
    "start_time": "2023-12-08T09:45:29.140Z"
   },
   {
    "duration": 8,
    "start_time": "2023-12-08T09:45:29.148Z"
   },
   {
    "duration": 5,
    "start_time": "2023-12-08T09:45:29.157Z"
   },
   {
    "duration": 10,
    "start_time": "2023-12-08T09:45:29.163Z"
   },
   {
    "duration": 15,
    "start_time": "2023-12-08T09:45:29.175Z"
   },
   {
    "duration": 7,
    "start_time": "2023-12-08T09:45:29.191Z"
   },
   {
    "duration": 17,
    "start_time": "2023-12-08T09:45:29.199Z"
   },
   {
    "duration": 8,
    "start_time": "2023-12-08T09:45:29.217Z"
   },
   {
    "duration": 3,
    "start_time": "2023-12-08T09:45:29.226Z"
   },
   {
    "duration": 5,
    "start_time": "2023-12-08T09:45:29.231Z"
   },
   {
    "duration": 4,
    "start_time": "2023-12-08T09:45:29.237Z"
   },
   {
    "duration": 5,
    "start_time": "2023-12-08T09:45:29.243Z"
   },
   {
    "duration": 5,
    "start_time": "2023-12-08T09:45:29.249Z"
   },
   {
    "duration": 5,
    "start_time": "2023-12-08T09:45:29.256Z"
   },
   {
    "duration": 154,
    "start_time": "2023-12-08T09:45:29.263Z"
   },
   {
    "duration": 12,
    "start_time": "2023-12-08T09:45:29.419Z"
   },
   {
    "duration": 2,
    "start_time": "2023-12-08T09:45:29.432Z"
   },
   {
    "duration": 10,
    "start_time": "2023-12-08T09:45:29.436Z"
   },
   {
    "duration": 8,
    "start_time": "2023-12-08T09:45:29.447Z"
   },
   {
    "duration": 10,
    "start_time": "2023-12-08T09:45:29.460Z"
   },
   {
    "duration": 4,
    "start_time": "2023-12-08T09:45:29.471Z"
   },
   {
    "duration": 40,
    "start_time": "2023-12-08T09:45:29.476Z"
   },
   {
    "duration": 5,
    "start_time": "2023-12-08T09:45:29.517Z"
   },
   {
    "duration": 15,
    "start_time": "2023-12-08T09:45:29.524Z"
   },
   {
    "duration": 153,
    "start_time": "2023-12-08T09:45:29.541Z"
   },
   {
    "duration": 6,
    "start_time": "2023-12-08T09:45:29.696Z"
   },
   {
    "duration": 125,
    "start_time": "2023-12-08T09:45:29.703Z"
   },
   {
    "duration": 5,
    "start_time": "2023-12-08T09:45:29.830Z"
   },
   {
    "duration": 307,
    "start_time": "2023-12-08T09:45:29.836Z"
   },
   {
    "duration": 246,
    "start_time": "2023-12-08T09:45:30.144Z"
   },
   {
    "duration": 221,
    "start_time": "2023-12-08T09:45:30.391Z"
   },
   {
    "duration": 8,
    "start_time": "2023-12-08T09:45:30.614Z"
   },
   {
    "duration": 40,
    "start_time": "2023-12-08T09:45:30.623Z"
   },
   {
    "duration": 52,
    "start_time": "2023-12-08T09:45:30.664Z"
   },
   {
    "duration": 34,
    "start_time": "2023-12-08T09:45:30.717Z"
   },
   {
    "duration": 31,
    "start_time": "2023-12-08T09:45:30.752Z"
   },
   {
    "duration": 74,
    "start_time": "2023-12-08T09:45:30.784Z"
   },
   {
    "duration": 40,
    "start_time": "2023-12-08T09:45:30.860Z"
   },
   {
    "duration": 231,
    "start_time": "2023-12-08T09:45:30.901Z"
   },
   {
    "duration": 4,
    "start_time": "2023-12-08T09:45:31.134Z"
   },
   {
    "duration": 253,
    "start_time": "2023-12-08T09:45:31.139Z"
   },
   {
    "duration": 4,
    "start_time": "2023-12-08T09:45:31.394Z"
   },
   {
    "duration": 241,
    "start_time": "2023-12-08T09:45:31.399Z"
   },
   {
    "duration": 4,
    "start_time": "2023-12-08T09:45:31.641Z"
   },
   {
    "duration": 219,
    "start_time": "2023-12-08T09:45:31.646Z"
   },
   {
    "duration": 4,
    "start_time": "2023-12-08T09:45:31.866Z"
   },
   {
    "duration": 32,
    "start_time": "2023-12-08T09:45:31.871Z"
   },
   {
    "duration": 61,
    "start_time": "2023-12-08T09:45:31.904Z"
   },
   {
    "duration": 23,
    "start_time": "2023-12-08T09:45:31.966Z"
   },
   {
    "duration": 23,
    "start_time": "2023-12-08T09:45:31.990Z"
   },
   {
    "duration": 27,
    "start_time": "2023-12-08T09:45:32.014Z"
   },
   {
    "duration": 33,
    "start_time": "2023-12-08T09:45:32.042Z"
   },
   {
    "duration": 21,
    "start_time": "2023-12-08T09:45:32.076Z"
   },
   {
    "duration": 23,
    "start_time": "2023-12-08T09:45:32.098Z"
   },
   {
    "duration": 37,
    "start_time": "2023-12-08T09:45:32.122Z"
   },
   {
    "duration": 109,
    "start_time": "2023-12-08T09:45:32.160Z"
   },
   {
    "duration": 1014,
    "start_time": "2023-12-08T09:54:41.989Z"
   },
   {
    "duration": 68,
    "start_time": "2023-12-08T09:54:43.005Z"
   },
   {
    "duration": 10,
    "start_time": "2023-12-08T09:54:43.074Z"
   },
   {
    "duration": 11,
    "start_time": "2023-12-08T09:54:43.086Z"
   },
   {
    "duration": 15,
    "start_time": "2023-12-08T09:54:43.098Z"
   },
   {
    "duration": 13,
    "start_time": "2023-12-08T09:54:43.114Z"
   },
   {
    "duration": 13,
    "start_time": "2023-12-08T09:54:43.128Z"
   },
   {
    "duration": 14,
    "start_time": "2023-12-08T09:54:43.142Z"
   },
   {
    "duration": 5,
    "start_time": "2023-12-08T09:54:43.157Z"
   },
   {
    "duration": 9,
    "start_time": "2023-12-08T09:54:43.164Z"
   },
   {
    "duration": 13,
    "start_time": "2023-12-08T09:54:43.175Z"
   },
   {
    "duration": 6,
    "start_time": "2023-12-08T09:54:43.189Z"
   },
   {
    "duration": 24,
    "start_time": "2023-12-08T09:54:43.196Z"
   },
   {
    "duration": 8,
    "start_time": "2023-12-08T09:54:43.222Z"
   },
   {
    "duration": 13,
    "start_time": "2023-12-08T09:54:43.231Z"
   },
   {
    "duration": 9,
    "start_time": "2023-12-08T09:54:43.245Z"
   },
   {
    "duration": 9,
    "start_time": "2023-12-08T09:54:43.255Z"
   },
   {
    "duration": 13,
    "start_time": "2023-12-08T09:54:43.265Z"
   },
   {
    "duration": 4,
    "start_time": "2023-12-08T09:54:43.280Z"
   },
   {
    "duration": 28,
    "start_time": "2023-12-08T09:54:43.286Z"
   },
   {
    "duration": 4,
    "start_time": "2023-12-08T09:54:43.315Z"
   },
   {
    "duration": 5,
    "start_time": "2023-12-08T09:54:43.321Z"
   },
   {
    "duration": 5,
    "start_time": "2023-12-08T09:54:43.327Z"
   },
   {
    "duration": 5,
    "start_time": "2023-12-08T09:54:43.333Z"
   },
   {
    "duration": 7,
    "start_time": "2023-12-08T09:54:43.339Z"
   },
   {
    "duration": 9,
    "start_time": "2023-12-08T09:54:43.347Z"
   },
   {
    "duration": 6,
    "start_time": "2023-12-08T09:54:43.357Z"
   },
   {
    "duration": 7,
    "start_time": "2023-12-08T09:54:43.366Z"
   },
   {
    "duration": 44,
    "start_time": "2023-12-08T09:54:43.375Z"
   },
   {
    "duration": 3,
    "start_time": "2023-12-08T09:54:43.420Z"
   },
   {
    "duration": 7,
    "start_time": "2023-12-08T09:54:43.424Z"
   },
   {
    "duration": 4,
    "start_time": "2023-12-08T09:54:43.432Z"
   },
   {
    "duration": 5,
    "start_time": "2023-12-08T09:54:43.437Z"
   },
   {
    "duration": 4,
    "start_time": "2023-12-08T09:54:43.443Z"
   },
   {
    "duration": 5,
    "start_time": "2023-12-08T09:54:43.448Z"
   },
   {
    "duration": 147,
    "start_time": "2023-12-08T09:54:43.454Z"
   },
   {
    "duration": 18,
    "start_time": "2023-12-08T09:54:43.603Z"
   },
   {
    "duration": 2,
    "start_time": "2023-12-08T09:54:43.622Z"
   },
   {
    "duration": 14,
    "start_time": "2023-12-08T09:54:43.625Z"
   },
   {
    "duration": 13,
    "start_time": "2023-12-08T09:54:43.640Z"
   },
   {
    "duration": 5,
    "start_time": "2023-12-08T09:54:43.654Z"
   },
   {
    "duration": 4,
    "start_time": "2023-12-08T09:54:43.660Z"
   },
   {
    "duration": 6,
    "start_time": "2023-12-08T09:54:43.665Z"
   },
   {
    "duration": 11,
    "start_time": "2023-12-08T09:54:43.673Z"
   },
   {
    "duration": 11,
    "start_time": "2023-12-08T09:54:43.685Z"
   },
   {
    "duration": 165,
    "start_time": "2023-12-08T09:54:43.697Z"
   },
   {
    "duration": 5,
    "start_time": "2023-12-08T09:54:43.864Z"
   },
   {
    "duration": 112,
    "start_time": "2023-12-08T09:54:43.870Z"
   },
   {
    "duration": 5,
    "start_time": "2023-12-08T09:54:43.983Z"
   },
   {
    "duration": 278,
    "start_time": "2023-12-08T09:54:43.989Z"
   },
   {
    "duration": 220,
    "start_time": "2023-12-08T09:54:44.269Z"
   },
   {
    "duration": 217,
    "start_time": "2023-12-08T09:54:44.490Z"
   },
   {
    "duration": 10,
    "start_time": "2023-12-08T09:54:44.709Z"
   },
   {
    "duration": 10,
    "start_time": "2023-12-08T09:54:44.720Z"
   },
   {
    "duration": 12,
    "start_time": "2023-12-08T09:54:44.732Z"
   },
   {
    "duration": 50,
    "start_time": "2023-12-08T09:54:44.745Z"
   },
   {
    "duration": 23,
    "start_time": "2023-12-08T09:54:44.796Z"
   },
   {
    "duration": 5,
    "start_time": "2023-12-08T09:54:44.821Z"
   },
   {
    "duration": 18,
    "start_time": "2023-12-08T09:54:44.827Z"
   },
   {
    "duration": 205,
    "start_time": "2023-12-08T09:54:44.846Z"
   },
   {
    "duration": 5,
    "start_time": "2023-12-08T09:54:45.052Z"
   },
   {
    "duration": 251,
    "start_time": "2023-12-08T09:54:45.058Z"
   },
   {
    "duration": 7,
    "start_time": "2023-12-08T09:54:45.310Z"
   },
   {
    "duration": 215,
    "start_time": "2023-12-08T09:54:45.318Z"
   },
   {
    "duration": 4,
    "start_time": "2023-12-08T09:54:45.535Z"
   },
   {
    "duration": 214,
    "start_time": "2023-12-08T09:54:45.540Z"
   },
   {
    "duration": 3,
    "start_time": "2023-12-08T09:54:45.756Z"
   },
   {
    "duration": 20,
    "start_time": "2023-12-08T09:54:45.761Z"
   },
   {
    "duration": 46,
    "start_time": "2023-12-08T09:54:45.782Z"
   },
   {
    "duration": 22,
    "start_time": "2023-12-08T09:54:45.829Z"
   },
   {
    "duration": 39,
    "start_time": "2023-12-08T09:54:45.853Z"
   },
   {
    "duration": 16,
    "start_time": "2023-12-08T09:54:45.893Z"
   },
   {
    "duration": 28,
    "start_time": "2023-12-08T09:54:45.910Z"
   },
   {
    "duration": 9,
    "start_time": "2023-12-08T09:54:45.940Z"
   },
   {
    "duration": 14,
    "start_time": "2023-12-08T09:54:45.950Z"
   },
   {
    "duration": 17,
    "start_time": "2023-12-08T09:54:45.966Z"
   },
   {
    "duration": 88,
    "start_time": "2023-12-08T09:54:45.985Z"
   },
   {
    "duration": 49,
    "start_time": "2023-12-08T11:29:26.522Z"
   },
   {
    "duration": 8,
    "start_time": "2023-12-08T11:30:05.019Z"
   },
   {
    "duration": 1369,
    "start_time": "2023-12-08T11:30:12.893Z"
   },
   {
    "duration": 307,
    "start_time": "2023-12-08T11:30:14.264Z"
   },
   {
    "duration": 13,
    "start_time": "2023-12-08T11:30:14.572Z"
   },
   {
    "duration": 11,
    "start_time": "2023-12-08T11:30:14.587Z"
   },
   {
    "duration": 14,
    "start_time": "2023-12-08T11:30:14.600Z"
   },
   {
    "duration": 8,
    "start_time": "2023-12-08T11:30:14.615Z"
   },
   {
    "duration": 12,
    "start_time": "2023-12-08T11:30:14.624Z"
   },
   {
    "duration": 16,
    "start_time": "2023-12-08T11:30:14.637Z"
   },
   {
    "duration": 6,
    "start_time": "2023-12-08T11:30:14.655Z"
   },
   {
    "duration": 40,
    "start_time": "2023-12-08T11:30:14.664Z"
   },
   {
    "duration": 17,
    "start_time": "2023-12-08T11:30:14.706Z"
   },
   {
    "duration": 10,
    "start_time": "2023-12-08T11:30:14.725Z"
   },
   {
    "duration": 10,
    "start_time": "2023-12-08T11:30:14.737Z"
   },
   {
    "duration": 6,
    "start_time": "2023-12-08T11:30:14.749Z"
   },
   {
    "duration": 8,
    "start_time": "2023-12-08T11:30:14.756Z"
   },
   {
    "duration": 37,
    "start_time": "2023-12-08T11:30:14.766Z"
   },
   {
    "duration": 14,
    "start_time": "2023-12-08T11:30:14.805Z"
   },
   {
    "duration": 13,
    "start_time": "2023-12-08T11:30:14.820Z"
   },
   {
    "duration": 11,
    "start_time": "2023-12-08T11:30:14.835Z"
   },
   {
    "duration": 16,
    "start_time": "2023-12-08T11:30:14.847Z"
   },
   {
    "duration": 26,
    "start_time": "2023-12-08T11:30:14.865Z"
   },
   {
    "duration": 8,
    "start_time": "2023-12-08T11:30:14.893Z"
   },
   {
    "duration": 27,
    "start_time": "2023-12-08T11:30:14.903Z"
   },
   {
    "duration": 6,
    "start_time": "2023-12-08T11:30:14.932Z"
   },
   {
    "duration": 7,
    "start_time": "2023-12-08T11:30:14.940Z"
   },
   {
    "duration": 14,
    "start_time": "2023-12-08T11:30:14.948Z"
   },
   {
    "duration": 6,
    "start_time": "2023-12-08T11:30:14.963Z"
   },
   {
    "duration": 11,
    "start_time": "2023-12-08T11:30:14.972Z"
   },
   {
    "duration": 26,
    "start_time": "2023-12-08T11:30:14.985Z"
   },
   {
    "duration": 95,
    "start_time": "2023-12-08T11:30:15.013Z"
   },
   {
    "duration": 37,
    "start_time": "2023-12-08T11:30:15.110Z"
   },
   {
    "duration": 13,
    "start_time": "2023-12-08T11:30:15.149Z"
   },
   {
    "duration": 11,
    "start_time": "2023-12-08T11:30:15.163Z"
   },
   {
    "duration": 36,
    "start_time": "2023-12-08T11:30:15.175Z"
   },
   {
    "duration": 19,
    "start_time": "2023-12-08T11:30:15.213Z"
   },
   {
    "duration": 166,
    "start_time": "2023-12-08T11:30:15.234Z"
   },
   {
    "duration": 20,
    "start_time": "2023-12-08T11:30:15.402Z"
   },
   {
    "duration": 2,
    "start_time": "2023-12-08T11:30:15.423Z"
   },
   {
    "duration": 33,
    "start_time": "2023-12-08T11:30:15.427Z"
   },
   {
    "duration": 15,
    "start_time": "2023-12-08T11:30:15.461Z"
   },
   {
    "duration": 15,
    "start_time": "2023-12-08T11:30:15.477Z"
   },
   {
    "duration": 9,
    "start_time": "2023-12-08T11:30:15.494Z"
   },
   {
    "duration": 9,
    "start_time": "2023-12-08T11:30:15.505Z"
   },
   {
    "duration": 10,
    "start_time": "2023-12-08T11:30:15.515Z"
   },
   {
    "duration": 13,
    "start_time": "2023-12-08T11:30:15.526Z"
   },
   {
    "duration": 168,
    "start_time": "2023-12-08T11:30:15.541Z"
   },
   {
    "duration": 6,
    "start_time": "2023-12-08T11:30:15.711Z"
   },
   {
    "duration": 140,
    "start_time": "2023-12-08T11:30:15.719Z"
   },
   {
    "duration": 103,
    "start_time": "2023-12-08T11:30:15.860Z"
   },
   {
    "duration": 0,
    "start_time": "2023-12-08T11:30:15.965Z"
   },
   {
    "duration": 0,
    "start_time": "2023-12-08T11:30:15.966Z"
   },
   {
    "duration": 0,
    "start_time": "2023-12-08T11:30:15.968Z"
   },
   {
    "duration": 0,
    "start_time": "2023-12-08T11:30:15.969Z"
   },
   {
    "duration": 0,
    "start_time": "2023-12-08T11:30:15.970Z"
   },
   {
    "duration": 0,
    "start_time": "2023-12-08T11:30:15.971Z"
   },
   {
    "duration": 0,
    "start_time": "2023-12-08T11:30:15.973Z"
   },
   {
    "duration": 0,
    "start_time": "2023-12-08T11:30:15.974Z"
   },
   {
    "duration": 0,
    "start_time": "2023-12-08T11:30:15.975Z"
   },
   {
    "duration": 0,
    "start_time": "2023-12-08T11:30:16.000Z"
   },
   {
    "duration": 0,
    "start_time": "2023-12-08T11:30:16.001Z"
   },
   {
    "duration": 0,
    "start_time": "2023-12-08T11:30:16.003Z"
   },
   {
    "duration": 0,
    "start_time": "2023-12-08T11:30:16.004Z"
   },
   {
    "duration": 0,
    "start_time": "2023-12-08T11:30:16.006Z"
   },
   {
    "duration": 0,
    "start_time": "2023-12-08T11:30:16.007Z"
   },
   {
    "duration": 0,
    "start_time": "2023-12-08T11:30:16.008Z"
   },
   {
    "duration": 0,
    "start_time": "2023-12-08T11:30:16.009Z"
   },
   {
    "duration": 0,
    "start_time": "2023-12-08T11:30:16.011Z"
   },
   {
    "duration": 0,
    "start_time": "2023-12-08T11:30:16.012Z"
   },
   {
    "duration": 0,
    "start_time": "2023-12-08T11:30:16.013Z"
   },
   {
    "duration": 0,
    "start_time": "2023-12-08T11:30:16.014Z"
   },
   {
    "duration": 0,
    "start_time": "2023-12-08T11:30:16.015Z"
   },
   {
    "duration": 0,
    "start_time": "2023-12-08T11:30:16.016Z"
   },
   {
    "duration": 0,
    "start_time": "2023-12-08T11:30:16.017Z"
   },
   {
    "duration": 0,
    "start_time": "2023-12-08T11:30:16.018Z"
   },
   {
    "duration": 0,
    "start_time": "2023-12-08T11:30:16.019Z"
   },
   {
    "duration": 0,
    "start_time": "2023-12-08T11:30:16.020Z"
   },
   {
    "duration": 0,
    "start_time": "2023-12-08T11:30:16.021Z"
   },
   {
    "duration": 0,
    "start_time": "2023-12-08T11:30:16.022Z"
   },
   {
    "duration": 129,
    "start_time": "2023-12-08T11:31:01.146Z"
   },
   {
    "duration": 131,
    "start_time": "2023-12-08T11:34:05.335Z"
   },
   {
    "duration": 5,
    "start_time": "2023-12-08T11:34:07.570Z"
   },
   {
    "duration": 302,
    "start_time": "2023-12-08T11:34:08.043Z"
   },
   {
    "duration": 276,
    "start_time": "2023-12-08T11:34:37.294Z"
   },
   {
    "duration": 319,
    "start_time": "2023-12-08T11:34:46.784Z"
   },
   {
    "duration": 1065,
    "start_time": "2023-12-08T11:35:04.595Z"
   },
   {
    "duration": 71,
    "start_time": "2023-12-08T11:35:05.662Z"
   },
   {
    "duration": 18,
    "start_time": "2023-12-08T11:35:05.735Z"
   },
   {
    "duration": 34,
    "start_time": "2023-12-08T11:35:05.755Z"
   },
   {
    "duration": 54,
    "start_time": "2023-12-08T11:35:05.791Z"
   },
   {
    "duration": 41,
    "start_time": "2023-12-08T11:35:05.847Z"
   },
   {
    "duration": 36,
    "start_time": "2023-12-08T11:35:05.889Z"
   },
   {
    "duration": 71,
    "start_time": "2023-12-08T11:35:05.927Z"
   },
   {
    "duration": 18,
    "start_time": "2023-12-08T11:35:06.000Z"
   },
   {
    "duration": 31,
    "start_time": "2023-12-08T11:35:06.020Z"
   },
   {
    "duration": 58,
    "start_time": "2023-12-08T11:35:06.053Z"
   },
   {
    "duration": 52,
    "start_time": "2023-12-08T11:35:06.113Z"
   },
   {
    "duration": 26,
    "start_time": "2023-12-08T11:35:06.166Z"
   },
   {
    "duration": 53,
    "start_time": "2023-12-08T11:35:06.194Z"
   },
   {
    "duration": 27,
    "start_time": "2023-12-08T11:35:06.248Z"
   },
   {
    "duration": 28,
    "start_time": "2023-12-08T11:35:06.276Z"
   },
   {
    "duration": 64,
    "start_time": "2023-12-08T11:35:06.306Z"
   },
   {
    "duration": 16,
    "start_time": "2023-12-08T11:35:06.372Z"
   },
   {
    "duration": 14,
    "start_time": "2023-12-08T11:35:06.390Z"
   },
   {
    "duration": 25,
    "start_time": "2023-12-08T11:35:06.406Z"
   },
   {
    "duration": 14,
    "start_time": "2023-12-08T11:35:06.432Z"
   },
   {
    "duration": 30,
    "start_time": "2023-12-08T11:35:06.447Z"
   },
   {
    "duration": 23,
    "start_time": "2023-12-08T11:35:06.478Z"
   },
   {
    "duration": 35,
    "start_time": "2023-12-08T11:35:06.502Z"
   },
   {
    "duration": 10,
    "start_time": "2023-12-08T11:35:06.538Z"
   },
   {
    "duration": 25,
    "start_time": "2023-12-08T11:35:06.549Z"
   },
   {
    "duration": 23,
    "start_time": "2023-12-08T11:35:06.575Z"
   },
   {
    "duration": 42,
    "start_time": "2023-12-08T11:35:06.602Z"
   },
   {
    "duration": 32,
    "start_time": "2023-12-08T11:35:06.645Z"
   },
   {
    "duration": 5,
    "start_time": "2023-12-08T11:35:06.678Z"
   },
   {
    "duration": 26,
    "start_time": "2023-12-08T11:35:06.685Z"
   },
   {
    "duration": 19,
    "start_time": "2023-12-08T11:35:06.713Z"
   },
   {
    "duration": 26,
    "start_time": "2023-12-08T11:35:06.733Z"
   },
   {
    "duration": 51,
    "start_time": "2023-12-08T11:35:06.761Z"
   },
   {
    "duration": 28,
    "start_time": "2023-12-08T11:35:06.814Z"
   },
   {
    "duration": 162,
    "start_time": "2023-12-08T11:35:06.843Z"
   },
   {
    "duration": 13,
    "start_time": "2023-12-08T11:35:07.007Z"
   },
   {
    "duration": 15,
    "start_time": "2023-12-08T11:35:07.022Z"
   },
   {
    "duration": 38,
    "start_time": "2023-12-08T11:35:07.038Z"
   },
   {
    "duration": 67,
    "start_time": "2023-12-08T11:35:07.078Z"
   },
   {
    "duration": 40,
    "start_time": "2023-12-08T11:35:07.147Z"
   },
   {
    "duration": 42,
    "start_time": "2023-12-08T11:35:07.188Z"
   },
   {
    "duration": 38,
    "start_time": "2023-12-08T11:35:07.232Z"
   },
   {
    "duration": 46,
    "start_time": "2023-12-08T11:35:07.271Z"
   },
   {
    "duration": 25,
    "start_time": "2023-12-08T11:35:07.319Z"
   },
   {
    "duration": 201,
    "start_time": "2023-12-08T11:35:07.346Z"
   },
   {
    "duration": 6,
    "start_time": "2023-12-08T11:35:07.548Z"
   },
   {
    "duration": 159,
    "start_time": "2023-12-08T11:35:07.555Z"
   },
   {
    "duration": 131,
    "start_time": "2023-12-08T11:35:07.716Z"
   },
   {
    "duration": 5,
    "start_time": "2023-12-08T11:35:07.848Z"
   },
   {
    "duration": 330,
    "start_time": "2023-12-08T11:35:07.854Z"
   },
   {
    "duration": 275,
    "start_time": "2023-12-08T11:35:08.186Z"
   },
   {
    "duration": 338,
    "start_time": "2023-12-08T11:35:08.463Z"
   },
   {
    "duration": 10,
    "start_time": "2023-12-08T11:35:08.805Z"
   },
   {
    "duration": 14,
    "start_time": "2023-12-08T11:35:08.817Z"
   },
   {
    "duration": 17,
    "start_time": "2023-12-08T11:35:08.833Z"
   },
   {
    "duration": 9,
    "start_time": "2023-12-08T11:35:08.851Z"
   },
   {
    "duration": 12,
    "start_time": "2023-12-08T11:35:08.861Z"
   },
   {
    "duration": 25,
    "start_time": "2023-12-08T11:35:08.875Z"
   },
   {
    "duration": 11,
    "start_time": "2023-12-08T11:35:08.902Z"
   },
   {
    "duration": 273,
    "start_time": "2023-12-08T11:35:08.915Z"
   },
   {
    "duration": 12,
    "start_time": "2023-12-08T11:35:09.189Z"
   },
   {
    "duration": 273,
    "start_time": "2023-12-08T11:35:09.203Z"
   },
   {
    "duration": 5,
    "start_time": "2023-12-08T11:35:09.477Z"
   },
   {
    "duration": 268,
    "start_time": "2023-12-08T11:35:09.483Z"
   },
   {
    "duration": 5,
    "start_time": "2023-12-08T11:35:09.752Z"
   },
   {
    "duration": 250,
    "start_time": "2023-12-08T11:35:09.759Z"
   },
   {
    "duration": 5,
    "start_time": "2023-12-08T11:35:10.011Z"
   },
   {
    "duration": 29,
    "start_time": "2023-12-08T11:35:10.017Z"
   },
   {
    "duration": 14,
    "start_time": "2023-12-08T11:35:10.047Z"
   },
   {
    "duration": 8,
    "start_time": "2023-12-08T11:35:10.062Z"
   },
   {
    "duration": 18,
    "start_time": "2023-12-08T11:35:10.072Z"
   },
   {
    "duration": 18,
    "start_time": "2023-12-08T11:35:10.092Z"
   },
   {
    "duration": 19,
    "start_time": "2023-12-08T11:35:10.112Z"
   },
   {
    "duration": 9,
    "start_time": "2023-12-08T11:35:10.132Z"
   },
   {
    "duration": 13,
    "start_time": "2023-12-08T11:35:10.143Z"
   },
   {
    "duration": 17,
    "start_time": "2023-12-08T11:35:10.158Z"
   },
   {
    "duration": 106,
    "start_time": "2023-12-08T11:35:10.178Z"
   },
   {
    "duration": 6,
    "start_time": "2023-12-08T11:37:40.481Z"
   },
   {
    "duration": 252,
    "start_time": "2023-12-08T11:38:06.597Z"
   },
   {
    "duration": 426,
    "start_time": "2023-12-08T11:41:26.663Z"
   },
   {
    "duration": 13,
    "start_time": "2023-12-08T11:42:00.021Z"
   },
   {
    "duration": 11,
    "start_time": "2023-12-08T11:42:03.250Z"
   },
   {
    "duration": 324,
    "start_time": "2023-12-08T11:42:07.271Z"
   },
   {
    "duration": 314,
    "start_time": "2023-12-08T11:44:03.928Z"
   },
   {
    "duration": 258,
    "start_time": "2023-12-08T11:44:39.525Z"
   },
   {
    "duration": 265,
    "start_time": "2023-12-08T12:01:08.769Z"
   },
   {
    "duration": 9,
    "start_time": "2023-12-08T12:04:17.172Z"
   },
   {
    "duration": 9,
    "start_time": "2023-12-08T12:04:18.300Z"
   },
   {
    "duration": 264,
    "start_time": "2023-12-08T12:04:34.025Z"
   },
   {
    "duration": 10,
    "start_time": "2023-12-08T12:04:34.291Z"
   },
   {
    "duration": 350,
    "start_time": "2023-12-08T12:04:34.535Z"
   },
   {
    "duration": 12,
    "start_time": "2023-12-08T12:04:34.887Z"
   },
   {
    "duration": 245,
    "start_time": "2023-12-08T12:04:35.891Z"
   },
   {
    "duration": 6,
    "start_time": "2023-12-08T12:04:36.306Z"
   },
   {
    "duration": 240,
    "start_time": "2023-12-08T12:04:36.844Z"
   },
   {
    "duration": 5,
    "start_time": "2023-12-08T12:04:38.216Z"
   },
   {
    "duration": 249,
    "start_time": "2023-12-08T12:04:41.350Z"
   },
   {
    "duration": 238,
    "start_time": "2023-12-08T12:04:43.185Z"
   },
   {
    "duration": 1096,
    "start_time": "2023-12-08T12:04:50.846Z"
   },
   {
    "duration": 70,
    "start_time": "2023-12-08T12:04:51.943Z"
   },
   {
    "duration": 12,
    "start_time": "2023-12-08T12:04:52.015Z"
   },
   {
    "duration": 22,
    "start_time": "2023-12-08T12:04:52.029Z"
   },
   {
    "duration": 23,
    "start_time": "2023-12-08T12:04:52.052Z"
   },
   {
    "duration": 21,
    "start_time": "2023-12-08T12:04:52.077Z"
   },
   {
    "duration": 31,
    "start_time": "2023-12-08T12:04:52.100Z"
   },
   {
    "duration": 32,
    "start_time": "2023-12-08T12:04:52.133Z"
   },
   {
    "duration": 7,
    "start_time": "2023-12-08T12:04:52.167Z"
   },
   {
    "duration": 20,
    "start_time": "2023-12-08T12:04:52.176Z"
   },
   {
    "duration": 39,
    "start_time": "2023-12-08T12:04:52.198Z"
   },
   {
    "duration": 55,
    "start_time": "2023-12-08T12:04:52.238Z"
   },
   {
    "duration": 43,
    "start_time": "2023-12-08T12:04:52.294Z"
   },
   {
    "duration": 14,
    "start_time": "2023-12-08T12:04:52.339Z"
   },
   {
    "duration": 19,
    "start_time": "2023-12-08T12:04:52.355Z"
   },
   {
    "duration": 35,
    "start_time": "2023-12-08T12:04:52.376Z"
   },
   {
    "duration": 11,
    "start_time": "2023-12-08T12:04:52.412Z"
   },
   {
    "duration": 18,
    "start_time": "2023-12-08T12:04:52.425Z"
   },
   {
    "duration": 8,
    "start_time": "2023-12-08T12:04:52.444Z"
   },
   {
    "duration": 33,
    "start_time": "2023-12-08T12:04:52.454Z"
   },
   {
    "duration": 12,
    "start_time": "2023-12-08T12:04:52.488Z"
   },
   {
    "duration": 28,
    "start_time": "2023-12-08T12:04:52.501Z"
   },
   {
    "duration": 24,
    "start_time": "2023-12-08T12:04:52.530Z"
   },
   {
    "duration": 36,
    "start_time": "2023-12-08T12:04:52.555Z"
   },
   {
    "duration": 24,
    "start_time": "2023-12-08T12:04:52.592Z"
   },
   {
    "duration": 20,
    "start_time": "2023-12-08T12:04:52.617Z"
   },
   {
    "duration": 23,
    "start_time": "2023-12-08T12:04:52.638Z"
   },
   {
    "duration": 39,
    "start_time": "2023-12-08T12:04:52.664Z"
   },
   {
    "duration": 37,
    "start_time": "2023-12-08T12:04:52.704Z"
   },
   {
    "duration": 36,
    "start_time": "2023-12-08T12:04:52.743Z"
   },
   {
    "duration": 14,
    "start_time": "2023-12-08T12:04:52.780Z"
   },
   {
    "duration": 32,
    "start_time": "2023-12-08T12:04:52.796Z"
   },
   {
    "duration": 8,
    "start_time": "2023-12-08T12:04:52.830Z"
   },
   {
    "duration": 29,
    "start_time": "2023-12-08T12:04:52.839Z"
   },
   {
    "duration": 26,
    "start_time": "2023-12-08T12:04:52.870Z"
   },
   {
    "duration": 146,
    "start_time": "2023-12-08T12:04:52.898Z"
   },
   {
    "duration": 13,
    "start_time": "2023-12-08T12:04:53.046Z"
   },
   {
    "duration": 7,
    "start_time": "2023-12-08T12:04:53.061Z"
   },
   {
    "duration": 17,
    "start_time": "2023-12-08T12:04:53.069Z"
   },
   {
    "duration": 16,
    "start_time": "2023-12-08T12:04:53.088Z"
   },
   {
    "duration": 28,
    "start_time": "2023-12-08T12:04:53.106Z"
   },
   {
    "duration": 19,
    "start_time": "2023-12-08T12:04:53.136Z"
   },
   {
    "duration": 14,
    "start_time": "2023-12-08T12:04:53.157Z"
   },
   {
    "duration": 9,
    "start_time": "2023-12-08T12:04:53.172Z"
   },
   {
    "duration": 39,
    "start_time": "2023-12-08T12:04:53.183Z"
   },
   {
    "duration": 187,
    "start_time": "2023-12-08T12:04:53.223Z"
   },
   {
    "duration": 6,
    "start_time": "2023-12-08T12:04:53.411Z"
   },
   {
    "duration": 157,
    "start_time": "2023-12-08T12:04:53.419Z"
   },
   {
    "duration": 124,
    "start_time": "2023-12-08T12:04:53.578Z"
   },
   {
    "duration": 5,
    "start_time": "2023-12-08T12:04:53.703Z"
   },
   {
    "duration": 281,
    "start_time": "2023-12-08T12:04:53.710Z"
   },
   {
    "duration": 253,
    "start_time": "2023-12-08T12:04:53.998Z"
   },
   {
    "duration": 357,
    "start_time": "2023-12-08T12:04:54.253Z"
   },
   {
    "duration": 8,
    "start_time": "2023-12-08T12:04:54.612Z"
   },
   {
    "duration": 38,
    "start_time": "2023-12-08T12:04:54.622Z"
   },
   {
    "duration": 53,
    "start_time": "2023-12-08T12:04:54.662Z"
   },
   {
    "duration": 19,
    "start_time": "2023-12-08T12:04:54.717Z"
   },
   {
    "duration": 43,
    "start_time": "2023-12-08T12:04:54.738Z"
   },
   {
    "duration": 55,
    "start_time": "2023-12-08T12:04:54.782Z"
   },
   {
    "duration": 28,
    "start_time": "2023-12-08T12:04:54.838Z"
   },
   {
    "duration": 275,
    "start_time": "2023-12-08T12:04:54.867Z"
   },
   {
    "duration": 5,
    "start_time": "2023-12-08T12:04:55.144Z"
   },
   {
    "duration": 281,
    "start_time": "2023-12-08T12:04:55.150Z"
   },
   {
    "duration": 4,
    "start_time": "2023-12-08T12:04:55.433Z"
   },
   {
    "duration": 274,
    "start_time": "2023-12-08T12:04:55.438Z"
   },
   {
    "duration": 6,
    "start_time": "2023-12-08T12:04:55.713Z"
   },
   {
    "duration": 266,
    "start_time": "2023-12-08T12:04:55.721Z"
   },
   {
    "duration": 10,
    "start_time": "2023-12-08T12:04:55.989Z"
   },
   {
    "duration": 15,
    "start_time": "2023-12-08T12:04:56.001Z"
   },
   {
    "duration": 19,
    "start_time": "2023-12-08T12:04:56.018Z"
   },
   {
    "duration": 34,
    "start_time": "2023-12-08T12:04:56.038Z"
   },
   {
    "duration": 14,
    "start_time": "2023-12-08T12:04:56.074Z"
   },
   {
    "duration": 20,
    "start_time": "2023-12-08T12:04:56.089Z"
   },
   {
    "duration": 40,
    "start_time": "2023-12-08T12:04:56.110Z"
   },
   {
    "duration": 20,
    "start_time": "2023-12-08T12:04:56.152Z"
   },
   {
    "duration": 10,
    "start_time": "2023-12-08T12:04:56.173Z"
   },
   {
    "duration": 8,
    "start_time": "2023-12-08T12:04:56.185Z"
   },
   {
    "duration": 89,
    "start_time": "2023-12-08T12:04:56.195Z"
   },
   {
    "duration": 64,
    "start_time": "2023-12-08T12:13:42.747Z"
   },
   {
    "duration": 174,
    "start_time": "2023-12-08T12:14:21.033Z"
   },
   {
    "duration": 289,
    "start_time": "2023-12-08T12:15:20.009Z"
   },
   {
    "duration": 444,
    "start_time": "2023-12-08T12:15:34.778Z"
   },
   {
    "duration": 459,
    "start_time": "2023-12-08T12:16:10.921Z"
   },
   {
    "duration": 428,
    "start_time": "2023-12-08T12:16:37.912Z"
   },
   {
    "duration": 544,
    "start_time": "2023-12-08T12:19:41.770Z"
   },
   {
    "duration": 462,
    "start_time": "2023-12-08T12:19:48.805Z"
   },
   {
    "duration": 440,
    "start_time": "2023-12-08T12:19:55.892Z"
   },
   {
    "duration": 480,
    "start_time": "2023-12-08T12:20:18.553Z"
   },
   {
    "duration": 572,
    "start_time": "2023-12-08T12:20:32.577Z"
   },
   {
    "duration": 9,
    "start_time": "2023-12-08T12:33:27.284Z"
   },
   {
    "duration": 3,
    "start_time": "2023-12-08T12:33:47.429Z"
   },
   {
    "duration": 17,
    "start_time": "2023-12-08T12:33:48.432Z"
   },
   {
    "duration": 15,
    "start_time": "2023-12-08T12:33:49.017Z"
   },
   {
    "duration": 4,
    "start_time": "2023-12-08T12:34:33.005Z"
   },
   {
    "duration": 8,
    "start_time": "2023-12-08T12:34:33.456Z"
   },
   {
    "duration": 6,
    "start_time": "2023-12-08T12:34:34.035Z"
   },
   {
    "duration": 735,
    "start_time": "2023-12-08T12:39:06.241Z"
   },
   {
    "duration": 690,
    "start_time": "2023-12-08T12:40:00.448Z"
   },
   {
    "duration": 1105,
    "start_time": "2023-12-08T12:40:07.642Z"
   },
   {
    "duration": 72,
    "start_time": "2023-12-08T12:40:08.749Z"
   },
   {
    "duration": 12,
    "start_time": "2023-12-08T12:40:08.823Z"
   },
   {
    "duration": 43,
    "start_time": "2023-12-08T12:40:08.837Z"
   },
   {
    "duration": 56,
    "start_time": "2023-12-08T12:40:08.881Z"
   },
   {
    "duration": 40,
    "start_time": "2023-12-08T12:40:08.938Z"
   },
   {
    "duration": 44,
    "start_time": "2023-12-08T12:40:08.980Z"
   },
   {
    "duration": 57,
    "start_time": "2023-12-08T12:40:09.026Z"
   },
   {
    "duration": 15,
    "start_time": "2023-12-08T12:40:09.085Z"
   },
   {
    "duration": 43,
    "start_time": "2023-12-08T12:40:09.103Z"
   },
   {
    "duration": 22,
    "start_time": "2023-12-08T12:40:09.148Z"
   },
   {
    "duration": 35,
    "start_time": "2023-12-08T12:40:09.172Z"
   },
   {
    "duration": 28,
    "start_time": "2023-12-08T12:40:09.208Z"
   },
   {
    "duration": 15,
    "start_time": "2023-12-08T12:40:09.237Z"
   },
   {
    "duration": 21,
    "start_time": "2023-12-08T12:40:09.254Z"
   },
   {
    "duration": 26,
    "start_time": "2023-12-08T12:40:09.276Z"
   },
   {
    "duration": 29,
    "start_time": "2023-12-08T12:40:09.303Z"
   },
   {
    "duration": 39,
    "start_time": "2023-12-08T12:40:09.334Z"
   },
   {
    "duration": 31,
    "start_time": "2023-12-08T12:40:09.375Z"
   },
   {
    "duration": 36,
    "start_time": "2023-12-08T12:40:09.408Z"
   },
   {
    "duration": 23,
    "start_time": "2023-12-08T12:40:09.446Z"
   },
   {
    "duration": 36,
    "start_time": "2023-12-08T12:40:09.470Z"
   },
   {
    "duration": 27,
    "start_time": "2023-12-08T12:40:09.507Z"
   },
   {
    "duration": 42,
    "start_time": "2023-12-08T12:40:09.536Z"
   },
   {
    "duration": 26,
    "start_time": "2023-12-08T12:40:09.579Z"
   },
   {
    "duration": 32,
    "start_time": "2023-12-08T12:40:09.607Z"
   },
   {
    "duration": 29,
    "start_time": "2023-12-08T12:40:09.640Z"
   },
   {
    "duration": 43,
    "start_time": "2023-12-08T12:40:09.673Z"
   },
   {
    "duration": 40,
    "start_time": "2023-12-08T12:40:09.717Z"
   },
   {
    "duration": 30,
    "start_time": "2023-12-08T12:40:09.758Z"
   },
   {
    "duration": 37,
    "start_time": "2023-12-08T12:40:09.789Z"
   },
   {
    "duration": 13,
    "start_time": "2023-12-08T12:40:09.827Z"
   },
   {
    "duration": 50,
    "start_time": "2023-12-08T12:40:09.841Z"
   },
   {
    "duration": 19,
    "start_time": "2023-12-08T12:40:09.892Z"
   },
   {
    "duration": 15,
    "start_time": "2023-12-08T12:40:09.912Z"
   },
   {
    "duration": 21,
    "start_time": "2023-12-08T12:40:09.928Z"
   },
   {
    "duration": 165,
    "start_time": "2023-12-08T12:40:09.950Z"
   },
   {
    "duration": 8,
    "start_time": "2023-12-08T12:40:10.117Z"
   },
   {
    "duration": 19,
    "start_time": "2023-12-08T12:40:10.126Z"
   },
   {
    "duration": 33,
    "start_time": "2023-12-08T12:40:10.146Z"
   },
   {
    "duration": 38,
    "start_time": "2023-12-08T12:40:10.180Z"
   },
   {
    "duration": 24,
    "start_time": "2023-12-08T12:40:10.220Z"
   },
   {
    "duration": 10,
    "start_time": "2023-12-08T12:40:10.245Z"
   },
   {
    "duration": 28,
    "start_time": "2023-12-08T12:40:10.256Z"
   },
   {
    "duration": 29,
    "start_time": "2023-12-08T12:40:10.286Z"
   },
   {
    "duration": 39,
    "start_time": "2023-12-08T12:40:10.317Z"
   },
   {
    "duration": 182,
    "start_time": "2023-12-08T12:40:10.357Z"
   },
   {
    "duration": 5,
    "start_time": "2023-12-08T12:40:10.540Z"
   },
   {
    "duration": 155,
    "start_time": "2023-12-08T12:40:10.547Z"
   },
   {
    "duration": 130,
    "start_time": "2023-12-08T12:40:10.703Z"
   },
   {
    "duration": 6,
    "start_time": "2023-12-08T12:40:10.834Z"
   },
   {
    "duration": 286,
    "start_time": "2023-12-08T12:40:10.841Z"
   },
   {
    "duration": 272,
    "start_time": "2023-12-08T12:40:11.128Z"
   },
   {
    "duration": 332,
    "start_time": "2023-12-08T12:40:11.402Z"
   },
   {
    "duration": 10,
    "start_time": "2023-12-08T12:40:11.736Z"
   },
   {
    "duration": 24,
    "start_time": "2023-12-08T12:40:11.747Z"
   },
   {
    "duration": 38,
    "start_time": "2023-12-08T12:40:11.773Z"
   },
   {
    "duration": 17,
    "start_time": "2023-12-08T12:40:11.813Z"
   },
   {
    "duration": 21,
    "start_time": "2023-12-08T12:40:11.832Z"
   },
   {
    "duration": 27,
    "start_time": "2023-12-08T12:40:11.855Z"
   },
   {
    "duration": 35,
    "start_time": "2023-12-08T12:40:11.884Z"
   },
   {
    "duration": 260,
    "start_time": "2023-12-08T12:40:11.921Z"
   },
   {
    "duration": 5,
    "start_time": "2023-12-08T12:40:12.183Z"
   },
   {
    "duration": 293,
    "start_time": "2023-12-08T12:40:12.190Z"
   },
   {
    "duration": 5,
    "start_time": "2023-12-08T12:40:12.484Z"
   },
   {
    "duration": 290,
    "start_time": "2023-12-08T12:40:12.490Z"
   },
   {
    "duration": 5,
    "start_time": "2023-12-08T12:40:12.781Z"
   },
   {
    "duration": 281,
    "start_time": "2023-12-08T12:40:12.788Z"
   },
   {
    "duration": 5,
    "start_time": "2023-12-08T12:40:13.071Z"
   },
   {
    "duration": 568,
    "start_time": "2023-12-08T12:40:13.078Z"
   },
   {
    "duration": 438,
    "start_time": "2023-12-08T12:40:13.648Z"
   },
   {
    "duration": 23,
    "start_time": "2023-12-08T12:40:14.088Z"
   },
   {
    "duration": 17,
    "start_time": "2023-12-08T12:40:14.114Z"
   },
   {
    "duration": 3,
    "start_time": "2023-12-08T12:40:14.132Z"
   },
   {
    "duration": 4,
    "start_time": "2023-12-08T12:40:14.136Z"
   },
   {
    "duration": 797,
    "start_time": "2023-12-08T12:40:14.142Z"
   },
   {
    "duration": 0,
    "start_time": "2023-12-08T12:40:14.941Z"
   },
   {
    "duration": 0,
    "start_time": "2023-12-08T12:40:14.942Z"
   },
   {
    "duration": 0,
    "start_time": "2023-12-08T12:40:14.943Z"
   },
   {
    "duration": 0,
    "start_time": "2023-12-08T12:40:14.944Z"
   },
   {
    "duration": 0,
    "start_time": "2023-12-08T12:40:14.945Z"
   },
   {
    "duration": 4,
    "start_time": "2023-12-08T12:41:04.093Z"
   },
   {
    "duration": 3,
    "start_time": "2023-12-08T12:41:06.139Z"
   },
   {
    "duration": 7,
    "start_time": "2023-12-08T12:41:07.860Z"
   },
   {
    "duration": 18,
    "start_time": "2023-12-08T12:41:09.630Z"
   },
   {
    "duration": 7,
    "start_time": "2023-12-08T12:42:38.324Z"
   },
   {
    "duration": 6,
    "start_time": "2023-12-08T12:42:41.304Z"
   },
   {
    "duration": 12,
    "start_time": "2023-12-08T12:45:53.327Z"
   },
   {
    "duration": 9,
    "start_time": "2023-12-08T12:50:06.737Z"
   },
   {
    "duration": 10,
    "start_time": "2023-12-08T12:51:16.796Z"
   },
   {
    "duration": 13,
    "start_time": "2023-12-08T13:11:33.532Z"
   },
   {
    "duration": 11,
    "start_time": "2023-12-08T13:21:09.871Z"
   },
   {
    "duration": 7,
    "start_time": "2023-12-08T13:21:54.957Z"
   },
   {
    "duration": 9,
    "start_time": "2023-12-08T13:21:58.542Z"
   },
   {
    "duration": 9,
    "start_time": "2023-12-08T13:24:30.693Z"
   },
   {
    "duration": 8,
    "start_time": "2023-12-08T13:25:02.630Z"
   },
   {
    "duration": 8,
    "start_time": "2023-12-08T13:26:09.939Z"
   },
   {
    "duration": 6,
    "start_time": "2023-12-08T13:54:27.769Z"
   },
   {
    "duration": 5,
    "start_time": "2023-12-08T13:54:37.720Z"
   },
   {
    "duration": 5,
    "start_time": "2023-12-08T13:54:50.340Z"
   },
   {
    "duration": 4,
    "start_time": "2023-12-08T13:54:50.923Z"
   },
   {
    "duration": 1080,
    "start_time": "2023-12-08T13:55:35.455Z"
   },
   {
    "duration": 71,
    "start_time": "2023-12-08T13:55:36.536Z"
   },
   {
    "duration": 13,
    "start_time": "2023-12-08T13:55:36.608Z"
   },
   {
    "duration": 12,
    "start_time": "2023-12-08T13:55:36.622Z"
   },
   {
    "duration": 22,
    "start_time": "2023-12-08T13:55:36.635Z"
   },
   {
    "duration": 32,
    "start_time": "2023-12-08T13:55:36.658Z"
   },
   {
    "duration": 16,
    "start_time": "2023-12-08T13:55:36.692Z"
   },
   {
    "duration": 18,
    "start_time": "2023-12-08T13:55:36.710Z"
   },
   {
    "duration": 5,
    "start_time": "2023-12-08T13:55:36.730Z"
   },
   {
    "duration": 9,
    "start_time": "2023-12-08T13:55:36.738Z"
   },
   {
    "duration": 15,
    "start_time": "2023-12-08T13:55:36.749Z"
   },
   {
    "duration": 33,
    "start_time": "2023-12-08T13:55:36.766Z"
   },
   {
    "duration": 10,
    "start_time": "2023-12-08T13:55:36.801Z"
   },
   {
    "duration": 4,
    "start_time": "2023-12-08T13:55:36.813Z"
   },
   {
    "duration": 9,
    "start_time": "2023-12-08T13:55:36.819Z"
   },
   {
    "duration": 9,
    "start_time": "2023-12-08T13:55:36.830Z"
   },
   {
    "duration": 9,
    "start_time": "2023-12-08T13:55:36.841Z"
   },
   {
    "duration": 15,
    "start_time": "2023-12-08T13:55:36.851Z"
   },
   {
    "duration": 6,
    "start_time": "2023-12-08T13:55:36.898Z"
   },
   {
    "duration": 16,
    "start_time": "2023-12-08T13:55:36.906Z"
   },
   {
    "duration": 4,
    "start_time": "2023-12-08T13:55:36.923Z"
   },
   {
    "duration": 6,
    "start_time": "2023-12-08T13:55:36.929Z"
   },
   {
    "duration": 12,
    "start_time": "2023-12-08T13:55:36.937Z"
   },
   {
    "duration": 5,
    "start_time": "2023-12-08T13:55:36.950Z"
   },
   {
    "duration": 8,
    "start_time": "2023-12-08T13:55:36.956Z"
   },
   {
    "duration": 9,
    "start_time": "2023-12-08T13:55:36.965Z"
   },
   {
    "duration": 5,
    "start_time": "2023-12-08T13:55:36.998Z"
   },
   {
    "duration": 19,
    "start_time": "2023-12-08T13:55:37.007Z"
   },
   {
    "duration": 14,
    "start_time": "2023-12-08T13:55:37.027Z"
   },
   {
    "duration": 4,
    "start_time": "2023-12-08T13:55:37.043Z"
   },
   {
    "duration": 5,
    "start_time": "2023-12-08T13:55:37.048Z"
   },
   {
    "duration": 5,
    "start_time": "2023-12-08T13:55:37.054Z"
   },
   {
    "duration": 13,
    "start_time": "2023-12-08T13:55:37.060Z"
   },
   {
    "duration": 5,
    "start_time": "2023-12-08T13:55:37.074Z"
   },
   {
    "duration": 32,
    "start_time": "2023-12-08T13:55:37.080Z"
   },
   {
    "duration": 6,
    "start_time": "2023-12-08T13:55:37.114Z"
   },
   {
    "duration": 141,
    "start_time": "2023-12-08T13:55:37.121Z"
   },
   {
    "duration": 8,
    "start_time": "2023-12-08T13:55:37.263Z"
   },
   {
    "duration": 6,
    "start_time": "2023-12-08T13:55:37.272Z"
   },
   {
    "duration": 21,
    "start_time": "2023-12-08T13:55:37.280Z"
   },
   {
    "duration": 9,
    "start_time": "2023-12-08T13:55:37.303Z"
   },
   {
    "duration": 4,
    "start_time": "2023-12-08T13:55:37.314Z"
   },
   {
    "duration": 6,
    "start_time": "2023-12-08T13:55:37.319Z"
   },
   {
    "duration": 5,
    "start_time": "2023-12-08T13:55:37.326Z"
   },
   {
    "duration": 5,
    "start_time": "2023-12-08T13:55:37.332Z"
   },
   {
    "duration": 8,
    "start_time": "2023-12-08T13:55:37.338Z"
   },
   {
    "duration": 5,
    "start_time": "2023-12-08T13:55:37.348Z"
   },
   {
    "duration": 191,
    "start_time": "2023-12-08T13:55:37.354Z"
   },
   {
    "duration": 6,
    "start_time": "2023-12-08T13:55:37.546Z"
   },
   {
    "duration": 155,
    "start_time": "2023-12-08T13:55:37.553Z"
   },
   {
    "duration": 132,
    "start_time": "2023-12-08T13:55:37.710Z"
   },
   {
    "duration": 5,
    "start_time": "2023-12-08T13:55:37.844Z"
   },
   {
    "duration": 278,
    "start_time": "2023-12-08T13:55:37.850Z"
   },
   {
    "duration": 258,
    "start_time": "2023-12-08T13:55:38.130Z"
   },
   {
    "duration": 330,
    "start_time": "2023-12-08T13:55:38.390Z"
   },
   {
    "duration": 9,
    "start_time": "2023-12-08T13:55:38.721Z"
   },
   {
    "duration": 16,
    "start_time": "2023-12-08T13:55:38.732Z"
   },
   {
    "duration": 15,
    "start_time": "2023-12-08T13:55:38.750Z"
   },
   {
    "duration": 8,
    "start_time": "2023-12-08T13:55:38.766Z"
   },
   {
    "duration": 33,
    "start_time": "2023-12-08T13:55:38.775Z"
   },
   {
    "duration": 7,
    "start_time": "2023-12-08T13:55:38.809Z"
   },
   {
    "duration": 23,
    "start_time": "2023-12-08T13:55:38.817Z"
   },
   {
    "duration": 257,
    "start_time": "2023-12-08T13:55:38.842Z"
   },
   {
    "duration": 7,
    "start_time": "2023-12-08T13:55:39.100Z"
   },
   {
    "duration": 257,
    "start_time": "2023-12-08T13:55:39.109Z"
   },
   {
    "duration": 5,
    "start_time": "2023-12-08T13:55:39.367Z"
   },
   {
    "duration": 257,
    "start_time": "2023-12-08T13:55:39.373Z"
   },
   {
    "duration": 7,
    "start_time": "2023-12-08T13:55:39.632Z"
   },
   {
    "duration": 283,
    "start_time": "2023-12-08T13:55:39.641Z"
   },
   {
    "duration": 5,
    "start_time": "2023-12-08T13:55:39.926Z"
   },
   {
    "duration": 567,
    "start_time": "2023-12-08T13:55:39.932Z"
   },
   {
    "duration": 441,
    "start_time": "2023-12-08T13:55:40.501Z"
   },
   {
    "duration": 14,
    "start_time": "2023-12-08T13:55:40.944Z"
   },
   {
    "duration": 13,
    "start_time": "2023-12-08T13:55:40.960Z"
   },
   {
    "duration": 25,
    "start_time": "2023-12-08T13:55:40.974Z"
   },
   {
    "duration": 4,
    "start_time": "2023-12-08T13:55:41.001Z"
   },
   {
    "duration": 8,
    "start_time": "2023-12-08T13:55:41.006Z"
   },
   {
    "duration": 25,
    "start_time": "2023-12-08T13:55:41.016Z"
   },
   {
    "duration": 12,
    "start_time": "2023-12-08T13:55:41.043Z"
   },
   {
    "duration": 10,
    "start_time": "2023-12-08T13:55:41.057Z"
   },
   {
    "duration": 7,
    "start_time": "2023-12-08T13:55:41.069Z"
   },
   {
    "duration": 105,
    "start_time": "2023-12-08T13:55:41.100Z"
   },
   {
    "duration": 1144,
    "start_time": "2023-12-09T09:03:08.230Z"
   },
   {
    "duration": 71,
    "start_time": "2023-12-09T09:03:09.376Z"
   },
   {
    "duration": 12,
    "start_time": "2023-12-09T09:03:09.449Z"
   },
   {
    "duration": 11,
    "start_time": "2023-12-09T09:03:09.462Z"
   },
   {
    "duration": 21,
    "start_time": "2023-12-09T09:03:09.475Z"
   },
   {
    "duration": 6,
    "start_time": "2023-12-09T09:03:09.498Z"
   },
   {
    "duration": 16,
    "start_time": "2023-12-09T09:03:09.506Z"
   },
   {
    "duration": 17,
    "start_time": "2023-12-09T09:03:09.523Z"
   },
   {
    "duration": 6,
    "start_time": "2023-12-09T09:03:09.541Z"
   },
   {
    "duration": 29,
    "start_time": "2023-12-09T09:03:09.548Z"
   },
   {
    "duration": 27,
    "start_time": "2023-12-09T09:03:09.578Z"
   },
   {
    "duration": 30,
    "start_time": "2023-12-09T09:03:09.607Z"
   },
   {
    "duration": 9,
    "start_time": "2023-12-09T09:03:09.639Z"
   },
   {
    "duration": 4,
    "start_time": "2023-12-09T09:03:09.651Z"
   },
   {
    "duration": 8,
    "start_time": "2023-12-09T09:03:09.657Z"
   },
   {
    "duration": 8,
    "start_time": "2023-12-09T09:03:09.666Z"
   },
   {
    "duration": 5,
    "start_time": "2023-12-09T09:03:09.676Z"
   },
   {
    "duration": 15,
    "start_time": "2023-12-09T09:03:09.683Z"
   },
   {
    "duration": 19,
    "start_time": "2023-12-09T09:03:09.699Z"
   },
   {
    "duration": 16,
    "start_time": "2023-12-09T09:03:09.719Z"
   },
   {
    "duration": 4,
    "start_time": "2023-12-09T09:03:09.737Z"
   },
   {
    "duration": 5,
    "start_time": "2023-12-09T09:03:09.742Z"
   },
   {
    "duration": 6,
    "start_time": "2023-12-09T09:03:09.748Z"
   },
   {
    "duration": 7,
    "start_time": "2023-12-09T09:03:09.756Z"
   },
   {
    "duration": 11,
    "start_time": "2023-12-09T09:03:09.764Z"
   },
   {
    "duration": 45,
    "start_time": "2023-12-09T09:03:09.777Z"
   },
   {
    "duration": 8,
    "start_time": "2023-12-09T09:03:09.823Z"
   },
   {
    "duration": 14,
    "start_time": "2023-12-09T09:03:09.832Z"
   },
   {
    "duration": 11,
    "start_time": "2023-12-09T09:03:09.848Z"
   },
   {
    "duration": 4,
    "start_time": "2023-12-09T09:03:09.861Z"
   },
   {
    "duration": 6,
    "start_time": "2023-12-09T09:03:09.866Z"
   },
   {
    "duration": 5,
    "start_time": "2023-12-09T09:03:09.873Z"
   },
   {
    "duration": 39,
    "start_time": "2023-12-09T09:03:09.879Z"
   },
   {
    "duration": 4,
    "start_time": "2023-12-09T09:03:09.919Z"
   },
   {
    "duration": 5,
    "start_time": "2023-12-09T09:03:09.924Z"
   },
   {
    "duration": 7,
    "start_time": "2023-12-09T09:03:09.930Z"
   },
   {
    "duration": 185,
    "start_time": "2023-12-09T09:03:09.939Z"
   },
   {
    "duration": 9,
    "start_time": "2023-12-09T09:03:10.126Z"
   },
   {
    "duration": 11,
    "start_time": "2023-12-09T09:03:10.136Z"
   },
   {
    "duration": 16,
    "start_time": "2023-12-09T09:03:10.148Z"
   },
   {
    "duration": 5,
    "start_time": "2023-12-09T09:03:10.169Z"
   },
   {
    "duration": 4,
    "start_time": "2023-12-09T09:03:10.176Z"
   },
   {
    "duration": 34,
    "start_time": "2023-12-09T09:03:10.182Z"
   },
   {
    "duration": 5,
    "start_time": "2023-12-09T09:03:10.218Z"
   },
   {
    "duration": 6,
    "start_time": "2023-12-09T09:03:10.224Z"
   },
   {
    "duration": 7,
    "start_time": "2023-12-09T09:03:10.232Z"
   },
   {
    "duration": 6,
    "start_time": "2023-12-09T09:03:10.240Z"
   },
   {
    "duration": 196,
    "start_time": "2023-12-09T09:03:10.247Z"
   },
   {
    "duration": 6,
    "start_time": "2023-12-09T09:03:10.445Z"
   },
   {
    "duration": 143,
    "start_time": "2023-12-09T09:03:10.453Z"
   },
   {
    "duration": 145,
    "start_time": "2023-12-09T09:03:10.598Z"
   },
   {
    "duration": 7,
    "start_time": "2023-12-09T09:03:10.746Z"
   },
   {
    "duration": 313,
    "start_time": "2023-12-09T09:03:10.755Z"
   },
   {
    "duration": 289,
    "start_time": "2023-12-09T09:03:11.070Z"
   },
   {
    "duration": 348,
    "start_time": "2023-12-09T09:03:11.361Z"
   },
   {
    "duration": 11,
    "start_time": "2023-12-09T09:03:11.711Z"
   },
   {
    "duration": 10,
    "start_time": "2023-12-09T09:03:11.724Z"
   },
   {
    "duration": 14,
    "start_time": "2023-12-09T09:03:11.736Z"
   },
   {
    "duration": 7,
    "start_time": "2023-12-09T09:03:11.751Z"
   },
   {
    "duration": 11,
    "start_time": "2023-12-09T09:03:11.759Z"
   },
   {
    "duration": 7,
    "start_time": "2023-12-09T09:03:11.772Z"
   },
   {
    "duration": 13,
    "start_time": "2023-12-09T09:03:11.814Z"
   },
   {
    "duration": 292,
    "start_time": "2023-12-09T09:03:11.828Z"
   },
   {
    "duration": 6,
    "start_time": "2023-12-09T09:03:12.122Z"
   },
   {
    "duration": 332,
    "start_time": "2023-12-09T09:03:12.130Z"
   },
   {
    "duration": 5,
    "start_time": "2023-12-09T09:03:12.464Z"
   },
   {
    "duration": 275,
    "start_time": "2023-12-09T09:03:12.471Z"
   },
   {
    "duration": 5,
    "start_time": "2023-12-09T09:03:12.747Z"
   },
   {
    "duration": 274,
    "start_time": "2023-12-09T09:03:12.753Z"
   },
   {
    "duration": 5,
    "start_time": "2023-12-09T09:03:13.029Z"
   },
   {
    "duration": 567,
    "start_time": "2023-12-09T09:03:13.035Z"
   },
   {
    "duration": 486,
    "start_time": "2023-12-09T09:03:13.604Z"
   },
   {
    "duration": 24,
    "start_time": "2023-12-09T09:03:14.091Z"
   },
   {
    "duration": 13,
    "start_time": "2023-12-09T09:03:14.117Z"
   },
   {
    "duration": 3,
    "start_time": "2023-12-09T09:03:14.132Z"
   },
   {
    "duration": 4,
    "start_time": "2023-12-09T09:03:14.137Z"
   },
   {
    "duration": 11,
    "start_time": "2023-12-09T09:03:14.142Z"
   },
   {
    "duration": 18,
    "start_time": "2023-12-09T09:03:14.154Z"
   },
   {
    "duration": 16,
    "start_time": "2023-12-09T09:03:14.173Z"
   },
   {
    "duration": 28,
    "start_time": "2023-12-09T09:03:14.191Z"
   },
   {
    "duration": 9,
    "start_time": "2023-12-09T09:03:14.220Z"
   },
   {
    "duration": 111,
    "start_time": "2023-12-09T09:03:14.230Z"
   },
   {
    "duration": 1120,
    "start_time": "2023-12-09T10:01:24.554Z"
   },
   {
    "duration": 68,
    "start_time": "2023-12-09T10:01:25.676Z"
   },
   {
    "duration": 12,
    "start_time": "2023-12-09T10:01:25.746Z"
   },
   {
    "duration": 10,
    "start_time": "2023-12-09T10:01:25.760Z"
   },
   {
    "duration": 16,
    "start_time": "2023-12-09T10:01:25.771Z"
   },
   {
    "duration": 7,
    "start_time": "2023-12-09T10:01:25.788Z"
   },
   {
    "duration": 20,
    "start_time": "2023-12-09T10:01:25.797Z"
   },
   {
    "duration": 18,
    "start_time": "2023-12-09T10:01:25.818Z"
   },
   {
    "duration": 7,
    "start_time": "2023-12-09T10:01:25.837Z"
   },
   {
    "duration": 9,
    "start_time": "2023-12-09T10:01:25.846Z"
   },
   {
    "duration": 15,
    "start_time": "2023-12-09T10:01:25.857Z"
   },
   {
    "duration": 41,
    "start_time": "2023-12-09T10:01:25.874Z"
   },
   {
    "duration": 11,
    "start_time": "2023-12-09T10:01:25.916Z"
   },
   {
    "duration": 6,
    "start_time": "2023-12-09T10:01:25.929Z"
   },
   {
    "duration": 9,
    "start_time": "2023-12-09T10:01:25.936Z"
   },
   {
    "duration": 8,
    "start_time": "2023-12-09T10:01:25.946Z"
   },
   {
    "duration": 14,
    "start_time": "2023-12-09T10:01:25.956Z"
   },
   {
    "duration": 43,
    "start_time": "2023-12-09T10:01:25.972Z"
   },
   {
    "duration": 6,
    "start_time": "2023-12-09T10:01:26.017Z"
   },
   {
    "duration": 22,
    "start_time": "2023-12-09T10:01:26.024Z"
   },
   {
    "duration": 4,
    "start_time": "2023-12-09T10:01:26.047Z"
   },
   {
    "duration": 4,
    "start_time": "2023-12-09T10:01:26.053Z"
   },
   {
    "duration": 6,
    "start_time": "2023-12-09T10:01:26.058Z"
   },
   {
    "duration": 6,
    "start_time": "2023-12-09T10:01:26.065Z"
   },
   {
    "duration": 6,
    "start_time": "2023-12-09T10:01:26.073Z"
   },
   {
    "duration": 35,
    "start_time": "2023-12-09T10:01:26.081Z"
   },
   {
    "duration": 8,
    "start_time": "2023-12-09T10:01:26.117Z"
   },
   {
    "duration": 8,
    "start_time": "2023-12-09T10:01:26.129Z"
   },
   {
    "duration": 13,
    "start_time": "2023-12-09T10:01:26.139Z"
   },
   {
    "duration": 4,
    "start_time": "2023-12-09T10:01:26.153Z"
   },
   {
    "duration": 7,
    "start_time": "2023-12-09T10:01:26.158Z"
   },
   {
    "duration": 5,
    "start_time": "2023-12-09T10:01:26.167Z"
   },
   {
    "duration": 42,
    "start_time": "2023-12-09T10:01:26.174Z"
   },
   {
    "duration": 3,
    "start_time": "2023-12-09T10:01:26.218Z"
   },
   {
    "duration": 6,
    "start_time": "2023-12-09T10:01:26.222Z"
   },
   {
    "duration": 7,
    "start_time": "2023-12-09T10:01:26.229Z"
   },
   {
    "duration": 163,
    "start_time": "2023-12-09T10:01:26.237Z"
   },
   {
    "duration": 15,
    "start_time": "2023-12-09T10:01:26.402Z"
   },
   {
    "duration": 7,
    "start_time": "2023-12-09T10:01:26.419Z"
   },
   {
    "duration": 8,
    "start_time": "2023-12-09T10:01:26.427Z"
   },
   {
    "duration": 4,
    "start_time": "2023-12-09T10:01:26.437Z"
   },
   {
    "duration": 4,
    "start_time": "2023-12-09T10:01:26.442Z"
   },
   {
    "duration": 7,
    "start_time": "2023-12-09T10:01:26.447Z"
   },
   {
    "duration": 4,
    "start_time": "2023-12-09T10:01:26.455Z"
   },
   {
    "duration": 7,
    "start_time": "2023-12-09T10:01:26.460Z"
   },
   {
    "duration": 48,
    "start_time": "2023-12-09T10:01:26.468Z"
   },
   {
    "duration": 5,
    "start_time": "2023-12-09T10:01:26.518Z"
   },
   {
    "duration": 174,
    "start_time": "2023-12-09T10:01:26.525Z"
   },
   {
    "duration": 5,
    "start_time": "2023-12-09T10:01:26.701Z"
   },
   {
    "duration": 135,
    "start_time": "2023-12-09T10:01:26.707Z"
   },
   {
    "duration": 139,
    "start_time": "2023-12-09T10:01:26.843Z"
   },
   {
    "duration": 6,
    "start_time": "2023-12-09T10:01:26.984Z"
   },
   {
    "duration": 283,
    "start_time": "2023-12-09T10:01:26.992Z"
   },
   {
    "duration": 277,
    "start_time": "2023-12-09T10:01:27.277Z"
   },
   {
    "duration": 359,
    "start_time": "2023-12-09T10:01:27.555Z"
   },
   {
    "duration": 10,
    "start_time": "2023-12-09T10:01:27.915Z"
   },
   {
    "duration": 11,
    "start_time": "2023-12-09T10:01:27.926Z"
   },
   {
    "duration": 20,
    "start_time": "2023-12-09T10:01:27.938Z"
   },
   {
    "duration": 11,
    "start_time": "2023-12-09T10:01:27.959Z"
   },
   {
    "duration": 19,
    "start_time": "2023-12-09T10:01:27.971Z"
   },
   {
    "duration": 6,
    "start_time": "2023-12-09T10:01:27.991Z"
   },
   {
    "duration": 12,
    "start_time": "2023-12-09T10:01:28.014Z"
   },
   {
    "duration": 266,
    "start_time": "2023-12-09T10:01:28.028Z"
   },
   {
    "duration": 4,
    "start_time": "2023-12-09T10:01:28.296Z"
   },
   {
    "duration": 282,
    "start_time": "2023-12-09T10:01:28.302Z"
   },
   {
    "duration": 4,
    "start_time": "2023-12-09T10:01:28.586Z"
   },
   {
    "duration": 312,
    "start_time": "2023-12-09T10:01:28.592Z"
   },
   {
    "duration": 12,
    "start_time": "2023-12-09T10:01:28.905Z"
   },
   {
    "duration": 305,
    "start_time": "2023-12-09T10:01:28.918Z"
   },
   {
    "duration": 4,
    "start_time": "2023-12-09T10:01:29.226Z"
   },
   {
    "duration": 655,
    "start_time": "2023-12-09T10:01:29.232Z"
   },
   {
    "duration": 502,
    "start_time": "2023-12-09T10:01:29.888Z"
   },
   {
    "duration": 28,
    "start_time": "2023-12-09T10:01:30.392Z"
   },
   {
    "duration": 27,
    "start_time": "2023-12-09T10:01:30.422Z"
   },
   {
    "duration": 36,
    "start_time": "2023-12-09T10:01:30.450Z"
   },
   {
    "duration": 33,
    "start_time": "2023-12-09T10:01:30.488Z"
   },
   {
    "duration": 45,
    "start_time": "2023-12-09T10:01:30.523Z"
   },
   {
    "duration": 58,
    "start_time": "2023-12-09T10:01:30.570Z"
   },
   {
    "duration": 31,
    "start_time": "2023-12-09T10:01:30.630Z"
   },
   {
    "duration": 40,
    "start_time": "2023-12-09T10:01:30.663Z"
   },
   {
    "duration": 44,
    "start_time": "2023-12-09T10:01:30.705Z"
   },
   {
    "duration": 139,
    "start_time": "2023-12-09T10:01:30.754Z"
   },
   {
    "duration": 8,
    "start_time": "2023-12-09T10:12:17.970Z"
   },
   {
    "duration": 1137,
    "start_time": "2023-12-09T10:17:38.983Z"
   },
   {
    "duration": 70,
    "start_time": "2023-12-09T10:17:40.123Z"
   },
   {
    "duration": 11,
    "start_time": "2023-12-09T10:17:40.195Z"
   },
   {
    "duration": 11,
    "start_time": "2023-12-09T10:17:40.208Z"
   },
   {
    "duration": 13,
    "start_time": "2023-12-09T10:17:40.221Z"
   },
   {
    "duration": 20,
    "start_time": "2023-12-09T10:17:40.236Z"
   },
   {
    "duration": 25,
    "start_time": "2023-12-09T10:17:40.257Z"
   },
   {
    "duration": 23,
    "start_time": "2023-12-09T10:17:40.284Z"
   },
   {
    "duration": 18,
    "start_time": "2023-12-09T10:17:40.308Z"
   },
   {
    "duration": 20,
    "start_time": "2023-12-09T10:17:40.327Z"
   },
   {
    "duration": 16,
    "start_time": "2023-12-09T10:17:40.349Z"
   },
   {
    "duration": 24,
    "start_time": "2023-12-09T10:17:40.367Z"
   },
   {
    "duration": 36,
    "start_time": "2023-12-09T10:17:40.392Z"
   },
   {
    "duration": 32,
    "start_time": "2023-12-09T10:17:40.431Z"
   },
   {
    "duration": 25,
    "start_time": "2023-12-09T10:17:40.465Z"
   },
   {
    "duration": 17,
    "start_time": "2023-12-09T10:17:40.491Z"
   },
   {
    "duration": 32,
    "start_time": "2023-12-09T10:17:40.509Z"
   },
   {
    "duration": 32,
    "start_time": "2023-12-09T10:17:40.542Z"
   },
   {
    "duration": 5,
    "start_time": "2023-12-09T10:17:40.575Z"
   },
   {
    "duration": 19,
    "start_time": "2023-12-09T10:17:40.581Z"
   },
   {
    "duration": 4,
    "start_time": "2023-12-09T10:17:40.602Z"
   },
   {
    "duration": 19,
    "start_time": "2023-12-09T10:17:40.607Z"
   },
   {
    "duration": 11,
    "start_time": "2023-12-09T10:17:40.627Z"
   },
   {
    "duration": 12,
    "start_time": "2023-12-09T10:17:40.639Z"
   },
   {
    "duration": 15,
    "start_time": "2023-12-09T10:17:40.653Z"
   },
   {
    "duration": 7,
    "start_time": "2023-12-09T10:17:40.669Z"
   },
   {
    "duration": 12,
    "start_time": "2023-12-09T10:17:40.677Z"
   },
   {
    "duration": 15,
    "start_time": "2023-12-09T10:17:40.690Z"
   },
   {
    "duration": 13,
    "start_time": "2023-12-09T10:17:40.707Z"
   },
   {
    "duration": 4,
    "start_time": "2023-12-09T10:17:40.721Z"
   },
   {
    "duration": 6,
    "start_time": "2023-12-09T10:17:40.726Z"
   },
   {
    "duration": 4,
    "start_time": "2023-12-09T10:17:40.734Z"
   },
   {
    "duration": 6,
    "start_time": "2023-12-09T10:17:40.740Z"
   },
   {
    "duration": 3,
    "start_time": "2023-12-09T10:17:40.748Z"
   },
   {
    "duration": 5,
    "start_time": "2023-12-09T10:17:40.752Z"
   },
   {
    "duration": 7,
    "start_time": "2023-12-09T10:17:40.759Z"
   },
   {
    "duration": 188,
    "start_time": "2023-12-09T10:17:40.768Z"
   },
   {
    "duration": 7,
    "start_time": "2023-12-09T10:17:40.958Z"
   },
   {
    "duration": 16,
    "start_time": "2023-12-09T10:17:40.967Z"
   },
   {
    "duration": 13,
    "start_time": "2023-12-09T10:17:40.984Z"
   },
   {
    "duration": 12,
    "start_time": "2023-12-09T10:17:41.003Z"
   },
   {
    "duration": 4,
    "start_time": "2023-12-09T10:17:41.017Z"
   },
   {
    "duration": 7,
    "start_time": "2023-12-09T10:17:41.023Z"
   },
   {
    "duration": 6,
    "start_time": "2023-12-09T10:17:41.032Z"
   },
   {
    "duration": 7,
    "start_time": "2023-12-09T10:17:41.040Z"
   },
   {
    "duration": 13,
    "start_time": "2023-12-09T10:17:41.049Z"
   },
   {
    "duration": 16,
    "start_time": "2023-12-09T10:17:41.064Z"
   },
   {
    "duration": 210,
    "start_time": "2023-12-09T10:17:41.081Z"
   },
   {
    "duration": 6,
    "start_time": "2023-12-09T10:17:41.292Z"
   },
   {
    "duration": 134,
    "start_time": "2023-12-09T10:17:41.299Z"
   },
   {
    "duration": 127,
    "start_time": "2023-12-09T10:17:41.434Z"
   },
   {
    "duration": 4,
    "start_time": "2023-12-09T10:17:41.563Z"
   },
   {
    "duration": 284,
    "start_time": "2023-12-09T10:17:41.569Z"
   },
   {
    "duration": 268,
    "start_time": "2023-12-09T10:17:41.854Z"
   },
   {
    "duration": 338,
    "start_time": "2023-12-09T10:17:42.124Z"
   },
   {
    "duration": 9,
    "start_time": "2023-12-09T10:17:42.463Z"
   },
   {
    "duration": 11,
    "start_time": "2023-12-09T10:17:42.474Z"
   },
   {
    "duration": 31,
    "start_time": "2023-12-09T10:17:42.486Z"
   },
   {
    "duration": 6,
    "start_time": "2023-12-09T10:17:42.518Z"
   },
   {
    "duration": 11,
    "start_time": "2023-12-09T10:17:42.525Z"
   },
   {
    "duration": 6,
    "start_time": "2023-12-09T10:17:42.537Z"
   },
   {
    "duration": 13,
    "start_time": "2023-12-09T10:17:42.544Z"
   },
   {
    "duration": 263,
    "start_time": "2023-12-09T10:17:42.558Z"
   },
   {
    "duration": 4,
    "start_time": "2023-12-09T10:17:42.823Z"
   },
   {
    "duration": 267,
    "start_time": "2023-12-09T10:17:42.829Z"
   },
   {
    "duration": 5,
    "start_time": "2023-12-09T10:17:43.097Z"
   },
   {
    "duration": 280,
    "start_time": "2023-12-09T10:17:43.114Z"
   },
   {
    "duration": 4,
    "start_time": "2023-12-09T10:17:43.396Z"
   },
   {
    "duration": 264,
    "start_time": "2023-12-09T10:17:43.402Z"
   },
   {
    "duration": 5,
    "start_time": "2023-12-09T10:17:43.668Z"
   },
   {
    "duration": 552,
    "start_time": "2023-12-09T10:17:43.674Z"
   },
   {
    "duration": 470,
    "start_time": "2023-12-09T10:17:44.227Z"
   },
   {
    "duration": 24,
    "start_time": "2023-12-09T10:17:44.699Z"
   },
   {
    "duration": 13,
    "start_time": "2023-12-09T10:17:44.725Z"
   },
   {
    "duration": 4,
    "start_time": "2023-12-09T10:17:44.740Z"
   },
   {
    "duration": 12,
    "start_time": "2023-12-09T10:17:44.745Z"
   },
   {
    "duration": 9,
    "start_time": "2023-12-09T10:17:44.758Z"
   },
   {
    "duration": 24,
    "start_time": "2023-12-09T10:17:44.768Z"
   },
   {
    "duration": 20,
    "start_time": "2023-12-09T10:17:44.794Z"
   },
   {
    "duration": 6,
    "start_time": "2023-12-09T10:17:44.816Z"
   },
   {
    "duration": 10,
    "start_time": "2023-12-09T10:17:44.823Z"
   },
   {
    "duration": 107,
    "start_time": "2023-12-09T10:17:44.835Z"
   },
   {
    "duration": 1298,
    "start_time": "2023-12-09T10:47:19.729Z"
   },
   {
    "duration": 197,
    "start_time": "2023-12-09T10:47:21.029Z"
   },
   {
    "duration": 12,
    "start_time": "2023-12-09T10:47:21.228Z"
   },
   {
    "duration": 17,
    "start_time": "2023-12-09T10:47:21.241Z"
   },
   {
    "duration": 13,
    "start_time": "2023-12-09T10:47:21.259Z"
   },
   {
    "duration": 9,
    "start_time": "2023-12-09T10:47:21.274Z"
   },
   {
    "duration": 13,
    "start_time": "2023-12-09T10:47:21.284Z"
   },
   {
    "duration": 17,
    "start_time": "2023-12-09T10:47:21.299Z"
   },
   {
    "duration": 7,
    "start_time": "2023-12-09T10:47:21.317Z"
   },
   {
    "duration": 10,
    "start_time": "2023-12-09T10:47:21.351Z"
   },
   {
    "duration": 26,
    "start_time": "2023-12-09T10:47:21.363Z"
   },
   {
    "duration": 7,
    "start_time": "2023-12-09T10:47:21.390Z"
   },
   {
    "duration": 20,
    "start_time": "2023-12-09T10:47:21.398Z"
   },
   {
    "duration": 8,
    "start_time": "2023-12-09T10:47:21.419Z"
   },
   {
    "duration": 9,
    "start_time": "2023-12-09T10:47:21.428Z"
   },
   {
    "duration": 15,
    "start_time": "2023-12-09T10:47:21.438Z"
   },
   {
    "duration": 3,
    "start_time": "2023-12-09T10:47:21.454Z"
   },
   {
    "duration": 20,
    "start_time": "2023-12-09T10:47:21.458Z"
   },
   {
    "duration": 4,
    "start_time": "2023-12-09T10:47:21.479Z"
   },
   {
    "duration": 19,
    "start_time": "2023-12-09T10:47:21.485Z"
   },
   {
    "duration": 3,
    "start_time": "2023-12-09T10:47:21.506Z"
   },
   {
    "duration": 24,
    "start_time": "2023-12-09T10:47:21.511Z"
   },
   {
    "duration": 13,
    "start_time": "2023-12-09T10:47:21.536Z"
   },
   {
    "duration": 8,
    "start_time": "2023-12-09T10:47:21.550Z"
   },
   {
    "duration": 16,
    "start_time": "2023-12-09T10:47:21.560Z"
   },
   {
    "duration": 13,
    "start_time": "2023-12-09T10:47:21.577Z"
   },
   {
    "duration": 9,
    "start_time": "2023-12-09T10:47:21.592Z"
   },
   {
    "duration": 30,
    "start_time": "2023-12-09T10:47:21.605Z"
   },
   {
    "duration": 11,
    "start_time": "2023-12-09T10:47:21.637Z"
   },
   {
    "duration": 5,
    "start_time": "2023-12-09T10:47:21.649Z"
   },
   {
    "duration": 29,
    "start_time": "2023-12-09T10:47:21.655Z"
   },
   {
    "duration": 10,
    "start_time": "2023-12-09T10:47:21.686Z"
   },
   {
    "duration": 11,
    "start_time": "2023-12-09T10:47:21.698Z"
   },
   {
    "duration": 4,
    "start_time": "2023-12-09T10:47:21.711Z"
   },
   {
    "duration": 28,
    "start_time": "2023-12-09T10:47:21.716Z"
   },
   {
    "duration": 23,
    "start_time": "2023-12-09T10:47:21.746Z"
   },
   {
    "duration": 140,
    "start_time": "2023-12-09T10:47:21.771Z"
   },
   {
    "duration": 8,
    "start_time": "2023-12-09T10:47:21.912Z"
   },
   {
    "duration": 19,
    "start_time": "2023-12-09T10:47:21.922Z"
   },
   {
    "duration": 30,
    "start_time": "2023-12-09T10:47:21.943Z"
   },
   {
    "duration": 15,
    "start_time": "2023-12-09T10:47:21.975Z"
   },
   {
    "duration": 9,
    "start_time": "2023-12-09T10:47:21.991Z"
   },
   {
    "duration": 18,
    "start_time": "2023-12-09T10:47:22.002Z"
   },
   {
    "duration": 21,
    "start_time": "2023-12-09T10:47:22.022Z"
   },
   {
    "duration": 9,
    "start_time": "2023-12-09T10:47:22.044Z"
   },
   {
    "duration": 10,
    "start_time": "2023-12-09T10:47:22.055Z"
   },
   {
    "duration": 8,
    "start_time": "2023-12-09T10:47:22.067Z"
   },
   {
    "duration": 229,
    "start_time": "2023-12-09T10:47:22.077Z"
   },
   {
    "duration": 6,
    "start_time": "2023-12-09T10:47:22.308Z"
   },
   {
    "duration": 137,
    "start_time": "2023-12-09T10:47:22.315Z"
   },
   {
    "duration": 127,
    "start_time": "2023-12-09T10:47:22.454Z"
   },
   {
    "duration": 5,
    "start_time": "2023-12-09T10:47:22.583Z"
   },
   {
    "duration": 316,
    "start_time": "2023-12-09T10:47:22.590Z"
   },
   {
    "duration": 274,
    "start_time": "2023-12-09T10:47:22.908Z"
   },
   {
    "duration": 347,
    "start_time": "2023-12-09T10:47:23.183Z"
   },
   {
    "duration": 10,
    "start_time": "2023-12-09T10:47:23.531Z"
   },
   {
    "duration": 16,
    "start_time": "2023-12-09T10:47:23.543Z"
   },
   {
    "duration": 12,
    "start_time": "2023-12-09T10:47:23.561Z"
   },
   {
    "duration": 28,
    "start_time": "2023-12-09T10:47:23.575Z"
   },
   {
    "duration": 17,
    "start_time": "2023-12-09T10:47:23.604Z"
   },
   {
    "duration": 13,
    "start_time": "2023-12-09T10:47:23.623Z"
   },
   {
    "duration": 19,
    "start_time": "2023-12-09T10:47:23.638Z"
   },
   {
    "duration": 244,
    "start_time": "2023-12-09T10:47:23.659Z"
   },
   {
    "duration": 5,
    "start_time": "2023-12-09T10:47:23.904Z"
   },
   {
    "duration": 282,
    "start_time": "2023-12-09T10:47:23.910Z"
   },
   {
    "duration": 5,
    "start_time": "2023-12-09T10:47:24.193Z"
   },
   {
    "duration": 276,
    "start_time": "2023-12-09T10:47:24.199Z"
   },
   {
    "duration": 6,
    "start_time": "2023-12-09T10:47:24.476Z"
   },
   {
    "duration": 288,
    "start_time": "2023-12-09T10:47:24.483Z"
   },
   {
    "duration": 5,
    "start_time": "2023-12-09T10:47:24.773Z"
   },
   {
    "duration": 579,
    "start_time": "2023-12-09T10:47:24.779Z"
   },
   {
    "duration": 490,
    "start_time": "2023-12-09T10:47:25.359Z"
   },
   {
    "duration": 15,
    "start_time": "2023-12-09T10:47:25.851Z"
   },
   {
    "duration": 30,
    "start_time": "2023-12-09T10:47:25.868Z"
   },
   {
    "duration": 16,
    "start_time": "2023-12-09T10:47:25.899Z"
   },
   {
    "duration": 4,
    "start_time": "2023-12-09T10:47:25.917Z"
   },
   {
    "duration": 10,
    "start_time": "2023-12-09T10:47:25.922Z"
   },
   {
    "duration": 21,
    "start_time": "2023-12-09T10:47:25.933Z"
   },
   {
    "duration": 9,
    "start_time": "2023-12-09T10:47:25.955Z"
   },
   {
    "duration": 20,
    "start_time": "2023-12-09T10:47:25.965Z"
   },
   {
    "duration": 13,
    "start_time": "2023-12-09T10:47:25.987Z"
   },
   {
    "duration": 9,
    "start_time": "2023-12-09T10:59:38.503Z"
   },
   {
    "duration": 10,
    "start_time": "2023-12-09T11:00:23.032Z"
   },
   {
    "duration": 7,
    "start_time": "2023-12-09T11:01:35.610Z"
   },
   {
    "duration": 8,
    "start_time": "2023-12-09T11:01:51.754Z"
   },
   {
    "duration": 8,
    "start_time": "2023-12-09T11:02:26.581Z"
   },
   {
    "duration": 991,
    "start_time": "2023-12-10T05:44:31.718Z"
   },
   {
    "duration": 63,
    "start_time": "2023-12-10T05:44:32.711Z"
   },
   {
    "duration": 10,
    "start_time": "2023-12-10T05:44:32.775Z"
   },
   {
    "duration": 18,
    "start_time": "2023-12-10T05:44:32.787Z"
   },
   {
    "duration": 14,
    "start_time": "2023-12-10T05:44:32.807Z"
   },
   {
    "duration": 6,
    "start_time": "2023-12-10T05:44:32.822Z"
   },
   {
    "duration": 10,
    "start_time": "2023-12-10T05:44:32.829Z"
   },
   {
    "duration": 13,
    "start_time": "2023-12-10T05:44:32.840Z"
   },
   {
    "duration": 5,
    "start_time": "2023-12-10T05:44:32.854Z"
   },
   {
    "duration": 7,
    "start_time": "2023-12-10T05:44:32.862Z"
   },
   {
    "duration": 15,
    "start_time": "2023-12-10T05:44:32.870Z"
   },
   {
    "duration": 4,
    "start_time": "2023-12-10T05:44:32.886Z"
   },
   {
    "duration": 8,
    "start_time": "2023-12-10T05:44:32.915Z"
   },
   {
    "duration": 3,
    "start_time": "2023-12-10T05:44:32.924Z"
   },
   {
    "duration": 6,
    "start_time": "2023-12-10T05:44:32.929Z"
   },
   {
    "duration": 7,
    "start_time": "2023-12-10T05:44:32.936Z"
   },
   {
    "duration": 26,
    "start_time": "2023-12-10T05:44:32.944Z"
   },
   {
    "duration": 26,
    "start_time": "2023-12-10T05:44:32.971Z"
   },
   {
    "duration": 4,
    "start_time": "2023-12-10T05:44:32.998Z"
   },
   {
    "duration": 24,
    "start_time": "2023-12-10T05:44:33.003Z"
   },
   {
    "duration": 4,
    "start_time": "2023-12-10T05:44:33.028Z"
   },
   {
    "duration": 35,
    "start_time": "2023-12-10T05:44:33.033Z"
   },
   {
    "duration": 16,
    "start_time": "2023-12-10T05:44:33.069Z"
   },
   {
    "duration": 7,
    "start_time": "2023-12-10T05:44:33.086Z"
   },
   {
    "duration": 10,
    "start_time": "2023-12-10T05:44:33.094Z"
   },
   {
    "duration": 10,
    "start_time": "2023-12-10T05:44:33.105Z"
   },
   {
    "duration": 4,
    "start_time": "2023-12-10T05:44:33.116Z"
   },
   {
    "duration": 6,
    "start_time": "2023-12-10T05:44:33.124Z"
   },
   {
    "duration": 8,
    "start_time": "2023-12-10T05:44:33.132Z"
   },
   {
    "duration": 3,
    "start_time": "2023-12-10T05:44:33.142Z"
   },
   {
    "duration": 4,
    "start_time": "2023-12-10T05:44:33.146Z"
   },
   {
    "duration": 5,
    "start_time": "2023-12-10T05:44:33.151Z"
   },
   {
    "duration": 10,
    "start_time": "2023-12-10T05:44:33.157Z"
   },
   {
    "duration": 10,
    "start_time": "2023-12-10T05:44:33.169Z"
   },
   {
    "duration": 7,
    "start_time": "2023-12-10T05:44:33.180Z"
   },
   {
    "duration": 31,
    "start_time": "2023-12-10T05:44:33.188Z"
   },
   {
    "duration": 129,
    "start_time": "2023-12-10T05:44:33.220Z"
   },
   {
    "duration": 10,
    "start_time": "2023-12-10T05:44:33.351Z"
   },
   {
    "duration": 4,
    "start_time": "2023-12-10T05:44:33.363Z"
   },
   {
    "duration": 5,
    "start_time": "2023-12-10T05:44:33.368Z"
   },
   {
    "duration": 3,
    "start_time": "2023-12-10T05:44:33.374Z"
   },
   {
    "duration": 4,
    "start_time": "2023-12-10T05:44:33.378Z"
   },
   {
    "duration": 32,
    "start_time": "2023-12-10T05:44:33.383Z"
   },
   {
    "duration": 4,
    "start_time": "2023-12-10T05:44:33.416Z"
   },
   {
    "duration": 11,
    "start_time": "2023-12-10T05:44:33.421Z"
   },
   {
    "duration": 6,
    "start_time": "2023-12-10T05:44:33.433Z"
   },
   {
    "duration": 4,
    "start_time": "2023-12-10T05:44:33.441Z"
   },
   {
    "duration": 152,
    "start_time": "2023-12-10T05:44:33.446Z"
   },
   {
    "duration": 6,
    "start_time": "2023-12-10T05:44:33.599Z"
   },
   {
    "duration": 107,
    "start_time": "2023-12-10T05:44:33.615Z"
   },
   {
    "duration": 109,
    "start_time": "2023-12-10T05:44:33.723Z"
   },
   {
    "duration": 5,
    "start_time": "2023-12-10T05:44:33.833Z"
   },
   {
    "duration": 227,
    "start_time": "2023-12-10T05:44:33.839Z"
   },
   {
    "duration": 213,
    "start_time": "2023-12-10T05:44:34.067Z"
   },
   {
    "duration": 246,
    "start_time": "2023-12-10T05:44:34.281Z"
   },
   {
    "duration": 8,
    "start_time": "2023-12-10T05:44:34.528Z"
   },
   {
    "duration": 10,
    "start_time": "2023-12-10T05:44:34.537Z"
   },
   {
    "duration": 13,
    "start_time": "2023-12-10T05:44:34.548Z"
   },
   {
    "duration": 6,
    "start_time": "2023-12-10T05:44:34.563Z"
   },
   {
    "duration": 11,
    "start_time": "2023-12-10T05:44:34.571Z"
   },
   {
    "duration": 34,
    "start_time": "2023-12-10T05:44:34.583Z"
   },
   {
    "duration": 18,
    "start_time": "2023-12-10T05:44:34.618Z"
   },
   {
    "duration": 200,
    "start_time": "2023-12-10T05:44:34.637Z"
   },
   {
    "duration": 4,
    "start_time": "2023-12-10T05:44:34.838Z"
   },
   {
    "duration": 217,
    "start_time": "2023-12-10T05:44:34.844Z"
   },
   {
    "duration": 4,
    "start_time": "2023-12-10T05:44:35.063Z"
   },
   {
    "duration": 216,
    "start_time": "2023-12-10T05:44:35.069Z"
   },
   {
    "duration": 6,
    "start_time": "2023-12-10T05:44:35.286Z"
   },
   {
    "duration": 207,
    "start_time": "2023-12-10T05:44:35.293Z"
   },
   {
    "duration": 4,
    "start_time": "2023-12-10T05:44:35.502Z"
   },
   {
    "duration": 423,
    "start_time": "2023-12-10T05:44:35.514Z"
   },
   {
    "duration": 358,
    "start_time": "2023-12-10T05:44:35.938Z"
   },
   {
    "duration": 18,
    "start_time": "2023-12-10T05:44:36.297Z"
   },
   {
    "duration": 11,
    "start_time": "2023-12-10T05:44:36.316Z"
   },
   {
    "duration": 3,
    "start_time": "2023-12-10T05:44:36.328Z"
   },
   {
    "duration": 4,
    "start_time": "2023-12-10T05:44:36.332Z"
   },
   {
    "duration": 7,
    "start_time": "2023-12-10T05:44:36.337Z"
   },
   {
    "duration": 21,
    "start_time": "2023-12-10T05:44:36.345Z"
   },
   {
    "duration": 9,
    "start_time": "2023-12-10T05:44:36.368Z"
   },
   {
    "duration": 6,
    "start_time": "2023-12-10T05:44:36.379Z"
   },
   {
    "duration": 32,
    "start_time": "2023-12-10T05:44:36.387Z"
   },
   {
    "duration": 941,
    "start_time": "2023-12-10T05:46:04.266Z"
   },
   {
    "duration": 64,
    "start_time": "2023-12-10T05:46:05.208Z"
   },
   {
    "duration": 10,
    "start_time": "2023-12-10T05:46:05.273Z"
   },
   {
    "duration": 13,
    "start_time": "2023-12-10T05:46:05.285Z"
   },
   {
    "duration": 10,
    "start_time": "2023-12-10T05:46:05.299Z"
   },
   {
    "duration": 6,
    "start_time": "2023-12-10T05:46:05.310Z"
   },
   {
    "duration": 10,
    "start_time": "2023-12-10T05:46:05.317Z"
   },
   {
    "duration": 19,
    "start_time": "2023-12-10T05:46:05.328Z"
   },
   {
    "duration": 10,
    "start_time": "2023-12-10T05:46:05.348Z"
   },
   {
    "duration": 14,
    "start_time": "2023-12-10T05:46:05.360Z"
   },
   {
    "duration": 11,
    "start_time": "2023-12-10T05:46:05.375Z"
   },
   {
    "duration": 5,
    "start_time": "2023-12-10T05:46:05.388Z"
   },
   {
    "duration": 9,
    "start_time": "2023-12-10T05:46:05.394Z"
   },
   {
    "duration": 4,
    "start_time": "2023-12-10T05:46:05.415Z"
   },
   {
    "duration": 10,
    "start_time": "2023-12-10T05:46:05.420Z"
   },
   {
    "duration": 9,
    "start_time": "2023-12-10T05:46:05.431Z"
   },
   {
    "duration": 2,
    "start_time": "2023-12-10T05:46:05.442Z"
   },
   {
    "duration": 10,
    "start_time": "2023-12-10T05:46:05.446Z"
   },
   {
    "duration": 3,
    "start_time": "2023-12-10T05:46:05.457Z"
   },
   {
    "duration": 11,
    "start_time": "2023-12-10T05:46:05.461Z"
   },
   {
    "duration": 4,
    "start_time": "2023-12-10T05:46:05.473Z"
   },
   {
    "duration": 4,
    "start_time": "2023-12-10T05:46:05.478Z"
   },
   {
    "duration": 33,
    "start_time": "2023-12-10T05:46:05.483Z"
   },
   {
    "duration": 3,
    "start_time": "2023-12-10T05:46:05.517Z"
   },
   {
    "duration": 12,
    "start_time": "2023-12-10T05:46:05.521Z"
   },
   {
    "duration": 10,
    "start_time": "2023-12-10T05:46:05.534Z"
   },
   {
    "duration": 4,
    "start_time": "2023-12-10T05:46:05.545Z"
   },
   {
    "duration": 6,
    "start_time": "2023-12-10T05:46:05.553Z"
   },
   {
    "duration": 15,
    "start_time": "2023-12-10T05:46:05.561Z"
   },
   {
    "duration": 4,
    "start_time": "2023-12-10T05:46:05.577Z"
   },
   {
    "duration": 10,
    "start_time": "2023-12-10T05:46:05.582Z"
   },
   {
    "duration": 4,
    "start_time": "2023-12-10T05:46:05.614Z"
   },
   {
    "duration": 5,
    "start_time": "2023-12-10T05:46:05.620Z"
   },
   {
    "duration": 2,
    "start_time": "2023-12-10T05:46:05.626Z"
   },
   {
    "duration": 5,
    "start_time": "2023-12-10T05:46:05.630Z"
   },
   {
    "duration": 6,
    "start_time": "2023-12-10T05:46:05.636Z"
   },
   {
    "duration": 135,
    "start_time": "2023-12-10T05:46:05.643Z"
   },
   {
    "duration": 12,
    "start_time": "2023-12-10T05:46:05.779Z"
   },
   {
    "duration": 2,
    "start_time": "2023-12-10T05:46:05.792Z"
   },
   {
    "duration": 24,
    "start_time": "2023-12-10T05:46:05.795Z"
   },
   {
    "duration": 3,
    "start_time": "2023-12-10T05:46:05.821Z"
   },
   {
    "duration": 7,
    "start_time": "2023-12-10T05:46:05.825Z"
   },
   {
    "duration": 10,
    "start_time": "2023-12-10T05:46:05.833Z"
   },
   {
    "duration": 3,
    "start_time": "2023-12-10T05:46:05.844Z"
   },
   {
    "duration": 4,
    "start_time": "2023-12-10T05:46:05.849Z"
   },
   {
    "duration": 6,
    "start_time": "2023-12-10T05:46:05.854Z"
   },
   {
    "duration": 6,
    "start_time": "2023-12-10T05:46:05.861Z"
   },
   {
    "duration": 168,
    "start_time": "2023-12-10T05:46:05.868Z"
   },
   {
    "duration": 5,
    "start_time": "2023-12-10T05:46:06.037Z"
   },
   {
    "duration": 117,
    "start_time": "2023-12-10T05:46:06.043Z"
   },
   {
    "duration": 111,
    "start_time": "2023-12-10T05:46:06.161Z"
   },
   {
    "duration": 4,
    "start_time": "2023-12-10T05:46:06.273Z"
   },
   {
    "duration": 230,
    "start_time": "2023-12-10T05:46:06.278Z"
   },
   {
    "duration": 215,
    "start_time": "2023-12-10T05:46:06.515Z"
   },
   {
    "duration": 243,
    "start_time": "2023-12-10T05:46:06.732Z"
   },
   {
    "duration": 7,
    "start_time": "2023-12-10T05:46:06.976Z"
   },
   {
    "duration": 9,
    "start_time": "2023-12-10T05:46:06.984Z"
   },
   {
    "duration": 27,
    "start_time": "2023-12-10T05:46:06.994Z"
   },
   {
    "duration": 5,
    "start_time": "2023-12-10T05:46:07.022Z"
   },
   {
    "duration": 22,
    "start_time": "2023-12-10T05:46:07.028Z"
   },
   {
    "duration": 5,
    "start_time": "2023-12-10T05:46:07.051Z"
   },
   {
    "duration": 9,
    "start_time": "2023-12-10T05:46:07.057Z"
   },
   {
    "duration": 205,
    "start_time": "2023-12-10T05:46:07.067Z"
   },
   {
    "duration": 3,
    "start_time": "2023-12-10T05:46:07.274Z"
   },
   {
    "duration": 214,
    "start_time": "2023-12-10T05:46:07.278Z"
   },
   {
    "duration": 3,
    "start_time": "2023-12-10T05:46:07.494Z"
   },
   {
    "duration": 204,
    "start_time": "2023-12-10T05:46:07.498Z"
   },
   {
    "duration": 14,
    "start_time": "2023-12-10T05:46:07.703Z"
   },
   {
    "duration": 209,
    "start_time": "2023-12-10T05:46:07.718Z"
   },
   {
    "duration": 4,
    "start_time": "2023-12-10T05:46:07.928Z"
   },
   {
    "duration": 419,
    "start_time": "2023-12-10T05:46:07.933Z"
   },
   {
    "duration": 358,
    "start_time": "2023-12-10T05:46:08.353Z"
   },
   {
    "duration": 14,
    "start_time": "2023-12-10T05:46:08.712Z"
   },
   {
    "duration": 12,
    "start_time": "2023-12-10T05:46:08.727Z"
   },
   {
    "duration": 1,
    "start_time": "2023-12-10T05:46:08.741Z"
   },
   {
    "duration": 7,
    "start_time": "2023-12-10T05:46:08.743Z"
   },
   {
    "duration": 1289,
    "start_time": "2023-12-10T05:46:08.751Z"
   },
   {
    "duration": 0,
    "start_time": "2023-12-10T05:46:10.041Z"
   },
   {
    "duration": 0,
    "start_time": "2023-12-10T05:46:10.042Z"
   },
   {
    "duration": 0,
    "start_time": "2023-12-10T05:46:10.043Z"
   },
   {
    "duration": 0,
    "start_time": "2023-12-10T05:46:10.044Z"
   },
   {
    "duration": 970,
    "start_time": "2023-12-10T05:46:57.233Z"
   },
   {
    "duration": 64,
    "start_time": "2023-12-10T05:46:58.205Z"
   },
   {
    "duration": 9,
    "start_time": "2023-12-10T05:46:58.270Z"
   },
   {
    "duration": 17,
    "start_time": "2023-12-10T05:46:58.280Z"
   },
   {
    "duration": 13,
    "start_time": "2023-12-10T05:46:58.299Z"
   },
   {
    "duration": 10,
    "start_time": "2023-12-10T05:46:58.313Z"
   },
   {
    "duration": 12,
    "start_time": "2023-12-10T05:46:58.324Z"
   },
   {
    "duration": 14,
    "start_time": "2023-12-10T05:46:58.338Z"
   },
   {
    "duration": 5,
    "start_time": "2023-12-10T05:46:58.353Z"
   },
   {
    "duration": 8,
    "start_time": "2023-12-10T05:46:58.360Z"
   },
   {
    "duration": 13,
    "start_time": "2023-12-10T05:46:58.369Z"
   },
   {
    "duration": 5,
    "start_time": "2023-12-10T05:46:58.383Z"
   },
   {
    "duration": 31,
    "start_time": "2023-12-10T05:46:58.389Z"
   },
   {
    "duration": 3,
    "start_time": "2023-12-10T05:46:58.423Z"
   },
   {
    "duration": 8,
    "start_time": "2023-12-10T05:46:58.427Z"
   },
   {
    "duration": 6,
    "start_time": "2023-12-10T05:46:58.436Z"
   },
   {
    "duration": 4,
    "start_time": "2023-12-10T05:46:58.443Z"
   },
   {
    "duration": 10,
    "start_time": "2023-12-10T05:46:58.448Z"
   },
   {
    "duration": 4,
    "start_time": "2023-12-10T05:46:58.459Z"
   },
   {
    "duration": 22,
    "start_time": "2023-12-10T05:46:58.464Z"
   },
   {
    "duration": 4,
    "start_time": "2023-12-10T05:46:58.487Z"
   },
   {
    "duration": 24,
    "start_time": "2023-12-10T05:46:58.492Z"
   },
   {
    "duration": 4,
    "start_time": "2023-12-10T05:46:58.517Z"
   },
   {
    "duration": 4,
    "start_time": "2023-12-10T05:46:58.522Z"
   },
   {
    "duration": 6,
    "start_time": "2023-12-10T05:46:58.527Z"
   },
   {
    "duration": 5,
    "start_time": "2023-12-10T05:46:58.534Z"
   },
   {
    "duration": 5,
    "start_time": "2023-12-10T05:46:58.540Z"
   },
   {
    "duration": 7,
    "start_time": "2023-12-10T05:46:58.546Z"
   },
   {
    "duration": 8,
    "start_time": "2023-12-10T05:46:58.554Z"
   },
   {
    "duration": 4,
    "start_time": "2023-12-10T05:46:58.563Z"
   },
   {
    "duration": 6,
    "start_time": "2023-12-10T05:46:58.568Z"
   },
   {
    "duration": 9,
    "start_time": "2023-12-10T05:46:58.575Z"
   },
   {
    "duration": 32,
    "start_time": "2023-12-10T05:46:58.585Z"
   },
   {
    "duration": 3,
    "start_time": "2023-12-10T05:46:58.618Z"
   },
   {
    "duration": 5,
    "start_time": "2023-12-10T05:46:58.622Z"
   },
   {
    "duration": 6,
    "start_time": "2023-12-10T05:46:58.628Z"
   },
   {
    "duration": 131,
    "start_time": "2023-12-10T05:46:58.635Z"
   },
   {
    "duration": 12,
    "start_time": "2023-12-10T05:46:58.767Z"
   },
   {
    "duration": 1,
    "start_time": "2023-12-10T05:46:58.780Z"
   },
   {
    "duration": 12,
    "start_time": "2023-12-10T05:46:58.782Z"
   },
   {
    "duration": 18,
    "start_time": "2023-12-10T05:46:58.798Z"
   },
   {
    "duration": 4,
    "start_time": "2023-12-10T05:46:58.817Z"
   },
   {
    "duration": 5,
    "start_time": "2023-12-10T05:46:58.822Z"
   },
   {
    "duration": 3,
    "start_time": "2023-12-10T05:46:58.828Z"
   },
   {
    "duration": 6,
    "start_time": "2023-12-10T05:46:58.832Z"
   },
   {
    "duration": 18,
    "start_time": "2023-12-10T05:46:58.838Z"
   },
   {
    "duration": 5,
    "start_time": "2023-12-10T05:46:58.857Z"
   },
   {
    "duration": 150,
    "start_time": "2023-12-10T05:46:58.863Z"
   },
   {
    "duration": 5,
    "start_time": "2023-12-10T05:46:59.014Z"
   },
   {
    "duration": 112,
    "start_time": "2023-12-10T05:46:59.020Z"
   },
   {
    "duration": 113,
    "start_time": "2023-12-10T05:46:59.134Z"
   },
   {
    "duration": 4,
    "start_time": "2023-12-10T05:46:59.249Z"
   },
   {
    "duration": 226,
    "start_time": "2023-12-10T05:46:59.254Z"
   },
   {
    "duration": 209,
    "start_time": "2023-12-10T05:46:59.481Z"
   },
   {
    "duration": 240,
    "start_time": "2023-12-10T05:46:59.691Z"
   },
   {
    "duration": 8,
    "start_time": "2023-12-10T05:46:59.932Z"
   },
   {
    "duration": 9,
    "start_time": "2023-12-10T05:46:59.941Z"
   },
   {
    "duration": 10,
    "start_time": "2023-12-10T05:46:59.951Z"
   },
   {
    "duration": 131,
    "start_time": "2023-12-10T05:46:59.962Z"
   },
   {
    "duration": 10,
    "start_time": "2023-12-10T05:47:00.094Z"
   },
   {
    "duration": 5,
    "start_time": "2023-12-10T05:47:00.106Z"
   },
   {
    "duration": 44,
    "start_time": "2023-12-10T05:47:00.112Z"
   },
   {
    "duration": 209,
    "start_time": "2023-12-10T05:47:00.158Z"
   },
   {
    "duration": 5,
    "start_time": "2023-12-10T05:47:00.368Z"
   },
   {
    "duration": 251,
    "start_time": "2023-12-10T05:47:00.375Z"
   },
   {
    "duration": 4,
    "start_time": "2023-12-10T05:47:00.627Z"
   },
   {
    "duration": 236,
    "start_time": "2023-12-10T05:47:00.632Z"
   },
   {
    "duration": 3,
    "start_time": "2023-12-10T05:47:00.870Z"
   },
   {
    "duration": 211,
    "start_time": "2023-12-10T05:47:00.875Z"
   },
   {
    "duration": 4,
    "start_time": "2023-12-10T05:47:01.087Z"
   },
   {
    "duration": 430,
    "start_time": "2023-12-10T05:47:01.092Z"
   },
   {
    "duration": 353,
    "start_time": "2023-12-10T05:47:01.524Z"
   },
   {
    "duration": 12,
    "start_time": "2023-12-10T05:47:01.878Z"
   },
   {
    "duration": 40,
    "start_time": "2023-12-10T05:47:01.891Z"
   },
   {
    "duration": 56,
    "start_time": "2023-12-10T05:47:01.932Z"
   },
   {
    "duration": 44,
    "start_time": "2023-12-10T05:47:01.989Z"
   },
   {
    "duration": 30,
    "start_time": "2023-12-10T05:47:02.035Z"
   },
   {
    "duration": 42,
    "start_time": "2023-12-10T05:47:02.066Z"
   },
   {
    "duration": 21,
    "start_time": "2023-12-10T05:47:02.109Z"
   },
   {
    "duration": 62,
    "start_time": "2023-12-10T05:47:02.132Z"
   },
   {
    "duration": 88,
    "start_time": "2023-12-10T05:47:02.195Z"
   },
   {
    "duration": 953,
    "start_time": "2023-12-10T05:49:21.750Z"
   },
   {
    "duration": 64,
    "start_time": "2023-12-10T05:49:22.705Z"
   },
   {
    "duration": 10,
    "start_time": "2023-12-10T05:49:22.770Z"
   },
   {
    "duration": 8,
    "start_time": "2023-12-10T05:49:22.782Z"
   },
   {
    "duration": 11,
    "start_time": "2023-12-10T05:49:22.791Z"
   },
   {
    "duration": 5,
    "start_time": "2023-12-10T05:49:22.803Z"
   },
   {
    "duration": 9,
    "start_time": "2023-12-10T05:49:22.809Z"
   },
   {
    "duration": 12,
    "start_time": "2023-12-10T05:49:22.820Z"
   },
   {
    "duration": 5,
    "start_time": "2023-12-10T05:49:22.834Z"
   },
   {
    "duration": 7,
    "start_time": "2023-12-10T05:49:22.840Z"
   },
   {
    "duration": 11,
    "start_time": "2023-12-10T05:49:22.849Z"
   },
   {
    "duration": 4,
    "start_time": "2023-12-10T05:49:22.861Z"
   },
   {
    "duration": 8,
    "start_time": "2023-12-10T05:49:22.867Z"
   },
   {
    "duration": 4,
    "start_time": "2023-12-10T05:49:22.876Z"
   },
   {
    "duration": 38,
    "start_time": "2023-12-10T05:49:22.881Z"
   },
   {
    "duration": 7,
    "start_time": "2023-12-10T05:49:22.921Z"
   },
   {
    "duration": 4,
    "start_time": "2023-12-10T05:49:22.929Z"
   },
   {
    "duration": 10,
    "start_time": "2023-12-10T05:49:22.934Z"
   },
   {
    "duration": 4,
    "start_time": "2023-12-10T05:49:22.946Z"
   },
   {
    "duration": 12,
    "start_time": "2023-12-10T05:49:22.951Z"
   },
   {
    "duration": 4,
    "start_time": "2023-12-10T05:49:22.965Z"
   },
   {
    "duration": 5,
    "start_time": "2023-12-10T05:49:22.970Z"
   },
   {
    "duration": 5,
    "start_time": "2023-12-10T05:49:23.014Z"
   },
   {
    "duration": 4,
    "start_time": "2023-12-10T05:49:23.020Z"
   },
   {
    "duration": 4,
    "start_time": "2023-12-10T05:49:23.025Z"
   },
   {
    "duration": 4,
    "start_time": "2023-12-10T05:49:23.030Z"
   },
   {
    "duration": 4,
    "start_time": "2023-12-10T05:49:23.035Z"
   },
   {
    "duration": 13,
    "start_time": "2023-12-10T05:49:23.043Z"
   },
   {
    "duration": 8,
    "start_time": "2023-12-10T05:49:23.057Z"
   },
   {
    "duration": 5,
    "start_time": "2023-12-10T05:49:23.066Z"
   },
   {
    "duration": 4,
    "start_time": "2023-12-10T05:49:23.072Z"
   },
   {
    "duration": 3,
    "start_time": "2023-12-10T05:49:23.078Z"
   },
   {
    "duration": 36,
    "start_time": "2023-12-10T05:49:23.082Z"
   },
   {
    "duration": 2,
    "start_time": "2023-12-10T05:49:23.120Z"
   },
   {
    "duration": 4,
    "start_time": "2023-12-10T05:49:23.124Z"
   },
   {
    "duration": 6,
    "start_time": "2023-12-10T05:49:23.129Z"
   },
   {
    "duration": 136,
    "start_time": "2023-12-10T05:49:23.136Z"
   },
   {
    "duration": 7,
    "start_time": "2023-12-10T05:49:23.273Z"
   },
   {
    "duration": 15,
    "start_time": "2023-12-10T05:49:23.281Z"
   },
   {
    "duration": 14,
    "start_time": "2023-12-10T05:49:23.298Z"
   },
   {
    "duration": 18,
    "start_time": "2023-12-10T05:49:23.313Z"
   },
   {
    "duration": 20,
    "start_time": "2023-12-10T05:49:23.332Z"
   },
   {
    "duration": 5,
    "start_time": "2023-12-10T05:49:23.353Z"
   },
   {
    "duration": 9,
    "start_time": "2023-12-10T05:49:23.359Z"
   },
   {
    "duration": 8,
    "start_time": "2023-12-10T05:49:23.369Z"
   },
   {
    "duration": 18,
    "start_time": "2023-12-10T05:49:23.378Z"
   },
   {
    "duration": 8,
    "start_time": "2023-12-10T05:49:23.397Z"
   },
   {
    "duration": 162,
    "start_time": "2023-12-10T05:49:23.406Z"
   },
   {
    "duration": 4,
    "start_time": "2023-12-10T05:49:23.569Z"
   },
   {
    "duration": 138,
    "start_time": "2023-12-10T05:49:23.574Z"
   },
   {
    "duration": 103,
    "start_time": "2023-12-10T05:49:23.713Z"
   },
   {
    "duration": 4,
    "start_time": "2023-12-10T05:49:23.818Z"
   },
   {
    "duration": 221,
    "start_time": "2023-12-10T05:49:23.823Z"
   },
   {
    "duration": 213,
    "start_time": "2023-12-10T05:49:24.045Z"
   },
   {
    "duration": 252,
    "start_time": "2023-12-10T05:49:24.259Z"
   },
   {
    "duration": 10,
    "start_time": "2023-12-10T05:49:24.512Z"
   },
   {
    "duration": 9,
    "start_time": "2023-12-10T05:49:24.523Z"
   },
   {
    "duration": 11,
    "start_time": "2023-12-10T05:49:24.534Z"
   },
   {
    "duration": 6,
    "start_time": "2023-12-10T05:49:24.547Z"
   },
   {
    "duration": 9,
    "start_time": "2023-12-10T05:49:24.554Z"
   },
   {
    "duration": 5,
    "start_time": "2023-12-10T05:49:24.565Z"
   },
   {
    "duration": 49,
    "start_time": "2023-12-10T05:49:24.572Z"
   },
   {
    "duration": 210,
    "start_time": "2023-12-10T05:49:24.623Z"
   },
   {
    "duration": 4,
    "start_time": "2023-12-10T05:49:24.835Z"
   },
   {
    "duration": 211,
    "start_time": "2023-12-10T05:49:24.841Z"
   },
   {
    "duration": 4,
    "start_time": "2023-12-10T05:49:25.053Z"
   },
   {
    "duration": 225,
    "start_time": "2023-12-10T05:49:25.058Z"
   },
   {
    "duration": 3,
    "start_time": "2023-12-10T05:49:25.284Z"
   },
   {
    "duration": 231,
    "start_time": "2023-12-10T05:49:25.288Z"
   },
   {
    "duration": 4,
    "start_time": "2023-12-10T05:49:25.521Z"
   },
   {
    "duration": 418,
    "start_time": "2023-12-10T05:49:25.526Z"
   },
   {
    "duration": 364,
    "start_time": "2023-12-10T05:49:25.945Z"
   },
   {
    "duration": 16,
    "start_time": "2023-12-10T05:49:26.311Z"
   },
   {
    "duration": 13,
    "start_time": "2023-12-10T05:49:26.328Z"
   },
   {
    "duration": 4,
    "start_time": "2023-12-10T05:49:26.342Z"
   },
   {
    "duration": 4,
    "start_time": "2023-12-10T05:49:26.347Z"
   },
   {
    "duration": 7,
    "start_time": "2023-12-10T05:49:26.352Z"
   },
   {
    "duration": 14,
    "start_time": "2023-12-10T05:49:26.360Z"
   },
   {
    "duration": 7,
    "start_time": "2023-12-10T05:49:26.375Z"
   },
   {
    "duration": 6,
    "start_time": "2023-12-10T05:49:26.415Z"
   },
   {
    "duration": 7,
    "start_time": "2023-12-10T05:49:26.422Z"
   },
   {
    "duration": 1011,
    "start_time": "2023-12-10T05:50:44.590Z"
   },
   {
    "duration": 63,
    "start_time": "2023-12-10T05:50:45.602Z"
   },
   {
    "duration": 11,
    "start_time": "2023-12-10T05:50:45.666Z"
   },
   {
    "duration": 9,
    "start_time": "2023-12-10T05:50:45.678Z"
   },
   {
    "duration": 11,
    "start_time": "2023-12-10T05:50:45.688Z"
   },
   {
    "duration": 6,
    "start_time": "2023-12-10T05:50:45.700Z"
   },
   {
    "duration": 9,
    "start_time": "2023-12-10T05:50:45.707Z"
   },
   {
    "duration": 14,
    "start_time": "2023-12-10T05:50:45.717Z"
   },
   {
    "duration": 5,
    "start_time": "2023-12-10T05:50:45.732Z"
   },
   {
    "duration": 7,
    "start_time": "2023-12-10T05:50:45.739Z"
   },
   {
    "duration": 20,
    "start_time": "2023-12-10T05:50:45.747Z"
   },
   {
    "duration": 5,
    "start_time": "2023-12-10T05:50:45.768Z"
   },
   {
    "duration": 7,
    "start_time": "2023-12-10T05:50:45.774Z"
   },
   {
    "duration": 3,
    "start_time": "2023-12-10T05:50:45.782Z"
   },
   {
    "duration": 8,
    "start_time": "2023-12-10T05:50:45.786Z"
   },
   {
    "duration": 24,
    "start_time": "2023-12-10T05:50:45.795Z"
   },
   {
    "duration": 9,
    "start_time": "2023-12-10T05:50:45.820Z"
   },
   {
    "duration": 13,
    "start_time": "2023-12-10T05:50:45.830Z"
   },
   {
    "duration": 4,
    "start_time": "2023-12-10T05:50:45.844Z"
   },
   {
    "duration": 20,
    "start_time": "2023-12-10T05:50:45.849Z"
   },
   {
    "duration": 5,
    "start_time": "2023-12-10T05:50:45.870Z"
   },
   {
    "duration": 5,
    "start_time": "2023-12-10T05:50:45.876Z"
   },
   {
    "duration": 8,
    "start_time": "2023-12-10T05:50:45.883Z"
   },
   {
    "duration": 24,
    "start_time": "2023-12-10T05:50:45.892Z"
   },
   {
    "duration": 4,
    "start_time": "2023-12-10T05:50:45.918Z"
   },
   {
    "duration": 6,
    "start_time": "2023-12-10T05:50:45.923Z"
   },
   {
    "duration": 6,
    "start_time": "2023-12-10T05:50:45.930Z"
   },
   {
    "duration": 6,
    "start_time": "2023-12-10T05:50:45.940Z"
   },
   {
    "duration": 9,
    "start_time": "2023-12-10T05:50:45.947Z"
   },
   {
    "duration": 3,
    "start_time": "2023-12-10T05:50:45.957Z"
   },
   {
    "duration": 4,
    "start_time": "2023-12-10T05:50:45.961Z"
   },
   {
    "duration": 4,
    "start_time": "2023-12-10T05:50:45.966Z"
   },
   {
    "duration": 6,
    "start_time": "2023-12-10T05:50:45.971Z"
   },
   {
    "duration": 37,
    "start_time": "2023-12-10T05:50:45.978Z"
   },
   {
    "duration": 7,
    "start_time": "2023-12-10T05:50:46.016Z"
   },
   {
    "duration": 8,
    "start_time": "2023-12-10T05:50:46.024Z"
   },
   {
    "duration": 119,
    "start_time": "2023-12-10T05:50:46.033Z"
   },
   {
    "duration": 6,
    "start_time": "2023-12-10T05:50:46.154Z"
   },
   {
    "duration": 6,
    "start_time": "2023-12-10T05:50:46.161Z"
   },
   {
    "duration": 20,
    "start_time": "2023-12-10T05:50:46.168Z"
   },
   {
    "duration": 4,
    "start_time": "2023-12-10T05:50:46.189Z"
   },
   {
    "duration": 6,
    "start_time": "2023-12-10T05:50:46.194Z"
   },
   {
    "duration": 7,
    "start_time": "2023-12-10T05:50:46.201Z"
   },
   {
    "duration": 3,
    "start_time": "2023-12-10T05:50:46.215Z"
   },
   {
    "duration": 5,
    "start_time": "2023-12-10T05:50:46.219Z"
   },
   {
    "duration": 6,
    "start_time": "2023-12-10T05:50:46.225Z"
   },
   {
    "duration": 10,
    "start_time": "2023-12-10T05:50:46.232Z"
   },
   {
    "duration": 154,
    "start_time": "2023-12-10T05:50:46.243Z"
   },
   {
    "duration": 5,
    "start_time": "2023-12-10T05:50:46.398Z"
   },
   {
    "duration": 109,
    "start_time": "2023-12-10T05:50:46.415Z"
   },
   {
    "duration": 107,
    "start_time": "2023-12-10T05:50:46.525Z"
   },
   {
    "duration": 4,
    "start_time": "2023-12-10T05:50:46.633Z"
   },
   {
    "duration": 224,
    "start_time": "2023-12-10T05:50:46.638Z"
   },
   {
    "duration": 214,
    "start_time": "2023-12-10T05:50:46.864Z"
   },
   {
    "duration": 258,
    "start_time": "2023-12-10T05:50:47.079Z"
   },
   {
    "duration": 8,
    "start_time": "2023-12-10T05:50:47.338Z"
   },
   {
    "duration": 9,
    "start_time": "2023-12-10T05:50:47.347Z"
   },
   {
    "duration": 23,
    "start_time": "2023-12-10T05:50:47.357Z"
   },
   {
    "duration": 9,
    "start_time": "2023-12-10T05:50:47.381Z"
   },
   {
    "duration": 16,
    "start_time": "2023-12-10T05:50:47.391Z"
   },
   {
    "duration": 7,
    "start_time": "2023-12-10T05:50:47.408Z"
   },
   {
    "duration": 10,
    "start_time": "2023-12-10T05:50:47.416Z"
   },
   {
    "duration": 208,
    "start_time": "2023-12-10T05:50:47.427Z"
   },
   {
    "duration": 4,
    "start_time": "2023-12-10T05:50:47.636Z"
   },
   {
    "duration": 209,
    "start_time": "2023-12-10T05:50:47.641Z"
   },
   {
    "duration": 3,
    "start_time": "2023-12-10T05:50:47.851Z"
   },
   {
    "duration": 211,
    "start_time": "2023-12-10T05:50:47.856Z"
   },
   {
    "duration": 4,
    "start_time": "2023-12-10T05:50:48.069Z"
   },
   {
    "duration": 217,
    "start_time": "2023-12-10T05:50:48.074Z"
   },
   {
    "duration": 4,
    "start_time": "2023-12-10T05:50:48.292Z"
   },
   {
    "duration": 418,
    "start_time": "2023-12-10T05:50:48.297Z"
   },
   {
    "duration": 361,
    "start_time": "2023-12-10T05:50:48.716Z"
   },
   {
    "duration": 14,
    "start_time": "2023-12-10T05:50:49.078Z"
   },
   {
    "duration": 22,
    "start_time": "2023-12-10T05:50:49.094Z"
   },
   {
    "duration": 4,
    "start_time": "2023-12-10T05:50:49.117Z"
   },
   {
    "duration": 5,
    "start_time": "2023-12-10T05:50:49.122Z"
   },
   {
    "duration": 6,
    "start_time": "2023-12-10T05:50:49.129Z"
   },
   {
    "duration": 13,
    "start_time": "2023-12-10T05:50:49.137Z"
   },
   {
    "duration": 9,
    "start_time": "2023-12-10T05:50:49.151Z"
   },
   {
    "duration": 13,
    "start_time": "2023-12-10T05:50:49.161Z"
   },
   {
    "duration": 11,
    "start_time": "2023-12-10T05:50:49.175Z"
   },
   {
    "duration": 48,
    "start_time": "2023-12-10T07:52:13.763Z"
   },
   {
    "duration": 1376,
    "start_time": "2023-12-10T07:52:22.836Z"
   },
   {
    "duration": 296,
    "start_time": "2023-12-10T07:52:24.214Z"
   },
   {
    "duration": 15,
    "start_time": "2023-12-10T07:52:24.512Z"
   },
   {
    "duration": 12,
    "start_time": "2023-12-10T07:52:24.529Z"
   },
   {
    "duration": 18,
    "start_time": "2023-12-10T07:52:24.542Z"
   },
   {
    "duration": 8,
    "start_time": "2023-12-10T07:52:24.561Z"
   },
   {
    "duration": 25,
    "start_time": "2023-12-10T07:52:24.570Z"
   },
   {
    "duration": 35,
    "start_time": "2023-12-10T07:52:24.597Z"
   },
   {
    "duration": 8,
    "start_time": "2023-12-10T07:52:24.633Z"
   },
   {
    "duration": 17,
    "start_time": "2023-12-10T07:52:24.645Z"
   },
   {
    "duration": 30,
    "start_time": "2023-12-10T07:52:24.664Z"
   },
   {
    "duration": 14,
    "start_time": "2023-12-10T07:52:24.696Z"
   },
   {
    "duration": 24,
    "start_time": "2023-12-10T07:52:24.712Z"
   },
   {
    "duration": 6,
    "start_time": "2023-12-10T07:52:24.738Z"
   },
   {
    "duration": 14,
    "start_time": "2023-12-10T07:52:24.745Z"
   },
   {
    "duration": 13,
    "start_time": "2023-12-10T07:52:24.761Z"
   },
   {
    "duration": 9,
    "start_time": "2023-12-10T07:52:24.776Z"
   },
   {
    "duration": 15,
    "start_time": "2023-12-10T07:52:24.787Z"
   },
   {
    "duration": 30,
    "start_time": "2023-12-10T07:52:24.804Z"
   },
   {
    "duration": 32,
    "start_time": "2023-12-10T07:52:24.837Z"
   },
   {
    "duration": 7,
    "start_time": "2023-12-10T07:52:24.871Z"
   },
   {
    "duration": 6,
    "start_time": "2023-12-10T07:52:24.880Z"
   },
   {
    "duration": 10,
    "start_time": "2023-12-10T07:52:24.887Z"
   },
   {
    "duration": 7,
    "start_time": "2023-12-10T07:52:24.899Z"
   },
   {
    "duration": 9,
    "start_time": "2023-12-10T07:52:24.907Z"
   },
   {
    "duration": 18,
    "start_time": "2023-12-10T07:52:24.917Z"
   },
   {
    "duration": 15,
    "start_time": "2023-12-10T07:52:24.937Z"
   },
   {
    "duration": 9,
    "start_time": "2023-12-10T07:52:24.957Z"
   },
   {
    "duration": 18,
    "start_time": "2023-12-10T07:52:24.968Z"
   },
   {
    "duration": 4,
    "start_time": "2023-12-10T07:52:24.988Z"
   },
   {
    "duration": 7,
    "start_time": "2023-12-10T07:52:24.993Z"
   },
   {
    "duration": 13,
    "start_time": "2023-12-10T07:52:25.002Z"
   },
   {
    "duration": 16,
    "start_time": "2023-12-10T07:52:25.017Z"
   },
   {
    "duration": 12,
    "start_time": "2023-12-10T07:52:25.034Z"
   },
   {
    "duration": 10,
    "start_time": "2023-12-10T07:52:25.048Z"
   },
   {
    "duration": 10,
    "start_time": "2023-12-10T07:52:25.060Z"
   },
   {
    "duration": 160,
    "start_time": "2023-12-10T07:52:25.072Z"
   },
   {
    "duration": 8,
    "start_time": "2023-12-10T07:52:25.234Z"
   },
   {
    "duration": 10,
    "start_time": "2023-12-10T07:52:25.243Z"
   },
   {
    "duration": 8,
    "start_time": "2023-12-10T07:52:25.254Z"
   },
   {
    "duration": 7,
    "start_time": "2023-12-10T07:52:25.264Z"
   },
   {
    "duration": 8,
    "start_time": "2023-12-10T07:52:25.272Z"
   },
   {
    "duration": 9,
    "start_time": "2023-12-10T07:52:25.282Z"
   },
   {
    "duration": 4,
    "start_time": "2023-12-10T07:52:25.293Z"
   },
   {
    "duration": 38,
    "start_time": "2023-12-10T07:52:25.298Z"
   },
   {
    "duration": 10,
    "start_time": "2023-12-10T07:52:25.337Z"
   },
   {
    "duration": 6,
    "start_time": "2023-12-10T07:52:25.348Z"
   },
   {
    "duration": 186,
    "start_time": "2023-12-10T07:52:25.355Z"
   },
   {
    "duration": 7,
    "start_time": "2023-12-10T07:52:25.542Z"
   },
   {
    "duration": 145,
    "start_time": "2023-12-10T07:52:25.550Z"
   },
   {
    "duration": 136,
    "start_time": "2023-12-10T07:52:25.696Z"
   },
   {
    "duration": 5,
    "start_time": "2023-12-10T07:52:25.834Z"
   },
   {
    "duration": 310,
    "start_time": "2023-12-10T07:52:25.841Z"
   },
   {
    "duration": 290,
    "start_time": "2023-12-10T07:52:26.154Z"
   },
   {
    "duration": 358,
    "start_time": "2023-12-10T07:52:26.445Z"
   },
   {
    "duration": 10,
    "start_time": "2023-12-10T07:52:26.804Z"
   },
   {
    "duration": 25,
    "start_time": "2023-12-10T07:52:26.815Z"
   },
   {
    "duration": 27,
    "start_time": "2023-12-10T07:52:26.842Z"
   },
   {
    "duration": 7,
    "start_time": "2023-12-10T07:52:26.871Z"
   },
   {
    "duration": 27,
    "start_time": "2023-12-10T07:52:26.879Z"
   },
   {
    "duration": 6,
    "start_time": "2023-12-10T07:52:26.908Z"
   },
   {
    "duration": 18,
    "start_time": "2023-12-10T07:52:26.915Z"
   },
   {
    "duration": 280,
    "start_time": "2023-12-10T07:52:26.935Z"
   },
   {
    "duration": 5,
    "start_time": "2023-12-10T07:52:27.217Z"
   },
   {
    "duration": 261,
    "start_time": "2023-12-10T07:52:27.231Z"
   },
   {
    "duration": 5,
    "start_time": "2023-12-10T07:52:27.493Z"
   },
   {
    "duration": 300,
    "start_time": "2023-12-10T07:52:27.499Z"
   },
   {
    "duration": 6,
    "start_time": "2023-12-10T07:52:27.801Z"
   },
   {
    "duration": 292,
    "start_time": "2023-12-10T07:52:27.809Z"
   },
   {
    "duration": 5,
    "start_time": "2023-12-10T07:52:28.103Z"
   },
   {
    "duration": 624,
    "start_time": "2023-12-10T07:52:28.110Z"
   },
   {
    "duration": 470,
    "start_time": "2023-12-10T07:52:28.736Z"
   },
   {
    "duration": 26,
    "start_time": "2023-12-10T07:52:29.208Z"
   },
   {
    "duration": 16,
    "start_time": "2023-12-10T07:52:29.235Z"
   },
   {
    "duration": 5,
    "start_time": "2023-12-10T07:52:29.253Z"
   },
   {
    "duration": 5,
    "start_time": "2023-12-10T07:52:29.260Z"
   },
   {
    "duration": 13,
    "start_time": "2023-12-10T07:52:29.267Z"
   },
   {
    "duration": 21,
    "start_time": "2023-12-10T07:52:29.282Z"
   },
   {
    "duration": 32,
    "start_time": "2023-12-10T07:52:29.305Z"
   },
   {
    "duration": 8,
    "start_time": "2023-12-10T07:52:29.338Z"
   },
   {
    "duration": 11,
    "start_time": "2023-12-10T07:52:29.348Z"
   },
   {
    "duration": 7,
    "start_time": "2023-12-10T07:53:19.096Z"
   },
   {
    "duration": 7,
    "start_time": "2023-12-10T07:53:29.468Z"
   },
   {
    "duration": 10,
    "start_time": "2023-12-10T07:53:43.998Z"
   },
   {
    "duration": 7,
    "start_time": "2023-12-10T07:53:45.802Z"
   },
   {
    "duration": 1178,
    "start_time": "2023-12-10T11:56:23.572Z"
   },
   {
    "duration": 186,
    "start_time": "2023-12-10T11:56:24.752Z"
   },
   {
    "duration": 16,
    "start_time": "2023-12-10T11:56:24.940Z"
   },
   {
    "duration": 11,
    "start_time": "2023-12-10T11:56:24.958Z"
   },
   {
    "duration": 16,
    "start_time": "2023-12-10T11:56:24.971Z"
   },
   {
    "duration": 7,
    "start_time": "2023-12-10T11:56:24.988Z"
   },
   {
    "duration": 12,
    "start_time": "2023-12-10T11:56:24.997Z"
   },
   {
    "duration": 43,
    "start_time": "2023-12-10T11:56:25.011Z"
   },
   {
    "duration": 8,
    "start_time": "2023-12-10T11:56:25.056Z"
   },
   {
    "duration": 11,
    "start_time": "2023-12-10T11:56:25.067Z"
   },
   {
    "duration": 17,
    "start_time": "2023-12-10T11:56:25.080Z"
   },
   {
    "duration": 8,
    "start_time": "2023-12-10T11:56:25.099Z"
   },
   {
    "duration": 42,
    "start_time": "2023-12-10T11:56:25.109Z"
   },
   {
    "duration": 6,
    "start_time": "2023-12-10T11:56:25.153Z"
   },
   {
    "duration": 13,
    "start_time": "2023-12-10T11:56:25.160Z"
   },
   {
    "duration": 16,
    "start_time": "2023-12-10T11:56:25.175Z"
   },
   {
    "duration": 8,
    "start_time": "2023-12-10T11:56:25.192Z"
   },
   {
    "duration": 20,
    "start_time": "2023-12-10T11:56:25.202Z"
   },
   {
    "duration": 23,
    "start_time": "2023-12-10T11:56:25.224Z"
   },
   {
    "duration": 20,
    "start_time": "2023-12-10T11:56:25.249Z"
   },
   {
    "duration": 6,
    "start_time": "2023-12-10T11:56:25.271Z"
   },
   {
    "duration": 8,
    "start_time": "2023-12-10T11:56:25.279Z"
   },
   {
    "duration": 16,
    "start_time": "2023-12-10T11:56:25.289Z"
   },
   {
    "duration": 7,
    "start_time": "2023-12-10T11:56:25.306Z"
   },
   {
    "duration": 33,
    "start_time": "2023-12-10T11:56:25.315Z"
   },
   {
    "duration": 5,
    "start_time": "2023-12-10T11:56:25.350Z"
   },
   {
    "duration": 16,
    "start_time": "2023-12-10T11:56:25.357Z"
   },
   {
    "duration": 9,
    "start_time": "2023-12-10T11:56:25.380Z"
   },
   {
    "duration": 14,
    "start_time": "2023-12-10T11:56:25.391Z"
   },
   {
    "duration": 5,
    "start_time": "2023-12-10T11:56:25.407Z"
   },
   {
    "duration": 37,
    "start_time": "2023-12-10T11:56:25.443Z"
   },
   {
    "duration": 17,
    "start_time": "2023-12-10T11:56:25.482Z"
   },
   {
    "duration": 40,
    "start_time": "2023-12-10T11:56:25.501Z"
   },
   {
    "duration": 38,
    "start_time": "2023-12-10T11:56:25.543Z"
   },
   {
    "duration": 22,
    "start_time": "2023-12-10T11:56:25.583Z"
   },
   {
    "duration": 18,
    "start_time": "2023-12-10T11:56:25.607Z"
   },
   {
    "duration": 183,
    "start_time": "2023-12-10T11:56:25.626Z"
   },
   {
    "duration": 9,
    "start_time": "2023-12-10T11:56:25.812Z"
   },
   {
    "duration": 20,
    "start_time": "2023-12-10T11:56:25.822Z"
   },
   {
    "duration": 9,
    "start_time": "2023-12-10T11:56:25.844Z"
   },
   {
    "duration": 10,
    "start_time": "2023-12-10T11:56:25.855Z"
   },
   {
    "duration": 5,
    "start_time": "2023-12-10T11:56:25.866Z"
   },
   {
    "duration": 10,
    "start_time": "2023-12-10T11:56:25.873Z"
   },
   {
    "duration": 4,
    "start_time": "2023-12-10T11:56:25.885Z"
   },
   {
    "duration": 12,
    "start_time": "2023-12-10T11:56:25.890Z"
   },
   {
    "duration": 8,
    "start_time": "2023-12-10T11:56:25.904Z"
   },
   {
    "duration": 6,
    "start_time": "2023-12-10T11:56:25.942Z"
   },
   {
    "duration": 195,
    "start_time": "2023-12-10T11:56:25.950Z"
   },
   {
    "duration": 7,
    "start_time": "2023-12-10T11:56:26.146Z"
   },
   {
    "duration": 158,
    "start_time": "2023-12-10T11:56:26.155Z"
   },
   {
    "duration": 131,
    "start_time": "2023-12-10T11:56:26.315Z"
   },
   {
    "duration": 6,
    "start_time": "2023-12-10T11:56:26.448Z"
   },
   {
    "duration": 301,
    "start_time": "2023-12-10T11:56:26.455Z"
   },
   {
    "duration": 267,
    "start_time": "2023-12-10T11:56:26.758Z"
   },
   {
    "duration": 341,
    "start_time": "2023-12-10T11:56:27.027Z"
   },
   {
    "duration": 9,
    "start_time": "2023-12-10T11:56:27.370Z"
   },
   {
    "duration": 10,
    "start_time": "2023-12-10T11:56:27.380Z"
   },
   {
    "duration": 13,
    "start_time": "2023-12-10T11:56:27.392Z"
   },
   {
    "duration": 6,
    "start_time": "2023-12-10T11:56:27.407Z"
   },
   {
    "duration": 36,
    "start_time": "2023-12-10T11:56:27.414Z"
   },
   {
    "duration": 6,
    "start_time": "2023-12-10T11:56:27.452Z"
   },
   {
    "duration": 20,
    "start_time": "2023-12-10T11:56:27.460Z"
   },
   {
    "duration": 269,
    "start_time": "2023-12-10T11:56:27.482Z"
   },
   {
    "duration": 6,
    "start_time": "2023-12-10T11:56:27.753Z"
   },
   {
    "duration": 270,
    "start_time": "2023-12-10T11:56:27.762Z"
   },
   {
    "duration": 9,
    "start_time": "2023-12-10T11:56:28.034Z"
   },
   {
    "duration": 262,
    "start_time": "2023-12-10T11:56:28.045Z"
   },
   {
    "duration": 5,
    "start_time": "2023-12-10T11:56:28.309Z"
   },
   {
    "duration": 271,
    "start_time": "2023-12-10T11:56:28.315Z"
   },
   {
    "duration": 4,
    "start_time": "2023-12-10T11:56:28.588Z"
   },
   {
    "duration": 562,
    "start_time": "2023-12-10T11:56:28.594Z"
   },
   {
    "duration": 474,
    "start_time": "2023-12-10T11:56:29.158Z"
   },
   {
    "duration": 17,
    "start_time": "2023-12-10T11:56:29.634Z"
   },
   {
    "duration": 35,
    "start_time": "2023-12-10T11:56:29.653Z"
   },
   {
    "duration": 32,
    "start_time": "2023-12-10T11:56:29.690Z"
   },
   {
    "duration": 31,
    "start_time": "2023-12-10T11:56:29.724Z"
   },
   {
    "duration": 27,
    "start_time": "2023-12-10T11:56:29.757Z"
   },
   {
    "duration": 36,
    "start_time": "2023-12-10T11:56:29.786Z"
   },
   {
    "duration": 27,
    "start_time": "2023-12-10T11:56:29.824Z"
   },
   {
    "duration": 30,
    "start_time": "2023-12-10T11:56:29.853Z"
   },
   {
    "duration": 34,
    "start_time": "2023-12-10T11:56:29.885Z"
   },
   {
    "duration": 1108,
    "start_time": "2023-12-10T11:58:32.699Z"
   },
   {
    "duration": 67,
    "start_time": "2023-12-10T11:58:33.809Z"
   },
   {
    "duration": 12,
    "start_time": "2023-12-10T11:58:33.877Z"
   },
   {
    "duration": 10,
    "start_time": "2023-12-10T11:58:33.891Z"
   },
   {
    "duration": 12,
    "start_time": "2023-12-10T11:58:33.902Z"
   },
   {
    "duration": 7,
    "start_time": "2023-12-10T11:58:33.916Z"
   },
   {
    "duration": 10,
    "start_time": "2023-12-10T11:58:33.924Z"
   },
   {
    "duration": 16,
    "start_time": "2023-12-10T11:58:33.943Z"
   },
   {
    "duration": 6,
    "start_time": "2023-12-10T11:58:33.960Z"
   },
   {
    "duration": 9,
    "start_time": "2023-12-10T11:58:33.969Z"
   },
   {
    "duration": 16,
    "start_time": "2023-12-10T11:58:33.979Z"
   },
   {
    "duration": 6,
    "start_time": "2023-12-10T11:58:33.996Z"
   },
   {
    "duration": 44,
    "start_time": "2023-12-10T11:58:34.004Z"
   },
   {
    "duration": 5,
    "start_time": "2023-12-10T11:58:34.050Z"
   },
   {
    "duration": 9,
    "start_time": "2023-12-10T11:58:34.056Z"
   },
   {
    "duration": 8,
    "start_time": "2023-12-10T11:58:34.066Z"
   },
   {
    "duration": 4,
    "start_time": "2023-12-10T11:58:34.075Z"
   },
   {
    "duration": 12,
    "start_time": "2023-12-10T11:58:34.081Z"
   },
   {
    "duration": 5,
    "start_time": "2023-12-10T11:58:34.094Z"
   },
   {
    "duration": 53,
    "start_time": "2023-12-10T11:58:34.100Z"
   },
   {
    "duration": 5,
    "start_time": "2023-12-10T11:58:34.154Z"
   },
   {
    "duration": 6,
    "start_time": "2023-12-10T11:58:34.160Z"
   },
   {
    "duration": 5,
    "start_time": "2023-12-10T11:58:34.167Z"
   },
   {
    "duration": 4,
    "start_time": "2023-12-10T11:58:34.174Z"
   },
   {
    "duration": 7,
    "start_time": "2023-12-10T11:58:34.179Z"
   },
   {
    "duration": 5,
    "start_time": "2023-12-10T11:58:34.187Z"
   },
   {
    "duration": 5,
    "start_time": "2023-12-10T11:58:34.193Z"
   },
   {
    "duration": 8,
    "start_time": "2023-12-10T11:58:34.242Z"
   },
   {
    "duration": 10,
    "start_time": "2023-12-10T11:58:34.252Z"
   },
   {
    "duration": 4,
    "start_time": "2023-12-10T11:58:34.263Z"
   },
   {
    "duration": 5,
    "start_time": "2023-12-10T11:58:34.269Z"
   },
   {
    "duration": 5,
    "start_time": "2023-12-10T11:58:34.275Z"
   },
   {
    "duration": 8,
    "start_time": "2023-12-10T11:58:34.282Z"
   },
   {
    "duration": 3,
    "start_time": "2023-12-10T11:58:34.291Z"
   },
   {
    "duration": 6,
    "start_time": "2023-12-10T11:58:34.296Z"
   },
   {
    "duration": 40,
    "start_time": "2023-12-10T11:58:34.303Z"
   },
   {
    "duration": 153,
    "start_time": "2023-12-10T11:58:34.345Z"
   },
   {
    "duration": 8,
    "start_time": "2023-12-10T11:58:34.499Z"
   },
   {
    "duration": 6,
    "start_time": "2023-12-10T11:58:34.508Z"
   },
   {
    "duration": 6,
    "start_time": "2023-12-10T11:58:34.516Z"
   },
   {
    "duration": 4,
    "start_time": "2023-12-10T11:58:34.542Z"
   },
   {
    "duration": 3,
    "start_time": "2023-12-10T11:58:34.548Z"
   },
   {
    "duration": 6,
    "start_time": "2023-12-10T11:58:34.553Z"
   },
   {
    "duration": 4,
    "start_time": "2023-12-10T11:58:34.560Z"
   },
   {
    "duration": 5,
    "start_time": "2023-12-10T11:58:34.565Z"
   },
   {
    "duration": 6,
    "start_time": "2023-12-10T11:58:34.572Z"
   },
   {
    "duration": 6,
    "start_time": "2023-12-10T11:58:34.579Z"
   },
   {
    "duration": 213,
    "start_time": "2023-12-10T11:58:34.586Z"
   },
   {
    "duration": 6,
    "start_time": "2023-12-10T11:58:34.800Z"
   },
   {
    "duration": 153,
    "start_time": "2023-12-10T11:58:34.807Z"
   },
   {
    "duration": 126,
    "start_time": "2023-12-10T11:58:34.961Z"
   },
   {
    "duration": 5,
    "start_time": "2023-12-10T11:58:35.088Z"
   },
   {
    "duration": 283,
    "start_time": "2023-12-10T11:58:35.094Z"
   },
   {
    "duration": 288,
    "start_time": "2023-12-10T11:58:35.379Z"
   },
   {
    "duration": 342,
    "start_time": "2023-12-10T11:58:35.668Z"
   },
   {
    "duration": 10,
    "start_time": "2023-12-10T11:58:36.011Z"
   },
   {
    "duration": 11,
    "start_time": "2023-12-10T11:58:36.022Z"
   },
   {
    "duration": 14,
    "start_time": "2023-12-10T11:58:36.043Z"
   },
   {
    "duration": 6,
    "start_time": "2023-12-10T11:58:36.059Z"
   },
   {
    "duration": 10,
    "start_time": "2023-12-10T11:58:36.066Z"
   },
   {
    "duration": 6,
    "start_time": "2023-12-10T11:58:36.078Z"
   },
   {
    "duration": 14,
    "start_time": "2023-12-10T11:58:36.085Z"
   },
   {
    "duration": 284,
    "start_time": "2023-12-10T11:58:36.100Z"
   },
   {
    "duration": 5,
    "start_time": "2023-12-10T11:58:36.386Z"
   },
   {
    "duration": 263,
    "start_time": "2023-12-10T11:58:36.392Z"
   },
   {
    "duration": 5,
    "start_time": "2023-12-10T11:58:36.656Z"
   },
   {
    "duration": 270,
    "start_time": "2023-12-10T11:58:36.663Z"
   },
   {
    "duration": 9,
    "start_time": "2023-12-10T11:58:36.934Z"
   },
   {
    "duration": 295,
    "start_time": "2023-12-10T11:58:36.945Z"
   },
   {
    "duration": 5,
    "start_time": "2023-12-10T11:58:37.242Z"
   },
   {
    "duration": 561,
    "start_time": "2023-12-10T11:58:37.249Z"
   },
   {
    "duration": 453,
    "start_time": "2023-12-10T11:58:37.812Z"
   },
   {
    "duration": 17,
    "start_time": "2023-12-10T11:58:38.267Z"
   },
   {
    "duration": 15,
    "start_time": "2023-12-10T11:58:38.285Z"
   },
   {
    "duration": 9,
    "start_time": "2023-12-10T11:58:38.301Z"
   },
   {
    "duration": 3,
    "start_time": "2023-12-10T11:58:38.312Z"
   },
   {
    "duration": 31,
    "start_time": "2023-12-10T11:58:38.317Z"
   },
   {
    "duration": 18,
    "start_time": "2023-12-10T11:58:38.349Z"
   },
   {
    "duration": 9,
    "start_time": "2023-12-10T11:58:38.368Z"
   },
   {
    "duration": 37,
    "start_time": "2023-12-10T11:58:38.379Z"
   },
   {
    "duration": 10,
    "start_time": "2023-12-10T11:58:38.417Z"
   },
   {
    "duration": 1117,
    "start_time": "2023-12-10T11:59:31.088Z"
   },
   {
    "duration": 68,
    "start_time": "2023-12-10T11:59:32.207Z"
   },
   {
    "duration": 12,
    "start_time": "2023-12-10T11:59:32.276Z"
   },
   {
    "duration": 10,
    "start_time": "2023-12-10T11:59:32.289Z"
   },
   {
    "duration": 16,
    "start_time": "2023-12-10T11:59:32.301Z"
   },
   {
    "duration": 10,
    "start_time": "2023-12-10T11:59:32.318Z"
   },
   {
    "duration": 21,
    "start_time": "2023-12-10T11:59:32.329Z"
   },
   {
    "duration": 27,
    "start_time": "2023-12-10T11:59:32.352Z"
   },
   {
    "duration": 6,
    "start_time": "2023-12-10T11:59:32.381Z"
   },
   {
    "duration": 9,
    "start_time": "2023-12-10T11:59:32.389Z"
   },
   {
    "duration": 15,
    "start_time": "2023-12-10T11:59:32.400Z"
   },
   {
    "duration": 27,
    "start_time": "2023-12-10T11:59:32.417Z"
   },
   {
    "duration": 10,
    "start_time": "2023-12-10T11:59:32.446Z"
   },
   {
    "duration": 8,
    "start_time": "2023-12-10T11:59:32.458Z"
   },
   {
    "duration": 11,
    "start_time": "2023-12-10T11:59:32.468Z"
   },
   {
    "duration": 8,
    "start_time": "2023-12-10T11:59:32.481Z"
   },
   {
    "duration": 4,
    "start_time": "2023-12-10T11:59:32.491Z"
   },
   {
    "duration": 17,
    "start_time": "2023-12-10T11:59:32.497Z"
   },
   {
    "duration": 29,
    "start_time": "2023-12-10T11:59:32.516Z"
   },
   {
    "duration": 16,
    "start_time": "2023-12-10T11:59:32.547Z"
   },
   {
    "duration": 5,
    "start_time": "2023-12-10T11:59:32.565Z"
   },
   {
    "duration": 6,
    "start_time": "2023-12-10T11:59:32.572Z"
   },
   {
    "duration": 6,
    "start_time": "2023-12-10T11:59:32.579Z"
   },
   {
    "duration": 7,
    "start_time": "2023-12-10T11:59:32.586Z"
   },
   {
    "duration": 5,
    "start_time": "2023-12-10T11:59:32.595Z"
   },
   {
    "duration": 42,
    "start_time": "2023-12-10T11:59:32.602Z"
   },
   {
    "duration": 5,
    "start_time": "2023-12-10T11:59:32.646Z"
   },
   {
    "duration": 9,
    "start_time": "2023-12-10T11:59:32.653Z"
   },
   {
    "duration": 12,
    "start_time": "2023-12-10T11:59:32.664Z"
   },
   {
    "duration": 4,
    "start_time": "2023-12-10T11:59:32.678Z"
   },
   {
    "duration": 22,
    "start_time": "2023-12-10T11:59:32.683Z"
   },
   {
    "duration": 5,
    "start_time": "2023-12-10T11:59:32.706Z"
   },
   {
    "duration": 32,
    "start_time": "2023-12-10T11:59:32.712Z"
   },
   {
    "duration": 4,
    "start_time": "2023-12-10T11:59:32.745Z"
   },
   {
    "duration": 7,
    "start_time": "2023-12-10T11:59:32.751Z"
   },
   {
    "duration": 8,
    "start_time": "2023-12-10T11:59:32.759Z"
   },
   {
    "duration": 185,
    "start_time": "2023-12-10T11:59:32.769Z"
   },
   {
    "duration": 9,
    "start_time": "2023-12-10T11:59:32.956Z"
   },
   {
    "duration": 8,
    "start_time": "2023-12-10T11:59:32.966Z"
   },
   {
    "duration": 7,
    "start_time": "2023-12-10T11:59:32.976Z"
   },
   {
    "duration": 5,
    "start_time": "2023-12-10T11:59:32.987Z"
   },
   {
    "duration": 10,
    "start_time": "2023-12-10T11:59:32.993Z"
   },
   {
    "duration": 5,
    "start_time": "2023-12-10T11:59:33.005Z"
   },
   {
    "duration": 33,
    "start_time": "2023-12-10T11:59:33.012Z"
   },
   {
    "duration": 6,
    "start_time": "2023-12-10T11:59:33.046Z"
   },
   {
    "duration": 9,
    "start_time": "2023-12-10T11:59:33.053Z"
   },
   {
    "duration": 5,
    "start_time": "2023-12-10T11:59:33.063Z"
   },
   {
    "duration": 196,
    "start_time": "2023-12-10T11:59:33.069Z"
   },
   {
    "duration": 6,
    "start_time": "2023-12-10T11:59:33.266Z"
   },
   {
    "duration": 138,
    "start_time": "2023-12-10T11:59:33.274Z"
   },
   {
    "duration": 138,
    "start_time": "2023-12-10T11:59:33.414Z"
   },
   {
    "duration": 5,
    "start_time": "2023-12-10T11:59:33.554Z"
   },
   {
    "duration": 332,
    "start_time": "2023-12-10T11:59:33.561Z"
   },
   {
    "duration": 281,
    "start_time": "2023-12-10T11:59:33.894Z"
   },
   {
    "duration": 354,
    "start_time": "2023-12-10T11:59:34.176Z"
   },
   {
    "duration": 15,
    "start_time": "2023-12-10T11:59:34.532Z"
   },
   {
    "duration": 11,
    "start_time": "2023-12-10T11:59:34.549Z"
   },
   {
    "duration": 14,
    "start_time": "2023-12-10T11:59:34.561Z"
   },
   {
    "duration": 7,
    "start_time": "2023-12-10T11:59:34.576Z"
   },
   {
    "duration": 13,
    "start_time": "2023-12-10T11:59:34.585Z"
   },
   {
    "duration": 7,
    "start_time": "2023-12-10T11:59:34.599Z"
   },
   {
    "duration": 40,
    "start_time": "2023-12-10T11:59:34.608Z"
   },
   {
    "duration": 294,
    "start_time": "2023-12-10T11:59:34.650Z"
   },
   {
    "duration": 4,
    "start_time": "2023-12-10T11:59:34.946Z"
   },
   {
    "duration": 285,
    "start_time": "2023-12-10T11:59:34.952Z"
   },
   {
    "duration": 6,
    "start_time": "2023-12-10T11:59:35.239Z"
   },
   {
    "duration": 280,
    "start_time": "2023-12-10T11:59:35.246Z"
   },
   {
    "duration": 5,
    "start_time": "2023-12-10T11:59:35.528Z"
   },
   {
    "duration": 307,
    "start_time": "2023-12-10T11:59:35.534Z"
   },
   {
    "duration": 4,
    "start_time": "2023-12-10T11:59:35.843Z"
   },
   {
    "duration": 565,
    "start_time": "2023-12-10T11:59:35.849Z"
   },
   {
    "duration": 474,
    "start_time": "2023-12-10T11:59:36.416Z"
   },
   {
    "duration": 15,
    "start_time": "2023-12-10T11:59:36.892Z"
   },
   {
    "duration": 14,
    "start_time": "2023-12-10T11:59:36.909Z"
   },
   {
    "duration": 19,
    "start_time": "2023-12-10T11:59:36.925Z"
   },
   {
    "duration": 5,
    "start_time": "2023-12-10T11:59:36.945Z"
   },
   {
    "duration": 11,
    "start_time": "2023-12-10T11:59:36.951Z"
   },
   {
    "duration": 15,
    "start_time": "2023-12-10T11:59:36.964Z"
   },
   {
    "duration": 9,
    "start_time": "2023-12-10T11:59:36.980Z"
   },
   {
    "duration": 7,
    "start_time": "2023-12-10T11:59:36.990Z"
   },
   {
    "duration": 9,
    "start_time": "2023-12-10T11:59:36.999Z"
   }
  ],
  "kernelspec": {
   "display_name": "Python 3 (ipykernel)",
   "language": "python",
   "name": "python3"
  },
  "language_info": {
   "codemirror_mode": {
    "name": "ipython",
    "version": 3
   },
   "file_extension": ".py",
   "mimetype": "text/x-python",
   "name": "python",
   "nbconvert_exporter": "python",
   "pygments_lexer": "ipython3",
   "version": "3.9.5"
  },
  "toc": {
   "base_numbering": 1,
   "nav_menu": {
    "height": "782px",
    "width": "810px"
   },
   "number_sections": true,
   "sideBar": true,
   "skip_h1_title": true,
   "title_cell": "Table of Contents",
   "title_sidebar": "Contents",
   "toc_cell": false,
   "toc_position": {
    "height": "calc(100% - 180px)",
    "left": "10px",
    "top": "150px",
    "width": "388px"
   },
   "toc_section_display": true,
   "toc_window_display": true
  }
 },
 "nbformat": 4,
 "nbformat_minor": 5
}
